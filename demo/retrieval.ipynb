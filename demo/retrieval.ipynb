{
 "cells": [
  {
   "cell_type": "code",
   "execution_count": 8,
   "id": "453c58cf-81ad-4d3f-bb28-f90f717b9ab6",
   "metadata": {},
   "outputs": [
    {
     "name": "stdout",
     "output_type": "stream",
     "text": [
      "The autoreload extension is already loaded. To reload it, use:\n",
      "  %reload_ext autoreload\n"
     ]
    }
   ],
   "source": [
    "%load_ext autoreload\n",
    "%autoreload 2"
   ]
  },
  {
   "cell_type": "code",
   "execution_count": 9,
   "id": "45b7272c-785f-48b1-a9b4-0dbdcd27ba39",
   "metadata": {},
   "outputs": [],
   "source": [
    "import sys\n",
    "\n",
    "sys.path.append(\"/nas/ckgfs/users/minhpham/workspace/seed\")\n",
    "sys.path.append(\"/nas/ckgfs/users/minhpham/workspace/BLINK\")"
   ]
  },
  {
   "cell_type": "code",
   "execution_count": 10,
   "id": "0ecabd12-d7a3-4a07-ad03-e88259f0e195",
   "metadata": {},
   "outputs": [],
   "source": [
    "from seed.pipeline.retriever import Retriever"
   ]
  },
  {
   "cell_type": "code",
   "execution_count": 25,
   "id": "c9255d4d-c811-47b4-934a-ce9da7dcf81d",
   "metadata": {},
   "outputs": [
    {
     "name": "stdout",
     "output_type": "stream",
     "text": [
      "Attempting to initialize pre-built index wikipedia-dpr.\n",
      "/nas/home/minhpham/.cache/pyserini/indexes/index-wikipedia-dpr-20210120-d1b9e6.c28f3a56b2dfcef25bf3bf755c264d04 already exists, skipping download.\n",
      "Initializing wikipedia-dpr...\n"
     ]
    },
    {
     "name": "stderr",
     "output_type": "stream",
     "text": [
      "Some weights of the model checkpoint at facebook/dpr-question_encoder-multiset-base were not used when initializing DPRQuestionEncoder: ['question_encoder.bert_model.pooler.dense.weight', 'question_encoder.bert_model.pooler.dense.bias']\n",
      "- This IS expected if you are initializing DPRQuestionEncoder from the checkpoint of a model trained on another task or with another architecture (e.g. initializing a BertForSequenceClassification model from a BertForPreTraining model).\n",
      "- This IS NOT expected if you are initializing DPRQuestionEncoder from the checkpoint of a model that you expect to be exactly identical (initializing a BertForSequenceClassification model from a BertForSequenceClassification model).\n"
     ]
    },
    {
     "name": "stdout",
     "output_type": "stream",
     "text": [
      "Attempting to initialize pre-built index wikipedia-dpr-multi-bf.\n",
      "/nas/home/minhpham/.cache/pyserini/indexes/dindex-wikipedia-dpr_multi-bf-20200127-f403c3.29eb39fe0b00a03c36c0eeae4c24f775 already exists, skipping download.\n",
      "Initializing wikipedia-dpr-multi-bf...\n",
      "Attempting to initialize pre-built index wikipedia-dpr.\n",
      "/nas/home/minhpham/.cache/pyserini/indexes/index-wikipedia-dpr-20210120-d1b9e6.c28f3a56b2dfcef25bf3bf755c264d04 already exists, skipping download.\n",
      "Initializing wikipedia-dpr...\n"
     ]
    }
   ],
   "source": [
    "retriever = Retriever.get(\"dpr\")"
   ]
  },
  {
   "cell_type": "code",
   "execution_count": 11,
   "id": "a55b9e31-daeb-4839-acba-57739c2d9b65",
   "metadata": {},
   "outputs": [
    {
     "name": "stderr",
     "output_type": "stream",
     "text": [
      "/nas/home/minhpham/miniconda3/envs/ml11/lib/python3.8/site-packages/huggingface_hub/file_download.py:560: FutureWarning: `cached_download` is the legacy way to download files from the HF hub, please consider upgrading to `hf_hub_download`\n",
      "  warnings.warn(\n"
     ]
    },
    {
     "name": "stdout",
     "output_type": "stream",
     "text": [
      "2022-07-27 04:04:51,231 loading file /nas/home/minhpham/.flair/models/ner-english/4f4cdab26f24cb98b732b389e6cebc646c36f54cfd6e0b7d3b90b25656e4262f.8baa8ae8795f4df80b28e7f7b61d788ecbb057d1dc85aacb316f1bd02837a4a4\n",
      "2022-07-27 04:04:55,224 SequenceTagger predicts: Dictionary with 20 tags: <unk>, O, S-ORG, S-MISC, B-PER, E-PER, S-LOC, B-ORG, E-ORG, I-PER, S-PER, B-MISC, I-MISC, E-MISC, I-ORG, B-LOC, E-LOC, I-LOC, <START>, <STOP>\n"
     ]
    }
   ],
   "source": [
    "retriever2 = Retriever.get(\"wiki\")"
   ]
  },
  {
   "cell_type": "code",
   "execution_count": 31,
   "id": "5dfca1b4-d18c-4b01-a58c-2bb9a8e792fb",
   "metadata": {},
   "outputs": [
    {
     "name": "stdout",
     "output_type": "stream",
     "text": [
      "MRR: 0.0\n",
      "Recall@10: 0.0\n",
      "MRR: 0.4366258270167486\n",
      "Recall@10: 0.8541458541458542\n",
      "MRR: 0.4353812110862796\n",
      "Recall@10: 0.8470764617691154\n",
      "MRR: 0.43465110365906545\n",
      "Recall@10: 0.8533822059313562\n",
      "MRR: 0.4299644221033001\n",
      "Recall@10: 0.8515371157210697\n"
     ]
    }
   ],
   "source": [
    "import pandas as pd\n",
    "import jsonlines\n",
    "import editdistance\n",
    "\n",
    "mrr = 0\n",
    "recall_at_10 = 0\n",
    "\n",
    "df = pd.DataFrame(list(jsonlines.open(\"../data/tabpert/processed/test.jsonl\")))\n",
    "for i, obj in df.iterrows():\n",
    "    table = pd.DataFrame([obj[\"table\"]])\n",
    "    table = table.applymap(lambda x: \" ; \".join(x) if isinstance(x, list) else x)\n",
    "    label = obj[\"label\"]\n",
    "    documents = retriever2.search(table)\n",
    "    for idx, document in enumerate(documents):\n",
    "        if document[\"title\"] == obj[\"title\"]:\n",
    "            recall_at_10 += 1\n",
    "            mrr += 1 / (idx + 1)\n",
    "            break\n",
    "    if i % 1000 == 0:\n",
    "        print(f\"MRR: {mrr / (i + 1)}\")\n",
    "        print(f\"Recall@10: {recall_at_10 / (i + 1)}\")"
   ]
  },
  {
   "cell_type": "code",
   "execution_count": null,
   "id": "f5009d8f-7fec-48fa-a9cc-300cceb63879",
   "metadata": {},
   "outputs": [],
   "source": []
  }
 ],
 "metadata": {
  "kernelspec": {
   "display_name": "Python 3 (ipykernel)",
   "language": "python",
   "name": "python3"
  },
  "language_info": {
   "codemirror_mode": {
    "name": "ipython",
    "version": 3
   },
   "file_extension": ".py",
   "mimetype": "text/x-python",
   "name": "python",
   "nbconvert_exporter": "python",
   "pygments_lexer": "ipython3",
   "version": "3.8.13"
  }
 },
 "nbformat": 4,
 "nbformat_minor": 5
}
