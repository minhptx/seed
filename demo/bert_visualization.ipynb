{
 "cells": [
  {
   "cell_type": "code",
   "execution_count": 2,
   "id": "acaaa734-cd63-4955-85ae-5ccbeb3d0aea",
   "metadata": {},
   "outputs": [],
   "source": [
    "from transformers import AutoTokenizer, AutoModelForSequenceClassification, utils\n",
    "from bertviz import model_view\n",
    "utils.logging.set_verbosity_error()  # Suppress standard warnings\n",
    "\n",
    "model_name = \"../models/bart-infotab\"  # Find popular HuggingFace models here: https://huggingface.co/models\n",
    "model = AutoModelForSequenceClassification.from_pretrained(model_name, output_attentions=True)  # Configure model to return attention values\n",
    "tokenizer = AutoTokenizer.from_pretrained(model_name)"
   ]
  },
  {
   "cell_type": "code",
   "execution_count": 13,
   "id": "44ab693b-fb34-464d-98f0-642a9d490bcf",
   "metadata": {},
   "outputs": [],
   "source": [
    "import jsonlines\n",
    "import json\n",
    "import pandas as pd\n",
    "\n",
    "for item in jsonlines.open(\"../data/infotab/processed/dev.jsonl\"):\n",
    "    table = pd.DataFrame(json.loads(item[\"table\"]))\n",
    "    for column in table.columns:\n",
    "        table[column] = table[column].apply(lambda x: f\"{column} : {' , '.join(x)}\")\n",
    "\n",
    "    linearized_table = tokenizer.sep_token.join(\n",
    "        table.apply(lambda x: \" ; \".join(x), axis=1).values.tolist()\n",
    "    )    \n",
    "    sentence = item[\"sentence\"]\n",
    "\n",
    "    inputs = tokenizer(linearized_table, sentence, truncation=True, padding=True, return_tensors=\"pt\")\n",
    "    break"
   ]
  },
  {
   "cell_type": "code",
   "execution_count": 16,
   "id": "1938d871-2d84-4e65-b830-aaf548c1c72c",
   "metadata": {},
   "outputs": [
    {
     "data": {
      "text/plain": [
       "{'input_ids': tensor([[    0,  1270,  4832, 14590,  2060,   677,   260, 30268, 25606,  8912,\n",
       "          4832,    36,   504,  4429,    12,   698,    12,  4124,  4839,   231,\n",
       "           779,   504,  4429,  1437, 27090,  2089,  1899,     6, 26211,    36,\n",
       "         13040,   233,     9,  1083, 11492,    43, 25606, 38339,  4832,  1132,\n",
       "           830, 23137,    36, 42442,    12,  3669,    12,  2890,    43,  1437,\n",
       "            36,  4628,  4034,    43,  1437,  6130,    12,   448,  8616,    12,\n",
       "         10067,    12,   597,  5434,   293,     6,  1470, 25606, 24869,  1258,\n",
       "          4832, 43027,  2156,  1437, 31569,  1437,  2156,  1437,  8980,  8083,\n",
       "             2,     2, 14590,  2060,   677,   260, 30268,   962,   137,   623,\n",
       "          1771,    38,     4,     2]]), 'attention_mask': tensor([[1, 1, 1, 1, 1, 1, 1, 1, 1, 1, 1, 1, 1, 1, 1, 1, 1, 1, 1, 1, 1, 1, 1, 1,\n",
       "         1, 1, 1, 1, 1, 1, 1, 1, 1, 1, 1, 1, 1, 1, 1, 1, 1, 1, 1, 1, 1, 1, 1, 1,\n",
       "         1, 1, 1, 1, 1, 1, 1, 1, 1, 1, 1, 1, 1, 1, 1, 1, 1, 1, 1, 1, 1, 1, 1, 1,\n",
       "         1, 1, 1, 1, 1, 1, 1, 1, 1, 1, 1, 1, 1, 1, 1, 1, 1, 1, 1, 1, 1, 1]])}"
      ]
     },
     "execution_count": 16,
     "metadata": {},
     "output_type": "execute_result"
    }
   ],
   "source": [
    "inputs"
   ]
  },
  {
   "cell_type": "code",
   "execution_count": 20,
   "id": "ea71a7eb-37ab-48b9-9586-63ccdedeb87f",
   "metadata": {},
   "outputs": [],
   "source": [
    "outputs = model(**inputs, output_attentions=True)  # Run model"
   ]
  },
  {
   "cell_type": "code",
   "execution_count": null,
   "id": "320bf23c-5573-48aa-b4d0-b520c62dfce4",
   "metadata": {},
   "outputs": [
    {
     "data": {
      "text/html": [
       "<script src=\"https://cdnjs.cloudflare.com/ajax/libs/require.js/2.3.6/require.min.js\"></script>"
      ],
      "text/plain": [
       "<IPython.core.display.HTML object>"
      ]
     },
     "metadata": {},
     "output_type": "display_data"
    },
    {
     "data": {
      "text/html": [
       "      \n",
       "        <div id=\"bertviz-9037341dce784b5eacf448d0c6accf98\" style=\"font-family:'Helvetica Neue', Helvetica, Arial, sans-serif;\">\n",
       "            <span style=\"user-select:none\">\n",
       "                \n",
       "            </span>\n",
       "            <div id='vis'></div>\n",
       "        </div>\n",
       "    "
      ],
      "text/plain": [
       "<IPython.core.display.HTML object>"
      ]
     },
     "metadata": {},
     "output_type": "display_data"
    }
   ],
   "source": [
    "attention = outputs.decoder_attentions  # Retrieve attention from model outputs\n",
    "tokens = tokenizer.convert_ids_to_tokens(inputs[\"input_ids\"][0])  # Convert input ids to token strings\n",
    "model_view(attention, tokens)  # Display model view"
   ]
  },
  {
   "cell_type": "code",
   "execution_count": null,
   "id": "dcd7d80b-7c96-4538-aa5d-28c4c06ab979",
   "metadata": {},
   "outputs": [],
   "source": []
  }
 ],
 "metadata": {
  "kernelspec": {
   "display_name": "Python 3 (ipykernel)",
   "language": "python",
   "name": "python3"
  },
  "language_info": {
   "codemirror_mode": {
    "name": "ipython",
    "version": 3
   },
   "file_extension": ".py",
   "mimetype": "text/x-python",
   "name": "python",
   "nbconvert_exporter": "python",
   "pygments_lexer": "ipython3",
   "version": "3.8.13"
  }
 },
 "nbformat": 4,
 "nbformat_minor": 5
}
