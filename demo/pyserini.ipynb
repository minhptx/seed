{
 "cells": [
  {
   "cell_type": "code",
   "execution_count": 1,
   "metadata": {},
   "outputs": [],
   "source": [
    "from pyserini.search.lucene import LuceneSearcher\n",
    "from pyserini.search.faiss import FaissSearcher, DprQueryEncoder\n",
    "from pyserini.search.hybrid import HybridSearcher"
   ]
  },
  {
   "cell_type": "code",
   "execution_count": 2,
   "metadata": {},
   "outputs": [
    {
     "name": "stderr",
     "output_type": "stream",
     "text": [
      "Some weights of the model checkpoint at facebook/dpr-question_encoder-multiset-base were not used when initializing DPRQuestionEncoder: ['question_encoder.bert_model.pooler.dense.bias', 'question_encoder.bert_model.pooler.dense.weight']\n",
      "- This IS expected if you are initializing DPRQuestionEncoder from the checkpoint of a model trained on another task or with another architecture (e.g. initializing a BertForSequenceClassification model from a BertForPreTraining model).\n",
      "- This IS NOT expected if you are initializing DPRQuestionEncoder from the checkpoint of a model that you expect to be exactly identical (initializing a BertForSequenceClassification model from a BertForSequenceClassification model).\n"
     ]
    },
    {
     "name": "stdout",
     "output_type": "stream",
     "text": [
      "Attempting to initialize pre-built index wikipedia-dpr-multi-bf.\n",
      "/nas/ckgfs/users/minhpham/.cache/pyserini/indexes/dindex-wikipedia-dpr_multi-bf-20200127-f403c3.29eb39fe0b00a03c36c0eeae4c24f775 already exists, skipping download.\n",
      "Initializing wikipedia-dpr-multi-bf...\n",
      "Attempting to initialize pre-built index wikipedia-dpr.\n",
      "/nas/ckgfs/users/minhpham/.cache/pyserini/indexes/index-wikipedia-dpr-20210120-d1b9e6.c28f3a56b2dfcef25bf3bf755c264d04 already exists, skipping download.\n",
      "Initializing wikipedia-dpr...\n"
     ]
    }
   ],
   "source": [
    "encoder = DprQueryEncoder('facebook/dpr-question_encoder-multiset-base')\n",
    "dsearcher = FaissSearcher.from_prebuilt_index(\n",
    "    'wikipedia-dpr-multi-bf',\n",
    "    encoder\n",
    ")"
   ]
  },
  {
   "cell_type": "code",
   "execution_count": 3,
   "metadata": {},
   "outputs": [
    {
     "name": "stdout",
     "output_type": "stream",
     "text": [
      "Attempting to initialize pre-built index wikipedia-dpr.\n",
      "/nas/ckgfs/users/minhpham/.cache/pyserini/indexes/index-wikipedia-dpr-20210120-d1b9e6.c28f3a56b2dfcef25bf3bf755c264d04 already exists, skipping download.\n",
      "Initializing wikipedia-dpr...\n"
     ]
    }
   ],
   "source": [
    "ssearcher = LuceneSearcher.from_prebuilt_index('wikipedia-dpr')\n",
    "\n",
    "searcher = HybridSearcher(dsearcher, ssearcher)\n"
   ]
  },
  {
   "cell_type": "code",
   "execution_count": 4,
   "metadata": {},
   "outputs": [],
   "source": [
    "doc = ssearcher.search('Player is Willie Park Jr. and country is Scotland', k=10)"
   ]
  },
  {
   "cell_type": "code",
   "execution_count": 12,
   "metadata": {},
   "outputs": [],
   "source": [
    "doc = searcher.search('Player is Willie Park Jr. and country is Scotland', k=10)"
   ]
  },
  {
   "cell_type": "code",
   "execution_count": 13,
   "metadata": {},
   "outputs": [
    {
     "name": "stdout",
     "output_type": "stream",
     "text": [
      "{\n",
      "  \"id\" : \"4714673\",\n",
      "  \"contents\" : \"\\\"Willie Park Jr.\\\"\\nthe half-way cut<br> \\\"\\\"T\\\"\\\" indicates a tie for a place Willie Park Jr. Willie Park Jr. (4 February 1864 – 22 May 1925) was a Scottish professional golfer. He won The Open Championship twice. Park was also a successful golf equipment maker and golf writer. In his later years, Park built a significant career as one of the world's best golf course architects, with a worldwide business. He was inducted into the World Golf Hall of Fame in 2013. Park was born in Musselburgh, Scotland (near Edinburgh) on 4 February 1864. His father, Willie Park Sr., was one of Scotland's\"\n",
      "}\n",
      "{\n",
      "  \"id\" : \"15216092\",\n",
      "  \"contents\" : \"\\\"Stuart MacKintosh\\\"\\nIn 2013, Mackintosh joined with folk singer Davy Holt for the shinty themed band 'Caman'. They continue to tour. Nae Union 2008 Calum's Dream 2010 Scotland Forever (DVD) 2011 The Grit That Makes The Pearl 2011 Stuart MacKintosh Stuart MacKintosh (born 20 July 1986) AKA \\\"\\\"Smack\\\"\\\", is a shinty player and musician from Drumnadrochit, Loch Ness, Scotland. He plays in goal for Glenurquhart Shinty Club and he is the current Scotland goalkeeper. MacKintosh has played for Glenurquhart Shinty Club from an early age. He has been a specialist goalkeeper for most of his career and holds the record for the\"\n",
      "}\n",
      "{\n",
      "  \"id\" : \"7757710\",\n",
      "  \"contents\" : \"\\\"Willie Henderson\\\"\\nWillie Henderson William \\\"\\\"Willie\\\"\\\" Henderson (born 24 January 1944, in Baillieston, Glasgow) is a retired Scottish football player. He played most of his career for Rangers, and spent the latter part of his career with Sheffield Wednesday, in Hong Kong with Hong Kong Rangers and with Airdrieonians. He played as a winger. He also featured at international level for Scotland. Henderson made his career debut in 1960 at the age of 16. He was a very pacy right-winger and as he was only 5 feet 4 inches tall he became known as \\\"\\\"Wee Willie\\\"\\\". During his time with Rangers he\"\n",
      "}\n",
      "{\n",
      "  \"id\" : \"4714664\",\n",
      "  \"contents\" : \"\\\"Willie Park Jr.\\\"\\nyounger brother of Park Sr., also won the Open in 1874. The Park family had a deep and fierce golf rivalry, both in competition and in business, with the Morris family (led by Old Tom Morris and Young Tom Morris) of St. Andrews during most of the 19th century. Park caddied and played golf professionally, in stakes matches and tournaments, from his mid-teens. He developed his golf skills and played in his first Open Championship in 1880, at age 16, at which time he was already one of Scotland's best players. He worked in the family golf equipment business. Park\"\n",
      "}\n",
      "{\n",
      "  \"id\" : \"4714662\",\n",
      "  \"contents\" : \"\\\"Willie Park Jr.\\\"\\nWillie Park Jr. Willie Park Jr. (4 February 1864 – 22 May 1925) was a Scottish professional golfer. He won The Open Championship twice. Park was also a successful golf equipment maker and golf writer. In his later years, Park built a significant career as one of the world's best golf course architects, with a worldwide business. He was inducted into the World Golf Hall of Fame in 2013. Park was born in Musselburgh, Scotland (near Edinburgh) on 4 February 1864. His father, Willie Park Sr., was one of Scotland's top golfers, winning the first Open Championship in 1860, and\"\n",
      "}\n",
      "{\n",
      "  \"id\" : \"7698329\",\n",
      "  \"contents\" : \"\\\"Donald Park\\\"\\nof the SPL. He resigned as Caley assistant manager in August 2007 to move back to the Central Belt. He initially took a job with Raith Rovers before being appointed as Mixu Paatelainen's assistant at Hibernian in January 2008. Park served in this role for 18 months before being appointed as Head of Coach Education by the SFA. He was appointed coach of the Scotland under-19 team in August 2017, a position he held until May 2018. Donald Park Donald Park (born 19 July 1953) is a Scottish football player and coach. A product of the Scottish Highland Football League,\"\n",
      "}\n",
      "{\n",
      "  \"id\" : \"7757717\",\n",
      "  \"contents\" : \"\\\"Willie Henderson\\\"\\nfool – this is the Celtic bench!\\\"\\\" Willie Henderson William \\\"\\\"Willie\\\"\\\" Henderson (born 24 January 1944, in Baillieston, Glasgow) is a retired Scottish football player. He played most of his career for Rangers, and spent the latter part of his career with Sheffield Wednesday, in Hong Kong with Hong Kong Rangers and with Airdrieonians. He played as a winger. He also featured at international level for Scotland. Henderson made his career debut in 1960 at the age of 16. He was a very pacy right-winger and as he was only 5 feet 4 inches tall he became known as \\\"\\\"Wee\"\n",
      "}\n",
      "{\n",
      "  \"id\" : \"8665568\",\n",
      "  \"contents\" : \"\\\"Willie McLaren\\\"\\nWillie McLaren William \\\"\\\"Willie\\\"\\\" McLaren (born 6 November 1984) is a Scottish professional footballer currently playing for Scottish Junior club Forth Wanderers, who plays as a midfielder. He has played for several Scottish clubs throughout his career which started in 2003. Born in Glasgow, Mclaren had been at Benburb and Hamilton Accies u19s before signing professional at Airdrie in 2003. After catching the eye of many clubs, he signed for St Johnstone, in a reported five-figure deal in August 2006. He scored his first league goal for the Perth club in a 3–2 league defeat at Livingston on 13 January\"\n",
      "}\n",
      "{\n",
      "  \"id\" : \"4636076\",\n",
      "  \"contents\" : \"\\\"Willie Park Sr.\\\"\\nmatches and tournaments being set up, developing the professional game and increasing the incomes of players such as Park, Morris, and Robertson. He married Susanna Law in Inveresk, Scotland, on 29 March 1860. The couple would have ten children. Park's brother Mungo and his son Willie Jr. both also won the Open Championship. Mungo's victory came in 1874 and Willie Jr. had two wins, in 1887 and 1889. Park died on 25 July 1903. He is primarily best remembered as the winner of four Open Championships, including the inaugural event in 1860, when the field was just eight strong. His\"\n",
      "}\n",
      "{\n",
      "  \"id\" : \"12438200\",\n",
      "  \"contents\" : \"\\\"1875 Open Championship\\\"\\n1875 Open Championship The 1875 Open Championship was the 15th Open Championship, held 10 September at Prestwick Golf Club in Prestwick, South Ayrshire, Scotland. Willie Park, Sr. won the Championship by two strokes from runner-up Bob Martin. Willie Park, who had won the first Championship in 1860, equalled Tom Morris, Jr.'s record of four Championship wins. Tom Morris, Jr. and his father, Tom Morris, Sr., were both absent following the death, six days earlier, of Young Tom Morris's wife during child-birth. Young Tom Morris himself died later the same year. Play started at 11:30 a.m. and just 18 players contested\"\n",
      "}\n"
     ]
    }
   ],
   "source": [
    "for d in doc:\n",
    "    print(ssearcher.doc(d.docid).raw())"
   ]
  },
  {
   "cell_type": "code",
   "execution_count": 14,
   "metadata": {},
   "outputs": [
    {
     "data": {
      "text/plain": [
       "DenseSearchResult(docid='12438200', score=79.85719728469849)"
      ]
     },
     "execution_count": 14,
     "metadata": {},
     "output_type": "execute_result"
    }
   ],
   "source": [
    "d"
   ]
  },
  {
   "cell_type": "code",
   "execution_count": 15,
   "metadata": {},
   "outputs": [
    {
     "ename": "AttributeError",
     "evalue": "'DenseSearchResult' object has no attribute 'contents'",
     "output_type": "error",
     "traceback": [
      "\u001b[0;31m---------------------------------------------------------------------------\u001b[0m",
      "\u001b[0;31mAttributeError\u001b[0m                            Traceback (most recent call last)",
      "Input \u001b[0;32mIn [15]\u001b[0m, in \u001b[0;36m<cell line: 1>\u001b[0;34m()\u001b[0m\n\u001b[0;32m----> 1\u001b[0m \u001b[43md\u001b[49m\u001b[38;5;241;43m.\u001b[39;49m\u001b[43mcontents\u001b[49m()\n",
      "\u001b[0;31mAttributeError\u001b[0m: 'DenseSearchResult' object has no attribute 'contents'"
     ]
    }
   ],
   "source": [
    "d.contents()"
   ]
  },
  {
   "cell_type": "code",
   "execution_count": null,
   "metadata": {},
   "outputs": [],
   "source": []
  }
 ],
 "metadata": {
  "kernelspec": {
   "display_name": "Python 3 (ipykernel)",
   "language": "python",
   "name": "python3"
  },
  "language_info": {
   "codemirror_mode": {
    "name": "ipython",
    "version": 3
   },
   "file_extension": ".py",
   "mimetype": "text/x-python",
   "name": "python",
   "nbconvert_exporter": "python",
   "pygments_lexer": "ipython3",
   "version": "3.8.13"
  },
  "vscode": {
   "interpreter": {
    "hash": "4562e6ed3207b6f9fa47a5acb55a0f6b1fdeb483f0e925c28b3c54e60f016a50"
   }
  }
 },
 "nbformat": 4,
 "nbformat_minor": 4
}
