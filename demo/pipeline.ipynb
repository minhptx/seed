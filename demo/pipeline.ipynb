{
 "cells": [
  {
   "cell_type": "code",
   "execution_count": 9,
   "id": "ceeb8dc8-0d1e-4030-a0b4-a1345b12f4c6",
   "metadata": {},
   "outputs": [
    {
     "name": "stdout",
     "output_type": "stream",
     "text": [
      "The autoreload extension is already loaded. To reload it, use:\n",
      "  %reload_ext autoreload\n"
     ]
    }
   ],
   "source": [
    "%load_ext autoreload\n",
    "%autoreload 2"
   ]
  },
  {
   "cell_type": "code",
   "execution_count": 10,
   "id": "f10def28-414f-43bb-99d8-3effd25e6591",
   "metadata": {},
   "outputs": [],
   "source": [
    "import sys\n",
    "\n",
    "sys.path.append(\"/nas/ckgfs/users/minhpham/workspace/seed\")"
   ]
  },
  {
   "cell_type": "code",
   "execution_count": 11,
   "id": "723b6ed0-34c2-4e30-a705-75e1d4cb7ee5",
   "metadata": {},
   "outputs": [],
   "source": [
    "from seed.pipeline.pipeline import Pipeline"
   ]
  },
  {
   "cell_type": "code",
   "execution_count": null,
   "id": "c635115e-ee3b-4e8a-83d6-90fe5d04d9c8",
   "metadata": {},
   "outputs": [
    {
     "name": "stdout",
     "output_type": "stream",
     "text": [
      "Attempting to initialize pre-built index wikipedia-dpr.\n",
      "/nas/ckgfs/users/minhpham/.cache/pyserini/indexes/index-wikipedia-dpr-20210120-d1b9e6.c28f3a56b2dfcef25bf3bf755c264d04 already exists, skipping download.\n",
      "Initializing wikipedia-dpr...\n"
     ]
    },
    {
     "name": "stderr",
     "output_type": "stream",
     "text": [
      "Some weights of the model checkpoint at facebook/dpr-question_encoder-multiset-base were not used when initializing DPRQuestionEncoder: ['question_encoder.bert_model.pooler.dense.bias', 'question_encoder.bert_model.pooler.dense.weight']\n",
      "- This IS expected if you are initializing DPRQuestionEncoder from the checkpoint of a model trained on another task or with another architecture (e.g. initializing a BertForSequenceClassification model from a BertForPreTraining model).\n",
      "- This IS NOT expected if you are initializing DPRQuestionEncoder from the checkpoint of a model that you expect to be exactly identical (initializing a BertForSequenceClassification model from a BertForSequenceClassification model).\n"
     ]
    },
    {
     "name": "stdout",
     "output_type": "stream",
     "text": [
      "Attempting to initialize pre-built index wikipedia-dpr-multi-bf.\n",
      "/nas/ckgfs/users/minhpham/.cache/pyserini/indexes/dindex-wikipedia-dpr_multi-bf-20200127-f403c3.29eb39fe0b00a03c36c0eeae4c24f775 already exists, skipping download.\n",
      "Initializing wikipedia-dpr-multi-bf...\n"
     ]
    }
   ],
   "source": [
    "from seed.retriever import Retriever\n",
    "\n",
    "retriever = Retriever.get(\"dpr\")"
   ]
  },
  {
   "cell_type": "code",
   "execution_count": null,
   "id": "7ea9f588-b00e-45f6-8ad0-60a26d128b94",
   "metadata": {},
   "outputs": [],
   "source": [
    "from seed.verifier import Verifier\n",
    "\n",
    "verifier = Verifier.get(\"tapex\")"
   ]
  },
  {
   "cell_type": "code",
   "execution_count": null,
   "id": "7a08ea0b-ce72-4dcc-bd9d-09bc5350a494",
   "metadata": {},
   "outputs": [],
   "source": [
    "from seed.extractor import Extractor\n",
    "\n",
    "extractor = Extractor.get(\"unifiedqa\")"
   ]
  },
  {
   "cell_type": "code",
   "execution_count": null,
   "id": "5a71f246-f306-4283-80b1-6ae94fcefb4f",
   "metadata": {},
   "outputs": [],
   "source": [
    "pipeline = Pipeline(retriever, verifier, extractor)"
   ]
  },
  {
   "cell_type": "code",
   "execution_count": null,
   "id": "b5e161c8-7218-4d4a-96f8-c793f008f3cc",
   "metadata": {},
   "outputs": [],
   "source": [
    "import pandas as pd\n",
    "import jsonlines\n",
    "\n",
    "df = pd.DataFrame(list(jsonlines.open(\"../data/totto/totto_dev_data_augmented.jsonl\")))"
   ]
  },
  {
   "cell_type": "code",
   "execution_count": null,
   "id": "b6d3089e-3ba3-4ec5-806d-052dda75af5f",
   "metadata": {},
   "outputs": [],
   "source": [
    "import json\n",
    "\n",
    "for idx, obj in df.iterrows():\n",
    "    if not obj[\"highlighted_cells\"]:\n",
    "        continue\n",
    "    table = pd.DataFrame(json.loads(obj[\"table\"]))\n",
    "    rows = [x[0] for x in obj[\"highlighted_cells\"]]\n",
    "    most_dominant_row = max(set(rows), key=rows.count)\n",
    "    cols = [x[1] for x in obj[\"highlighted_cells\"] if x[0] == most_dominant_row]\n",
    "    table = table.iloc[[most_dominant_row], ].reset_index().drop(\"index\", axis=1)\n",
    "    print(table)\n",
    "\n",
    "    result = pipeline.run(table)\n",
    "    break"
   ]
  },
  {
   "cell_type": "code",
   "execution_count": null,
   "id": "2e72091b-1592-450a-a703-4d95f5e64658",
   "metadata": {},
   "outputs": [],
   "source": []
  }
 ],
 "metadata": {
  "kernelspec": {
   "display_name": "Python 3 (ipykernel)",
   "language": "python",
   "name": "python3"
  },
  "language_info": {
   "codemirror_mode": {
    "name": "ipython",
    "version": 3
   },
   "file_extension": ".py",
   "mimetype": "text/x-python",
   "name": "python",
   "nbconvert_exporter": "python",
   "pygments_lexer": "ipython3",
   "version": "3.8.13"
  }
 },
 "nbformat": 4,
 "nbformat_minor": 5
}
