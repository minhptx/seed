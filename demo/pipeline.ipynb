{
 "cells": [
  {
   "cell_type": "code",
   "execution_count": 2,
   "id": "ceeb8dc8-0d1e-4030-a0b4-a1345b12f4c6",
   "metadata": {},
   "outputs": [],
   "source": [
    "%load_ext autoreload\n",
    "%autoreload 2"
   ]
  },
  {
   "cell_type": "code",
   "execution_count": 3,
   "id": "f10def28-414f-43bb-99d8-3effd25e6591",
   "metadata": {},
   "outputs": [],
   "source": [
    "import sys\n",
    "\n",
    "sys.path.append(\"/root/workspace/seed\")"
   ]
  },
  {
   "cell_type": "code",
   "execution_count": 4,
   "id": "723b6ed0-34c2-4e30-a705-75e1d4cb7ee5",
   "metadata": {},
   "outputs": [],
   "source": [
    "from seed.pipeline.pipeline import Pipeline"
   ]
  },
  {
   "cell_type": "code",
   "execution_count": 5,
   "id": "c635115e-ee3b-4e8a-83d6-90fe5d04d9c8",
   "metadata": {},
   "outputs": [
    {
     "name": "stdout",
     "output_type": "stream",
     "text": [
      "Attempting to initialize pre-built index wikipedia-dpr.\n",
      "/root/.cache/pyserini/indexes/index-wikipedia-dpr-20210120-d1b9e6.c28f3a56b2dfcef25bf3bf755c264d04 already exists, skipping download.\n",
      "Initializing wikipedia-dpr...\n"
     ]
    },
    {
     "name": "stderr",
     "output_type": "stream",
     "text": [
      "Some weights of the model checkpoint at facebook/dpr-question_encoder-multiset-base were not used when initializing DPRQuestionEncoder: ['question_encoder.bert_model.pooler.dense.bias', 'question_encoder.bert_model.pooler.dense.weight']\n",
      "- This IS expected if you are initializing DPRQuestionEncoder from the checkpoint of a model trained on another task or with another architecture (e.g. initializing a BertForSequenceClassification model from a BertForPreTraining model).\n",
      "- This IS NOT expected if you are initializing DPRQuestionEncoder from the checkpoint of a model that you expect to be exactly identical (initializing a BertForSequenceClassification model from a BertForSequenceClassification model).\n"
     ]
    },
    {
     "name": "stdout",
     "output_type": "stream",
     "text": [
      "Attempting to initialize pre-built index wikipedia-dpr-multi-bf.\n",
      "/root/.cache/pyserini/indexes/dindex-wikipedia-dpr_multi-bf-20200127-f403c3.29eb39fe0b00a03c36c0eeae4c24f775 already exists, skipping download.\n",
      "Initializing wikipedia-dpr-multi-bf...\n",
      "Attempting to initialize pre-built index wikipedia-dpr.\n",
      "/root/.cache/pyserini/indexes/index-wikipedia-dpr-20210120-d1b9e6.c28f3a56b2dfcef25bf3bf755c264d04 already exists, skipping download.\n",
      "Initializing wikipedia-dpr...\n"
     ]
    }
   ],
   "source": [
    "from seed.retriever import Retriever\n",
    "\n",
    "retriever = Retriever.get(\"dpr\")"
   ]
  },
  {
   "cell_type": "code",
   "execution_count": 11,
   "id": "7ea9f588-b00e-45f6-8ad0-60a26d128b94",
   "metadata": {},
   "outputs": [
    {
     "name": "stderr",
     "output_type": "stream",
     "text": [
      "You passed along `num_labels=3` with an incompatible id to label map: {'0': 'LABEL_0', '1': 'LABEL_1'}. The number of labels wil be overwritten to 2.\n"
     ]
    }
   ],
   "source": [
    "from seed.verifier import Verifier\n",
    "\n",
    "verifier = Verifier.get(\"tapex\")"
   ]
  },
  {
   "cell_type": "code",
   "execution_count": 12,
   "id": "7a08ea0b-ce72-4dcc-bd9d-09bc5350a494",
   "metadata": {},
   "outputs": [
    {
     "name": "stdout",
     "output_type": "stream",
     "text": [
      "2022-06-30 21:51:59,639 loading file /root/.flair/models/ner-english/4f4cdab26f24cb98b732b389e6cebc646c36f54cfd6e0b7d3b90b25656e4262f.8baa8ae8795f4df80b28e7f7b61d788ecbb057d1dc85aacb316f1bd02837a4a4\n"
     ]
    },
    {
     "name": "stderr",
     "output_type": "stream",
     "text": [
      "/opt/conda/envs/ml/lib/python3.8/site-packages/huggingface_hub/file_download.py:562: FutureWarning: `cached_download` is the legacy way to download files from the HF hub, please consider upgrading to `hf_hub_download`\n",
      "  warnings.warn(\n"
     ]
    },
    {
     "name": "stdout",
     "output_type": "stream",
     "text": [
      "2022-06-30 21:52:05,419 SequenceTagger predicts: Dictionary with 20 tags: <unk>, O, S-ORG, S-MISC, B-PER, E-PER, S-LOC, B-ORG, E-ORG, I-PER, S-PER, B-MISC, I-MISC, E-MISC, I-ORG, B-LOC, E-LOC, I-LOC, <START>, <STOP>\n"
     ]
    }
   ],
   "source": [
    "from seed.extractor import Extractor\n",
    "\n",
    "extractor = Extractor.get(\"unifiedqa\")"
   ]
  },
  {
   "cell_type": "code",
   "execution_count": 13,
   "id": "5a71f246-f306-4283-80b1-6ae94fcefb4f",
   "metadata": {},
   "outputs": [],
   "source": [
    "pipeline = Pipeline(retriever, verifier, extractor)"
   ]
  },
  {
   "cell_type": "code",
   "execution_count": 14,
   "id": "b5e161c8-7218-4d4a-96f8-c793f008f3cc",
   "metadata": {},
   "outputs": [],
   "source": [
    "import pandas as pd\n",
    "import jsonlines\n",
    "\n",
    "df = pd.DataFrame(list(jsonlines.open(\"../data/totto/totto_dev_data_augmented.jsonl\")))"
   ]
  },
  {
   "cell_type": "code",
   "execution_count": 17,
   "id": "b6d3089e-3ba3-4ec5-806d-052dda75af5f",
   "metadata": {},
   "outputs": [
    {
     "name": "stdout",
     "output_type": "stream",
     "text": [
      "  Place            Player   Country      Score\n",
      "0     1  Willie Park, Jr.  Scotland  76-75=151\n",
      "Player is Willie Park, Jr. and Country is Scotland\n",
      "DenseSearchResult(docid='15216092', score=82.69419984817505)\n",
      "DenseSearchResult(docid='4714673', score=82.59816961288452)\n",
      "DenseSearchResult(docid='7757710', score=82.01664094924926)\n",
      "DenseSearchResult(docid='4714664', score=81.66472749710083)\n",
      "DenseSearchResult(docid='7698329', score=81.56730012893676)\n",
      "DenseSearchResult(docid='8665568', score=81.31617097854614)\n",
      "DenseSearchResult(docid='7757717', score=81.27319459915161)\n",
      "DenseSearchResult(docid='4714662', score=81.12369766235352)\n",
      "DenseSearchResult(docid='4636076', score=81.00425395965576)\n",
      "DenseSearchResult(docid='12438200', score=80.87616395950317)\n",
      "2013–14 BeNe League The 2013–14 season of the Women's BeNe League is the second season of the Belgium and Netherlands' women's football top level league.   Place            Player   Country      Score\n",
      "0     1  Willie Park, Jr.  Scotland  76-75=151\n",
      "The defending champion is FC Twente.   Place            Player   Country      Score\n",
      "0     1  Willie Park, Jr.  Scotland  76-75=151\n",
      "The season started on 30 August 2013 and is played in a single division contrary to last season.   Place            Player   Country      Score\n",
      "0     1  Willie Park, Jr.  Scotland  76-75=151\n",
      "Originally planned as a 16 team league, one team withdrew before the season and another one withdrew during the season.   Place            Player   Country      Score\n",
      "0     1  Willie Park, Jr.  Scotland  76-75=151\n",
      "Thus 14 teams made the final standings.   Place            Player   Country      Score\n",
      "0     1  Willie Park, Jr.  Scotland  76-75=151\n",
      "With six matches to spare Standard Liège already was set as the best placed Belgian side.   Place            Player   Country      Score\n",
      "0     1  Willie Park, Jr.  Scotland  76-75=151\n",
      "The league was won by Twente for the   Place            Player   Country      Score\n",
      "0     1  Willie Park, Jr.  Scotland  76-75=151\n",
      "numbers including π and \"\"e\"\".   Place            Player   Country      Score\n",
      "0     1  Willie Park, Jr.  Scotland  76-75=151\n",
      "Like the algebraic numbers, the computable numbers also form a subfield of the real numbers, and the positive computable numbers are closed under taking \"\"n\"\"th roots for each positive \"\"n\"\".   Place            Player   Country      Score\n",
      "0     1  Willie Park, Jr.  Scotland  76-75=151\n",
      "Not all real numbers are computable.   Place            Player   Country      Score\n",
      "0     1  Willie Park, Jr.  Scotland  76-75=151\n",
      "The entire set of computable numbers is countable, so most reals are not computable.   Place            Player   Country      Score\n",
      "0     1  Willie Park, Jr.  Scotland  76-75=151\n",
      "Specific examples of noncomputable real numbers include the limits of Specker sequences, and algorithmically random real numbers such as Chaitin's Ω numbers.   Place            Player   Country      Score\n",
      "0     1  Willie Park, Jr.  Scotland  76-75=151\n",
      "Another notion of definability comes from the formal theories of arithmetic, such as Peano arithmetic.   Place            Player   Country      Score\n",
      "0     1  Willie Park, Jr.  Scotland  76-75=151\n",
      "The language of arithmetic has symbols for 0,   Place            Player   Country      Score\n",
      "0     1  Willie Park, Jr.  Scotland  76-75=151\n",
      "to the power of the Dickson invariant.   Place            Player   Country      Score\n",
      "0     1  Willie Park, Jr.  Scotland  76-75=151\n",
      "Over fields of characteristic 2, the determinant is always 1, so the Dickson invariant gives more information than the determinant.   Place            Player   Country      Score\n",
      "0     1  Willie Park, Jr.  Scotland  76-75=151\n",
      "The special orthogonal group is the kernel of the Dickson invariant and usually has index 2 in .   Place            Player   Country      Score\n",
      "0     1  Willie Park, Jr.  Scotland  76-75=151\n",
      "When the characteristic of is not 2, the Dickson Invariant is whenever the determinant is .   Place            Player   Country      Score\n",
      "0     1  Willie Park, Jr.  Scotland  76-75=151\n",
      "Thus when the characteristic is not 2, is commonly defined to be the elements of with determinant .   Place            Player   Country      Score\n",
      "0     1  Willie Park, Jr.  Scotland  76-75=151\n",
      "Each element in has determinant .   Place            Player   Country      Score\n",
      "0     1  Willie Park, Jr.  Scotland  76-75=151\n",
      "Thus in characteristic 2, the determinant is always .   Place            Player   Country      Score\n",
      "0     1  Willie Park, Jr.  Scotland  76-75=151\n",
      "The Dickson invariant can also be   Place            Player   Country      Score\n",
      "0     1  Willie Park, Jr.  Scotland  76-75=151\n",
      "who believed he would be unwilling to surrender power if he ever obtained it.   Place            Player   Country      Score\n",
      "0     1  Willie Park, Jr.  Scotland  76-75=151\n",
      "On the other hand, it was noted that Somparé enjoyed little popularity with any group and therefore might lack the political base to perpetuate himself in power.   Place            Player   Country      Score\n",
      "0     1  Willie Park, Jr.  Scotland  76-75=151\n",
      "In early 2006, when Conté left Guinea to receive medical treatment in Switzerland, Somparé reportedly met with military officers to discuss the presidential succession; Conté was said to be infuriated by that move.   Place            Player   Country      Score\n",
      "0     1  Willie Park, Jr.  Scotland  76-75=151\n",
      "Speaking to \"\"Jeune Afrique\"\" in 2008, Somparé said that he thought Conté, who was known to be in extremely poor health, would not be a candidate   Place            Player   Country      Score\n",
      "0     1  Willie Park, Jr.  Scotland  76-75=151\n",
      "multinational corporation that is a world leader in the water utilities sector, from 2008 until 2014.   Place            Player   Country      Score\n",
      "0     1  Willie Park, Jr.  Scotland  76-75=151\n",
      "He was also a director of Total until 2017.   Place            Player   Country      Score\n",
      "0     1  Willie Park, Jr.  Scotland  76-75=151\n",
      "He is also Chair, Board of Governors of the Conference of Montreal as well as member of the Business Council of Canada's Board of Directors and Entrepreneurs' Circle.   Place            Player   Country      Score\n",
      "0     1  Willie Park, Jr.  Scotland  76-75=151\n",
      "Paul Desmarais Jr. is involved with Centraide of Greater Montréal; he founded the Major Donors Circle in 1997 and had been its Honorary Chairman for many years, until 2017.   Place            Player   Country      Score\n",
      "0     1  Willie Park, Jr.  Scotland  76-75=151\n",
      "He is also one of the Honorary Chairs of the Healing More Better campaign of the CHU Sainte-Justine   Place            Player   Country      Score\n",
      "0     1  Willie Park, Jr.  Scotland  76-75=151\n",
      "after voting alongside his half-brother Henry Boyle against the government in the Money Bill dispute in December 1753 he was deprived of his offices.   Place            Player   Country      Score\n",
      "0     1  Willie Park, Jr.  Scotland  76-75=151\n",
      "However, the following year he was promoted to major-general, with seniority of 11 March 1755, and made Governor of the Royal Hospital Kilmainham.   Place            Player   Country      Score\n",
      "0     1  Willie Park, Jr.  Scotland  76-75=151\n",
      "He was further promoted to lieutenant-general in 1759.   Place            Player   Country      Score\n",
      "0     1  Willie Park, Jr.  Scotland  76-75=151\n",
      "In about 1760 he attempted to convert the cemetery at Bully's Acre into a botanic garden for the Hospital, but the project was abandoned after the men of the Liberties rioted in protest.   Place            Player   Country      Score\n",
      "0     1  Willie Park, Jr.  Scotland  76-75=151\n",
      "Dilkes also served as Commander-in-Chief of the Forces in Ireland.   Place            Player   Country      Score\n",
      "0     1  Willie Park, Jr.  Scotland  76-75=151\n",
      "He was   Place            Player   Country      Score\n",
      "0     1  Willie Park, Jr.  Scotland  76-75=151\n",
      "its tendency towards a policy of total opposition to the Weimar Republic and on the other hand, pressure from many of its supporters for the DNVP to participate in the government.   Place            Player   Country      Score\n",
      "0     1  Willie Park, Jr.  Scotland  76-75=151\n",
      "Since the DNVP was unlikely to win the majority of the seats in the \"\"Reichstag\"\" on account of the proportional representation system, as a party committed to total opposition to the republic it doomed itself to being an opposition party forever.   Place            Player   Country      Score\n",
      "0     1  Willie Park, Jr.  Scotland  76-75=151\n",
      "Many of the DNVP's supporters made it clear by 1924 that they were unhappy about supporting a party whose role was purely negative in opposing everything that the   Place            Player   Country      Score\n",
      "0     1  Willie Park, Jr.  Scotland  76-75=151\n",
      "Sector; he was then Secretary-General of the Ministry of the Interior and Decentralization from October 1990 to March 1992.   Place            Player   Country      Score\n",
      "0     1  Willie Park, Jr.  Scotland  76-75=151\n",
      "Later, he was elected to the National Assembly in the June 1995 parliamentary election, and at that time he became Secretary-General of the PUP as well as President of the PUP/PCN Parliamentary Group.   Place            Player   Country      Score\n",
      "0     1  Willie Park, Jr.  Scotland  76-75=151\n",
      "He remained in those positions until 2002.   Place            Player   Country      Score\n",
      "0     1  Willie Park, Jr.  Scotland  76-75=151\n",
      "After Somparé was re-elected to the National Assembly in the June 2002 parliamentary election, he was chosen by President Lansana Conté to become President of the National Assembly.   Place            Player   Country      Score\n",
      "0     1  Willie Park, Jr.  Scotland  76-75=151\n",
      "Conté had some difficulty obtaining the necessary support for Somparé among parliamentary deputies,   Place            Player   Country      Score\n",
      "0     1  Willie Park, Jr.  Scotland  76-75=151\n",
      "the \"\"Civil War\"\" storyline, Ringmaster (alongside Clown and Great Gambonnos) was visible among an army of super-villains organized by Hammerhead that was captured by Iron Man and S.H.I.E.L.D. agents.   Place            Player   Country      Score\n",
      "0     1  Willie Park, Jr.  Scotland  76-75=151\n",
      "Later, Ringmaster enacts a plot to hypnotize the elderly into stealing for him, though this is foiled by Howard the Duck, and Talos the Untamed.   Place            Player   Country      Score\n",
      "0     1  Willie Park, Jr.  Scotland  76-75=151\n",
      "During the \"\"Opening Salvo\"\" part of the \"\"Secret Empire\"\" storyline, Ringmaster (along with the Circus of Crime) is recruited by Baron Zemo to join his Army of Evil.   Place            Player   Country      Score\n",
      "0     1  Willie Park, Jr.  Scotland  76-75=151\n",
      "The Ringmaster originally had no inherent superhuman powers.   Place            Player   Country      Score\n",
      "0     1  Willie Park, Jr.  Scotland  76-75=151\n",
      "The Ringmaster's principal weapon is the powerful portable mind-control device   Place            Player   Country      Score\n",
      "0     1  Willie Park, Jr.  Scotland  76-75=151\n",
      "representative to the World Federation of Democratic Youth in Budapest, Hungary, and became Secretary in the Federation secretariat.   Place            Player   Country      Score\n",
      "0     1  Willie Park, Jr.  Scotland  76-75=151\n",
      "His Youth League origins have led to Qian being classified as part of the \"\"Youth League faction\"\" of Hu Yaobang.   Place            Player   Country      Score\n",
      "0     1  Willie Park, Jr.  Scotland  76-75=151\n",
      "From the Youth League, he was promoted to head the external affairs office of the State Council (1964–1965).   Place            Player   Country      Score\n",
      "0     1  Willie Park, Jr.  Scotland  76-75=151\n",
      "Purged during the Cultural Revolution, Qian was re-appointed in 1974 as a member of the Standing Council of the Chinese People’s Association for Friendship with Foreign Countries, and in 1978 was posted as China's first ambassador to UNESCO.   Place            Player   Country      Score\n",
      "0     1  Willie Park, Jr.  Scotland  76-75=151\n",
      "Returning to China from Paris, he   Place            Player   Country      Score\n",
      "0     1  Willie Park, Jr.  Scotland  76-75=151\n",
      "[\"2013–14 season of the Women's BeNe League\"]\n"
     ]
    },
    {
     "ename": "AttributeError",
     "evalue": "'list' object has no attribute 'lower'",
     "output_type": "error",
     "traceback": [
      "\u001b[0;31m---------------------------------------------------------------------------\u001b[0m",
      "\u001b[0;31mAttributeError\u001b[0m                            Traceback (most recent call last)",
      "Input \u001b[0;32mIn [17]\u001b[0m, in \u001b[0;36m<cell line: 3>\u001b[0;34m()\u001b[0m\n\u001b[1;32m     10\u001b[0m table \u001b[38;5;241m=\u001b[39m table\u001b[38;5;241m.\u001b[39miloc[[most_dominant_row], ]\u001b[38;5;241m.\u001b[39mreset_index()\u001b[38;5;241m.\u001b[39mdrop(\u001b[38;5;124m\"\u001b[39m\u001b[38;5;124mindex\u001b[39m\u001b[38;5;124m\"\u001b[39m, axis\u001b[38;5;241m=\u001b[39m\u001b[38;5;241m1\u001b[39m)\n\u001b[1;32m     11\u001b[0m \u001b[38;5;28mprint\u001b[39m(table)\n\u001b[0;32m---> 13\u001b[0m result \u001b[38;5;241m=\u001b[39m \u001b[43mpipeline\u001b[49m\u001b[38;5;241;43m.\u001b[39;49m\u001b[43mrun\u001b[49m\u001b[43m(\u001b[49m\u001b[43mtable\u001b[49m\u001b[43m)\u001b[49m\n\u001b[1;32m     14\u001b[0m \u001b[38;5;28;01mbreak\u001b[39;00m\n",
      "File \u001b[0;32m~/workspace/seed/seed/pipeline/pipeline.py:29\u001b[0m, in \u001b[0;36mPipeline.run\u001b[0;34m(self, df)\u001b[0m\n\u001b[1;32m     27\u001b[0m \u001b[38;5;28;01mfor\u001b[39;00m relevant_sentence \u001b[38;5;129;01min\u001b[39;00m relevant_sentences:\n\u001b[1;32m     28\u001b[0m     \u001b[38;5;28;01mfor\u001b[39;00m column \u001b[38;5;129;01min\u001b[39;00m df:\n\u001b[0;32m---> 29\u001b[0m         compare \u001b[38;5;241m=\u001b[39m \u001b[38;5;28;43mself\u001b[39;49m\u001b[38;5;241;43m.\u001b[39;49m\u001b[43mextractor\u001b[49m\u001b[38;5;241;43m.\u001b[39;49m\u001b[43mcompare\u001b[49m\u001b[43m(\u001b[49m\u001b[43mrelevant_sentence\u001b[49m\u001b[43m[\u001b[49m\u001b[38;5;124;43m\"\u001b[39;49m\u001b[38;5;124;43mtext\u001b[39;49m\u001b[38;5;124;43m\"\u001b[39;49m\u001b[43m]\u001b[49m\u001b[43m,\u001b[49m\u001b[43m \u001b[49m\u001b[43mdf\u001b[49m\u001b[43m[\u001b[49m\u001b[43mcolumn\u001b[49m\u001b[43m]\u001b[49m\u001b[38;5;241;43m.\u001b[39;49m\u001b[43mvalues\u001b[49m\u001b[38;5;241;43m.\u001b[39;49m\u001b[43mtolist\u001b[49m\u001b[43m(\u001b[49m\u001b[43m)\u001b[49m\u001b[43m,\u001b[49m\u001b[43m \u001b[49m\u001b[43mdf\u001b[49m\u001b[43m,\u001b[49m\u001b[43m \u001b[49m\u001b[43mcolumn\u001b[49m\u001b[43m)\u001b[49m\n\u001b[1;32m     30\u001b[0m         \u001b[38;5;28;01mif\u001b[39;00m \u001b[38;5;129;01mnot\u001b[39;00m compare: \n\u001b[1;32m     31\u001b[0m             erroneous_cells\u001b[38;5;241m.\u001b[39mappend({\u001b[38;5;124m\"\u001b[39m\u001b[38;5;124mtitle\u001b[39m\u001b[38;5;124m\"\u001b[39m: relevant_sentence[\u001b[38;5;124m\"\u001b[39m\u001b[38;5;124mtitle\u001b[39m\u001b[38;5;124m\"\u001b[39m], \u001b[38;5;124m\"\u001b[39m\u001b[38;5;124mtext\u001b[39m\u001b[38;5;124m\"\u001b[39m: relevant_sentence[\u001b[38;5;124m\"\u001b[39m\u001b[38;5;124mtext\u001b[39m\u001b[38;5;124m\"\u001b[39m], \u001b[38;5;124m\"\u001b[39m\u001b[38;5;124mcolumn\u001b[39m\u001b[38;5;124m\"\u001b[39m: column})\n",
      "File \u001b[0;32m~/workspace/seed/seed/extractor/unifiedqa.py:84\u001b[0m, in \u001b[0;36mUQAExtractor.compare\u001b[0;34m(self, sentence, value, df, column)\u001b[0m\n\u001b[1;32m     82\u001b[0m prediction \u001b[38;5;241m=\u001b[39m \u001b[38;5;28mself\u001b[39m\u001b[38;5;241m.\u001b[39mextract(sentence, df, column)\n\u001b[1;32m     83\u001b[0m \u001b[38;5;28mprint\u001b[39m(prediction)\n\u001b[0;32m---> 84\u001b[0m \u001b[38;5;28;01mreturn\u001b[39;00m \u001b[43mprediction\u001b[49m\u001b[38;5;241;43m.\u001b[39;49m\u001b[43mlower\u001b[49m() \u001b[38;5;241m==\u001b[39m value\u001b[38;5;241m.\u001b[39mlower()\n",
      "\u001b[0;31mAttributeError\u001b[0m: 'list' object has no attribute 'lower'"
     ]
    }
   ],
   "source": [
    "import json\n",
    "\n",
    "for idx, obj in df.iterrows():\n",
    "    if not obj[\"highlighted_cells\"]:\n",
    "        continue\n",
    "    table = pd.DataFrame(json.loads(obj[\"table\"]))\n",
    "    rows = [x[0] for x in obj[\"highlighted_cells\"]]\n",
    "    most_dominant_row = max(set(rows), key=rows.count)\n",
    "    cols = [x[1] for x in obj[\"highlighted_cells\"] if x[0] == most_dominant_row]\n",
    "    table = table.iloc[[most_dominant_row], ].reset_index().drop(\"index\", axis=1)\n",
    "    print(table)\n",
    "\n",
    "    result = pipeline.run(table)\n",
    "    break"
   ]
  },
  {
   "cell_type": "code",
   "execution_count": 38,
   "id": "9aae966b-1c63-412f-b62b-3e06bdddaf1e",
   "metadata": {},
   "outputs": [],
   "source": [
    "result = retriever.searcher.search(\"Player is Willie Park Jr. and country is Scotland\", k=20)"
   ]
  },
  {
   "cell_type": "code",
   "execution_count": 37,
   "id": "8a897154-f032-48f0-9b1a-66d60f6fae41",
   "metadata": {},
   "outputs": [
    {
     "name": "stdout",
     "output_type": "stream",
     "text": [
      "{\n",
      "  \"id\" : \"17326486\",\n",
      "  \"contents\" : \"\\\"2013–14 BeNe League\\\"\\n2013–14 BeNe League The 2013–14 season of the Women's BeNe League is the second season of the Belgium and Netherlands' women's football top level league. The defending champion is FC Twente. The season started on 30 August 2013 and is played in a single division contrary to last season. Originally planned as a 16 team league, one team withdrew before the season and another one withdrew during the season. Thus 14 teams made the final standings. With six matches to spare Standard Liège already was set as the best placed Belgian side. The league was won by Twente for the\"\n",
      "}\n",
      "{\n",
      "  \"id\" : \"103002\",\n",
      "  \"contents\" : \"\\\"Definable real number\\\"\\nnumbers including π and \\\"\\\"e\\\"\\\". Like the algebraic numbers, the computable numbers also form a subfield of the real numbers, and the positive computable numbers are closed under taking \\\"\\\"n\\\"\\\"th roots for each positive \\\"\\\"n\\\"\\\". Not all real numbers are computable. The entire set of computable numbers is countable, so most reals are not computable. Specific examples of noncomputable real numbers include the limits of Specker sequences, and algorithmically random real numbers such as Chaitin's Ω numbers. Another notion of definability comes from the formal theories of arithmetic, such as Peano arithmetic. The language of arithmetic has symbols for 0,\"\n",
      "}\n",
      "{\n",
      "  \"id\" : \"4449266\",\n",
      "  \"contents\" : \"\\\"Paul Desmarais Jr.\\\"\\nmultinational corporation that is a world leader in the water utilities sector, from 2008 until 2014. He was also a director of Total until 2017. He is also Chair, Board of Governors of the Conference of Montreal as well as member of the Business Council of Canada's Board of Directors and Entrepreneurs' Circle. Paul Desmarais Jr. is involved with Centraide of Greater Montréal; he founded the Major Donors Circle in 1997 and had been its Honorary Chairman for many years, until 2017. He is also one of the Honorary Chairs of the Healing More Better campaign of the CHU Sainte-Justine\"\n",
      "}\n",
      "{\n",
      "  \"id\" : \"1486027\",\n",
      "  \"contents\" : \"\\\"Orthogonal group\\\"\\nto the power of the Dickson invariant. Over fields of characteristic 2, the determinant is always 1, so the Dickson invariant gives more information than the determinant. The special orthogonal group is the kernel of the Dickson invariant and usually has index 2 in . When the characteristic of is not 2, the Dickson Invariant is whenever the determinant is . Thus when the characteristic is not 2, is commonly defined to be the elements of with determinant . Each element in has determinant . Thus in characteristic 2, the determinant is always . The Dickson invariant can also be\"\n",
      "}\n",
      "{\n",
      "  \"id\" : \"8150814\",\n",
      "  \"contents\" : \"\\\"Aboubacar Somparé\\\"\\nwho believed he would be unwilling to surrender power if he ever obtained it. On the other hand, it was noted that Somparé enjoyed little popularity with any group and therefore might lack the political base to perpetuate himself in power. In early 2006, when Conté left Guinea to receive medical treatment in Switzerland, Somparé reportedly met with military officers to discuss the presidential succession; Conté was said to be infuriated by that move. Speaking to \\\"\\\"Jeune Afrique\\\"\\\" in 2008, Somparé said that he thought Conté, who was known to be in extremely poor health, would not be a candidate\"\n",
      "}\n",
      "{\n",
      "  \"id\" : \"17271847\",\n",
      "  \"contents\" : \"\\\"Michael O'Brien Dilkes\\\"\\nafter voting alongside his half-brother Henry Boyle against the government in the Money Bill dispute in December 1753 he was deprived of his offices. However, the following year he was promoted to major-general, with seniority of 11 March 1755, and made Governor of the Royal Hospital Kilmainham. He was further promoted to lieutenant-general in 1759. In about 1760 he attempted to convert the cemetery at Bully's Acre into a botanic garden for the Hospital, but the project was abandoned after the men of the Liberties rioted in protest. Dilkes also served as Commander-in-Chief of the Forces in Ireland. He was\"\n",
      "}\n",
      "{\n",
      "  \"id\" : \"8150812\",\n",
      "  \"contents\" : \"\\\"Aboubacar Somparé\\\"\\nSector; he was then Secretary-General of the Ministry of the Interior and Decentralization from October 1990 to March 1992. Later, he was elected to the National Assembly in the June 1995 parliamentary election, and at that time he became Secretary-General of the PUP as well as President of the PUP/PCN Parliamentary Group. He remained in those positions until 2002. After Somparé was re-elected to the National Assembly in the June 2002 parliamentary election, he was chosen by President Lansana Conté to become President of the National Assembly. Conté had some difficulty obtaining the necessary support for Somparé among parliamentary deputies,\"\n",
      "}\n",
      "{\n",
      "  \"id\" : \"19274734\",\n",
      "  \"contents\" : \"\\\"First Presbyterian Church (Chicago)\\\"\\nat a cost of about $18,000, was appropriately dedicated. The building stood on the east side of Griswold Street, on the premises now known as 48 and 5O Pacific Avenue. A new chapel was built at 45 and 47 Congress Street, and was dedicated June 2, 1867. In 1868, the church supported five mission schools—the Railroad, Foster, Sands, Indiana Street and Archer Avenue Missions — all of which, except the Railroad Mission, have since been transferred to the care of other churches. The records of the Session contain this note regarding the destruction of the church on Wabash Avenue in\"\n",
      "}\n",
      "{\n",
      "  \"id\" : \"18865778\",\n",
      "  \"contents\" : \"\\\"Pilot (Forever)\\\"\\nidea informed both Miller's decision to make his character a doctor-turned-medical examiner who used his occupation for research into his immortality and Miller's decision to make the series a procedural. The details about the character's immortality, his ability to end it, and his desire to do so would serve as the series' main story arc. Miller also created a second character who shared the condition but who would be the moral opposite of his main character as a part of the worldbuilding for the series. As for the family element, Miller created a family with a 35-year-old immortal having a\"\n",
      "}\n",
      "{\n",
      "  \"id\" : \"7087872\",\n",
      "  \"contents\" : \"\\\"Ringmaster (comics)\\\"\\nthe \\\"\\\"Civil War\\\"\\\" storyline, Ringmaster (alongside Clown and Great Gambonnos) was visible among an army of super-villains organized by Hammerhead that was captured by Iron Man and S.H.I.E.L.D. agents. Later, Ringmaster enacts a plot to hypnotize the elderly into stealing for him, though this is foiled by Howard the Duck, and Talos the Untamed. During the \\\"\\\"Opening Salvo\\\"\\\" part of the \\\"\\\"Secret Empire\\\"\\\" storyline, Ringmaster (along with the Circus of Crime) is recruited by Baron Zemo to join his Army of Evil. The Ringmaster originally had no inherent superhuman powers. The Ringmaster's principal weapon is the powerful portable mind-control device\"\n",
      "}\n",
      "{\n",
      "  \"id\" : \"16350009\",\n",
      "  \"contents\" : \"\\\"Water fluoridation in Australia\\\"\\nCouncil decided to not add fluoride to its water supply. Fluoride has been added to water supplies in Canberra and the City of Queanbeyan since 1964. The addition of fluoride is regulated by the Electricity and Water (Amendment) Act (No. 2) 1989 and the Public Health (Drinking Water) Code of Practice 2007 (No 1). There was a brief period in 1989 where fluoridation was suspended following a formal review of the effectiveness of fluoridation on oral health. As only one water supplier provides all of the water for these areas, the percentage of the population with access to fluoridated water\"\n",
      "}\n",
      "{\n",
      "  \"id\" : \"18142125\",\n",
      "  \"contents\" : \"\\\"Saka Acquaye\\\"\\nthe United States. In College, he shared a studio with a very rich white girl, who realized that Saka was a poor International student. For whatever reason, he would always refuse an offer from her to go out for a meal while working. His explanation to us was that even though he was starving, he didn’t want to be always the free gift, and not to be able to reciprocate the gesture. However, in spite of his turning down the offer the lady would every day, buy two packs of whatever meal she had, eat hers, put the other pack\"\n",
      "}\n",
      "{\n",
      "  \"id\" : \"103000\",\n",
      "  \"contents\" : \"\\\"Definable real number\\\"\\nsubfield of the real numbers. This means that 0 and 1 are algebraic numbers and, moreover, if \\\"\\\"a\\\"\\\" and \\\"\\\"b\\\"\\\" are algebraic numbers, then so are \\\"\\\"a\\\"\\\"+\\\"\\\"b\\\"\\\", \\\"\\\"a\\\"\\\"−\\\"\\\"b\\\"\\\", \\\"\\\"ab\\\"\\\" and, if \\\"\\\"b\\\"\\\" is nonzero, \\\"\\\"a\\\"\\\"/\\\"\\\"b\\\"\\\". The algebraic numbers also have the property, which goes beyond being a subfield of the reals, that for each positive integer \\\"\\\"n\\\"\\\" and each algebraic number \\\"\\\"a\\\"\\\", all of the \\\"\\\"n\\\"\\\"th roots of \\\"\\\"a\\\"\\\" that are real numbers are also algebraic. There are only countably many algebraic numbers, but there are uncountably many real numbers, so in the sense of cardinality most real numbers are\"\n",
      "}\n",
      "{\n",
      "  \"id\" : \"20420600\",\n",
      "  \"contents\" : \"\\\"Batman: Gotham by Gaslight\\\"\\nallow himself to burn alive. Batman and Selina are saved by Alfred and the orphans, who are now Bruce Wayne’s wards. As they escape, they watch as the World's Fair burns down, and hope it will be replaced with something better. Julian Romano at MovieWeb gave the film a positive review, going so far as to say it \\\"\\\"ranks among the best of the DC Animated Universe\\\"\\\". He says the film surpasses \\\"\\\"\\\"\\\", doing a better job of adapting the source material, praising screenwriter Jim Krieg and director Sam Liu, for their intelligent approach. He notes the R rating, and\"\n",
      "}\n",
      "{\n",
      "  \"id\" : \"1196850\",\n",
      "  \"contents\" : \"\\\"Boardman, Oregon\\\"\\ntrain to Boardman, where it would be loaded on barges and hauled down the Columbia River to the Port of St. Helens. There it would be transferred to ocean-going ships headed for China, South Korea, Japan, and other Asian countries. The Ambre plan has generated controversy among proponents touting economic benefits and opponents fearing environmental damage. After the public-comment period ends on August 12, 2013, the Oregon Department of Environmental Quality will decide whether to grant Ambre's request for permits to proceed. To export coal across Oregon in the way Ambre proposes, the company will also need approval from the\"\n",
      "}\n",
      "{\n",
      "  \"id\" : \"20616359\",\n",
      "  \"contents\" : \"\\\"Disappearance of Relisha Rudd\\\"\\nin February, but her mother provided a note saying she was having health problems and was in the care of a \\\"\\\"Dr. Tatum\\\"\\\". The school contacted Tatum at the number provided, but when he failed to show up for a meeting with them, a counselor contacted the police to report Rudd missing. The Metropolitan Police Department of the District of Columbia launched a missing-persons probe on 19 March, by which point Rudd had not been in school for a month. The investigation revealed that Tatum and Rudd had been caught on camera walking down a hallway in a Holiday Inn\"\n",
      "}\n",
      "{\n",
      "  \"id\" : \"12003504\",\n",
      "  \"contents\" : \"\\\"Qian Liren\\\"\\nrepresentative to the World Federation of Democratic Youth in Budapest, Hungary, and became Secretary in the Federation secretariat. His Youth League origins have led to Qian being classified as part of the \\\"\\\"Youth League faction\\\"\\\" of Hu Yaobang. From the Youth League, he was promoted to head the external affairs office of the State Council (1964–1965). Purged during the Cultural Revolution, Qian was re-appointed in 1974 as a member of the Standing Council of the Chinese People’s Association for Friendship with Foreign Countries, and in 1978 was posted as China's first ambassador to UNESCO. Returning to China from Paris, he\"\n",
      "}\n",
      "{\n",
      "  \"id\" : \"2428796\",\n",
      "  \"contents\" : \"\\\"German National People's Party\\\"\\nits tendency towards a policy of total opposition to the Weimar Republic and on the other hand, pressure from many of its supporters for the DNVP to participate in the government. Since the DNVP was unlikely to win the majority of the seats in the \\\"\\\"Reichstag\\\"\\\" on account of the proportional representation system, as a party committed to total opposition to the republic it doomed itself to being an opposition party forever. Many of the DNVP's supporters made it clear by 1924 that they were unhappy about supporting a party whose role was purely negative in opposing everything that the\"\n",
      "}\n"
     ]
    }
   ],
   "source": [
    "for doc in result:\n",
    "    print(retriever.ssearcher.doc(int(doc.docid)).raw())"
   ]
  },
  {
   "cell_type": "code",
   "execution_count": 31,
   "id": "66083463-7938-4ad8-8526-bce34019c05f",
   "metadata": {},
   "outputs": [
    {
     "data": {
      "text/plain": [
       "'{\\n  \"id\" : \"103002\",\\n  \"contents\" : \"\\\\\"Definable real number\\\\\"\\\\nnumbers including π and \\\\\"\\\\\"e\\\\\"\\\\\". Like the algebraic numbers, the computable numbers also form a subfield of the real numbers, and the positive computable numbers are closed under taking \\\\\"\\\\\"n\\\\\"\\\\\"th roots for each positive \\\\\"\\\\\"n\\\\\"\\\\\". Not all real numbers are computable. The entire set of computable numbers is countable, so most reals are not computable. Specific examples of noncomputable real numbers include the limits of Specker sequences, and algorithmically random real numbers such as Chaitin\\'s Ω numbers. Another notion of definability comes from the formal theories of arithmetic, such as Peano arithmetic. The language of arithmetic has symbols for 0,\"\\n}'"
      ]
     },
     "execution_count": 31,
     "metadata": {},
     "output_type": "execute_result"
    }
   ],
   "source": [
    "retriever.ssearcher.doc(int(4714673)).raw()"
   ]
  },
  {
   "cell_type": "code",
   "execution_count": null,
   "id": "117b834c-751b-4983-a59d-c28ab877f9e4",
   "metadata": {},
   "outputs": [],
   "source": []
  }
 ],
 "metadata": {
  "kernelspec": {
   "display_name": "Python 3 (ipykernel)",
   "language": "python",
   "name": "python3"
  },
  "language_info": {
   "codemirror_mode": {
    "name": "ipython",
    "version": 3
   },
   "file_extension": ".py",
   "mimetype": "text/x-python",
   "name": "python",
   "nbconvert_exporter": "python",
   "pygments_lexer": "ipython3",
   "version": "3.8.13"
  }
 },
 "nbformat": 4,
 "nbformat_minor": 5
}
