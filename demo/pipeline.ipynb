{
 "cells": [
  {
   "cell_type": "code",
   "execution_count": 27,
   "id": "ceeb8dc8-0d1e-4030-a0b4-a1345b12f4c6",
   "metadata": {},
   "outputs": [
    {
     "name": "stdout",
     "output_type": "stream",
     "text": [
      "The autoreload extension is already loaded. To reload it, use:\n",
      "  %reload_ext autoreload\n"
     ]
    }
   ],
   "source": [
    "%load_ext autoreload\n",
    "%autoreload 2"
   ]
  },
  {
   "cell_type": "code",
   "execution_count": 28,
   "id": "f10def28-414f-43bb-99d8-3effd25e6591",
   "metadata": {},
   "outputs": [],
   "source": [
    "import sys\n",
    "\n",
    "sys.path.append(\"/nas/ckgfs/users/minhpham/workspace/seed\")\n",
    "sys.path.append(\"/nas/ckgfs/users/minhpham/workspace/BLINK\")"
   ]
  },
  {
   "cell_type": "code",
   "execution_count": 29,
   "id": "723b6ed0-34c2-4e30-a705-75e1d4cb7ee5",
   "metadata": {},
   "outputs": [],
   "source": [
    "from seed.pipeline.pipeline import Pipeline"
   ]
  },
  {
   "cell_type": "code",
   "execution_count": 30,
   "id": "c635115e-ee3b-4e8a-83d6-90fe5d04d9c8",
   "metadata": {},
   "outputs": [
    {
     "name": "stderr",
     "output_type": "stream",
     "text": [
      "/nas/home/minhpham/miniconda3/envs/ml11/lib/python3.8/site-packages/huggingface_hub/file_download.py:560: FutureWarning: `cached_download` is the legacy way to download files from the HF hub, please consider upgrading to `hf_hub_download`\n",
      "  warnings.warn(\n"
     ]
    },
    {
     "name": "stdout",
     "output_type": "stream",
     "text": [
      "2022-07-16 22:58:30,748 loading file /nas/home/minhpham/.flair/models/ner-english/4f4cdab26f24cb98b732b389e6cebc646c36f54cfd6e0b7d3b90b25656e4262f.8baa8ae8795f4df80b28e7f7b61d788ecbb057d1dc85aacb316f1bd02837a4a4\n",
      "2022-07-16 22:58:32,936 SequenceTagger predicts: Dictionary with 20 tags: <unk>, O, S-ORG, S-MISC, B-PER, E-PER, S-LOC, B-ORG, E-ORG, I-PER, S-PER, B-MISC, I-MISC, E-MISC, I-ORG, B-LOC, E-LOC, I-LOC, <START>, <STOP>\n"
     ]
    }
   ],
   "source": [
    "from seed.pipeline.retriever import Retriever\n",
    "\n",
    "retriever = Retriever.get(\"wiki\")"
   ]
  },
  {
   "cell_type": "code",
   "execution_count": 33,
   "id": "7ea9f588-b00e-45f6-8ad0-60a26d128b94",
   "metadata": {},
   "outputs": [],
   "source": [
    "from seed.pipeline.verifier import Verifier\n",
    "\n",
    "verifier = Verifier.get(\"bart\")"
   ]
  },
  {
   "cell_type": "code",
   "execution_count": 34,
   "id": "7a08ea0b-ce72-4dcc-bd9d-09bc5350a494",
   "metadata": {},
   "outputs": [
    {
     "name": "stderr",
     "output_type": "stream",
     "text": [
      "/nas/home/minhpham/miniconda3/envs/ml11/lib/python3.8/site-packages/huggingface_hub/file_download.py:560: FutureWarning: `cached_download` is the legacy way to download files from the HF hub, please consider upgrading to `hf_hub_download`\n",
      "  warnings.warn(\n"
     ]
    },
    {
     "name": "stdout",
     "output_type": "stream",
     "text": [
      "2022-07-16 23:26:13,204 loading file /nas/home/minhpham/.flair/models/ner-english/4f4cdab26f24cb98b732b389e6cebc646c36f54cfd6e0b7d3b90b25656e4262f.8baa8ae8795f4df80b28e7f7b61d788ecbb057d1dc85aacb316f1bd02837a4a4\n",
      "2022-07-16 23:26:15,661 SequenceTagger predicts: Dictionary with 20 tags: <unk>, O, S-ORG, S-MISC, B-PER, E-PER, S-LOC, B-ORG, E-ORG, I-PER, S-PER, B-MISC, I-MISC, E-MISC, I-ORG, B-LOC, E-LOC, I-LOC, <START>, <STOP>\n"
     ]
    }
   ],
   "source": [
    "from seed.extractor import Extractor\n",
    "\n",
    "extractor = Extractor.get(\"unifiedqa\")"
   ]
  },
  {
   "cell_type": "code",
   "execution_count": 24,
   "id": "5a71f246-f306-4283-80b1-6ae94fcefb4f",
   "metadata": {},
   "outputs": [
    {
     "name": "stderr",
     "output_type": "stream",
     "text": [
      "/nas/home/minhpham/miniconda3/envs/ml11/lib/python3.8/site-packages/huggingface_hub/file_download.py:560: FutureWarning: `cached_download` is the legacy way to download files from the HF hub, please consider upgrading to `hf_hub_download`\n",
      "  warnings.warn(\n"
     ]
    },
    {
     "name": "stdout",
     "output_type": "stream",
     "text": [
      "2022-07-16 22:03:56,787 loading file /nas/home/minhpham/.flair/models/ner-english/4f4cdab26f24cb98b732b389e6cebc646c36f54cfd6e0b7d3b90b25656e4262f.8baa8ae8795f4df80b28e7f7b61d788ecbb057d1dc85aacb316f1bd02837a4a4\n",
      "2022-07-16 22:03:58,721 SequenceTagger predicts: Dictionary with 20 tags: <unk>, O, S-ORG, S-MISC, B-PER, E-PER, S-LOC, B-ORG, E-ORG, I-PER, S-PER, B-MISC, I-MISC, E-MISC, I-ORG, B-LOC, E-LOC, I-LOC, <START>, <STOP>\n"
     ]
    }
   ],
   "source": [
    "pipeline = Pipeline(retriever, verifier, extractor)"
   ]
  },
  {
   "cell_type": "code",
   "execution_count": 25,
   "id": "b5e161c8-7218-4d4a-96f8-c793f008f3cc",
   "metadata": {},
   "outputs": [],
   "source": [
    "import pandas as pd\n",
    "import jsonlines\n",
    "\n",
    "df = pd.DataFrame(list(jsonlines.open(\"../data/totto/totto_test.jsonl\")))"
   ]
  },
  {
   "cell_type": "code",
   "execution_count": null,
   "id": "9b2288ef-c20a-46c0-9895-f9e70cb2397b",
   "metadata": {},
   "outputs": [
    {
     "name": "stdout",
     "output_type": "stream",
     "text": [
      "                 Vacator                                  Reason for change  \\\n",
      "0  Charles L. McNary (R)  Died November 22, 1943. Successor was appointe...   \n",
      "\n",
      "                Successor Date of successor's formal installation  \n",
      "0  H. Alexander Smith (R)                        December 7, 1944  \n",
      "True\n",
      "\n",
      "Charles L . McNary ( R\n",
      "Alexander Smith\n"
     ]
    },
    {
     "name": "stderr",
     "output_type": "stream",
     "text": [
      "100%|█████████████████████████████████████████████████████████████████████████████████████████████████| 1/1 [00:04<00:00,  4.29s/it]\n",
      "100%|█████████████████████████████████████████████████████████████████████████████████████████████████| 1/1 [00:01<00:00,  1.18s/it]\n"
     ]
    },
    {
     "name": "stdout",
     "output_type": "stream",
     "text": [
      "Similarity:  Charles Linza McNary (June 12, 1874February 25, 1944) was an American Republican politician from Oregon. 0.7758303284645081\n",
      "Similarity:  Charles Linza McNary (June 12, 1874February 25, 1944) was an American Republican politician from Oregon. 0.7512107491493225\n",
      "Similarity:  Charles Linza McNary (June 12, 1874February 25, 1944) was an American Republican politician from Oregon. 0.8218518495559692\n",
      "Title: Charles L. McNary --- Sentence: 'Charles Linza McNary (June 12, 1874February 25, 1944) was an American Republican politician from Oregon.' --- Label: {}\n"
     ]
    },
    {
     "name": "stderr",
     "output_type": "stream",
     "text": [
      "100%|█████████████████████████████████████████████████████████████████████████████████████████████████| 1/1 [00:00<00:00,  1.81it/s]\n",
      "100%|█████████████████████████████████████████████████████████████████████████████████████████████████| 1/1 [00:01<00:00,  1.09s/it]\n"
     ]
    },
    {
     "name": "stdout",
     "output_type": "stream",
     "text": [
      "Similarity:  In the Senate, McNary helped to pass legislation that led to the construction of Bonneville Dam on the Columbia River, and worked on agricultural and forestry issues. 0.6422708034515381\n",
      "Similarity:  In the Senate, McNary helped to pass legislation that led to the construction of Bonneville Dam on the Columbia River, and worked on agricultural and forestry issues. 0.5279567837715149\n",
      "Similarity:  In the Senate, McNary helped to pass legislation that led to the construction of Bonneville Dam on the Columbia River, and worked on agricultural and forestry issues. 0.5941460132598877\n",
      "Title: Charles L. McNary --- Sentence: 'In the Senate, McNary helped to pass legislation that led to the construction of Bonneville Dam on the Columbia River, and worked on agricultural and forestry issues.' --- Label: {}\n"
     ]
    },
    {
     "name": "stderr",
     "output_type": "stream",
     "text": [
      "100%|█████████████████████████████████████████████████████████████████████████████████████████████████| 1/1 [00:00<00:00,  1.29it/s]\n",
      "100%|█████████████████████████████████████████████████████████████████████████████████████████████████| 1/1 [00:00<00:00,  1.49it/s]\n",
      "100%|█████████████████████████████████████████████████████████████████████████████████████████████████| 1/1 [00:00<00:00,  1.22it/s]\n"
     ]
    },
    {
     "name": "stdout",
     "output_type": "stream",
     "text": [
      "Similarity:  McNary was the Republican vice presidential candidate in 1940, on the ticket with presidential candidate Wendell Willkie; both died in 1944, during what would have been their first term had they won. 0.6585096120834351\n",
      "Similarity:  McNary was the Republican vice presidential candidate in 1940, on the ticket with presidential candidate Wendell Willkie; both died in 1944, during what would have been their first term had they won. 0.5776921510696411\n",
      "Similarity:  McNary was the Republican vice presidential candidate in 1940, on the ticket with presidential candidate Wendell Willkie; both died in 1944, during what would have been their first term had they won. 0.703010082244873\n",
      "Title: Charles L. McNary --- Sentence: 'McNary was the Republican vice presidential candidate in 1940, on the ticket with presidential candidate Wendell Willkie; both died in 1944, during what would have been their first term had they won.' --- Label: {}\n"
     ]
    },
    {
     "name": "stderr",
     "output_type": "stream",
     "text": [
      "100%|█████████████████████████████████████████████████████████████████████████████████████████████████| 1/1 [00:00<00:00,  1.27it/s]\n",
      "100%|█████████████████████████████████████████████████████████████████████████████████████████████████| 1/1 [00:01<00:00,  1.16s/it]\n"
     ]
    },
    {
     "name": "stdout",
     "output_type": "stream",
     "text": [
      "Similarity:  McNary was a justice of the Oregon Supreme Court from 1913 to 1915 and was dean of Willamette University College of Law, in his hometown of Salem, from 1908 to 1913. 0.7192128896713257\n",
      "Similarity:  McNary was a justice of the Oregon Supreme Court from 1913 to 1915 and was dean of Willamette University College of Law, in his hometown of Salem, from 1908 to 1913. 0.6955955624580383\n",
      "Similarity:  McNary was a justice of the Oregon Supreme Court from 1913 to 1915 and was dean of Willamette University College of Law, in his hometown of Salem, from 1908 to 1913. 0.7366911172866821\n",
      "Title: Charles L. McNary --- Sentence: 'McNary was a justice of the Oregon Supreme Court from 1913 to 1915 and was dean of Willamette University College of Law, in his hometown of Salem, from 1908 to 1913.' --- Label: {}\n"
     ]
    },
    {
     "name": "stderr",
     "output_type": "stream",
     "text": [
      "100%|█████████████████████████████████████████████████████████████████████████████████████████████████| 1/1 [00:01<00:00,  1.12s/it]\n"
     ]
    },
    {
     "name": "stdout",
     "output_type": "stream",
     "text": [
      "Similarity:  Before that, he was a deputy district attorney under his brother, John Hugh McNary, who later became a federal judge for the District of Oregon. 0.7147048711776733\n",
      "Similarity:  Before that, he was a deputy district attorney under his brother, John Hugh McNary, who later became a federal judge for the District of Oregon. 0.7479261159896851\n",
      "Similarity:  Before that, he was a deputy district attorney under his brother, John Hugh McNary, who later became a federal judge for the District of Oregon. 0.6642471551895142\n",
      "Title: Charles L. McNary --- Sentence: 'Before that, he was a deputy district attorney under his brother, John Hugh McNary, who later became a federal judge for the District of Oregon.' --- Label: {}\n"
     ]
    },
    {
     "name": "stderr",
     "output_type": "stream",
     "text": [
      "100%|█████████████████████████████████████████████████████████████████████████████████████████████████| 1/1 [00:01<00:00,  1.19s/it]\n"
     ]
    },
    {
     "name": "stdout",
     "output_type": "stream",
     "text": [
      "Similarity:  McNary died in office after unsuccessful surgery on a brain tumor. 0.632224977016449\n",
      "Similarity:  McNary died in office after unsuccessful surgery on a brain tumor. 0.6005676984786987\n",
      "Similarity:  McNary died in office after unsuccessful surgery on a brain tumor. 0.5384058356285095\n",
      "Title: Charles L. McNary --- Sentence: 'McNary died in office after unsuccessful surgery on a brain tumor.' --- Label: {}\n"
     ]
    },
    {
     "name": "stderr",
     "output_type": "stream",
     "text": [
      "100%|█████████████████████████████████████████████████████████████████████████████████████████████████| 1/1 [00:01<00:00,  1.07s/it]\n",
      "100%|█████████████████████████████████████████████████████████████████████████████████████████████████| 1/1 [00:01<00:00,  1.56s/it]\n"
     ]
    },
    {
     "name": "stdout",
     "output_type": "stream",
     "text": [
      "Similarity:  McNary Dam, McNary Field, McNary High School, and McNary Country Club (on land he owned) in Oregon are named in his honor. 0.6764464378356934\n",
      "Similarity:  McNary Dam, McNary Field, McNary High School, and McNary Country Club (on land he owned) in Oregon are named in his honor. 0.679650604724884\n",
      "Similarity:  McNary Dam, McNary Field, McNary High School, and McNary Country Club (on land he owned) in Oregon are named in his honor. 0.662302553653717\n",
      "Title: Charles L. McNary --- Sentence: 'McNary Dam, McNary Field, McNary High School, and McNary Country Club (on land he owned) in Oregon are named in his honor.' --- Label: {}\n"
     ]
    },
    {
     "name": "stderr",
     "output_type": "stream",
     "text": [
      "100%|█████████████████████████████████████████████████████████████████████████████████████████████████| 1/1 [00:02<00:00,  2.18s/it]\n",
      "100%|█████████████████████████████████████████████████████████████████████████████████████████████████| 1/1 [00:02<00:00,  2.19s/it]\n"
     ]
    },
    {
     "name": "stdout",
     "output_type": "stream",
     "text": [
      "Similarity:  McNary was born on his maternal grandfather's family farm north of Salem on June 12, 1874. 0.6720101833343506\n",
      "Similarity:  McNary was born on his maternal grandfather's family farm north of Salem on June 12, 1874. 0.5543420910835266\n",
      "Similarity:  McNary was born on his maternal grandfather's family farm north of Salem on June 12, 1874. 0.6776785850524902\n",
      "Title: Charles L. McNary --- Sentence: 'McNary was born on his maternal grandfather's family farm north of Salem on June 12, 1874.' --- Label: {}\n"
     ]
    },
    {
     "name": "stderr",
     "output_type": "stream",
     "text": [
      "100%|█████████████████████████████████████████████████████████████████████████████████████████████████| 1/1 [00:01<00:00,  1.17s/it]\n"
     ]
    },
    {
     "name": "stdout",
     "output_type": "stream",
     "text": [
      "Similarity:  He was the ninth of ten children, and the third son, born to Hugh Linza McNary and Mary Margaret McNary (née Claggett).Steve Neal, McNary of Oregon: A Political Biography. 0.6423340439796448\n",
      "Similarity:  He was the ninth of ten children, and the third son, born to Hugh Linza McNary and Mary Margaret McNary (née Claggett).Steve Neal, McNary of Oregon: A Political Biography. 0.6866921186447144\n",
      "Similarity:  He was the ninth of ten children, and the third son, born to Hugh Linza McNary and Mary Margaret McNary (née Claggett).Steve Neal, McNary of Oregon: A Political Biography. 0.6109456419944763\n",
      "Title: Charles L. McNary --- Sentence: 'He was the ninth of ten children, and the third son, born to Hugh Linza McNary and Mary Margaret McNary (née Claggett).Steve Neal, McNary of Oregon: A Political Biography.' --- Label: {}\n"
     ]
    },
    {
     "name": "stderr",
     "output_type": "stream",
     "text": [
      "100%|█████████████████████████████████████████████████████████████████████████████████████████████████| 1/1 [00:00<00:00,  1.55it/s]\n",
      "100%|█████████████████████████████████████████████████████████████████████████████████████████████████| 1/1 [00:00<00:00,  1.63it/s]\n",
      "100%|█████████████████████████████████████████████████████████████████████████████████████████████████| 1/1 [00:00<00:00,  1.75it/s]\n"
     ]
    },
    {
     "name": "stdout",
     "output_type": "stream",
     "text": [
      "Similarity:  When the two married in 1860, Hugh McNary's father-in-law gave him a  farm in what is now the city of Keizer. 0.4231560528278351\n",
      "Similarity:  When the two married in 1860, Hugh McNary's father-in-law gave him a  farm in what is now the city of Keizer. 0.3815847933292389\n",
      "Similarity:  When the two married in 1860, Hugh McNary's father-in-law gave him a  farm in what is now the city of Keizer. 0.4329816699028015\n",
      "Title: Charles L. McNary --- Sentence: 'When the two married in 1860, Hugh McNary's father-in-law gave him a  farm in what is now the city of Keizer.' --- Label: {}\n"
     ]
    },
    {
     "name": "stderr",
     "output_type": "stream",
     "text": [
      "100%|█████████████████████████████████████████████████████████████████████████████████████████████████| 2/2 [00:02<00:00,  1.00s/it]\n"
     ]
    },
    {
     "name": "stdout",
     "output_type": "stream",
     "text": [
      "Similarity:  Charles McNary's paternal grandfather, James McNary, moved from Missouri to Clackamas County under the Provisional Government of Oregon in 1845, while James McNary's grandfather, Hugh McNary, was an Ulster Scots immigrant who settled in Kentucky. 0.7001619338989258\n",
      "Similarity:  Charles McNary's paternal grandfather, James McNary, moved from Missouri to Clackamas County under the Provisional Government of Oregon in 1845, while James McNary's grandfather, Hugh McNary, was an Ulster Scots immigrant who settled in Kentucky. 0.7280234098434448\n",
      "Similarity:  Charles McNary's paternal grandfather, James McNary, moved from Missouri to Clackamas County under the Provisional Government of Oregon in 1845, while James McNary's grandfather, Hugh McNary, was an Ulster Scots immigrant who settled in Kentucky. 0.715008556842804\n",
      "Title: Charles L. McNary --- Sentence: 'Charles McNary's paternal grandfather, James McNary, moved from Missouri to Clackamas County under the Provisional Government of Oregon in 1845, while James McNary's grandfather, Hugh McNary, was an Ulster Scots immigrant who settled in Kentucky.' --- Label: {}\n"
     ]
    },
    {
     "name": "stderr",
     "output_type": "stream",
     "text": [
      "100%|█████████████████████████████████████████████████████████████████████████████████████████████████| 1/1 [00:01<00:00,  1.62s/it]\n"
     ]
    },
    {
     "name": "stdout",
     "output_type": "stream",
     "text": [
      "Similarity:  Charles McNary's maternal grandparents, Charles Claggett (McNary's namesake) and Mary South Claggett (née Irvine), moved also from Missouri to the Oregon Territory in 1852. 0.6987707614898682\n",
      "Similarity:  Charles McNary's maternal grandparents, Charles Claggett (McNary's namesake) and Mary South Claggett (née Irvine), moved also from Missouri to the Oregon Territory in 1852. 0.7150152325630188\n",
      "Similarity:  Charles McNary's maternal grandparents, Charles Claggett (McNary's namesake) and Mary South Claggett (née Irvine), moved also from Missouri to the Oregon Territory in 1852. 0.6561711430549622\n",
      "Title: Charles L. McNary --- Sentence: 'Charles McNary's maternal grandparents, Charles Claggett (McNary's namesake) and Mary South Claggett (née Irvine), moved also from Missouri to the Oregon Territory in 1852.' --- Label: {}\n"
     ]
    },
    {
     "name": "stderr",
     "output_type": "stream",
     "text": [
      "100%|█████████████████████████████████████████████████████████████████████████████████████████████████| 2/2 [00:02<00:00,  1.27s/it]\n"
     ]
    },
    {
     "name": "stdout",
     "output_type": "stream",
     "text": [
      "Similarity:  McNary's maternal grandmother also descended from Ulster Scots immigrants from County Antrim and County Armagh, Ireland to Campbell County, Virginia, who originally migrated to Ulster from Aberdeenshire, Scotland. 0.6482729911804199\n",
      "Similarity:  McNary's maternal grandmother also descended from Ulster Scots immigrants from County Antrim and County Armagh, Ireland to Campbell County, Virginia, who originally migrated to Ulster from Aberdeenshire, Scotland. 0.6847264766693115\n",
      "Similarity:  McNary's maternal grandmother also descended from Ulster Scots immigrants from County Antrim and County Armagh, Ireland to Campbell County, Virginia, who originally migrated to Ulster from Aberdeenshire, Scotland. 0.6433330774307251\n",
      "Title: Charles L. McNary --- Sentence: 'McNary's maternal grandmother also descended from Ulster Scots immigrants from County Antrim and County Armagh, Ireland to Campbell County, Virginia, who originally migrated to Ulster from Aberdeenshire, Scotland.' --- Label: {}\n"
     ]
    },
    {
     "name": "stderr",
     "output_type": "stream",
     "text": [
      "100%|█████████████████████████████████████████████████████████████████████████████████████████████████| 1/1 [00:00<00:00,  1.09it/s]\n"
     ]
    },
    {
     "name": "stdout",
     "output_type": "stream",
     "text": [
      "Similarity:  McNary's father helped on the family farm, then taught school for a few years before returning to farming near Salem. 0.6139293909072876\n",
      "Similarity:  McNary's father helped on the family farm, then taught school for a few years before returning to farming near Salem. 0.5562947988510132\n",
      "Similarity:  McNary's father helped on the family farm, then taught school for a few years before returning to farming near Salem. 0.5863642692565918\n",
      "Title: Charles L. McNary --- Sentence: 'McNary's father helped on the family farm, then taught school for a few years before returning to farming near Salem.' --- Label: {}\n"
     ]
    },
    {
     "name": "stderr",
     "output_type": "stream",
     "text": [
      "100%|█████████████████████████████████████████████████████████████████████████████████████████████████| 1/1 [00:01<00:00,  1.09s/it]\n"
     ]
    },
    {
     "name": "stdout",
     "output_type": "stream",
     "text": [
      "Similarity:  When McNary's mother died in 1878, his father moved the family to Salem where he bought a general merchandise store after being unable to run the family farm because of declining health. 0.6972607970237732\n",
      "Similarity:  When McNary's mother died in 1878, his father moved the family to Salem where he bought a general merchandise store after being unable to run the family farm because of declining health. 0.6028456687927246\n",
      "Similarity:  When McNary's mother died in 1878, his father moved the family to Salem where he bought a general merchandise store after being unable to run the family farm because of declining health. 0.6800042390823364\n",
      "Title: Charles L. McNary --- Sentence: 'When McNary's mother died in 1878, his father moved the family to Salem where he bought a general merchandise store after being unable to run the family farm because of declining health.' --- Label: {}\n"
     ]
    },
    {
     "name": "stderr",
     "output_type": "stream",
     "text": [
      "100%|█████████████████████████████████████████████████████████████████████████████████████████████████| 1/1 [00:02<00:00,  2.10s/it]\n",
      "100%|█████████████████████████████████████████████████████████████████████████████████████████████████| 1/1 [00:01<00:00,  1.03s/it]\n"
     ]
    },
    {
     "name": "stdout",
     "output_type": "stream",
     "text": [
      "Similarity:  Hugh McNary died in 1883, making Charlie an orphan at the age of nine. 0.7917093634605408\n",
      "Similarity:  Hugh McNary died in 1883, making Charlie an orphan at the age of nine. 0.7121997475624084\n",
      "Similarity:  Hugh McNary died in 1883, making Charlie an orphan at the age of nine. 0.7380377054214478\n",
      "Title: Charles L. McNary --- Sentence: 'Hugh McNary died in 1883, making Charlie an orphan at the age of nine.' --- Label: {'Reason for change': (0, tensor([9.9569e-01, 4.1820e-03, 1.3189e-04], grad_fn=<SoftmaxBackward0>)), 'Successor': (0, tensor([9.5015e-01, 4.9597e-02, 2.4974e-04], grad_fn=<SoftmaxBackward0>)), \"Date of successor's formal installation\": (0, tensor([0.7300, 0.2686, 0.0014], grad_fn=<SoftmaxBackward0>))}\n"
     ]
    },
    {
     "name": "stderr",
     "output_type": "stream",
     "text": [
      "100%|█████████████████████████████████████████████████████████████████████████████████████████████████| 1/1 [00:01<00:00,  1.01s/it]\n"
     ]
    },
    {
     "name": "stdout",
     "output_type": "stream",
     "text": [
      "Similarity:  Nina McNary became the head of the household, while other siblings took jobs in order to provide for the family.Neal, McNary of Oregon, pp. 3–6. 0.5231816172599792\n",
      "Similarity:  Nina McNary became the head of the household, while other siblings took jobs in order to provide for the family.Neal, McNary of Oregon, pp. 3–6. 0.5646445751190186\n",
      "Similarity:  Nina McNary became the head of the household, while other siblings took jobs in order to provide for the family.Neal, McNary of Oregon, pp. 3–6. 0.5216230154037476\n",
      "Title: Charles L. McNary --- Sentence: 'Nina McNary became the head of the household, while other siblings took jobs in order to provide for the family.Neal, McNary of Oregon, pp. 3–6.' --- Label: {}\n"
     ]
    },
    {
     "name": "stderr",
     "output_type": "stream",
     "text": [
      "100%|█████████████████████████████████████████████████████████████████████████████████████████████████| 1/1 [00:00<00:00,  1.89it/s]\n",
      "100%|█████████████████████████████████████████████████████████████████████████████████████████████████| 1/1 [00:00<00:00,  1.75it/s]\n",
      "100%|█████████████████████████████████████████████████████████████████████████████████████████████████| 1/1 [00:00<00:00,  1.48it/s]\n"
     ]
    },
    {
     "name": "stdout",
     "output_type": "stream",
     "text": [
      "Similarity:  He later worked in the county recorder's office for his brother John Hugh McNary, who had been elected as county recorder in 1890, and for a short time attended the Capital Business College. 0.7195011377334595\n",
      "Similarity:  He later worked in the county recorder's office for his brother John Hugh McNary, who had been elected as county recorder in 1890, and for a short time attended the Capital Business College. 0.6994976997375488\n",
      "Similarity:  He later worked in the county recorder's office for his brother John Hugh McNary, who had been elected as county recorder in 1890, and for a short time attended the Capital Business College. 0.6689955592155457\n",
      "Title: Charles L. McNary --- Sentence: 'He later worked in the county recorder's office for his brother John Hugh McNary, who had been elected as county recorder in 1890, and for a short time attended the Capital Business College.' --- Label: {}\n"
     ]
    },
    {
     "name": "stderr",
     "output_type": "stream",
     "text": [
      "100%|█████████████████████████████████████████████████████████████████████████████████████████████████| 1/1 [00:00<00:00,  1.65it/s]\n",
      "100%|█████████████████████████████████████████████████████████████████████████████████████████████████| 1/1 [00:00<00:00,  1.93it/s]\n",
      "100%|█████████████████████████████████████████████████████████████████████████████████████████████████| 1/1 [00:00<00:00,  1.90it/s]\n",
      "100%|█████████████████████████████████████████████████████████████████████████████████████████████████| 1/1 [00:00<00:00,  1.44it/s]\n"
     ]
    },
    {
     "name": "stdout",
     "output_type": "stream",
     "text": [
      "Similarity:  In the autumn of 1896, McNary moved to California to attend Stanford, where he studied law, economics, science, and history while working as a waiter to pay for his housing. 0.7146673798561096\n",
      "Similarity:  In the autumn of 1896, McNary moved to California to attend Stanford, where he studied law, economics, science, and history while working as a waiter to pay for his housing. 0.6701325178146362\n",
      "Similarity:  In the autumn of 1896, McNary moved to California to attend Stanford, where he studied law, economics, science, and history while working as a waiter to pay for his housing. 0.7349945306777954\n",
      "Title: Charles L. McNary --- Sentence: 'In the autumn of 1896, McNary moved to California to attend Stanford, where he studied law, economics, science, and history while working as a waiter to pay for his housing.' --- Label: {}\n"
     ]
    },
    {
     "name": "stderr",
     "output_type": "stream",
     "text": [
      "100%|█████████████████████████████████████████████████████████████████████████████████████████████████| 1/1 [00:01<00:00,  1.02s/it]\n"
     ]
    },
    {
     "name": "stdout",
     "output_type": "stream",
     "text": [
      "Similarity:  He left Stanford and returned to Oregon in 1897 after his family asked him to come home.Neal, McNary of Oregon, pp. 9–13. 0.6630018353462219\n",
      "Similarity:  He left Stanford and returned to Oregon in 1897 after his family asked him to come home.Neal, McNary of Oregon, pp. 9–13. 0.5673590898513794\n",
      "Similarity:  He left Stanford and returned to Oregon in 1897 after his family asked him to come home.Neal, McNary of Oregon, pp. 9–13. 0.6349033117294312\n",
      "Title: Charles L. McNary --- Sentence: 'He left Stanford and returned to Oregon in 1897 after his family asked him to come home.Neal, McNary of Oregon, pp. 9–13.' --- Label: {}\n"
     ]
    },
    {
     "name": "stderr",
     "output_type": "stream",
     "text": [
      "100%|█████████████████████████████████████████████████████████████████████████████████████████████████| 1/1 [00:00<00:00,  1.43it/s]\n",
      "100%|█████████████████████████████████████████████████████████████████████████████████████████████████| 1/1 [00:02<00:00,  2.45s/it]\n"
     ]
    },
    {
     "name": "stdout",
     "output_type": "stream",
     "text": [
      "Similarity:  The brothers practiced law together in Salem as McNary & McNary, while John also served as deputy district attorney for Marion County. 0.7621421813964844\n",
      "Similarity:  The brothers practiced law together in Salem as McNary & McNary, while John also served as deputy district attorney for Marion County. 0.7493711709976196\n",
      "Similarity:  The brothers practiced law together in Salem as McNary & McNary, while John also served as deputy district attorney for Marion County. 0.7098062038421631\n",
      "Title: Charles L. McNary --- Sentence: 'The brothers practiced law together in Salem as McNary & McNary, while John also served as deputy district attorney for Marion County.' --- Label: {}\n"
     ]
    },
    {
     "name": "stderr",
     "output_type": "stream",
     "text": [
      "100%|█████████████████████████████████████████████████████████████████████████████████████████████████| 1/1 [00:00<00:00,  1.11it/s]\n",
      "100%|█████████████████████████████████████████████████████████████████████████████████████████████████| 1/1 [00:00<00:00,  1.02it/s]\n",
      "100%|█████████████████████████████████████████████████████████████████████████████████████████████████| 1/1 [00:00<00:00,  1.29it/s]\n",
      "100%|█████████████████████████████████████████████████████████████████████████████████████████████████| 1/1 [00:01<00:00,  1.00s/it]\n"
     ]
    },
    {
     "name": "stdout",
     "output_type": "stream",
     "text": [
      "Similarity:  While still partnered with his brother, McNary began teaching property law at Willamette University College of Law in the spring of 1899 and courting Jessie Breyman. 0.6299467086791992\n",
      "Similarity:  While still partnered with his brother, McNary began teaching property law at Willamette University College of Law in the spring of 1899 and courting Jessie Breyman. 0.6647608280181885\n",
      "Similarity:  While still partnered with his brother, McNary began teaching property law at Willamette University College of Law in the spring of 1899 and courting Jessie Breyman. 0.6479626297950745\n",
      "Title: Charles L. McNary --- Sentence: 'While still partnered with his brother, McNary began teaching property law at Willamette University College of Law in the spring of 1899 and courting Jessie Breyman.' --- Label: {}\n"
     ]
    },
    {
     "name": "stderr",
     "output_type": "stream",
     "text": [
      "100%|█████████████████████████████████████████████████████████████████████████████████████████████████| 1/1 [00:00<00:00,  1.18it/s]\n",
      "100%|█████████████████████████████████████████████████████████████████████████████████████████████████| 1/1 [00:01<00:00,  1.81s/it]\n",
      "100%|█████████████████████████████████████████████████████████████████████████████████████████████████| 1/1 [00:00<00:00,  1.20it/s]\n",
      "100%|█████████████████████████████████████████████████████████████████████████████████████████████████| 1/1 [00:00<00:00,  1.79it/s]\n",
      "100%|█████████████████████████████████████████████████████████████████████████████████████████████████| 1/1 [00:00<00:00,  1.46it/s]\n",
      "100%|█████████████████████████████████████████████████████████████████████████████████████████████████| 1/1 [00:00<00:00,  1.62it/s]\n"
     ]
    },
    {
     "name": "stdout",
     "output_type": "stream",
     "text": [
      "Similarity:  McNary spent several days in Oregon for her funeral and then returned to Washington. 0.6205076575279236\n",
      "Similarity:  McNary spent several days in Oregon for her funeral and then returned to Washington. 0.6102386713027954\n",
      "Similarity:  McNary spent several days in Oregon for her funeral and then returned to Washington. 0.6013545393943787\n",
      "Title: Charles L. McNary --- Sentence: 'McNary spent several days in Oregon for her funeral and then returned to Washington.' --- Label: {}\n"
     ]
    },
    {
     "name": "stderr",
     "output_type": "stream",
     "text": [
      "100%|█████████████████████████████████████████████████████████████████████████████████████████████████| 1/1 [00:00<00:00,  1.98it/s]\n",
      "100%|█████████████████████████████████████████████████████████████████████████████████████████████████| 1/1 [00:00<00:00,  2.07it/s]\n"
     ]
    },
    {
     "name": "stdout",
     "output_type": "stream",
     "text": [
      "Similarity:  McNary first held public office in 1892 when he became Marion County's deputy recorder, remaining in the position until 1896. 0.7108584046363831\n",
      "Similarity:  McNary first held public office in 1892 when he became Marion County's deputy recorder, remaining in the position until 1896. 0.6073455810546875\n",
      "Similarity:  McNary first held public office in 1892 when he became Marion County's deputy recorder, remaining in the position until 1896. 0.669162392616272\n",
      "Title: Charles L. McNary --- Sentence: 'McNary first held public office in 1892 when he became Marion County's deputy recorder, remaining in the position until 1896.' --- Label: {}\n"
     ]
    },
    {
     "name": "stderr",
     "output_type": "stream",
     "text": [
      "100%|█████████████████████████████████████████████████████████████████████████████████████████████████| 1/1 [00:00<00:00,  1.99it/s]\n",
      "100%|█████████████████████████████████████████████████████████████████████████████████████████████████| 1/1 [00:00<00:00,  1.83it/s]\n",
      "100%|█████████████████████████████████████████████████████████████████████████████████████████████████| 1/1 [00:00<00:00,  1.01it/s]\n"
     ]
    },
    {
     "name": "stdout",
     "output_type": "stream",
     "text": [
      "Similarity:  Steve Neal, McNary's biographer, describes McNary as a progressive who stuck with the Republican Party in 1910 even when many progressives left the party in favor of West, a Democrat. 0.6991434097290039\n",
      "Similarity:  Steve Neal, McNary's biographer, describes McNary as a progressive who stuck with the Republican Party in 1910 even when many progressives left the party in favor of West, a Democrat. 0.6714270114898682\n",
      "Similarity:  Steve Neal, McNary's biographer, describes McNary as a progressive who stuck with the Republican Party in 1910 even when many progressives left the party in favor of West, a Democrat. 0.6523452997207642\n",
      "Title: Charles L. McNary --- Sentence: 'Steve Neal, McNary's biographer, describes McNary as a progressive who stuck with the Republican Party in 1910 even when many progressives left the party in favor of West, a Democrat.' --- Label: {}\n"
     ]
    },
    {
     "name": "stderr",
     "output_type": "stream",
     "text": [
      "100%|█████████████████████████████████████████████████████████████████████████████████████████████████| 1/1 [00:01<00:00,  1.07s/it]\n"
     ]
    },
    {
     "name": "stdout",
     "output_type": "stream",
     "text": [
      "Similarity:  McNary backed the Progressive Era reforms (the initiative, recall, referendum, primary elections, and the direct election of US senators) of Oregonian William Simon U'Ren, and he was an early supporter of public, rather than private, power companies. 0.6073738932609558\n",
      "Similarity:  McNary backed the Progressive Era reforms (the initiative, recall, referendum, primary elections, and the direct election of US senators) of Oregonian William Simon U'Ren, and he was an early supporter of public, rather than private, power companies. 0.5969953536987305\n",
      "Similarity:  McNary backed the Progressive Era reforms (the initiative, recall, referendum, primary elections, and the direct election of US senators) of Oregonian William Simon U'Ren, and he was an early supporter of public, rather than private, power companies. 0.5809977650642395\n",
      "Title: Charles L. McNary --- Sentence: 'McNary backed the Progressive Era reforms (the initiative, recall, referendum, primary elections, and the direct election of US senators) of Oregonian William Simon U'Ren, and he was an early supporter of public, rather than private, power companies.' --- Label: {}\n"
     ]
    },
    {
     "name": "stderr",
     "output_type": "stream",
     "text": [
      "100%|█████████████████████████████████████████████████████████████████████████████████████████████████| 1/1 [00:01<00:00,  1.22s/it]\n"
     ]
    },
    {
     "name": "stdout",
     "output_type": "stream",
     "text": [
      "Similarity:  After West won the election, he chose McNary to be special legal counsel to Oregon's railroad commission, who urged lower passenger and freight rates.Neal, McNary of Oregon, p. 0.5827345848083496\n",
      "Similarity:  After West won the election, he chose McNary to be special legal counsel to Oregon's railroad commission, who urged lower passenger and freight rates.Neal, McNary of Oregon, p. 0.5543831586837769\n",
      "Similarity:  After West won the election, he chose McNary to be special legal counsel to Oregon's railroad commission, who urged lower passenger and freight rates.Neal, McNary of Oregon, p. 0.5280864238739014\n",
      "Title: Charles L. McNary --- Sentence: 'After West won the election, he chose McNary to be special legal counsel to Oregon's railroad commission, who urged lower passenger and freight rates.Neal, McNary of Oregon, p.' --- Label: {}\n"
     ]
    },
    {
     "name": "stderr",
     "output_type": "stream",
     "text": [
      "100%|█████████████████████████████████████████████████████████████████████████████████████████████████| 1/1 [00:01<00:00,  1.35s/it]\n"
     ]
    },
    {
     "name": "stdout",
     "output_type": "stream",
     "text": [
      "Similarity:  Meanwhile, McNary maintained friendly relations with both progressive and conservative factions of the Oregon Republicans and with West. 0.5976932048797607\n",
      "Similarity:  Meanwhile, McNary maintained friendly relations with both progressive and conservative factions of the Oregon Republicans and with West. 0.5661081671714783\n",
      "Similarity:  Meanwhile, McNary maintained friendly relations with both progressive and conservative factions of the Oregon Republicans and with West. 0.547766923904419\n",
      "Title: Charles L. McNary --- Sentence: 'Meanwhile, McNary maintained friendly relations with both progressive and conservative factions of the Oregon Republicans and with West.' --- Label: {}\n"
     ]
    },
    {
     "name": "stderr",
     "output_type": "stream",
     "text": [
      "100%|█████████████████████████████████████████████████████████████████████████████████████████████████| 1/1 [00:01<00:00,  1.24s/it]\n"
     ]
    },
    {
     "name": "stdout",
     "output_type": "stream",
     "text": [
      "Similarity:  In 1913, West appointed McNary to the Oregon Supreme Court to fill a new position, created by the legislature's expansion of the court from five justices to seven.Neal, McNary of Oregon, p. 0.6971370577812195\n",
      "Similarity:  In 1913, West appointed McNary to the Oregon Supreme Court to fill a new position, created by the legislature's expansion of the court from five justices to seven.Neal, McNary of Oregon, p. 0.6112291216850281\n",
      "Similarity:  In 1913, West appointed McNary to the Oregon Supreme Court to fill a new position, created by the legislature's expansion of the court from five justices to seven.Neal, McNary of Oregon, p. 0.6251175403594971\n",
      "Title: Charles L. McNary --- Sentence: 'In 1913, West appointed McNary to the Oregon Supreme Court to fill a new position, created by the legislature's expansion of the court from five justices to seven.Neal, McNary of Oregon, p.' --- Label: {}\n"
     ]
    },
    {
     "name": "stderr",
     "output_type": "stream",
     "text": [
      "100%|█████████████████████████████████████████████████████████████████████████████████████████████████| 1/1 [00:01<00:00,  1.02s/it]\n"
     ]
    },
    {
     "name": "stdout",
     "output_type": "stream",
     "text": [
      "Similarity:  The youngest of the justices, at 38, McNary left law school and private practice behind.Neal, McNary of Oregon, pp. 17–24. 0.6624135971069336\n",
      "Similarity:  The youngest of the justices, at 38, McNary left law school and private practice behind.Neal, McNary of Oregon, pp. 17–24. 0.5792058110237122\n",
      "Similarity:  The youngest of the justices, at 38, McNary left law school and private practice behind.Neal, McNary of Oregon, pp. 17–24. 0.6144917607307434\n",
      "Title: Charles L. McNary --- Sentence: 'The youngest of the justices, at 38, McNary left law school and private practice behind.Neal, McNary of Oregon, pp. 17–24.' --- Label: {}\n"
     ]
    },
    {
     "name": "stderr",
     "output_type": "stream",
     "text": [
      "100%|█████████████████████████████████████████████████████████████████████████████████████████████████| 1/1 [00:01<00:00,  1.02s/it]\n"
     ]
    },
    {
     "name": "stdout",
     "output_type": "stream",
     "text": [
      "Similarity:  He quickly \"established himself as a judicial activist and strong advocate of progressive reform.\"Neal, McNary of Oregon, p. 0.48855483531951904\n",
      "Similarity:  He quickly \"established himself as a judicial activist and strong advocate of progressive reform.\"Neal, McNary of Oregon, p. 0.5213881731033325\n",
      "Similarity:  He quickly \"established himself as a judicial activist and strong advocate of progressive reform.\"Neal, McNary of Oregon, p. 0.4030506908893585\n",
      "Title: Charles L. McNary --- Sentence: 'He quickly \"established himself as a judicial activist and strong advocate of progressive reform.\"Neal, McNary of Oregon, p.' --- Label: {}\n"
     ]
    },
    {
     "name": "stderr",
     "output_type": "stream",
     "text": [
      "100%|█████████████████████████████████████████████████████████████████████████████████████████████████| 1/1 [00:01<00:00,  1.32s/it]\n"
     ]
    },
    {
     "name": "stdout",
     "output_type": "stream",
     "text": [
      "Similarity:  A supporter of organized labor, McNary \"consistently defended the rights of injured workers and was not hesitant about using the bench as an instrument for social change\"Neal, McNary of Oregon, p. 0.5604987144470215\n",
      "Similarity:  A supporter of organized labor, McNary \"consistently defended the rights of injured workers and was not hesitant about using the bench as an instrument for social change\"Neal, McNary of Oregon, p. 0.548857569694519\n",
      "Similarity:  A supporter of organized labor, McNary \"consistently defended the rights of injured workers and was not hesitant about using the bench as an instrument for social change\"Neal, McNary of Oregon, p. 0.4903813898563385\n",
      "Title: Charles L. McNary --- Sentence: 'A supporter of organized labor, McNary \"consistently defended the rights of injured workers and was not hesitant about using the bench as an instrument for social change\"Neal, McNary of Oregon, p.' --- Label: {}\n"
     ]
    },
    {
     "name": "stderr",
     "output_type": "stream",
     "text": [
      "100%|█████████████████████████████████████████████████████████████████████████████████████████████████| 1/1 [00:00<00:00,  1.21it/s]\n"
     ]
    },
    {
     "name": "stdout",
     "output_type": "stream",
     "text": [
      "Similarity:  Unions supported McNary throughout his political career. 0.7210531830787659\n",
      "Similarity:  Unions supported McNary throughout his political career. 0.7308112382888794\n",
      "Similarity:  Unions supported McNary throughout his political career. 0.6193366050720215\n",
      "Title: Charles L. McNary --- Sentence: 'Unions supported McNary throughout his political career.' --- Label: {}\n"
     ]
    },
    {
     "name": "stderr",
     "output_type": "stream",
     "text": [
      "100%|█████████████████████████████████████████████████████████████████████████████████████████████████| 1/1 [00:00<00:00,  1.00it/s]\n",
      "100%|█████████████████████████████████████████████████████████████████████████████████████████████████| 1/1 [00:00<00:00,  2.09it/s]\n"
     ]
    },
    {
     "name": "stdout",
     "output_type": "stream",
     "text": [
      "Similarity:  By the time McNary was seated, some convictions had been appealed to the court. 0.6276602745056152\n",
      "Similarity:  By the time McNary was seated, some convictions had been appealed to the court. 0.6207267642021179\n",
      "Similarity:  By the time McNary was seated, some convictions had been appealed to the court. 0.5523478984832764\n",
      "Title: Charles L. McNary --- Sentence: 'By the time McNary was seated, some convictions had been appealed to the court.' --- Label: {}\n"
     ]
    },
    {
     "name": "stderr",
     "output_type": "stream",
     "text": [
      "100%|█████████████████████████████████████████████████████████████████████████████████████████████████| 1/1 [00:00<00:00,  1.85it/s]\n",
      "100%|█████████████████████████████████████████████████████████████████████████████████████████████████| 1/1 [00:00<00:00,  1.68it/s]\n"
     ]
    },
    {
     "name": "stdout",
     "output_type": "stream",
     "text": [
      "Similarity:  In 1914, the court moved into the new Oregon Supreme Court Building, and McNary filed to run for a full six-year term on the bench. 0.6393108367919922\n",
      "Similarity:  In 1914, the court moved into the new Oregon Supreme Court Building, and McNary filed to run for a full six-year term on the bench. 0.5851896405220032\n",
      "Similarity:  In 1914, the court moved into the new Oregon Supreme Court Building, and McNary filed to run for a full six-year term on the bench. 0.6805320978164673\n",
      "Title: Charles L. McNary --- Sentence: 'In 1914, the court moved into the new Oregon Supreme Court Building, and McNary filed to run for a full six-year term on the bench.' --- Label: {}\n"
     ]
    },
    {
     "name": "stderr",
     "output_type": "stream",
     "text": [
      "100%|█████████████████████████████████████████████████████████████████████████████████████████████████| 1/1 [00:00<00:00,  1.34it/s]\n"
     ]
    },
    {
     "name": "stdout",
     "output_type": "stream",
     "text": [
      "Similarity:  At that time the office was partisan, and McNary lost the Republican primary, by a single vote, to Henry L. Benson, after several recounts and the discovery of uncounted ballots. 0.6610753536224365\n",
      "Similarity:  At that time the office was partisan, and McNary lost the Republican primary, by a single vote, to Henry L. Benson, after several recounts and the discovery of uncounted ballots. 0.728596568107605\n",
      "Similarity:  At that time the office was partisan, and McNary lost the Republican primary, by a single vote, to Henry L. Benson, after several recounts and the discovery of uncounted ballots. 0.6295466423034668\n",
      "Title: Charles L. McNary --- Sentence: 'At that time the office was partisan, and McNary lost the Republican primary, by a single vote, to Henry L. Benson, after several recounts and the discovery of uncounted ballots.' --- Label: {'Successor': (0, tensor([9.9434e-01, 5.6158e-03, 4.1176e-05], grad_fn=<SoftmaxBackward0>))}\n"
     ]
    },
    {
     "name": "stderr",
     "output_type": "stream",
     "text": [
      "100%|█████████████████████████████████████████████████████████████████████████████████████████████████| 1/1 [00:00<00:00,  1.83it/s]\n"
     ]
    },
    {
     "name": "stdout",
     "output_type": "stream",
     "text": [
      "Similarity:  After his defeat, he served the remainder of his partial term and left the court in 1915.Neal, McNary of Oregon, p. 0.6353763341903687\n",
      "Similarity:  After his defeat, he served the remainder of his partial term and left the court in 1915.Neal, McNary of Oregon, p. 0.5569525957107544\n",
      "Similarity:  After his defeat, he served the remainder of his partial term and left the court in 1915.Neal, McNary of Oregon, p. 0.5386197566986084\n",
      "Title: Charles L. McNary --- Sentence: 'After his defeat, he served the remainder of his partial term and left the court in 1915.Neal, McNary of Oregon, p.' --- Label: {}\n"
     ]
    },
    {
     "name": "stderr",
     "output_type": "stream",
     "text": [
      "100%|█████████████████████████████████████████████████████████████████████████████████████████████████| 1/1 [00:00<00:00,  1.15it/s]\n"
     ]
    },
    {
     "name": "stdout",
     "output_type": "stream",
     "text": [
      "Similarity:  On July 8, 1916, after a close, multiballot contest, with several contenders, the Republican State Committee elected McNary to be the chair.Neal, McNary of Oregon, p. 0.7194256782531738\n",
      "Similarity:  On July 8, 1916, after a close, multiballot contest, with several contenders, the Republican State Committee elected McNary to be the chair.Neal, McNary of Oregon, p. 0.587578535079956\n",
      "Similarity:  On July 8, 1916, after a close, multiballot contest, with several contenders, the Republican State Committee elected McNary to be the chair.Neal, McNary of Oregon, p. 0.654222846031189\n",
      "Title: Charles L. McNary --- Sentence: 'On July 8, 1916, after a close, multiballot contest, with several contenders, the Republican State Committee elected McNary to be the chair.Neal, McNary of Oregon, p.' --- Label: {'Reason for change': (0, tensor([0.8520, 0.1376, 0.0104], grad_fn=<SoftmaxBackward0>))}\n"
     ]
    },
    {
     "name": "stderr",
     "output_type": "stream",
     "text": [
      "100%|█████████████████████████████████████████████████████████████████████████████████████████████████| 1/1 [00:00<00:00,  1.93it/s]\n",
      "100%|█████████████████████████████████████████████████████████████████████████████████████████████████| 1/1 [00:01<00:00,  1.10s/it]\n"
     ]
    },
    {
     "name": "stdout",
     "output_type": "stream",
     "text": [
      "Similarity:  As chairman of the state's Republican Party, McNary campaigned to get the Republican presidential nominee, Charles Evans Hughes, elected in the 1916 presidential election.Neal, McNary of Oregon, pp. 29–38. 0.6488330364227295\n",
      "Similarity:  As chairman of the state's Republican Party, McNary campaigned to get the Republican presidential nominee, Charles Evans Hughes, elected in the 1916 presidential election.Neal, McNary of Oregon, pp. 29–38. 0.6489322185516357\n",
      "Similarity:  As chairman of the state's Republican Party, McNary campaigned to get the Republican presidential nominee, Charles Evans Hughes, elected in the 1916 presidential election.Neal, McNary of Oregon, pp. 29–38. 0.6602468490600586\n",
      "Title: Charles L. McNary --- Sentence: 'As chairman of the state's Republican Party, McNary campaigned to get the Republican presidential nominee, Charles Evans Hughes, elected in the 1916 presidential election.Neal, McNary of Oregon, pp. 29–38.' --- Label: {}\n"
     ]
    },
    {
     "name": "stderr",
     "output_type": "stream",
     "text": [
      "100%|█████████████████████████████████████████████████████████████████████████████████████████████████| 1/1 [00:00<00:00,  1.17it/s]\n",
      "100%|█████████████████████████████████████████████████████████████████████████████████████████████████| 1/1 [00:01<00:00,  1.01s/it]\n"
     ]
    },
    {
     "name": "stdout",
     "output_type": "stream",
     "text": [
      "Similarity:  When US Senator Harry Lane died in office, on May 23, 1917, it created an opportunity for McNary to redeem himself after his failed bid for election to the Oregon Supreme Court. 0.7548491954803467\n",
      "Similarity:  When US Senator Harry Lane died in office, on May 23, 1917, it created an opportunity for McNary to redeem himself after his failed bid for election to the Oregon Supreme Court. 0.6136907339096069\n",
      "Similarity:  When US Senator Harry Lane died in office, on May 23, 1917, it created an opportunity for McNary to redeem himself after his failed bid for election to the Oregon Supreme Court. 0.7210433483123779\n",
      "Title: Charles L. McNary --- Sentence: 'When US Senator Harry Lane died in office, on May 23, 1917, it created an opportunity for McNary to redeem himself after his failed bid for election to the Oregon Supreme Court.' --- Label: {}\n"
     ]
    },
    {
     "name": "stderr",
     "output_type": "stream",
     "text": [
      "100%|█████████████████████████████████████████████████████████████████████████████████████████████████| 1/1 [00:01<00:00,  1.01s/it]\n"
     ]
    },
    {
     "name": "stdout",
     "output_type": "stream",
     "text": [
      "Similarity:  McNary was among several possible successors considered by Oregon Governor James Withycombe. 0.6374098062515259\n",
      "Similarity:  McNary was among several possible successors considered by Oregon Governor James Withycombe. 0.6683835983276367\n",
      "Similarity:  McNary was among several possible successors considered by Oregon Governor James Withycombe. 0.6414075493812561\n",
      "Title: Charles L. McNary --- Sentence: 'McNary was among several possible successors considered by Oregon Governor James Withycombe.' --- Label: {}\n"
     ]
    },
    {
     "name": "stderr",
     "output_type": "stream",
     "text": [
      "100%|█████████████████████████████████████████████████████████████████████████████████████████████████| 1/1 [00:01<00:00,  1.82s/it]\n"
     ]
    },
    {
     "name": "stdout",
     "output_type": "stream",
     "text": [
      "Similarity:  The governor preferred someone who supported national women's suffrage and Prohibition, and he shared with McNary an interest in farming.Neal, McNary of Oregon, pp. 32–33 Furthermore, McNary supporters argued that both progressive and conservative factions of the Republican Party would accept McNary and that unity would give the party the best chance of retaining the Senate seat in the next election. 0.7168748378753662\n",
      "Similarity:  The governor preferred someone who supported national women's suffrage and Prohibition, and he shared with McNary an interest in farming.Neal, McNary of Oregon, pp. 32–33 Furthermore, McNary supporters argued that both progressive and conservative factions of the Republican Party would accept McNary and that unity would give the party the best chance of retaining the Senate seat in the next election. 0.6305903196334839\n",
      "Similarity:  The governor preferred someone who supported national women's suffrage and Prohibition, and he shared with McNary an interest in farming.Neal, McNary of Oregon, pp. 32–33 Furthermore, McNary supporters argued that both progressive and conservative factions of the Republican Party would accept McNary and that unity would give the party the best chance of retaining the Senate seat in the next election. 0.5951945781707764\n",
      "Title: Charles L. McNary --- Sentence: 'The governor preferred someone who supported national women's suffrage and Prohibition, and he shared with McNary an interest in farming.Neal, McNary of Oregon, pp. 32–33 Furthermore, McNary supporters argued that both progressive and conservative factions of the Republican Party would accept McNary and that unity would give the party the best chance of retaining the Senate seat in the next election.' --- Label: {}\n"
     ]
    },
    {
     "name": "stderr",
     "output_type": "stream",
     "text": [
      "100%|█████████████████████████████████████████████████████████████████████████████████████████████████| 1/1 [00:00<00:00,  1.19it/s]\n"
     ]
    },
    {
     "name": "stdout",
     "output_type": "stream",
     "text": [
      "Similarity:  Withycombe appointed McNary to the unexpired term on May 29. 0.764081597328186\n",
      "Similarity:  Withycombe appointed McNary to the unexpired term on May 29. 0.7185523509979248\n",
      "Similarity:  Withycombe appointed McNary to the unexpired term on May 29. 0.698437511920929\n",
      "Title: Charles L. McNary --- Sentence: 'Withycombe appointed McNary to the unexpired term on May 29.' --- Label: {}\n"
     ]
    },
    {
     "name": "stderr",
     "output_type": "stream",
     "text": [
      "100%|█████████████████████████████████████████████████████████████████████████████████████████████████| 1/1 [00:00<00:00,  1.11it/s]\n"
     ]
    },
    {
     "name": "stdout",
     "output_type": "stream",
     "text": [
      "Similarity:  After resigning as state party chairman, McNary prepared to campaign for a full term in the Senate. 0.7377424240112305\n",
      "Similarity:  After resigning as state party chairman, McNary prepared to campaign for a full term in the Senate. 0.7455041408538818\n",
      "Similarity:  After resigning as state party chairman, McNary prepared to campaign for a full term in the Senate. 0.6589474081993103\n",
      "Title: Charles L. McNary --- Sentence: 'After resigning as state party chairman, McNary prepared to campaign for a full term in the Senate.' --- Label: {}\n"
     ]
    },
    {
     "name": "stderr",
     "output_type": "stream",
     "text": [
      "100%|█████████████████████████████████████████████████████████████████████████████████████████████████| 1/1 [00:01<00:00,  1.34s/it]\n"
     ]
    },
    {
     "name": "stdout",
     "output_type": "stream",
     "text": [
      "Similarity:  He faced Speaker of the Oregon House of Representatives Robert N. Stanfield in the May 1918 Republican primary.Neal, McNary of Oregon, pp. 39–50. 0.6909960508346558\n",
      "Similarity:  He faced Speaker of the Oregon House of Representatives Robert N. Stanfield in the May 1918 Republican primary.Neal, McNary of Oregon, pp. 39–50. 0.6418508291244507\n",
      "Similarity:  He faced Speaker of the Oregon House of Representatives Robert N. Stanfield in the May 1918 Republican primary.Neal, McNary of Oregon, pp. 39–50. 0.625578761100769\n",
      "Title: Charles L. McNary --- Sentence: 'He faced Speaker of the Oregon House of Representatives Robert N. Stanfield in the May 1918 Republican primary.Neal, McNary of Oregon, pp. 39–50.' --- Label: {}\n"
     ]
    },
    {
     "name": "stderr",
     "output_type": "stream",
     "text": [
      "100%|█████████████████████████████████████████████████████████████████████████████████████████████████| 1/1 [00:01<00:00,  1.31s/it]\n"
     ]
    },
    {
     "name": "stdout",
     "output_type": "stream",
     "text": [
      "Similarity:  McNary defeated Stanfield 52,546 to 30,999. 0.5627573728561401\n",
      "Similarity:  McNary defeated Stanfield 52,546 to 30,999. 0.5237743854522705\n",
      "Similarity:  McNary defeated Stanfield 52,546 to 30,999. 0.6121764779090881\n",
      "Title: Charles L. McNary --- Sentence: 'McNary defeated Stanfield 52,546 to 30,999.' --- Label: {}\n"
     ]
    },
    {
     "name": "stderr",
     "output_type": "stream",
     "text": [
      "100%|█████████████████████████████████████████████████████████████████████████████████████████████████| 1/1 [00:00<00:00,  1.26it/s]\n",
      "100%|█████████████████████████████████████████████████████████████████████████████████████████████████| 1/1 [00:00<00:00,  1.02it/s]\n"
     ]
    },
    {
     "name": "stdout",
     "output_type": "stream",
     "text": [
      "Similarity:  Meanwhile, Frederick W. Mulkey won the election to replace McNary and finished Lane's original term, which would end in January 1919, and Mulkey took office on November 6, 1918, replacing McNary in that seat. 0.7843533158302307\n",
      "Similarity:  Meanwhile, Frederick W. Mulkey won the election to replace McNary and finished Lane's original term, which would end in January 1919, and Mulkey took office on November 6, 1918, replacing McNary in that seat. 0.7100500464439392\n",
      "Similarity:  Meanwhile, Frederick W. Mulkey won the election to replace McNary and finished Lane's original term, which would end in January 1919, and Mulkey took office on November 6, 1918, replacing McNary in that seat. 0.7771275043487549\n",
      "Title: Charles L. McNary --- Sentence: 'Meanwhile, Frederick W. Mulkey won the election to replace McNary and finished Lane's original term, which would end in January 1919, and Mulkey took office on November 6, 1918, replacing McNary in that seat.' --- Label: {'Reason for change': (0, tensor([0.5951, 0.4035, 0.0014], grad_fn=<SoftmaxBackward0>)), 'Successor': (0, tensor([9.1516e-01, 8.4067e-02, 7.6827e-04], grad_fn=<SoftmaxBackward0>)), \"Date of successor's formal installation\": (0, tensor([9.9787e-01, 2.0276e-03, 9.9103e-05], grad_fn=<SoftmaxBackward0>))}\n"
     ]
    },
    {
     "name": "stderr",
     "output_type": "stream",
     "text": [
      "100%|█████████████████████████████████████████████████████████████████████████████████████████████████| 1/1 [00:00<00:00,  1.71it/s]\n"
     ]
    },
    {
     "name": "stdout",
     "output_type": "stream",
     "text": [
      "Similarity:  Shortly after taking office, Mulkey resigned the seat effective December 17, 1918, and McNary was then reappointed to the Senate on December 12, 1918, and took office on December 18, instead of taking office in January, when his term he was elected to would have started. 0.7810765504837036\n",
      "Similarity:  Shortly after taking office, Mulkey resigned the seat effective December 17, 1918, and McNary was then reappointed to the Senate on December 12, 1918, and took office on December 18, instead of taking office in January, when his term he was elected to would have started. 0.6105031371116638\n",
      "Similarity:  Shortly after taking office, Mulkey resigned the seat effective December 17, 1918, and McNary was then reappointed to the Senate on December 12, 1918, and took office on December 18, instead of taking office in January, when his term he was elected to would have started. 0.7265956401824951\n",
      "Title: Charles L. McNary --- Sentence: 'Shortly after taking office, Mulkey resigned the seat effective December 17, 1918, and McNary was then reappointed to the Senate on December 12, 1918, and took office on December 18, instead of taking office in January, when his term he was elected to would have started.' --- Label: {'Reason for change': (0, tensor([9.6068e-01, 3.9029e-02, 2.8818e-04], grad_fn=<SoftmaxBackward0>)), \"Date of successor's formal installation\": (0, tensor([9.6242e-01, 3.7431e-02, 1.5019e-04], grad_fn=<SoftmaxBackward0>))}\n"
     ]
    },
    {
     "name": "stderr",
     "output_type": "stream",
     "text": [
      "100%|█████████████████████████████████████████████████████████████████████████████████████████████████| 1/1 [00:00<00:00,  1.85it/s]\n"
     ]
    },
    {
     "name": "stdout",
     "output_type": "stream",
     "text": [
      "Similarity:  Mulkey resigned in order to give McNary a slight seniority edge over other new members of the Senate. 0.7280775308609009\n",
      "Similarity:  Mulkey resigned in order to give McNary a slight seniority edge over other new members of the Senate. 0.7397260069847107\n",
      "Similarity:  Mulkey resigned in order to give McNary a slight seniority edge over other new members of the Senate. 0.6767404079437256\n",
      "Title: Charles L. McNary --- Sentence: 'Mulkey resigned in order to give McNary a slight seniority edge over other new members of the Senate.' --- Label: {}\n"
     ]
    },
    {
     "name": "stderr",
     "output_type": "stream",
     "text": [
      "100%|█████████████████████████████████████████████████████████████████████████████████████████████████| 1/1 [00:01<00:00,  1.30s/it]\n"
     ]
    },
    {
     "name": "stdout",
     "output_type": "stream",
     "text": [
      "Similarity:  In 1920, former adversary Stanfield defeated incumbent Democrat George Earle Chamberlain for Oregon's other Senate seat, making McNary the state's senior senator.Neal, McNary of Oregon, p. 61–70. 0.6729182004928589\n",
      "Similarity:  In 1920, former adversary Stanfield defeated incumbent Democrat George Earle Chamberlain for Oregon's other Senate seat, making McNary the state's senior senator.Neal, McNary of Oregon, p. 61–70. 0.6056248545646667\n",
      "Similarity:  In 1920, former adversary Stanfield defeated incumbent Democrat George Earle Chamberlain for Oregon's other Senate seat, making McNary the state's senior senator.Neal, McNary of Oregon, p. 61–70. 0.6283836960792542\n",
      "Title: Charles L. McNary --- Sentence: 'In 1920, former adversary Stanfield defeated incumbent Democrat George Earle Chamberlain for Oregon's other Senate seat, making McNary the state's senior senator.Neal, McNary of Oregon, p. 61–70.' --- Label: {}\n"
     ]
    },
    {
     "name": "stderr",
     "output_type": "stream",
     "text": [
      "100%|█████████████████████████████████████████████████████████████████████████████████████████████████| 1/1 [00:00<00:00,  1.98it/s]\n"
     ]
    },
    {
     "name": "stdout",
     "output_type": "stream",
     "text": [
      "Similarity:  McNary won re-election four times, in 1924, 1930, 1936, and 1942, serving in Washington, D.C., until his death. 0.7917805910110474\n",
      "Similarity:  McNary won re-election four times, in 1924, 1930, 1936, and 1942, serving in Washington, D.C., until his death. 0.6488922834396362\n",
      "Similarity:  McNary won re-election four times, in 1924, 1930, 1936, and 1942, serving in Washington, D.C., until his death. 0.7704170346260071\n",
      "Title: Charles L. McNary --- Sentence: 'McNary won re-election four times, in 1924, 1930, 1936, and 1942, serving in Washington, D.C., until his death.' --- Label: {}\n"
     ]
    },
    {
     "name": "stderr",
     "output_type": "stream",
     "text": [
      "100%|█████████████████████████████████████████████████████████████████████████████████████████████████| 1/1 [00:00<00:00,  1.94it/s]\n",
      "100%|█████████████████████████████████████████████████████████████████████████████████████████████████| 1/1 [00:00<00:00,  1.07it/s]\n",
      "100%|█████████████████████████████████████████████████████████████████████████████████████████████████| 1/1 [00:01<00:00,  1.00s/it]\n"
     ]
    },
    {
     "name": "stdout",
     "output_type": "stream",
     "text": [
      "Similarity:  Because the treaty included provisions for establishing and joining the League of Nations, one of Wilson's Fourteen Points, Republicans opposed it.Neal, McNary of Oregon, pp. 50–59. 0.534392774105072\n",
      "Similarity:  Because the treaty included provisions for establishing and joining the League of Nations, one of Wilson's Fourteen Points, Republicans opposed it.Neal, McNary of Oregon, pp. 50–59. 0.5503718852996826\n",
      "Similarity:  Because the treaty included provisions for establishing and joining the League of Nations, one of Wilson's Fourteen Points, Republicans opposed it.Neal, McNary of Oregon, pp. 50–59. 0.5052052736282349\n",
      "Title: Charles L. McNary --- Sentence: 'Because the treaty included provisions for establishing and joining the League of Nations, one of Wilson's Fourteen Points, Republicans opposed it.Neal, McNary of Oregon, pp. 50–59.' --- Label: {}\n"
     ]
    },
    {
     "name": "stderr",
     "output_type": "stream",
     "text": [
      "100%|█████████████████████████████████████████████████████████████████████████████████████████████████| 1/1 [00:00<00:00,  1.45it/s]\n"
     ]
    },
    {
     "name": "stdout",
     "output_type": "stream",
     "text": [
      "Similarity:  Going against much of his party, McNary, part of a group of senators known as \"reservationists,\" proposed minor changes to support the United States entry into the League. 0.6613973379135132\n",
      "Similarity:  Going against much of his party, McNary, part of a group of senators known as \"reservationists,\" proposed minor changes to support the United States entry into the League. 0.6480152606964111\n",
      "Similarity:  Going against much of his party, McNary, part of a group of senators known as \"reservationists,\" proposed minor changes to support the United States entry into the League. 0.5778541564941406\n",
      "Title: Charles L. McNary --- Sentence: 'Going against much of his party, McNary, part of a group of senators known as \"reservationists,\" proposed minor changes to support the United States entry into the League.' --- Label: {}\n"
     ]
    },
    {
     "name": "stderr",
     "output_type": "stream",
     "text": [
      "100%|█████████████████████████████████████████████████████████████████████████████████████████████████| 1/1 [00:01<00:00,  1.20s/it]\n",
      "100%|█████████████████████████████████████████████████████████████████████████████████████████████████| 1/1 [00:01<00:00,  1.27s/it]\n",
      "100%|█████████████████████████████████████████████████████████████████████████████████████████████████| 1/1 [00:01<00:00,  1.01s/it]\n"
     ]
    },
    {
     "name": "stdout",
     "output_type": "stream",
     "text": [
      "Similarity:  After McNary demonstrated his skill in the debate over the League, Lodge took him under his wing, and the two formed a longtime friendship. 0.6030402779579163\n",
      "Similarity:  After McNary demonstrated his skill in the debate over the League, Lodge took him under his wing, and the two formed a longtime friendship. 0.6846176385879517\n",
      "Similarity:  After McNary demonstrated his skill in the debate over the League, Lodge took him under his wing, and the two formed a longtime friendship. 0.5802468061447144\n",
      "Title: Charles L. McNary --- Sentence: 'After McNary demonstrated his skill in the debate over the League, Lodge took him under his wing, and the two formed a longtime friendship.' --- Label: {}\n"
     ]
    },
    {
     "name": "stderr",
     "output_type": "stream",
     "text": [
      "100%|█████████████████████████████████████████████████████████████████████████████████████████████████| 1/1 [00:00<00:00,  1.04it/s]\n"
     ]
    },
    {
     "name": "stdout",
     "output_type": "stream",
     "text": [
      "Similarity:  The friendship helped McNary secure favorable committee assignments and ushered him into the inner power circle of the Senate. 0.6130810976028442\n",
      "Similarity:  The friendship helped McNary secure favorable committee assignments and ushered him into the inner power circle of the Senate. 0.6286906599998474\n",
      "Similarity:  The friendship helped McNary secure favorable committee assignments and ushered him into the inner power circle of the Senate. 0.5555245280265808\n",
      "Title: Charles L. McNary --- Sentence: 'The friendship helped McNary secure favorable committee assignments and ushered him into the inner power circle of the Senate.' --- Label: {}\n"
     ]
    },
    {
     "name": "stderr",
     "output_type": "stream",
     "text": [
      "100%|█████████████████████████████████████████████████████████████████████████████████████████████████| 1/1 [00:01<00:00,  1.15s/it]\n",
      "100%|█████████████████████████████████████████████████████████████████████████████████████████████████| 1/1 [00:01<00:00,  1.37s/it]\n"
     ]
    },
    {
     "name": "stdout",
     "output_type": "stream",
     "text": [
      "Similarity:  In 1922, President Warren G. Harding asked McNary to be the Secretary of the Interior to replace Albert B. Fall because of Fall's involvement in the ongoing Teapot Dome scandal. 0.7389364242553711\n",
      "Similarity:  In 1922, President Warren G. Harding asked McNary to be the Secretary of the Interior to replace Albert B. Fall because of Fall's involvement in the ongoing Teapot Dome scandal. 0.627288818359375\n",
      "Similarity:  In 1922, President Warren G. Harding asked McNary to be the Secretary of the Interior to replace Albert B. Fall because of Fall's involvement in the ongoing Teapot Dome scandal. 0.6911945939064026\n",
      "Title: Charles L. McNary --- Sentence: 'In 1922, President Warren G. Harding asked McNary to be the Secretary of the Interior to replace Albert B. Fall because of Fall's involvement in the ongoing Teapot Dome scandal.' --- Label: {}\n"
     ]
    },
    {
     "name": "stderr",
     "output_type": "stream",
     "text": [
      "100%|█████████████████████████████████████████████████████████████████████████████████████████████████| 1/1 [00:00<00:00,  1.65it/s]\n"
     ]
    },
    {
     "name": "stdout",
     "output_type": "stream",
     "text": [
      "Similarity:  McNary declined, preferring to stay in the Senate. 0.6429671049118042\n",
      "Similarity:  McNary declined, preferring to stay in the Senate. 0.5965191125869751\n",
      "Similarity:  McNary declined, preferring to stay in the Senate. 0.5512973070144653\n",
      "Title: Charles L. McNary --- Sentence: 'McNary declined, preferring to stay in the Senate.' --- Label: {}\n"
     ]
    },
    {
     "name": "stderr",
     "output_type": "stream",
     "text": [
      "100%|█████████████████████████████████████████████████████████████████████████████████████████████████| 1/1 [00:00<00:00,  1.85it/s]\n"
     ]
    },
    {
     "name": "stdout",
     "output_type": "stream",
     "text": [
      "Similarity:  thumb|right|upright| alt=A middle-aged man in a suit and tie stands on a sidewalk in front of a stone wall.|McNary as senator 0.3249669075012207\n",
      "Similarity:  thumb|right|upright| alt=A middle-aged man in a suit and tie stands on a sidewalk in front of a stone wall.|McNary as senator 0.2240695357322693\n",
      "Similarity:  thumb|right|upright| alt=A middle-aged man in a suit and tie stands on a sidewalk in front of a stone wall.|McNary as senator 0.2537955045700073\n",
      "Title: Charles L. McNary --- Sentence: 'thumb|right|upright| alt=A middle-aged man in a suit and tie stands on a sidewalk in front of a stone wall.|McNary as senator' --- Label: {}\n"
     ]
    },
    {
     "name": "stderr",
     "output_type": "stream",
     "text": [
      "100%|█████████████████████████████████████████████████████████████████████████████████████████████████| 1/1 [00:01<00:00,  1.00s/it]\n"
     ]
    },
    {
     "name": "stdout",
     "output_type": "stream",
     "text": [
      "Similarity:  In 1933, McNary was selected as the Senate Minority Leader by fellow Republicans, while the Senate was under Democratic control during the New Deal era. 0.782809853553772\n",
      "Similarity:  In 1933, McNary was selected as the Senate Minority Leader by fellow Republicans, while the Senate was under Democratic control during the New Deal era. 0.6824472546577454\n",
      "Similarity:  In 1933, McNary was selected as the Senate Minority Leader by fellow Republicans, while the Senate was under Democratic control during the New Deal era. 0.6786637902259827\n",
      "Title: Charles L. McNary --- Sentence: 'In 1933, McNary was selected as the Senate Minority Leader by fellow Republicans, while the Senate was under Democratic control during the New Deal era.' --- Label: {}\n"
     ]
    },
    {
     "name": "stderr",
     "output_type": "stream",
     "text": [
      "100%|█████████████████████████████████████████████████████████████████████████████████████████████████| 1/1 [00:00<00:00,  1.58it/s]\n",
      "100%|█████████████████████████████████████████████████████████████████████████████████████████████████| 1/1 [00:00<00:00,  1.66it/s]\n",
      "100%|█████████████████████████████████████████████████████████████████████████████████████████████████| 1/1 [00:00<00:00,  1.48it/s]\n",
      "100%|█████████████████████████████████████████████████████████████████████████████████████████████████| 1/1 [00:00<00:00,  1.15it/s]\n",
      "100%|█████████████████████████████████████████████████████████████████████████████████████████████████| 1/1 [00:01<00:00,  1.05s/it]\n"
     ]
    },
    {
     "name": "stdout",
     "output_type": "stream",
     "text": [
      "Similarity:  As early as the 1920s, McNary supported the development of federal hydroelectric power dams, and in 1933, he introduced legislation that led to the building of the Grand Coulee and Bonneville dams on the Columbia, as public works projects. 0.6775856018066406\n",
      "Similarity:  As early as the 1920s, McNary supported the development of federal hydroelectric power dams, and in 1933, he introduced legislation that led to the building of the Grand Coulee and Bonneville dams on the Columbia, as public works projects. 0.5295496582984924\n",
      "Similarity:  As early as the 1920s, McNary supported the development of federal hydroelectric power dams, and in 1933, he introduced legislation that led to the building of the Grand Coulee and Bonneville dams on the Columbia, as public works projects. 0.6305409669876099\n",
      "Title: Charles L. McNary --- Sentence: 'As early as the 1920s, McNary supported the development of federal hydroelectric power dams, and in 1933, he introduced legislation that led to the building of the Grand Coulee and Bonneville dams on the Columbia, as public works projects.' --- Label: {}\n"
     ]
    },
    {
     "name": "stderr",
     "output_type": "stream",
     "text": [
      "100%|█████████████████████████████████████████████████████████████████████████████████████████████████| 1/1 [00:00<00:00,  1.07it/s]\n",
      "100%|█████████████████████████████████████████████████████████████████████████████████████████████████| 1/1 [00:00<00:00,  1.04it/s]\n",
      "100%|█████████████████████████████████████████████████████████████████████████████████████████████████| 1/1 [00:00<00:00,  1.02it/s]\n",
      "100%|█████████████████████████████████████████████████████████████████████████████████████████████████| 1/1 [00:01<00:00,  1.47s/it]\n",
      "100%|█████████████████████████████████████████████████████████████████████████████████████████████████| 1/1 [00:00<00:00,  1.08it/s]\n"
     ]
    },
    {
     "name": "stdout",
     "output_type": "stream",
     "text": [
      "Similarity:  Writing for Life magazine shortly before the general election in 1940, Richard L. Neuberger said, \"Whether as Vice President of the U.S. Charley McNary can keep on endorsing Government-power projects, isolation, high tariffs and huge outlays for farm relief under a President who believes in none of these things remains to be seen.\" 0.6206313371658325\n",
      "Similarity:  Writing for Life magazine shortly before the general election in 1940, Richard L. Neuberger said, \"Whether as Vice President of the U.S. Charley McNary can keep on endorsing Government-power projects, isolation, high tariffs and huge outlays for farm relief under a President who believes in none of these things remains to be seen.\" 0.6301195025444031\n",
      "Similarity:  Writing for Life magazine shortly before the general election in 1940, Richard L. Neuberger said, \"Whether as Vice President of the U.S. Charley McNary can keep on endorsing Government-power projects, isolation, high tariffs and huge outlays for farm relief under a President who believes in none of these things remains to be seen.\" 0.6177374124526978\n",
      "Title: Charles L. McNary --- Sentence: 'Writing for Life magazine shortly before the general election in 1940, Richard L. Neuberger said, \"Whether as Vice President of the U.S. Charley McNary can keep on endorsing Government-power projects, isolation, high tariffs and huge outlays for farm relief under a President who believes in none of these things remains to be seen.\"' --- Label: {}\n"
     ]
    },
    {
     "name": "stderr",
     "output_type": "stream",
     "text": [
      "100%|█████████████████████████████████████████████████████████████████████████████████████████████████| 1/1 [00:00<00:00,  1.50it/s]\n"
     ]
    },
    {
     "name": "stdout",
     "output_type": "stream",
     "text": [
      "Similarity:  McNary's acceptance speech reiterated his support for the Tennessee Valley Authority, a federally owned power-producing corporation that Willkie, as \"the head of a far-flung [private] utilities empire,\" had opposed. 0.5414741039276123\n",
      "Similarity:  McNary's acceptance speech reiterated his support for the Tennessee Valley Authority, a federally owned power-producing corporation that Willkie, as \"the head of a far-flung [private] utilities empire,\" had opposed. 0.5519067645072937\n",
      "Similarity:  McNary's acceptance speech reiterated his support for the Tennessee Valley Authority, a federally owned power-producing corporation that Willkie, as \"the head of a far-flung [private] utilities empire,\" had opposed. 0.542285144329071\n",
      "Title: Charles L. McNary --- Sentence: 'McNary's acceptance speech reiterated his support for the Tennessee Valley Authority, a federally owned power-producing corporation that Willkie, as \"the head of a far-flung [private] utilities empire,\" had opposed.' --- Label: {}\n"
     ]
    },
    {
     "name": "stderr",
     "output_type": "stream",
     "text": [
      "100%|█████████████████████████████████████████████████████████████████████████████████████████████████| 1/1 [00:00<00:00,  1.65it/s]\n"
     ]
    },
    {
     "name": "stdout",
     "output_type": "stream",
     "text": [
      "Similarity:  During the campaign, McNary promoted farming issues and criticized foreign trade agreements, which, he said, had \"closed European markets to our grain, meat, fruits and fiber.\" 0.6058793663978577\n",
      "Similarity:  During the campaign, McNary promoted farming issues and criticized foreign trade agreements, which, he said, had \"closed European markets to our grain, meat, fruits and fiber.\" 0.5197681188583374\n",
      "Similarity:  During the campaign, McNary promoted farming issues and criticized foreign trade agreements, which, he said, had \"closed European markets to our grain, meat, fruits and fiber.\" 0.5247664451599121\n",
      "Title: Charles L. McNary --- Sentence: 'During the campaign, McNary promoted farming issues and criticized foreign trade agreements, which, he said, had \"closed European markets to our grain, meat, fruits and fiber.\"' --- Label: {}\n"
     ]
    },
    {
     "name": "stderr",
     "output_type": "stream",
     "text": [
      "100%|█████████████████████████████████████████████████████████████████████████████████████████████████| 1/1 [00:00<00:00,  1.72it/s]\n",
      "100%|█████████████████████████████████████████████████████████████████████████████████████████████████| 1/1 [00:00<00:00,  1.96it/s]\n"
     ]
    },
    {
     "name": "stdout",
     "output_type": "stream",
     "text": [
      "Similarity:  On December 29, 1923, McNary married for the second time, to Cornelia Woodburn Morton. 0.7642152309417725\n",
      "Similarity:  On December 29, 1923, McNary married for the second time, to Cornelia Woodburn Morton. 0.6259402632713318\n",
      "Similarity:  On December 29, 1923, McNary married for the second time, to Cornelia Woodburn Morton. 0.6913378238677979\n",
      "Title: Charles L. McNary --- Sentence: 'On December 29, 1923, McNary married for the second time, to Cornelia Woodburn Morton.' --- Label: {}\n"
     ]
    },
    {
     "name": "stderr",
     "output_type": "stream",
     "text": [
      "100%|█████████████████████████████████████████████████████████████████████████████████████████████████| 1/1 [00:01<00:00,  1.04s/it]\n"
     ]
    },
    {
     "name": "stdout",
     "output_type": "stream",
     "text": [
      "Similarity:  He met Morton at a dinner party during World War I, in her hometown of Washington, D.C.Neal, McNary of Oregon, pp. 85–88. 0.6173420548439026\n",
      "Similarity:  He met Morton at a dinner party during World War I, in her hometown of Washington, D.C.Neal, McNary of Oregon, pp. 85–88. 0.5892988443374634\n",
      "Similarity:  He met Morton at a dinner party during World War I, in her hometown of Washington, D.C.Neal, McNary of Oregon, pp. 85–88. 0.6358468532562256\n",
      "Title: Charles L. McNary --- Sentence: 'He met Morton at a dinner party during World War I, in her hometown of Washington, D.C.Neal, McNary of Oregon, pp. 85–88.' --- Label: {}\n"
     ]
    },
    {
     "name": "stderr",
     "output_type": "stream",
     "text": [
      "100%|█████████████████████████████████████████████████████████████████████████████████████████████████| 1/1 [00:00<00:00,  1.44it/s]\n",
      "100%|█████████████████████████████████████████████████████████████████████████████████████████████████| 1/1 [00:00<00:00,  1.74it/s]\n"
     ]
    },
    {
     "name": "stdout",
     "output_type": "stream",
     "text": [
      "Similarity:  His hair is dark, full, and wavy.|McNary in 1912. 0.3628644645214081\n",
      "Similarity:  His hair is dark, full, and wavy.|McNary in 1912. 0.2735835909843445\n",
      "Similarity:  His hair is dark, full, and wavy.|McNary in 1912. 0.3052108585834503\n",
      "Title: Charles L. McNary --- Sentence: 'His hair is dark, full, and wavy.|McNary in 1912.' --- Label: {}\n"
     ]
    },
    {
     "name": "stderr",
     "output_type": "stream",
     "text": [
      "100%|█████████████████████████████████████████████████████████████████████████████████████████████████| 1/1 [00:00<00:00,  2.09it/s]\n"
     ]
    },
    {
     "name": "stdout",
     "output_type": "stream",
     "text": [
      "Similarity:  In 1926, McNary built a new $6,000 ranch-style house, which he designed himself, along two creeks on his farm north of Salem. 0.6719225645065308\n",
      "Similarity:  In 1926, McNary built a new $6,000 ranch-style house, which he designed himself, along two creeks on his farm north of Salem. 0.6760416030883789\n",
      "Similarity:  In 1926, McNary built a new $6,000 ranch-style house, which he designed himself, along two creeks on his farm north of Salem. 0.7273985147476196\n",
      "Title: Charles L. McNary --- Sentence: 'In 1926, McNary built a new $6,000 ranch-style house, which he designed himself, along two creeks on his farm north of Salem.' --- Label: {}\n"
     ]
    },
    {
     "name": "stderr",
     "output_type": "stream",
     "text": [
      "100%|█████████████████████████████████████████████████████████████████████████████████████████████████| 1/1 [00:00<00:00,  1.50it/s]\n",
      "100%|█████████████████████████████████████████████████████████████████████████████████████████████████| 1/1 [00:01<00:00,  1.11s/it]\n",
      "100%|█████████████████████████████████████████████████████████████████████████████████████████████████| 1/1 [00:00<00:00,  1.15it/s]\n"
     ]
    },
    {
     "name": "stdout",
     "output_type": "stream",
     "text": [
      "Similarity:  The farm included  of nut and fruit orchards, through which McNary helped establish the filbert industry in Oregon and on which he developed the Imperial prune. 0.5294427275657654\n",
      "Similarity:  The farm included  of nut and fruit orchards, through which McNary helped establish the filbert industry in Oregon and on which he developed the Imperial prune. 0.4963601231575012\n",
      "Similarity:  The farm included  of nut and fruit orchards, through which McNary helped establish the filbert industry in Oregon and on which he developed the Imperial prune. 0.4819789528846741\n",
      "Title: Charles L. McNary --- Sentence: 'The farm included  of nut and fruit orchards, through which McNary helped establish the filbert industry in Oregon and on which he developed the Imperial prune.' --- Label: {}\n"
     ]
    },
    {
     "name": "stderr",
     "output_type": "stream",
     "text": [
      "100%|█████████████████████████████████████████████████████████████████████████████████████████████████| 1/1 [00:01<00:00,  1.27s/it]\n"
     ]
    },
    {
     "name": "stdout",
     "output_type": "stream",
     "text": [
      "Similarity:  After complaining of headaches and suffering slurred speech beginning in early 1943, McNary went to the Bethesda, Maryland, Naval Hospital on November 8, 1943, where doctors diagnosed a malignant brain tumor.Neal, McNary of Oregon, pp. 233–235. 0.7830364108085632\n",
      "Similarity:  After complaining of headaches and suffering slurred speech beginning in early 1943, McNary went to the Bethesda, Maryland, Naval Hospital on November 8, 1943, where doctors diagnosed a malignant brain tumor.Neal, McNary of Oregon, pp. 233–235. 0.6349620819091797\n",
      "Similarity:  After complaining of headaches and suffering slurred speech beginning in early 1943, McNary went to the Bethesda, Maryland, Naval Hospital on November 8, 1943, where doctors diagnosed a malignant brain tumor.Neal, McNary of Oregon, pp. 233–235. 0.651659369468689\n",
      "Title: Charles L. McNary --- Sentence: 'After complaining of headaches and suffering slurred speech beginning in early 1943, McNary went to the Bethesda, Maryland, Naval Hospital on November 8, 1943, where doctors diagnosed a malignant brain tumor.Neal, McNary of Oregon, pp. 233–235.' --- Label: {'Reason for change': (0, tensor([0.5980, 0.3987, 0.0033], grad_fn=<SoftmaxBackward0>))}\n"
     ]
    },
    {
     "name": "stderr",
     "output_type": "stream",
     "text": [
      "100%|█████████████████████████████████████████████████████████████████████████████████████████████████| 1/1 [00:00<00:00,  1.11it/s]\n"
     ]
    },
    {
     "name": "stdout",
     "output_type": "stream",
     "text": [
      "Similarity:  They removed it that week, and McNary was released from the hospital on December 2, but the cancer had already spread to other parts of his body. 0.67545485496521\n",
      "Similarity:  They removed it that week, and McNary was released from the hospital on December 2, but the cancer had already spread to other parts of his body. 0.653923511505127\n",
      "Similarity:  They removed it that week, and McNary was released from the hospital on December 2, but the cancer had already spread to other parts of his body. 0.6314975023269653\n",
      "Title: Charles L. McNary --- Sentence: 'They removed it that week, and McNary was released from the hospital on December 2, but the cancer had already spread to other parts of his body.' --- Label: {}\n"
     ]
    },
    {
     "name": "stderr",
     "output_type": "stream",
     "text": [
      "100%|█████████████████████████████████████████████████████████████████████████████████████████████████| 1/1 [00:00<00:00,  1.19it/s]\n",
      "100%|█████████████████████████████████████████████████████████████████████████████████████████████████| 1/1 [00:01<00:00,  1.02s/it]\n",
      "100%|█████████████████████████████████████████████████████████████████████████████████████████████████| 1/1 [00:00<00:00,  1.07it/s]\n"
     ]
    },
    {
     "name": "stdout",
     "output_type": "stream",
     "text": [
      "Similarity:  Charles L. McNary died in Fort Lauderdale. 0.7324174046516418\n",
      "Similarity:  Charles L. McNary died in Fort Lauderdale. 0.7983505725860596\n",
      "Similarity:  Charles L. McNary died in Fort Lauderdale. 0.7219008207321167\n",
      "Title: Charles L. McNary --- Sentence: 'Charles L. McNary died in Fort Lauderdale.' --- Label: {}\n"
     ]
    },
    {
     "name": "stderr",
     "output_type": "stream",
     "text": [
      "100%|█████████████████████████████████████████████████████████████████████████████████████████████████| 1/1 [00:01<00:00,  1.34s/it]\n",
      "100%|█████████████████████████████████████████████████████████████████████████████████████████████████| 1/1 [00:00<00:00,  1.70it/s]\n"
     ]
    },
    {
     "name": "stdout",
     "output_type": "stream",
     "text": [
      "Similarity:  At the time of his death, McNary held the record for longest-serving senator from Oregon — 9,726 days in office. 0.7396321892738342\n",
      "Similarity:  At the time of his death, McNary held the record for longest-serving senator from Oregon — 9,726 days in office. 0.7147052884101868\n",
      "Similarity:  At the time of his death, McNary held the record for longest-serving senator from Oregon — 9,726 days in office. 0.7271819114685059\n",
      "Title: Charles L. McNary --- Sentence: 'At the time of his death, McNary held the record for longest-serving senator from Oregon — 9,726 days in office.' --- Label: {}\n"
     ]
    },
    {
     "name": "stderr",
     "output_type": "stream",
     "text": [
      "100%|█████████████████████████████████████████████████████████████████████████████████████████████████| 1/1 [00:00<00:00,  1.64it/s]\n",
      "100%|█████████████████████████████████████████████████████████████████████████████████████████████████| 1/1 [00:00<00:00,  1.65it/s]\n"
     ]
    },
    {
     "name": "stdout",
     "output_type": "stream",
     "text": [
      "Similarity:  McNary's running mate, Willkie, died eight months later on October 8. 0.6382739543914795\n",
      "Similarity:  McNary's running mate, Willkie, died eight months later on October 8. 0.581272304058075\n",
      "Similarity:  McNary's running mate, Willkie, died eight months later on October 8. 0.6160767674446106\n",
      "Title: Charles L. McNary --- Sentence: 'McNary's running mate, Willkie, died eight months later on October 8.' --- Label: {}\n"
     ]
    },
    {
     "name": "stderr",
     "output_type": "stream",
     "text": [
      "100%|█████████████████████████████████████████████████████████████████████████████████████████████████| 1/1 [00:00<00:00,  1.45it/s]\n",
      "100%|█████████████████████████████████████████████████████████████████████████████████████████████████| 1/1 [00:00<00:00,  1.10it/s]\n"
     ]
    },
    {
     "name": "stdout",
     "output_type": "stream",
     "text": [
      "Similarity:  McNary Dam on the Columbia River between Oregon and Washington 0.5998704433441162\n",
      "Similarity:  McNary Dam on the Columbia River between Oregon and Washington 0.4767165780067444\n",
      "Similarity:  McNary Dam on the Columbia River between Oregon and Washington 0.5823918581008911\n",
      "Title: Charles L. McNary --- Sentence: 'McNary Dam on the Columbia River between Oregon and Washington' --- Label: {}\n"
     ]
    },
    {
     "name": "stderr",
     "output_type": "stream",
     "text": [
      "100%|█████████████████████████████████████████████████████████████████████████████████████████████████| 1/1 [00:00<00:00,  1.63it/s]\n"
     ]
    },
    {
     "name": "stdout",
     "output_type": "stream",
     "text": [
      "Similarity:  McNary Field, in Marion County, Oregon 0.608383297920227\n",
      "Similarity:  McNary Field, in Marion County, Oregon 0.5189939141273499\n",
      "Similarity:  McNary Field, in Marion County, Oregon 0.6329452991485596\n",
      "Title: Charles L. McNary --- Sentence: 'McNary Field, in Marion County, Oregon' --- Label: {}\n"
     ]
    },
    {
     "name": "stderr",
     "output_type": "stream",
     "text": [
      "100%|█████████████████████████████████████████████████████████████████████████████████████████████████| 1/1 [00:00<00:00,  1.61it/s]\n"
     ]
    },
    {
     "name": "stdout",
     "output_type": "stream",
     "text": [
      "Similarity:  McNary High School in Keizer, Oregon 0.6123589277267456\n",
      "Similarity:  McNary High School in Keizer, Oregon 0.5683779716491699\n",
      "Similarity:  McNary High School in Keizer, Oregon 0.6248983144760132\n",
      "Title: Charles L. McNary --- Sentence: 'McNary High School in Keizer, Oregon' --- Label: {}\n"
     ]
    },
    {
     "name": "stderr",
     "output_type": "stream",
     "text": [
      "100%|█████████████████████████████████████████████████████████████████████████████████████████████████| 1/1 [00:00<00:00,  1.93it/s]\n"
     ]
    },
    {
     "name": "stdout",
     "output_type": "stream",
     "text": [
      "Similarity:  McNary Residence Hall at Oregon State University 0.5536286234855652\n",
      "Similarity:  McNary Residence Hall at Oregon State University 0.5371577739715576\n",
      "Similarity:  McNary Residence Hall at Oregon State University 0.6120948791503906\n",
      "Title: Charles L. McNary --- Sentence: 'McNary Residence Hall at Oregon State University' --- Label: {}\n"
     ]
    },
    {
     "name": "stderr",
     "output_type": "stream",
     "text": [
      "100%|█████████████████████████████████████████████████████████████████████████████████████████████████| 1/1 [00:00<00:00,  1.48it/s]\n",
      "100%|█████████████████████████████████████████████████████████████████████████████████████████████████| 1/1 [00:00<00:00,  1.23it/s]\n",
      "100%|█████████████████████████████████████████████████████████████████████████████████████████████████| 1/1 [00:00<00:00,  1.28it/s]\n"
     ]
    },
    {
     "name": "stdout",
     "output_type": "stream",
     "text": [
      "Similarity:  Salem Online History: Charles McNary 0.7253785729408264\n",
      "Similarity:  Salem Online History: Charles McNary 0.8036401271820068\n",
      "Similarity:  Salem Online History: Charles McNary 0.7317240238189697\n",
      "Title: Charles L. McNary --- Sentence: 'Salem Online History: Charles McNary' --- Label: {}\n"
     ]
    },
    {
     "name": "stderr",
     "output_type": "stream",
     "text": [
      "100%|█████████████████████████████████████████████████████████████████████████████████████████████████| 1/1 [00:01<00:00,  1.26s/it]\n"
     ]
    },
    {
     "name": "stdout",
     "output_type": "stream",
     "text": [
      "Similarity:  Letter to McNary from President Hoover 0.7526333332061768\n",
      "Similarity:  Letter to McNary from President Hoover 0.7139519453048706\n",
      "Similarity:  Letter to McNary from President Hoover 0.7268616557121277\n",
      "Title: Charles L. McNary --- Sentence: 'Letter to McNary from President Hoover' --- Label: {'Successor': (0, tensor([0.5493, 0.4401, 0.0106], grad_fn=<SoftmaxBackward0>))}\n"
     ]
    },
    {
     "name": "stderr",
     "output_type": "stream",
     "text": [
      "100%|█████████████████████████████████████████████████████████████████████████████████████████████████| 1/1 [00:01<00:00,  1.15s/it]\n"
     ]
    },
    {
     "name": "stdout",
     "output_type": "stream",
     "text": [
      "Similarity:  Memorial services held in the House of representatives and Senate of the United States, together with remarks presented in eulogy of Charles Linza McNary, late a senator from Oregon. 0.672711968421936\n",
      "Similarity:  Memorial services held in the House of representatives and Senate of the United States, together with remarks presented in eulogy of Charles Linza McNary, late a senator from Oregon. 0.7396621704101562\n",
      "Similarity:  Memorial services held in the House of representatives and Senate of the United States, together with remarks presented in eulogy of Charles Linza McNary, late a senator from Oregon. 0.65125572681427\n",
      "Title: Charles L. McNary --- Sentence: 'Memorial services held in the House of representatives and Senate of the United States, together with remarks presented in eulogy of Charles Linza McNary, late a senator from Oregon.' --- Label: {}\n"
     ]
    },
    {
     "name": "stderr",
     "output_type": "stream",
     "text": [
      "100%|█████████████████████████████████████████████████████████████████████████████████████████████████| 1/1 [00:02<00:00,  2.24s/it]\n",
      "100%|█████████████████████████████████████████████████████████████████████████████████████████████████| 1/1 [00:02<00:00,  2.57s/it]\n"
     ]
    },
    {
     "name": "stdout",
     "output_type": "stream",
     "text": [
      "Similarity:  Historic images of Charles McNary from Salem Public Library 0.6663258075714111\n",
      "Similarity:  Historic images of Charles McNary from Salem Public Library 0.69697505235672\n",
      "Similarity:  Historic images of Charles McNary from Salem Public Library 0.7166104316711426\n",
      "Title: Charles L. McNary --- Sentence: 'Historic images of Charles McNary from Salem Public Library' --- Label: {}\n"
     ]
    },
    {
     "name": "stderr",
     "output_type": "stream",
     "text": [
      "100%|█████████████████████████████████████████████████████████████████████████████████████████████████| 1/1 [00:01<00:00,  1.03s/it]\n",
      "100%|█████████████████████████████████████████████████████████████████████████████████████████████████| 1/1 [00:00<00:00,  1.83it/s]\n",
      "100%|█████████████████████████████████████████████████████████████████████████████████████████████████| 1/1 [00:00<00:00,  1.99it/s]\n",
      "100%|█████████████████████████████████████████████████████████████████████████████████████████████████| 1/1 [00:00<00:00,  1.63it/s]\n",
      "100%|█████████████████████████████████████████████████████████████████████████████████████████████████| 1/1 [00:00<00:00,  1.85it/s]\n",
      "100%|█████████████████████████████████████████████████████████████████████████████████████████████████| 1/1 [00:00<00:00,  2.08it/s]\n",
      "100%|█████████████████████████████████████████████████████████████████████████████████████████████████| 1/1 [00:00<00:00,  1.66it/s]\n",
      "100%|█████████████████████████████████████████████████████████████████████████████████████████████████| 1/1 [00:00<00:00,  1.81it/s]\n",
      "100%|█████████████████████████████████████████████████████████████████████████████████████████████████| 1/1 [00:00<00:00,  1.65it/s]\n",
      "100%|█████████████████████████████████████████████████████████████████████████████████████████████████| 1/1 [00:00<00:00,  1.78it/s]\n",
      "100%|█████████████████████████████████████████████████████████████████████████████████████████████████| 1/1 [00:00<00:00,  1.58it/s]\n",
      "100%|█████████████████████████████████████████████████████████████████████████████████████████████████| 1/1 [00:00<00:00,  1.33it/s]\n",
      "100%|█████████████████████████████████████████████████████████████████████████████████████████████████| 1/1 [00:00<00:00,  1.45it/s]\n",
      "100%|█████████████████████████████████████████████████████████████████████████████████████████████████| 1/1 [00:00<00:00,  1.22it/s]\n",
      "100%|█████████████████████████████████████████████████████████████████████████████████████████████████| 1/1 [00:01<00:00,  1.28s/it]\n",
      "100%|█████████████████████████████████████████████████████████████████████████████████████████████████| 1/1 [00:00<00:00,  1.08it/s]\n",
      "100%|█████████████████████████████████████████████████████████████████████████████████████████████████| 1/1 [00:00<00:00,  1.33it/s]\n",
      "100%|█████████████████████████████████████████████████████████████████████████████████████████████████| 1/1 [00:00<00:00,  1.32it/s]\n",
      "100%|█████████████████████████████████████████████████████████████████████████████████████████████████| 1/1 [00:00<00:00,  1.26it/s]\n",
      "100%|█████████████████████████████████████████████████████████████████████████████████████████████████| 1/1 [00:00<00:00,  1.22it/s]\n",
      "100%|█████████████████████████████████████████████████████████████████████████████████████████████████| 1/1 [00:00<00:00,  1.21it/s]\n",
      "100%|█████████████████████████████████████████████████████████████████████████████████████████████████| 1/1 [00:00<00:00,  1.35it/s]\n"
     ]
    },
    {
     "name": "stdout",
     "output_type": "stream",
     "text": [
      "Similarity:  #redirect Alexander S. Smith 0.6218156814575195\n",
      "Similarity:  #redirect Alexander S. Smith 0.6032163500785828\n",
      "Similarity:  #redirect Alexander S. Smith 0.5230951309204102\n",
      "Title: Alexander Smith Smith --- Sentence: '#redirect Alexander S. Smith' --- Label: {}\n",
      "                 Vacator                                  Reason for change  \\\n",
      "0  Charles L. McNary (R)  Died November 22, 1943. Successor was appointe...   \n",
      "\n",
      "                Successor Date of successor's formal installation  \n",
      "0  H. Alexander Smith (R)                        December 7, 1944  \n",
      "False\n",
      "[7, 1, 'Arthur Walsh (D)', 'Charles L. McNary (R)']\n",
      "Charles L . McNary ( R\n",
      "Alexander Smith\n"
     ]
    },
    {
     "name": "stderr",
     "output_type": "stream",
     "text": [
      "100%|█████████████████████████████████████████████████████████████████████████████████████████████████| 1/1 [00:00<00:00,  1.78it/s]\n",
      "100%|█████████████████████████████████████████████████████████████████████████████████████████████████| 1/1 [00:00<00:00,  1.03it/s]\n"
     ]
    },
    {
     "name": "stdout",
     "output_type": "stream",
     "text": [
      "Similarity:  Charles Linza McNary (June 12, 1874February 25, 1944) was an American Republican politician from Oregon. 0.7758303284645081\n",
      "Similarity:  Charles Linza McNary (June 12, 1874February 25, 1944) was an American Republican politician from Oregon. 0.7512107491493225\n",
      "Similarity:  Charles Linza McNary (June 12, 1874February 25, 1944) was an American Republican politician from Oregon. 0.8218518495559692\n",
      "Title: Charles L. McNary --- Sentence: 'Charles Linza McNary (June 12, 1874February 25, 1944) was an American Republican politician from Oregon.' --- Label: {}\n"
     ]
    },
    {
     "name": "stderr",
     "output_type": "stream",
     "text": [
      "100%|█████████████████████████████████████████████████████████████████████████████████████████████████| 1/1 [00:00<00:00,  1.52it/s]\n",
      "100%|█████████████████████████████████████████████████████████████████████████████████████████████████| 1/1 [00:00<00:00,  1.07it/s]\n"
     ]
    },
    {
     "name": "stdout",
     "output_type": "stream",
     "text": [
      "Similarity:  In the Senate, McNary helped to pass legislation that led to the construction of Bonneville Dam on the Columbia River, and worked on agricultural and forestry issues. 0.6422708034515381\n",
      "Similarity:  In the Senate, McNary helped to pass legislation that led to the construction of Bonneville Dam on the Columbia River, and worked on agricultural and forestry issues. 0.5279567837715149\n",
      "Similarity:  In the Senate, McNary helped to pass legislation that led to the construction of Bonneville Dam on the Columbia River, and worked on agricultural and forestry issues. 0.5941460132598877\n",
      "Title: Charles L. McNary --- Sentence: 'In the Senate, McNary helped to pass legislation that led to the construction of Bonneville Dam on the Columbia River, and worked on agricultural and forestry issues.' --- Label: {}\n"
     ]
    },
    {
     "name": "stderr",
     "output_type": "stream",
     "text": [
      "100%|█████████████████████████████████████████████████████████████████████████████████████████████████| 1/1 [00:00<00:00,  1.87it/s]\n",
      "100%|█████████████████████████████████████████████████████████████████████████████████████████████████| 1/1 [00:00<00:00,  1.94it/s]\n",
      "100%|█████████████████████████████████████████████████████████████████████████████████████████████████| 1/1 [00:00<00:00,  1.80it/s]\n"
     ]
    },
    {
     "name": "stdout",
     "output_type": "stream",
     "text": [
      "Similarity:  McNary was the Republican vice presidential candidate in 1940, on the ticket with presidential candidate Wendell Willkie; both died in 1944, during what would have been their first term had they won. 0.6585096120834351\n",
      "Similarity:  McNary was the Republican vice presidential candidate in 1940, on the ticket with presidential candidate Wendell Willkie; both died in 1944, during what would have been their first term had they won. 0.5776921510696411\n",
      "Similarity:  McNary was the Republican vice presidential candidate in 1940, on the ticket with presidential candidate Wendell Willkie; both died in 1944, during what would have been their first term had they won. 0.703010082244873\n",
      "Title: Charles L. McNary --- Sentence: 'McNary was the Republican vice presidential candidate in 1940, on the ticket with presidential candidate Wendell Willkie; both died in 1944, during what would have been their first term had they won.' --- Label: {}\n"
     ]
    },
    {
     "name": "stderr",
     "output_type": "stream",
     "text": [
      "100%|█████████████████████████████████████████████████████████████████████████████████████████████████| 1/1 [00:00<00:00,  1.66it/s]\n",
      "100%|█████████████████████████████████████████████████████████████████████████████████████████████████| 1/1 [00:00<00:00,  1.16it/s]\n"
     ]
    },
    {
     "name": "stdout",
     "output_type": "stream",
     "text": [
      "Similarity:  McNary was a justice of the Oregon Supreme Court from 1913 to 1915 and was dean of Willamette University College of Law, in his hometown of Salem, from 1908 to 1913. 0.7192128896713257\n",
      "Similarity:  McNary was a justice of the Oregon Supreme Court from 1913 to 1915 and was dean of Willamette University College of Law, in his hometown of Salem, from 1908 to 1913. 0.6955955624580383\n",
      "Similarity:  McNary was a justice of the Oregon Supreme Court from 1913 to 1915 and was dean of Willamette University College of Law, in his hometown of Salem, from 1908 to 1913. 0.7366911172866821\n",
      "Title: Charles L. McNary --- Sentence: 'McNary was a justice of the Oregon Supreme Court from 1913 to 1915 and was dean of Willamette University College of Law, in his hometown of Salem, from 1908 to 1913.' --- Label: {}\n"
     ]
    },
    {
     "name": "stderr",
     "output_type": "stream",
     "text": [
      "100%|█████████████████████████████████████████████████████████████████████████████████████████████████| 1/1 [00:00<00:00,  1.21it/s]\n"
     ]
    },
    {
     "name": "stdout",
     "output_type": "stream",
     "text": [
      "Similarity:  Before that, he was a deputy district attorney under his brother, John Hugh McNary, who later became a federal judge for the District of Oregon. 0.7147048711776733\n",
      "Similarity:  Before that, he was a deputy district attorney under his brother, John Hugh McNary, who later became a federal judge for the District of Oregon. 0.7479261159896851\n",
      "Similarity:  Before that, he was a deputy district attorney under his brother, John Hugh McNary, who later became a federal judge for the District of Oregon. 0.6642471551895142\n",
      "Title: Charles L. McNary --- Sentence: 'Before that, he was a deputy district attorney under his brother, John Hugh McNary, who later became a federal judge for the District of Oregon.' --- Label: {}\n"
     ]
    },
    {
     "name": "stderr",
     "output_type": "stream",
     "text": [
      "100%|█████████████████████████████████████████████████████████████████████████████████████████████████| 1/1 [00:00<00:00,  1.22it/s]\n"
     ]
    },
    {
     "name": "stdout",
     "output_type": "stream",
     "text": [
      "Similarity:  McNary died in office after unsuccessful surgery on a brain tumor. 0.632224977016449\n",
      "Similarity:  McNary died in office after unsuccessful surgery on a brain tumor. 0.6005676984786987\n",
      "Similarity:  McNary died in office after unsuccessful surgery on a brain tumor. 0.5384058356285095\n",
      "Title: Charles L. McNary --- Sentence: 'McNary died in office after unsuccessful surgery on a brain tumor.' --- Label: {}\n"
     ]
    },
    {
     "name": "stderr",
     "output_type": "stream",
     "text": [
      "100%|█████████████████████████████████████████████████████████████████████████████████████████████████| 1/1 [00:00<00:00,  1.06it/s]\n",
      "100%|█████████████████████████████████████████████████████████████████████████████████████████████████| 1/1 [00:01<00:00,  1.22s/it]\n"
     ]
    },
    {
     "name": "stdout",
     "output_type": "stream",
     "text": [
      "Similarity:  McNary Dam, McNary Field, McNary High School, and McNary Country Club (on land he owned) in Oregon are named in his honor. 0.6764464378356934\n",
      "Similarity:  McNary Dam, McNary Field, McNary High School, and McNary Country Club (on land he owned) in Oregon are named in his honor. 0.679650604724884\n",
      "Similarity:  McNary Dam, McNary Field, McNary High School, and McNary Country Club (on land he owned) in Oregon are named in his honor. 0.662302553653717\n",
      "Title: Charles L. McNary --- Sentence: 'McNary Dam, McNary Field, McNary High School, and McNary Country Club (on land he owned) in Oregon are named in his honor.' --- Label: {}\n"
     ]
    },
    {
     "name": "stderr",
     "output_type": "stream",
     "text": [
      "100%|█████████████████████████████████████████████████████████████████████████████████████████████████| 1/1 [00:00<00:00,  1.29it/s]\n",
      "100%|█████████████████████████████████████████████████████████████████████████████████████████████████| 1/1 [00:00<00:00,  1.15it/s]\n"
     ]
    },
    {
     "name": "stdout",
     "output_type": "stream",
     "text": [
      "Similarity:  McNary was born on his maternal grandfather's family farm north of Salem on June 12, 1874. 0.6720101833343506\n",
      "Similarity:  McNary was born on his maternal grandfather's family farm north of Salem on June 12, 1874. 0.5543420910835266\n",
      "Similarity:  McNary was born on his maternal grandfather's family farm north of Salem on June 12, 1874. 0.6776785850524902\n",
      "Title: Charles L. McNary --- Sentence: 'McNary was born on his maternal grandfather's family farm north of Salem on June 12, 1874.' --- Label: {}\n"
     ]
    },
    {
     "name": "stderr",
     "output_type": "stream",
     "text": [
      "100%|█████████████████████████████████████████████████████████████████████████████████████████████████| 1/1 [00:02<00:00,  2.19s/it]\n"
     ]
    },
    {
     "name": "stdout",
     "output_type": "stream",
     "text": [
      "Similarity:  He was the ninth of ten children, and the third son, born to Hugh Linza McNary and Mary Margaret McNary (née Claggett).Steve Neal, McNary of Oregon: A Political Biography. 0.6423340439796448\n",
      "Similarity:  He was the ninth of ten children, and the third son, born to Hugh Linza McNary and Mary Margaret McNary (née Claggett).Steve Neal, McNary of Oregon: A Political Biography. 0.6866921186447144\n",
      "Similarity:  He was the ninth of ten children, and the third son, born to Hugh Linza McNary and Mary Margaret McNary (née Claggett).Steve Neal, McNary of Oregon: A Political Biography. 0.6109456419944763\n",
      "Title: Charles L. McNary --- Sentence: 'He was the ninth of ten children, and the third son, born to Hugh Linza McNary and Mary Margaret McNary (née Claggett).Steve Neal, McNary of Oregon: A Political Biography.' --- Label: {}\n"
     ]
    },
    {
     "name": "stderr",
     "output_type": "stream",
     "text": [
      "100%|█████████████████████████████████████████████████████████████████████████████████████████████████| 1/1 [00:01<00:00,  1.75s/it]\n",
      "100%|█████████████████████████████████████████████████████████████████████████████████████████████████| 1/1 [00:00<00:00,  2.06it/s]\n",
      "100%|█████████████████████████████████████████████████████████████████████████████████████████████████| 1/1 [00:00<00:00,  1.76it/s]\n"
     ]
    },
    {
     "name": "stdout",
     "output_type": "stream",
     "text": [
      "Similarity:  When the two married in 1860, Hugh McNary's father-in-law gave him a  farm in what is now the city of Keizer. 0.4231560528278351\n",
      "Similarity:  When the two married in 1860, Hugh McNary's father-in-law gave him a  farm in what is now the city of Keizer. 0.3815847933292389\n",
      "Similarity:  When the two married in 1860, Hugh McNary's father-in-law gave him a  farm in what is now the city of Keizer. 0.4329816699028015\n",
      "Title: Charles L. McNary --- Sentence: 'When the two married in 1860, Hugh McNary's father-in-law gave him a  farm in what is now the city of Keizer.' --- Label: {}\n"
     ]
    },
    {
     "name": "stderr",
     "output_type": "stream",
     "text": [
      "100%|█████████████████████████████████████████████████████████████████████████████████████████████████| 2/2 [00:02<00:00,  1.02s/it]\n"
     ]
    },
    {
     "name": "stdout",
     "output_type": "stream",
     "text": [
      "Similarity:  Charles McNary's paternal grandfather, James McNary, moved from Missouri to Clackamas County under the Provisional Government of Oregon in 1845, while James McNary's grandfather, Hugh McNary, was an Ulster Scots immigrant who settled in Kentucky. 0.7001619338989258\n",
      "Similarity:  Charles McNary's paternal grandfather, James McNary, moved from Missouri to Clackamas County under the Provisional Government of Oregon in 1845, while James McNary's grandfather, Hugh McNary, was an Ulster Scots immigrant who settled in Kentucky. 0.7280234098434448\n",
      "Similarity:  Charles McNary's paternal grandfather, James McNary, moved from Missouri to Clackamas County under the Provisional Government of Oregon in 1845, while James McNary's grandfather, Hugh McNary, was an Ulster Scots immigrant who settled in Kentucky. 0.715008556842804\n",
      "Title: Charles L. McNary --- Sentence: 'Charles McNary's paternal grandfather, James McNary, moved from Missouri to Clackamas County under the Provisional Government of Oregon in 1845, while James McNary's grandfather, Hugh McNary, was an Ulster Scots immigrant who settled in Kentucky.' --- Label: {}\n"
     ]
    },
    {
     "name": "stderr",
     "output_type": "stream",
     "text": [
      "100%|█████████████████████████████████████████████████████████████████████████████████████████████████| 1/1 [00:01<00:00,  1.35s/it]\n"
     ]
    },
    {
     "name": "stdout",
     "output_type": "stream",
     "text": [
      "Similarity:  Charles McNary's maternal grandparents, Charles Claggett (McNary's namesake) and Mary South Claggett (née Irvine), moved also from Missouri to the Oregon Territory in 1852. 0.6987707614898682\n",
      "Similarity:  Charles McNary's maternal grandparents, Charles Claggett (McNary's namesake) and Mary South Claggett (née Irvine), moved also from Missouri to the Oregon Territory in 1852. 0.7150152325630188\n",
      "Similarity:  Charles McNary's maternal grandparents, Charles Claggett (McNary's namesake) and Mary South Claggett (née Irvine), moved also from Missouri to the Oregon Territory in 1852. 0.6561711430549622\n",
      "Title: Charles L. McNary --- Sentence: 'Charles McNary's maternal grandparents, Charles Claggett (McNary's namesake) and Mary South Claggett (née Irvine), moved also from Missouri to the Oregon Territory in 1852.' --- Label: {}\n"
     ]
    },
    {
     "name": "stderr",
     "output_type": "stream",
     "text": [
      "100%|█████████████████████████████████████████████████████████████████████████████████████████████████| 2/2 [00:02<00:00,  1.02s/it]\n"
     ]
    },
    {
     "name": "stdout",
     "output_type": "stream",
     "text": [
      "Similarity:  McNary's maternal grandmother also descended from Ulster Scots immigrants from County Antrim and County Armagh, Ireland to Campbell County, Virginia, who originally migrated to Ulster from Aberdeenshire, Scotland. 0.6482729911804199\n",
      "Similarity:  McNary's maternal grandmother also descended from Ulster Scots immigrants from County Antrim and County Armagh, Ireland to Campbell County, Virginia, who originally migrated to Ulster from Aberdeenshire, Scotland. 0.6847264766693115\n",
      "Similarity:  McNary's maternal grandmother also descended from Ulster Scots immigrants from County Antrim and County Armagh, Ireland to Campbell County, Virginia, who originally migrated to Ulster from Aberdeenshire, Scotland. 0.6433330774307251\n",
      "Title: Charles L. McNary --- Sentence: 'McNary's maternal grandmother also descended from Ulster Scots immigrants from County Antrim and County Armagh, Ireland to Campbell County, Virginia, who originally migrated to Ulster from Aberdeenshire, Scotland.' --- Label: {}\n"
     ]
    },
    {
     "name": "stderr",
     "output_type": "stream",
     "text": [
      "100%|█████████████████████████████████████████████████████████████████████████████████████████████████| 1/1 [00:00<00:00,  1.81it/s]\n"
     ]
    },
    {
     "name": "stdout",
     "output_type": "stream",
     "text": [
      "Similarity:  McNary's father helped on the family farm, then taught school for a few years before returning to farming near Salem. 0.6139293909072876\n",
      "Similarity:  McNary's father helped on the family farm, then taught school for a few years before returning to farming near Salem. 0.5562947988510132\n",
      "Similarity:  McNary's father helped on the family farm, then taught school for a few years before returning to farming near Salem. 0.5863642692565918\n",
      "Title: Charles L. McNary --- Sentence: 'McNary's father helped on the family farm, then taught school for a few years before returning to farming near Salem.' --- Label: {}\n"
     ]
    },
    {
     "name": "stderr",
     "output_type": "stream",
     "text": [
      "100%|█████████████████████████████████████████████████████████████████████████████████████████████████| 1/1 [00:00<00:00,  1.82it/s]\n"
     ]
    },
    {
     "name": "stdout",
     "output_type": "stream",
     "text": [
      "Similarity:  When McNary's mother died in 1878, his father moved the family to Salem where he bought a general merchandise store after being unable to run the family farm because of declining health. 0.6972607970237732\n",
      "Similarity:  When McNary's mother died in 1878, his father moved the family to Salem where he bought a general merchandise store after being unable to run the family farm because of declining health. 0.6028456687927246\n",
      "Similarity:  When McNary's mother died in 1878, his father moved the family to Salem where he bought a general merchandise store after being unable to run the family farm because of declining health. 0.6800042390823364\n",
      "Title: Charles L. McNary --- Sentence: 'When McNary's mother died in 1878, his father moved the family to Salem where he bought a general merchandise store after being unable to run the family farm because of declining health.' --- Label: {}\n"
     ]
    },
    {
     "name": "stderr",
     "output_type": "stream",
     "text": [
      "100%|█████████████████████████████████████████████████████████████████████████████████████████████████| 1/1 [00:01<00:00,  1.39s/it]\n",
      "100%|█████████████████████████████████████████████████████████████████████████████████████████████████| 1/1 [00:00<00:00,  1.11it/s]\n"
     ]
    },
    {
     "name": "stdout",
     "output_type": "stream",
     "text": [
      "Similarity:  Hugh McNary died in 1883, making Charlie an orphan at the age of nine. 0.7917093634605408\n",
      "Similarity:  Hugh McNary died in 1883, making Charlie an orphan at the age of nine. 0.7121997475624084\n",
      "Similarity:  Hugh McNary died in 1883, making Charlie an orphan at the age of nine. 0.7380377054214478\n",
      "Title: Charles L. McNary --- Sentence: 'Hugh McNary died in 1883, making Charlie an orphan at the age of nine.' --- Label: {'Reason for change': (0, tensor([9.9569e-01, 4.1820e-03, 1.3189e-04], grad_fn=<SoftmaxBackward0>)), 'Successor': (0, tensor([9.5015e-01, 4.9597e-02, 2.4974e-04], grad_fn=<SoftmaxBackward0>)), \"Date of successor's formal installation\": (0, tensor([0.7300, 0.2686, 0.0014], grad_fn=<SoftmaxBackward0>))}\n"
     ]
    },
    {
     "name": "stderr",
     "output_type": "stream",
     "text": [
      "100%|█████████████████████████████████████████████████████████████████████████████████████████████████| 1/1 [00:01<00:00,  1.44s/it]\n"
     ]
    },
    {
     "name": "stdout",
     "output_type": "stream",
     "text": [
      "Similarity:  Nina McNary became the head of the household, while other siblings took jobs in order to provide for the family.Neal, McNary of Oregon, pp. 3–6. 0.5231816172599792\n",
      "Similarity:  Nina McNary became the head of the household, while other siblings took jobs in order to provide for the family.Neal, McNary of Oregon, pp. 3–6. 0.5646445751190186\n",
      "Similarity:  Nina McNary became the head of the household, while other siblings took jobs in order to provide for the family.Neal, McNary of Oregon, pp. 3–6. 0.5216230154037476\n",
      "Title: Charles L. McNary --- Sentence: 'Nina McNary became the head of the household, while other siblings took jobs in order to provide for the family.Neal, McNary of Oregon, pp. 3–6.' --- Label: {}\n"
     ]
    },
    {
     "name": "stderr",
     "output_type": "stream",
     "text": [
      "100%|█████████████████████████████████████████████████████████████████████████████████████████████████| 1/1 [00:00<00:00,  1.25it/s]\n",
      "100%|█████████████████████████████████████████████████████████████████████████████████████████████████| 1/1 [00:01<00:00,  1.01s/it]\n",
      "100%|█████████████████████████████████████████████████████████████████████████████████████████████████| 1/1 [00:00<00:00,  1.10it/s]\n"
     ]
    },
    {
     "name": "stdout",
     "output_type": "stream",
     "text": [
      "Similarity:  He later worked in the county recorder's office for his brother John Hugh McNary, who had been elected as county recorder in 1890, and for a short time attended the Capital Business College. 0.7195011377334595\n",
      "Similarity:  He later worked in the county recorder's office for his brother John Hugh McNary, who had been elected as county recorder in 1890, and for a short time attended the Capital Business College. 0.6994976997375488\n",
      "Similarity:  He later worked in the county recorder's office for his brother John Hugh McNary, who had been elected as county recorder in 1890, and for a short time attended the Capital Business College. 0.6689955592155457\n",
      "Title: Charles L. McNary --- Sentence: 'He later worked in the county recorder's office for his brother John Hugh McNary, who had been elected as county recorder in 1890, and for a short time attended the Capital Business College.' --- Label: {}\n"
     ]
    },
    {
     "name": "stderr",
     "output_type": "stream",
     "text": [
      "100%|█████████████████████████████████████████████████████████████████████████████████████████████████| 1/1 [00:01<00:00,  1.86s/it]\n",
      "100%|█████████████████████████████████████████████████████████████████████████████████████████████████| 1/1 [00:00<00:00,  1.31it/s]\n",
      "100%|█████████████████████████████████████████████████████████████████████████████████████████████████| 1/1 [00:00<00:00,  1.87it/s]\n",
      "100%|█████████████████████████████████████████████████████████████████████████████████████████████████| 1/1 [00:00<00:00,  1.68it/s]\n"
     ]
    },
    {
     "name": "stdout",
     "output_type": "stream",
     "text": [
      "Similarity:  In the autumn of 1896, McNary moved to California to attend Stanford, where he studied law, economics, science, and history while working as a waiter to pay for his housing. 0.7146673798561096\n",
      "Similarity:  In the autumn of 1896, McNary moved to California to attend Stanford, where he studied law, economics, science, and history while working as a waiter to pay for his housing. 0.6701325178146362\n",
      "Similarity:  In the autumn of 1896, McNary moved to California to attend Stanford, where he studied law, economics, science, and history while working as a waiter to pay for his housing. 0.7349945306777954\n",
      "Title: Charles L. McNary --- Sentence: 'In the autumn of 1896, McNary moved to California to attend Stanford, where he studied law, economics, science, and history while working as a waiter to pay for his housing.' --- Label: {}\n"
     ]
    },
    {
     "name": "stderr",
     "output_type": "stream",
     "text": [
      "100%|█████████████████████████████████████████████████████████████████████████████████████████████████| 1/1 [00:00<00:00,  1.04it/s]\n"
     ]
    },
    {
     "name": "stdout",
     "output_type": "stream",
     "text": [
      "Similarity:  He left Stanford and returned to Oregon in 1897 after his family asked him to come home.Neal, McNary of Oregon, pp. 9–13. 0.6630018353462219\n",
      "Similarity:  He left Stanford and returned to Oregon in 1897 after his family asked him to come home.Neal, McNary of Oregon, pp. 9–13. 0.5673590898513794\n",
      "Similarity:  He left Stanford and returned to Oregon in 1897 after his family asked him to come home.Neal, McNary of Oregon, pp. 9–13. 0.6349033117294312\n",
      "Title: Charles L. McNary --- Sentence: 'He left Stanford and returned to Oregon in 1897 after his family asked him to come home.Neal, McNary of Oregon, pp. 9–13.' --- Label: {}\n"
     ]
    },
    {
     "name": "stderr",
     "output_type": "stream",
     "text": [
      "100%|█████████████████████████████████████████████████████████████████████████████████████████████████| 1/1 [00:00<00:00,  1.64it/s]\n",
      "100%|█████████████████████████████████████████████████████████████████████████████████████████████████| 1/1 [00:00<00:00,  1.15it/s]\n"
     ]
    },
    {
     "name": "stdout",
     "output_type": "stream",
     "text": [
      "Similarity:  The brothers practiced law together in Salem as McNary & McNary, while John also served as deputy district attorney for Marion County. 0.7621421813964844\n",
      "Similarity:  The brothers practiced law together in Salem as McNary & McNary, while John also served as deputy district attorney for Marion County. 0.7493711709976196\n",
      "Similarity:  The brothers practiced law together in Salem as McNary & McNary, while John also served as deputy district attorney for Marion County. 0.7098062038421631\n",
      "Title: Charles L. McNary --- Sentence: 'The brothers practiced law together in Salem as McNary & McNary, while John also served as deputy district attorney for Marion County.' --- Label: {}\n"
     ]
    },
    {
     "name": "stderr",
     "output_type": "stream",
     "text": [
      "100%|█████████████████████████████████████████████████████████████████████████████████████████████████| 1/1 [00:00<00:00,  1.81it/s]\n",
      "100%|█████████████████████████████████████████████████████████████████████████████████████████████████| 1/1 [00:00<00:00,  1.66it/s]\n",
      "100%|█████████████████████████████████████████████████████████████████████████████████████████████████| 1/1 [00:00<00:00,  2.06it/s]\n",
      "100%|█████████████████████████████████████████████████████████████████████████████████████████████████| 1/1 [00:00<00:00,  1.14it/s]\n"
     ]
    },
    {
     "name": "stdout",
     "output_type": "stream",
     "text": [
      "Similarity:  While still partnered with his brother, McNary began teaching property law at Willamette University College of Law in the spring of 1899 and courting Jessie Breyman. 0.6299467086791992\n",
      "Similarity:  While still partnered with his brother, McNary began teaching property law at Willamette University College of Law in the spring of 1899 and courting Jessie Breyman. 0.6647608280181885\n",
      "Similarity:  While still partnered with his brother, McNary began teaching property law at Willamette University College of Law in the spring of 1899 and courting Jessie Breyman. 0.6479626297950745\n",
      "Title: Charles L. McNary --- Sentence: 'While still partnered with his brother, McNary began teaching property law at Willamette University College of Law in the spring of 1899 and courting Jessie Breyman.' --- Label: {}\n"
     ]
    },
    {
     "name": "stderr",
     "output_type": "stream",
     "text": [
      "100%|█████████████████████████████████████████████████████████████████████████████████████████████████| 1/1 [00:00<00:00,  1.10it/s]\n",
      "100%|█████████████████████████████████████████████████████████████████████████████████████████████████| 1/1 [00:00<00:00,  1.16it/s]\n",
      "100%|█████████████████████████████████████████████████████████████████████████████████████████████████| 1/1 [00:00<00:00,  1.03it/s]\n",
      "100%|█████████████████████████████████████████████████████████████████████████████████████████████████| 1/1 [00:00<00:00,  1.05it/s]\n",
      "100%|█████████████████████████████████████████████████████████████████████████████████████████████████| 1/1 [00:01<00:00,  1.24s/it]\n",
      "100%|█████████████████████████████████████████████████████████████████████████████████████████████████| 1/1 [00:01<00:00,  1.60s/it]\n"
     ]
    },
    {
     "name": "stdout",
     "output_type": "stream",
     "text": [
      "Similarity:  McNary spent several days in Oregon for her funeral and then returned to Washington. 0.6205076575279236\n",
      "Similarity:  McNary spent several days in Oregon for her funeral and then returned to Washington. 0.6102386713027954\n",
      "Similarity:  McNary spent several days in Oregon for her funeral and then returned to Washington. 0.6013545393943787\n",
      "Title: Charles L. McNary --- Sentence: 'McNary spent several days in Oregon for her funeral and then returned to Washington.' --- Label: {}\n"
     ]
    },
    {
     "name": "stderr",
     "output_type": "stream",
     "text": [
      "100%|█████████████████████████████████████████████████████████████████████████████████████████████████| 1/1 [00:01<00:00,  1.67s/it]\n",
      "100%|█████████████████████████████████████████████████████████████████████████████████████████████████| 1/1 [00:00<00:00,  1.44it/s]\n"
     ]
    },
    {
     "name": "stdout",
     "output_type": "stream",
     "text": [
      "Similarity:  McNary first held public office in 1892 when he became Marion County's deputy recorder, remaining in the position until 1896. 0.7108584046363831\n",
      "Similarity:  McNary first held public office in 1892 when he became Marion County's deputy recorder, remaining in the position until 1896. 0.6073455810546875\n",
      "Similarity:  McNary first held public office in 1892 when he became Marion County's deputy recorder, remaining in the position until 1896. 0.669162392616272\n",
      "Title: Charles L. McNary --- Sentence: 'McNary first held public office in 1892 when he became Marion County's deputy recorder, remaining in the position until 1896.' --- Label: {}\n"
     ]
    },
    {
     "name": "stderr",
     "output_type": "stream",
     "text": [
      "100%|█████████████████████████████████████████████████████████████████████████████████████████████████| 1/1 [00:00<00:00,  1.71it/s]\n",
      "100%|█████████████████████████████████████████████████████████████████████████████████████████████████| 1/1 [00:00<00:00,  1.92it/s]\n",
      "100%|█████████████████████████████████████████████████████████████████████████████████████████████████| 1/1 [00:00<00:00,  1.02it/s]\n"
     ]
    },
    {
     "name": "stdout",
     "output_type": "stream",
     "text": [
      "Similarity:  Steve Neal, McNary's biographer, describes McNary as a progressive who stuck with the Republican Party in 1910 even when many progressives left the party in favor of West, a Democrat. 0.6991434097290039\n",
      "Similarity:  Steve Neal, McNary's biographer, describes McNary as a progressive who stuck with the Republican Party in 1910 even when many progressives left the party in favor of West, a Democrat. 0.6714270114898682\n",
      "Similarity:  Steve Neal, McNary's biographer, describes McNary as a progressive who stuck with the Republican Party in 1910 even when many progressives left the party in favor of West, a Democrat. 0.6523452997207642\n",
      "Title: Charles L. McNary --- Sentence: 'Steve Neal, McNary's biographer, describes McNary as a progressive who stuck with the Republican Party in 1910 even when many progressives left the party in favor of West, a Democrat.' --- Label: {}\n"
     ]
    },
    {
     "name": "stderr",
     "output_type": "stream",
     "text": [
      "100%|█████████████████████████████████████████████████████████████████████████████████████████████████| 1/1 [00:01<00:00,  1.05s/it]\n"
     ]
    },
    {
     "name": "stdout",
     "output_type": "stream",
     "text": [
      "Similarity:  McNary backed the Progressive Era reforms (the initiative, recall, referendum, primary elections, and the direct election of US senators) of Oregonian William Simon U'Ren, and he was an early supporter of public, rather than private, power companies. 0.6073738932609558\n",
      "Similarity:  McNary backed the Progressive Era reforms (the initiative, recall, referendum, primary elections, and the direct election of US senators) of Oregonian William Simon U'Ren, and he was an early supporter of public, rather than private, power companies. 0.5969953536987305\n",
      "Similarity:  McNary backed the Progressive Era reforms (the initiative, recall, referendum, primary elections, and the direct election of US senators) of Oregonian William Simon U'Ren, and he was an early supporter of public, rather than private, power companies. 0.5809977650642395\n",
      "Title: Charles L. McNary --- Sentence: 'McNary backed the Progressive Era reforms (the initiative, recall, referendum, primary elections, and the direct election of US senators) of Oregonian William Simon U'Ren, and he was an early supporter of public, rather than private, power companies.' --- Label: {}\n"
     ]
    },
    {
     "name": "stderr",
     "output_type": "stream",
     "text": [
      "100%|█████████████████████████████████████████████████████████████████████████████████████████████████| 1/1 [00:00<00:00,  1.07it/s]\n"
     ]
    },
    {
     "name": "stdout",
     "output_type": "stream",
     "text": [
      "Similarity:  After West won the election, he chose McNary to be special legal counsel to Oregon's railroad commission, who urged lower passenger and freight rates.Neal, McNary of Oregon, p. 0.5827345848083496\n",
      "Similarity:  After West won the election, he chose McNary to be special legal counsel to Oregon's railroad commission, who urged lower passenger and freight rates.Neal, McNary of Oregon, p. 0.5543831586837769\n",
      "Similarity:  After West won the election, he chose McNary to be special legal counsel to Oregon's railroad commission, who urged lower passenger and freight rates.Neal, McNary of Oregon, p. 0.5280864238739014\n",
      "Title: Charles L. McNary --- Sentence: 'After West won the election, he chose McNary to be special legal counsel to Oregon's railroad commission, who urged lower passenger and freight rates.Neal, McNary of Oregon, p.' --- Label: {}\n"
     ]
    },
    {
     "name": "stderr",
     "output_type": "stream",
     "text": [
      "100%|█████████████████████████████████████████████████████████████████████████████████████████████████| 1/1 [00:00<00:00,  1.03it/s]\n"
     ]
    },
    {
     "name": "stdout",
     "output_type": "stream",
     "text": [
      "Similarity:  Meanwhile, McNary maintained friendly relations with both progressive and conservative factions of the Oregon Republicans and with West. 0.5976932048797607\n",
      "Similarity:  Meanwhile, McNary maintained friendly relations with both progressive and conservative factions of the Oregon Republicans and with West. 0.5661081671714783\n",
      "Similarity:  Meanwhile, McNary maintained friendly relations with both progressive and conservative factions of the Oregon Republicans and with West. 0.547766923904419\n",
      "Title: Charles L. McNary --- Sentence: 'Meanwhile, McNary maintained friendly relations with both progressive and conservative factions of the Oregon Republicans and with West.' --- Label: {}\n"
     ]
    },
    {
     "name": "stderr",
     "output_type": "stream",
     "text": [
      "100%|█████████████████████████████████████████████████████████████████████████████████████████████████| 1/1 [00:01<00:00,  1.28s/it]\n"
     ]
    },
    {
     "name": "stdout",
     "output_type": "stream",
     "text": [
      "Similarity:  In 1913, West appointed McNary to the Oregon Supreme Court to fill a new position, created by the legislature's expansion of the court from five justices to seven.Neal, McNary of Oregon, p. 0.6971370577812195\n",
      "Similarity:  In 1913, West appointed McNary to the Oregon Supreme Court to fill a new position, created by the legislature's expansion of the court from five justices to seven.Neal, McNary of Oregon, p. 0.6112291216850281\n",
      "Similarity:  In 1913, West appointed McNary to the Oregon Supreme Court to fill a new position, created by the legislature's expansion of the court from five justices to seven.Neal, McNary of Oregon, p. 0.6251175403594971\n",
      "Title: Charles L. McNary --- Sentence: 'In 1913, West appointed McNary to the Oregon Supreme Court to fill a new position, created by the legislature's expansion of the court from five justices to seven.Neal, McNary of Oregon, p.' --- Label: {}\n"
     ]
    },
    {
     "name": "stderr",
     "output_type": "stream",
     "text": [
      "100%|█████████████████████████████████████████████████████████████████████████████████████████████████| 1/1 [00:00<00:00,  1.07it/s]\n"
     ]
    },
    {
     "name": "stdout",
     "output_type": "stream",
     "text": [
      "Similarity:  The youngest of the justices, at 38, McNary left law school and private practice behind.Neal, McNary of Oregon, pp. 17–24. 0.6624135971069336\n",
      "Similarity:  The youngest of the justices, at 38, McNary left law school and private practice behind.Neal, McNary of Oregon, pp. 17–24. 0.5792058110237122\n",
      "Similarity:  The youngest of the justices, at 38, McNary left law school and private practice behind.Neal, McNary of Oregon, pp. 17–24. 0.6144917607307434\n",
      "Title: Charles L. McNary --- Sentence: 'The youngest of the justices, at 38, McNary left law school and private practice behind.Neal, McNary of Oregon, pp. 17–24.' --- Label: {}\n"
     ]
    },
    {
     "name": "stderr",
     "output_type": "stream",
     "text": [
      "100%|█████████████████████████████████████████████████████████████████████████████████████████████████| 1/1 [00:00<00:00,  1.07it/s]\n"
     ]
    },
    {
     "name": "stdout",
     "output_type": "stream",
     "text": [
      "Similarity:  He quickly \"established himself as a judicial activist and strong advocate of progressive reform.\"Neal, McNary of Oregon, p. 0.48855483531951904\n",
      "Similarity:  He quickly \"established himself as a judicial activist and strong advocate of progressive reform.\"Neal, McNary of Oregon, p. 0.5213881731033325\n",
      "Similarity:  He quickly \"established himself as a judicial activist and strong advocate of progressive reform.\"Neal, McNary of Oregon, p. 0.4030506908893585\n",
      "Title: Charles L. McNary --- Sentence: 'He quickly \"established himself as a judicial activist and strong advocate of progressive reform.\"Neal, McNary of Oregon, p.' --- Label: {}\n"
     ]
    },
    {
     "name": "stderr",
     "output_type": "stream",
     "text": [
      "100%|█████████████████████████████████████████████████████████████████████████████████████████████████| 1/1 [00:01<00:00,  1.76s/it]\n"
     ]
    },
    {
     "name": "stdout",
     "output_type": "stream",
     "text": [
      "Similarity:  A supporter of organized labor, McNary \"consistently defended the rights of injured workers and was not hesitant about using the bench as an instrument for social change\"Neal, McNary of Oregon, p. 0.5604987144470215\n",
      "Similarity:  A supporter of organized labor, McNary \"consistently defended the rights of injured workers and was not hesitant about using the bench as an instrument for social change\"Neal, McNary of Oregon, p. 0.548857569694519\n",
      "Similarity:  A supporter of organized labor, McNary \"consistently defended the rights of injured workers and was not hesitant about using the bench as an instrument for social change\"Neal, McNary of Oregon, p. 0.4903813898563385\n",
      "Title: Charles L. McNary --- Sentence: 'A supporter of organized labor, McNary \"consistently defended the rights of injured workers and was not hesitant about using the bench as an instrument for social change\"Neal, McNary of Oregon, p.' --- Label: {}\n"
     ]
    },
    {
     "name": "stderr",
     "output_type": "stream",
     "text": [
      "100%|█████████████████████████████████████████████████████████████████████████████████████████████████| 1/1 [00:00<00:00,  1.23it/s]\n"
     ]
    },
    {
     "name": "stdout",
     "output_type": "stream",
     "text": [
      "Similarity:  Unions supported McNary throughout his political career. 0.7210531830787659\n",
      "Similarity:  Unions supported McNary throughout his political career. 0.7308112382888794\n",
      "Similarity:  Unions supported McNary throughout his political career. 0.6193366050720215\n",
      "Title: Charles L. McNary --- Sentence: 'Unions supported McNary throughout his political career.' --- Label: {}\n"
     ]
    },
    {
     "name": "stderr",
     "output_type": "stream",
     "text": [
      "100%|█████████████████████████████████████████████████████████████████████████████████████████████████| 1/1 [00:00<00:00,  1.59it/s]\n",
      "100%|█████████████████████████████████████████████████████████████████████████████████████████████████| 1/1 [00:00<00:00,  2.03it/s]\n"
     ]
    },
    {
     "name": "stdout",
     "output_type": "stream",
     "text": [
      "Similarity:  By the time McNary was seated, some convictions had been appealed to the court. 0.6276602745056152\n",
      "Similarity:  By the time McNary was seated, some convictions had been appealed to the court. 0.6207267642021179\n",
      "Similarity:  By the time McNary was seated, some convictions had been appealed to the court. 0.5523478984832764\n",
      "Title: Charles L. McNary --- Sentence: 'By the time McNary was seated, some convictions had been appealed to the court.' --- Label: {}\n"
     ]
    },
    {
     "name": "stderr",
     "output_type": "stream",
     "text": [
      "100%|█████████████████████████████████████████████████████████████████████████████████████████████████| 1/1 [00:00<00:00,  1.80it/s]\n",
      "100%|█████████████████████████████████████████████████████████████████████████████████████████████████| 1/1 [00:00<00:00,  1.46it/s]\n"
     ]
    },
    {
     "name": "stdout",
     "output_type": "stream",
     "text": [
      "Similarity:  In 1914, the court moved into the new Oregon Supreme Court Building, and McNary filed to run for a full six-year term on the bench. 0.6393108367919922\n",
      "Similarity:  In 1914, the court moved into the new Oregon Supreme Court Building, and McNary filed to run for a full six-year term on the bench. 0.5851896405220032\n",
      "Similarity:  In 1914, the court moved into the new Oregon Supreme Court Building, and McNary filed to run for a full six-year term on the bench. 0.6805320978164673\n",
      "Title: Charles L. McNary --- Sentence: 'In 1914, the court moved into the new Oregon Supreme Court Building, and McNary filed to run for a full six-year term on the bench.' --- Label: {}\n"
     ]
    },
    {
     "name": "stderr",
     "output_type": "stream",
     "text": [
      "100%|█████████████████████████████████████████████████████████████████████████████████████████████████| 1/1 [00:00<00:00,  1.72it/s]\n"
     ]
    },
    {
     "name": "stdout",
     "output_type": "stream",
     "text": [
      "Similarity:  At that time the office was partisan, and McNary lost the Republican primary, by a single vote, to Henry L. Benson, after several recounts and the discovery of uncounted ballots. 0.6610753536224365\n",
      "Similarity:  At that time the office was partisan, and McNary lost the Republican primary, by a single vote, to Henry L. Benson, after several recounts and the discovery of uncounted ballots. 0.728596568107605\n",
      "Similarity:  At that time the office was partisan, and McNary lost the Republican primary, by a single vote, to Henry L. Benson, after several recounts and the discovery of uncounted ballots. 0.6295466423034668\n",
      "Title: Charles L. McNary --- Sentence: 'At that time the office was partisan, and McNary lost the Republican primary, by a single vote, to Henry L. Benson, after several recounts and the discovery of uncounted ballots.' --- Label: {'Successor': (0, tensor([9.9434e-01, 5.6158e-03, 4.1176e-05], grad_fn=<SoftmaxBackward0>))}\n"
     ]
    },
    {
     "name": "stderr",
     "output_type": "stream",
     "text": [
      "100%|█████████████████████████████████████████████████████████████████████████████████████████████████| 1/1 [00:00<00:00,  1.79it/s]\n"
     ]
    },
    {
     "name": "stdout",
     "output_type": "stream",
     "text": [
      "Similarity:  After his defeat, he served the remainder of his partial term and left the court in 1915.Neal, McNary of Oregon, p. 0.6353763341903687\n",
      "Similarity:  After his defeat, he served the remainder of his partial term and left the court in 1915.Neal, McNary of Oregon, p. 0.5569525957107544\n",
      "Similarity:  After his defeat, he served the remainder of his partial term and left the court in 1915.Neal, McNary of Oregon, p. 0.5386197566986084\n",
      "Title: Charles L. McNary --- Sentence: 'After his defeat, he served the remainder of his partial term and left the court in 1915.Neal, McNary of Oregon, p.' --- Label: {}\n"
     ]
    },
    {
     "name": "stderr",
     "output_type": "stream",
     "text": [
      "100%|█████████████████████████████████████████████████████████████████████████████████████████████████| 1/1 [00:00<00:00,  1.11it/s]\n"
     ]
    },
    {
     "name": "stdout",
     "output_type": "stream",
     "text": [
      "Similarity:  On July 8, 1916, after a close, multiballot contest, with several contenders, the Republican State Committee elected McNary to be the chair.Neal, McNary of Oregon, p. 0.7194256782531738\n",
      "Similarity:  On July 8, 1916, after a close, multiballot contest, with several contenders, the Republican State Committee elected McNary to be the chair.Neal, McNary of Oregon, p. 0.587578535079956\n",
      "Similarity:  On July 8, 1916, after a close, multiballot contest, with several contenders, the Republican State Committee elected McNary to be the chair.Neal, McNary of Oregon, p. 0.654222846031189\n",
      "Title: Charles L. McNary --- Sentence: 'On July 8, 1916, after a close, multiballot contest, with several contenders, the Republican State Committee elected McNary to be the chair.Neal, McNary of Oregon, p.' --- Label: {'Reason for change': (0, tensor([0.8520, 0.1376, 0.0104], grad_fn=<SoftmaxBackward0>))}\n"
     ]
    },
    {
     "name": "stderr",
     "output_type": "stream",
     "text": [
      "100%|█████████████████████████████████████████████████████████████████████████████████████████████████| 1/1 [00:00<00:00,  1.76it/s]\n",
      "100%|█████████████████████████████████████████████████████████████████████████████████████████████████| 1/1 [00:01<00:00,  1.12s/it]\n"
     ]
    },
    {
     "name": "stdout",
     "output_type": "stream",
     "text": [
      "Similarity:  As chairman of the state's Republican Party, McNary campaigned to get the Republican presidential nominee, Charles Evans Hughes, elected in the 1916 presidential election.Neal, McNary of Oregon, pp. 29–38. 0.6488330364227295\n",
      "Similarity:  As chairman of the state's Republican Party, McNary campaigned to get the Republican presidential nominee, Charles Evans Hughes, elected in the 1916 presidential election.Neal, McNary of Oregon, pp. 29–38. 0.6489322185516357\n",
      "Similarity:  As chairman of the state's Republican Party, McNary campaigned to get the Republican presidential nominee, Charles Evans Hughes, elected in the 1916 presidential election.Neal, McNary of Oregon, pp. 29–38. 0.6602468490600586\n",
      "Title: Charles L. McNary --- Sentence: 'As chairman of the state's Republican Party, McNary campaigned to get the Republican presidential nominee, Charles Evans Hughes, elected in the 1916 presidential election.Neal, McNary of Oregon, pp. 29–38.' --- Label: {}\n"
     ]
    },
    {
     "name": "stderr",
     "output_type": "stream",
     "text": [
      "100%|█████████████████████████████████████████████████████████████████████████████████████████████████| 1/1 [00:01<00:00,  1.27s/it]\n",
      "100%|█████████████████████████████████████████████████████████████████████████████████████████████████| 1/1 [00:01<00:00,  1.23s/it]\n"
     ]
    },
    {
     "name": "stdout",
     "output_type": "stream",
     "text": [
      "Similarity:  When US Senator Harry Lane died in office, on May 23, 1917, it created an opportunity for McNary to redeem himself after his failed bid for election to the Oregon Supreme Court. 0.7548491954803467\n",
      "Similarity:  When US Senator Harry Lane died in office, on May 23, 1917, it created an opportunity for McNary to redeem himself after his failed bid for election to the Oregon Supreme Court. 0.6136907339096069\n",
      "Similarity:  When US Senator Harry Lane died in office, on May 23, 1917, it created an opportunity for McNary to redeem himself after his failed bid for election to the Oregon Supreme Court. 0.7210433483123779\n",
      "Title: Charles L. McNary --- Sentence: 'When US Senator Harry Lane died in office, on May 23, 1917, it created an opportunity for McNary to redeem himself after his failed bid for election to the Oregon Supreme Court.' --- Label: {}\n"
     ]
    },
    {
     "name": "stderr",
     "output_type": "stream",
     "text": [
      "100%|█████████████████████████████████████████████████████████████████████████████████████████████████| 1/1 [00:00<00:00,  1.02it/s]\n"
     ]
    },
    {
     "name": "stdout",
     "output_type": "stream",
     "text": [
      "Similarity:  McNary was among several possible successors considered by Oregon Governor James Withycombe. 0.6374098062515259\n",
      "Similarity:  McNary was among several possible successors considered by Oregon Governor James Withycombe. 0.6683835983276367\n",
      "Similarity:  McNary was among several possible successors considered by Oregon Governor James Withycombe. 0.6414075493812561\n",
      "Title: Charles L. McNary --- Sentence: 'McNary was among several possible successors considered by Oregon Governor James Withycombe.' --- Label: {}\n"
     ]
    },
    {
     "name": "stderr",
     "output_type": "stream",
     "text": [
      "100%|█████████████████████████████████████████████████████████████████████████████████████████████████| 1/1 [00:01<00:00,  1.89s/it]\n"
     ]
    },
    {
     "name": "stdout",
     "output_type": "stream",
     "text": [
      "Similarity:  The governor preferred someone who supported national women's suffrage and Prohibition, and he shared with McNary an interest in farming.Neal, McNary of Oregon, pp. 32–33 Furthermore, McNary supporters argued that both progressive and conservative factions of the Republican Party would accept McNary and that unity would give the party the best chance of retaining the Senate seat in the next election. 0.7168748378753662\n",
      "Similarity:  The governor preferred someone who supported national women's suffrage and Prohibition, and he shared with McNary an interest in farming.Neal, McNary of Oregon, pp. 32–33 Furthermore, McNary supporters argued that both progressive and conservative factions of the Republican Party would accept McNary and that unity would give the party the best chance of retaining the Senate seat in the next election. 0.6305903196334839\n",
      "Similarity:  The governor preferred someone who supported national women's suffrage and Prohibition, and he shared with McNary an interest in farming.Neal, McNary of Oregon, pp. 32–33 Furthermore, McNary supporters argued that both progressive and conservative factions of the Republican Party would accept McNary and that unity would give the party the best chance of retaining the Senate seat in the next election. 0.5951945781707764\n",
      "Title: Charles L. McNary --- Sentence: 'The governor preferred someone who supported national women's suffrage and Prohibition, and he shared with McNary an interest in farming.Neal, McNary of Oregon, pp. 32–33 Furthermore, McNary supporters argued that both progressive and conservative factions of the Republican Party would accept McNary and that unity would give the party the best chance of retaining the Senate seat in the next election.' --- Label: {}\n"
     ]
    },
    {
     "name": "stderr",
     "output_type": "stream",
     "text": [
      "100%|█████████████████████████████████████████████████████████████████████████████████████████████████| 1/1 [00:00<00:00,  1.12it/s]\n"
     ]
    },
    {
     "name": "stdout",
     "output_type": "stream",
     "text": [
      "Similarity:  Withycombe appointed McNary to the unexpired term on May 29. 0.764081597328186\n",
      "Similarity:  Withycombe appointed McNary to the unexpired term on May 29. 0.7185523509979248\n",
      "Similarity:  Withycombe appointed McNary to the unexpired term on May 29. 0.698437511920929\n",
      "Title: Charles L. McNary --- Sentence: 'Withycombe appointed McNary to the unexpired term on May 29.' --- Label: {}\n"
     ]
    },
    {
     "name": "stderr",
     "output_type": "stream",
     "text": [
      "100%|█████████████████████████████████████████████████████████████████████████████████████████████████| 1/1 [00:00<00:00,  1.75it/s]\n"
     ]
    },
    {
     "name": "stdout",
     "output_type": "stream",
     "text": [
      "Similarity:  After resigning as state party chairman, McNary prepared to campaign for a full term in the Senate. 0.7377424240112305\n",
      "Similarity:  After resigning as state party chairman, McNary prepared to campaign for a full term in the Senate. 0.7455041408538818\n",
      "Similarity:  After resigning as state party chairman, McNary prepared to campaign for a full term in the Senate. 0.6589474081993103\n",
      "Title: Charles L. McNary --- Sentence: 'After resigning as state party chairman, McNary prepared to campaign for a full term in the Senate.' --- Label: {}\n"
     ]
    },
    {
     "name": "stderr",
     "output_type": "stream",
     "text": [
      "100%|█████████████████████████████████████████████████████████████████████████████████████████████████| 1/1 [00:01<00:00,  1.01s/it]\n"
     ]
    },
    {
     "name": "stdout",
     "output_type": "stream",
     "text": [
      "Similarity:  He faced Speaker of the Oregon House of Representatives Robert N. Stanfield in the May 1918 Republican primary.Neal, McNary of Oregon, pp. 39–50. 0.6909960508346558\n",
      "Similarity:  He faced Speaker of the Oregon House of Representatives Robert N. Stanfield in the May 1918 Republican primary.Neal, McNary of Oregon, pp. 39–50. 0.6418508291244507\n",
      "Similarity:  He faced Speaker of the Oregon House of Representatives Robert N. Stanfield in the May 1918 Republican primary.Neal, McNary of Oregon, pp. 39–50. 0.625578761100769\n",
      "Title: Charles L. McNary --- Sentence: 'He faced Speaker of the Oregon House of Representatives Robert N. Stanfield in the May 1918 Republican primary.Neal, McNary of Oregon, pp. 39–50.' --- Label: {}\n"
     ]
    },
    {
     "name": "stderr",
     "output_type": "stream",
     "text": [
      "100%|█████████████████████████████████████████████████████████████████████████████████████████████████| 1/1 [00:00<00:00,  1.98it/s]\n"
     ]
    },
    {
     "name": "stdout",
     "output_type": "stream",
     "text": [
      "Similarity:  McNary defeated Stanfield 52,546 to 30,999. 0.5627573728561401\n",
      "Similarity:  McNary defeated Stanfield 52,546 to 30,999. 0.5237743854522705\n",
      "Similarity:  McNary defeated Stanfield 52,546 to 30,999. 0.6121764779090881\n",
      "Title: Charles L. McNary --- Sentence: 'McNary defeated Stanfield 52,546 to 30,999.' --- Label: {}\n"
     ]
    },
    {
     "name": "stderr",
     "output_type": "stream",
     "text": [
      "100%|█████████████████████████████████████████████████████████████████████████████████████████████████| 1/1 [00:00<00:00,  2.05it/s]\n",
      "100%|█████████████████████████████████████████████████████████████████████████████████████████████████| 1/1 [00:01<00:00,  1.00s/it]\n"
     ]
    },
    {
     "name": "stdout",
     "output_type": "stream",
     "text": [
      "Similarity:  Meanwhile, Frederick W. Mulkey won the election to replace McNary and finished Lane's original term, which would end in January 1919, and Mulkey took office on November 6, 1918, replacing McNary in that seat. 0.7843533158302307\n",
      "Similarity:  Meanwhile, Frederick W. Mulkey won the election to replace McNary and finished Lane's original term, which would end in January 1919, and Mulkey took office on November 6, 1918, replacing McNary in that seat. 0.7100500464439392\n",
      "Similarity:  Meanwhile, Frederick W. Mulkey won the election to replace McNary and finished Lane's original term, which would end in January 1919, and Mulkey took office on November 6, 1918, replacing McNary in that seat. 0.7771275043487549\n",
      "Title: Charles L. McNary --- Sentence: 'Meanwhile, Frederick W. Mulkey won the election to replace McNary and finished Lane's original term, which would end in January 1919, and Mulkey took office on November 6, 1918, replacing McNary in that seat.' --- Label: {'Reason for change': (0, tensor([0.5951, 0.4035, 0.0014], grad_fn=<SoftmaxBackward0>)), 'Successor': (0, tensor([9.1516e-01, 8.4067e-02, 7.6827e-04], grad_fn=<SoftmaxBackward0>)), \"Date of successor's formal installation\": (0, tensor([9.9787e-01, 2.0276e-03, 9.9103e-05], grad_fn=<SoftmaxBackward0>))}\n"
     ]
    },
    {
     "name": "stderr",
     "output_type": "stream",
     "text": [
      "100%|█████████████████████████████████████████████████████████████████████████████████████████████████| 1/1 [00:00<00:00,  1.70it/s]\n"
     ]
    },
    {
     "name": "stdout",
     "output_type": "stream",
     "text": [
      "Similarity:  Shortly after taking office, Mulkey resigned the seat effective December 17, 1918, and McNary was then reappointed to the Senate on December 12, 1918, and took office on December 18, instead of taking office in January, when his term he was elected to would have started. 0.7810765504837036\n",
      "Similarity:  Shortly after taking office, Mulkey resigned the seat effective December 17, 1918, and McNary was then reappointed to the Senate on December 12, 1918, and took office on December 18, instead of taking office in January, when his term he was elected to would have started. 0.6105031371116638\n",
      "Similarity:  Shortly after taking office, Mulkey resigned the seat effective December 17, 1918, and McNary was then reappointed to the Senate on December 12, 1918, and took office on December 18, instead of taking office in January, when his term he was elected to would have started. 0.7265956401824951\n",
      "Title: Charles L. McNary --- Sentence: 'Shortly after taking office, Mulkey resigned the seat effective December 17, 1918, and McNary was then reappointed to the Senate on December 12, 1918, and took office on December 18, instead of taking office in January, when his term he was elected to would have started.' --- Label: {'Reason for change': (0, tensor([9.6068e-01, 3.9029e-02, 2.8818e-04], grad_fn=<SoftmaxBackward0>)), \"Date of successor's formal installation\": (0, tensor([9.6242e-01, 3.7431e-02, 1.5019e-04], grad_fn=<SoftmaxBackward0>))}\n"
     ]
    },
    {
     "name": "stderr",
     "output_type": "stream",
     "text": [
      "100%|█████████████████████████████████████████████████████████████████████████████████████████████████| 1/1 [00:00<00:00,  1.07it/s]\n"
     ]
    },
    {
     "name": "stdout",
     "output_type": "stream",
     "text": [
      "Similarity:  Mulkey resigned in order to give McNary a slight seniority edge over other new members of the Senate. 0.7280775308609009\n",
      "Similarity:  Mulkey resigned in order to give McNary a slight seniority edge over other new members of the Senate. 0.7397260069847107\n",
      "Similarity:  Mulkey resigned in order to give McNary a slight seniority edge over other new members of the Senate. 0.6767404079437256\n",
      "Title: Charles L. McNary --- Sentence: 'Mulkey resigned in order to give McNary a slight seniority edge over other new members of the Senate.' --- Label: {}\n"
     ]
    },
    {
     "name": "stderr",
     "output_type": "stream",
     "text": [
      "100%|█████████████████████████████████████████████████████████████████████████████████████████████████| 1/1 [00:01<00:00,  1.54s/it]\n"
     ]
    },
    {
     "name": "stdout",
     "output_type": "stream",
     "text": [
      "Similarity:  In 1920, former adversary Stanfield defeated incumbent Democrat George Earle Chamberlain for Oregon's other Senate seat, making McNary the state's senior senator.Neal, McNary of Oregon, p. 61–70. 0.6729182004928589\n",
      "Similarity:  In 1920, former adversary Stanfield defeated incumbent Democrat George Earle Chamberlain for Oregon's other Senate seat, making McNary the state's senior senator.Neal, McNary of Oregon, p. 61–70. 0.6056248545646667\n",
      "Similarity:  In 1920, former adversary Stanfield defeated incumbent Democrat George Earle Chamberlain for Oregon's other Senate seat, making McNary the state's senior senator.Neal, McNary of Oregon, p. 61–70. 0.6283836960792542\n",
      "Title: Charles L. McNary --- Sentence: 'In 1920, former adversary Stanfield defeated incumbent Democrat George Earle Chamberlain for Oregon's other Senate seat, making McNary the state's senior senator.Neal, McNary of Oregon, p. 61–70.' --- Label: {}\n"
     ]
    },
    {
     "name": "stderr",
     "output_type": "stream",
     "text": [
      "100%|█████████████████████████████████████████████████████████████████████████████████████████████████| 1/1 [00:00<00:00,  1.11it/s]\n"
     ]
    },
    {
     "name": "stdout",
     "output_type": "stream",
     "text": [
      "Similarity:  McNary won re-election four times, in 1924, 1930, 1936, and 1942, serving in Washington, D.C., until his death. 0.7917805910110474\n",
      "Similarity:  McNary won re-election four times, in 1924, 1930, 1936, and 1942, serving in Washington, D.C., until his death. 0.6488922834396362\n",
      "Similarity:  McNary won re-election four times, in 1924, 1930, 1936, and 1942, serving in Washington, D.C., until his death. 0.7704170346260071\n",
      "Title: Charles L. McNary --- Sentence: 'McNary won re-election four times, in 1924, 1930, 1936, and 1942, serving in Washington, D.C., until his death.' --- Label: {}\n"
     ]
    },
    {
     "name": "stderr",
     "output_type": "stream",
     "text": [
      "100%|█████████████████████████████████████████████████████████████████████████████████████████████████| 1/1 [00:00<00:00,  1.22it/s]\n",
      "100%|█████████████████████████████████████████████████████████████████████████████████████████████████| 1/1 [00:02<00:00,  2.11s/it]\n",
      "100%|█████████████████████████████████████████████████████████████████████████████████████████████████| 1/1 [00:01<00:00,  1.52s/it]\n"
     ]
    },
    {
     "name": "stdout",
     "output_type": "stream",
     "text": [
      "Similarity:  Because the treaty included provisions for establishing and joining the League of Nations, one of Wilson's Fourteen Points, Republicans opposed it.Neal, McNary of Oregon, pp. 50–59. 0.534392774105072\n",
      "Similarity:  Because the treaty included provisions for establishing and joining the League of Nations, one of Wilson's Fourteen Points, Republicans opposed it.Neal, McNary of Oregon, pp. 50–59. 0.5503718852996826\n",
      "Similarity:  Because the treaty included provisions for establishing and joining the League of Nations, one of Wilson's Fourteen Points, Republicans opposed it.Neal, McNary of Oregon, pp. 50–59. 0.5052052736282349\n",
      "Title: Charles L. McNary --- Sentence: 'Because the treaty included provisions for establishing and joining the League of Nations, one of Wilson's Fourteen Points, Republicans opposed it.Neal, McNary of Oregon, pp. 50–59.' --- Label: {}\n"
     ]
    },
    {
     "name": "stderr",
     "output_type": "stream",
     "text": [
      "100%|█████████████████████████████████████████████████████████████████████████████████████████████████| 1/1 [00:00<00:00,  1.44it/s]\n"
     ]
    },
    {
     "name": "stdout",
     "output_type": "stream",
     "text": [
      "Similarity:  Going against much of his party, McNary, part of a group of senators known as \"reservationists,\" proposed minor changes to support the United States entry into the League. 0.6613973379135132\n",
      "Similarity:  Going against much of his party, McNary, part of a group of senators known as \"reservationists,\" proposed minor changes to support the United States entry into the League. 0.6480152606964111\n",
      "Similarity:  Going against much of his party, McNary, part of a group of senators known as \"reservationists,\" proposed minor changes to support the United States entry into the League. 0.5778541564941406\n",
      "Title: Charles L. McNary --- Sentence: 'Going against much of his party, McNary, part of a group of senators known as \"reservationists,\" proposed minor changes to support the United States entry into the League.' --- Label: {}\n"
     ]
    },
    {
     "name": "stderr",
     "output_type": "stream",
     "text": [
      "100%|█████████████████████████████████████████████████████████████████████████████████████████████████| 1/1 [00:00<00:00,  1.16it/s]\n",
      "100%|█████████████████████████████████████████████████████████████████████████████████████████████████| 1/1 [00:00<00:00,  1.13it/s]\n",
      "100%|█████████████████████████████████████████████████████████████████████████████████████████████████| 1/1 [00:00<00:00,  1.84it/s]\n"
     ]
    },
    {
     "name": "stdout",
     "output_type": "stream",
     "text": [
      "Similarity:  After McNary demonstrated his skill in the debate over the League, Lodge took him under his wing, and the two formed a longtime friendship. 0.6030402779579163\n",
      "Similarity:  After McNary demonstrated his skill in the debate over the League, Lodge took him under his wing, and the two formed a longtime friendship. 0.6846176385879517\n",
      "Similarity:  After McNary demonstrated his skill in the debate over the League, Lodge took him under his wing, and the two formed a longtime friendship. 0.5802468061447144\n",
      "Title: Charles L. McNary --- Sentence: 'After McNary demonstrated his skill in the debate over the League, Lodge took him under his wing, and the two formed a longtime friendship.' --- Label: {}\n"
     ]
    },
    {
     "name": "stderr",
     "output_type": "stream",
     "text": [
      "100%|█████████████████████████████████████████████████████████████████████████████████████████████████| 1/1 [00:00<00:00,  2.00it/s]\n"
     ]
    },
    {
     "name": "stdout",
     "output_type": "stream",
     "text": [
      "Similarity:  The friendship helped McNary secure favorable committee assignments and ushered him into the inner power circle of the Senate. 0.6130810976028442\n",
      "Similarity:  The friendship helped McNary secure favorable committee assignments and ushered him into the inner power circle of the Senate. 0.6286906599998474\n",
      "Similarity:  The friendship helped McNary secure favorable committee assignments and ushered him into the inner power circle of the Senate. 0.5555245280265808\n",
      "Title: Charles L. McNary --- Sentence: 'The friendship helped McNary secure favorable committee assignments and ushered him into the inner power circle of the Senate.' --- Label: {}\n"
     ]
    },
    {
     "name": "stderr",
     "output_type": "stream",
     "text": [
      "100%|█████████████████████████████████████████████████████████████████████████████████████████████████| 1/1 [00:00<00:00,  1.94it/s]\n",
      "100%|█████████████████████████████████████████████████████████████████████████████████████████████████| 1/1 [00:01<00:00,  1.05s/it]\n"
     ]
    },
    {
     "name": "stdout",
     "output_type": "stream",
     "text": [
      "Similarity:  In 1922, President Warren G. Harding asked McNary to be the Secretary of the Interior to replace Albert B. Fall because of Fall's involvement in the ongoing Teapot Dome scandal. 0.7389364242553711\n",
      "Similarity:  In 1922, President Warren G. Harding asked McNary to be the Secretary of the Interior to replace Albert B. Fall because of Fall's involvement in the ongoing Teapot Dome scandal. 0.627288818359375\n",
      "Similarity:  In 1922, President Warren G. Harding asked McNary to be the Secretary of the Interior to replace Albert B. Fall because of Fall's involvement in the ongoing Teapot Dome scandal. 0.6911945939064026\n",
      "Title: Charles L. McNary --- Sentence: 'In 1922, President Warren G. Harding asked McNary to be the Secretary of the Interior to replace Albert B. Fall because of Fall's involvement in the ongoing Teapot Dome scandal.' --- Label: {}\n"
     ]
    },
    {
     "name": "stderr",
     "output_type": "stream",
     "text": [
      "100%|█████████████████████████████████████████████████████████████████████████████████████████████████| 1/1 [00:00<00:00,  1.97it/s]\n"
     ]
    },
    {
     "name": "stdout",
     "output_type": "stream",
     "text": [
      "Similarity:  McNary declined, preferring to stay in the Senate. 0.6429671049118042\n",
      "Similarity:  McNary declined, preferring to stay in the Senate. 0.5965191125869751\n",
      "Similarity:  McNary declined, preferring to stay in the Senate. 0.5512973070144653\n",
      "Title: Charles L. McNary --- Sentence: 'McNary declined, preferring to stay in the Senate.' --- Label: {}\n"
     ]
    },
    {
     "name": "stderr",
     "output_type": "stream",
     "text": [
      "100%|█████████████████████████████████████████████████████████████████████████████████████████████████| 1/1 [00:00<00:00,  1.36it/s]\n"
     ]
    },
    {
     "name": "stdout",
     "output_type": "stream",
     "text": [
      "Similarity:  thumb|right|upright| alt=A middle-aged man in a suit and tie stands on a sidewalk in front of a stone wall.|McNary as senator 0.3249669075012207\n",
      "Similarity:  thumb|right|upright| alt=A middle-aged man in a suit and tie stands on a sidewalk in front of a stone wall.|McNary as senator 0.2240695357322693\n",
      "Similarity:  thumb|right|upright| alt=A middle-aged man in a suit and tie stands on a sidewalk in front of a stone wall.|McNary as senator 0.2537955045700073\n",
      "Title: Charles L. McNary --- Sentence: 'thumb|right|upright| alt=A middle-aged man in a suit and tie stands on a sidewalk in front of a stone wall.|McNary as senator' --- Label: {}\n"
     ]
    },
    {
     "name": "stderr",
     "output_type": "stream",
     "text": [
      "100%|█████████████████████████████████████████████████████████████████████████████████████████████████| 1/1 [00:01<00:00,  1.23s/it]\n"
     ]
    },
    {
     "name": "stdout",
     "output_type": "stream",
     "text": [
      "Similarity:  In 1933, McNary was selected as the Senate Minority Leader by fellow Republicans, while the Senate was under Democratic control during the New Deal era. 0.782809853553772\n",
      "Similarity:  In 1933, McNary was selected as the Senate Minority Leader by fellow Republicans, while the Senate was under Democratic control during the New Deal era. 0.6824472546577454\n",
      "Similarity:  In 1933, McNary was selected as the Senate Minority Leader by fellow Republicans, while the Senate was under Democratic control during the New Deal era. 0.6786637902259827\n",
      "Title: Charles L. McNary --- Sentence: 'In 1933, McNary was selected as the Senate Minority Leader by fellow Republicans, while the Senate was under Democratic control during the New Deal era.' --- Label: {}\n"
     ]
    },
    {
     "name": "stderr",
     "output_type": "stream",
     "text": [
      "100%|█████████████████████████████████████████████████████████████████████████████████████████████████| 1/1 [00:01<00:00,  1.00s/it]\n",
      "100%|█████████████████████████████████████████████████████████████████████████████████████████████████| 1/1 [00:01<00:00,  1.10s/it]\n",
      "100%|█████████████████████████████████████████████████████████████████████████████████████████████████| 1/1 [00:01<00:00,  1.01s/it]\n",
      "100%|█████████████████████████████████████████████████████████████████████████████████████████████████| 1/1 [00:01<00:00,  1.02s/it]\n",
      "100%|█████████████████████████████████████████████████████████████████████████████████████████████████| 1/1 [00:01<00:00,  1.34s/it]\n"
     ]
    },
    {
     "name": "stdout",
     "output_type": "stream",
     "text": [
      "Similarity:  As early as the 1920s, McNary supported the development of federal hydroelectric power dams, and in 1933, he introduced legislation that led to the building of the Grand Coulee and Bonneville dams on the Columbia, as public works projects. 0.6775856018066406\n",
      "Similarity:  As early as the 1920s, McNary supported the development of federal hydroelectric power dams, and in 1933, he introduced legislation that led to the building of the Grand Coulee and Bonneville dams on the Columbia, as public works projects. 0.5295496582984924\n",
      "Similarity:  As early as the 1920s, McNary supported the development of federal hydroelectric power dams, and in 1933, he introduced legislation that led to the building of the Grand Coulee and Bonneville dams on the Columbia, as public works projects. 0.6305409669876099\n",
      "Title: Charles L. McNary --- Sentence: 'As early as the 1920s, McNary supported the development of federal hydroelectric power dams, and in 1933, he introduced legislation that led to the building of the Grand Coulee and Bonneville dams on the Columbia, as public works projects.' --- Label: {}\n"
     ]
    },
    {
     "name": "stderr",
     "output_type": "stream",
     "text": [
      "100%|█████████████████████████████████████████████████████████████████████████████████████████████████| 1/1 [00:00<00:00,  1.17it/s]\n",
      "100%|█████████████████████████████████████████████████████████████████████████████████████████████████| 1/1 [00:00<00:00,  1.57it/s]\n",
      "100%|█████████████████████████████████████████████████████████████████████████████████████████████████| 1/1 [00:00<00:00,  1.49it/s]\n",
      "100%|█████████████████████████████████████████████████████████████████████████████████████████████████| 1/1 [00:00<00:00,  1.50it/s]\n",
      "100%|█████████████████████████████████████████████████████████████████████████████████████████████████| 1/1 [00:00<00:00,  1.83it/s]\n"
     ]
    },
    {
     "name": "stdout",
     "output_type": "stream",
     "text": [
      "Similarity:  Writing for Life magazine shortly before the general election in 1940, Richard L. Neuberger said, \"Whether as Vice President of the U.S. Charley McNary can keep on endorsing Government-power projects, isolation, high tariffs and huge outlays for farm relief under a President who believes in none of these things remains to be seen.\" 0.6206313371658325\n",
      "Similarity:  Writing for Life magazine shortly before the general election in 1940, Richard L. Neuberger said, \"Whether as Vice President of the U.S. Charley McNary can keep on endorsing Government-power projects, isolation, high tariffs and huge outlays for farm relief under a President who believes in none of these things remains to be seen.\" 0.6301195025444031\n",
      "Similarity:  Writing for Life magazine shortly before the general election in 1940, Richard L. Neuberger said, \"Whether as Vice President of the U.S. Charley McNary can keep on endorsing Government-power projects, isolation, high tariffs and huge outlays for farm relief under a President who believes in none of these things remains to be seen.\" 0.6177374124526978\n",
      "Title: Charles L. McNary --- Sentence: 'Writing for Life magazine shortly before the general election in 1940, Richard L. Neuberger said, \"Whether as Vice President of the U.S. Charley McNary can keep on endorsing Government-power projects, isolation, high tariffs and huge outlays for farm relief under a President who believes in none of these things remains to be seen.\"' --- Label: {}\n"
     ]
    },
    {
     "name": "stderr",
     "output_type": "stream",
     "text": [
      "100%|█████████████████████████████████████████████████████████████████████████████████████████████████| 1/1 [00:00<00:00,  1.76it/s]\n"
     ]
    },
    {
     "name": "stdout",
     "output_type": "stream",
     "text": [
      "Similarity:  McNary's acceptance speech reiterated his support for the Tennessee Valley Authority, a federally owned power-producing corporation that Willkie, as \"the head of a far-flung [private] utilities empire,\" had opposed. 0.5414741039276123\n",
      "Similarity:  McNary's acceptance speech reiterated his support for the Tennessee Valley Authority, a federally owned power-producing corporation that Willkie, as \"the head of a far-flung [private] utilities empire,\" had opposed. 0.5519067645072937\n",
      "Similarity:  McNary's acceptance speech reiterated his support for the Tennessee Valley Authority, a federally owned power-producing corporation that Willkie, as \"the head of a far-flung [private] utilities empire,\" had opposed. 0.542285144329071\n",
      "Title: Charles L. McNary --- Sentence: 'McNary's acceptance speech reiterated his support for the Tennessee Valley Authority, a federally owned power-producing corporation that Willkie, as \"the head of a far-flung [private] utilities empire,\" had opposed.' --- Label: {}\n"
     ]
    },
    {
     "name": "stderr",
     "output_type": "stream",
     "text": [
      "100%|█████████████████████████████████████████████████████████████████████████████████████████████████| 1/1 [00:00<00:00,  1.87it/s]\n"
     ]
    },
    {
     "name": "stdout",
     "output_type": "stream",
     "text": [
      "Similarity:  During the campaign, McNary promoted farming issues and criticized foreign trade agreements, which, he said, had \"closed European markets to our grain, meat, fruits and fiber.\" 0.6058793663978577\n",
      "Similarity:  During the campaign, McNary promoted farming issues and criticized foreign trade agreements, which, he said, had \"closed European markets to our grain, meat, fruits and fiber.\" 0.5197681188583374\n",
      "Similarity:  During the campaign, McNary promoted farming issues and criticized foreign trade agreements, which, he said, had \"closed European markets to our grain, meat, fruits and fiber.\" 0.5247664451599121\n",
      "Title: Charles L. McNary --- Sentence: 'During the campaign, McNary promoted farming issues and criticized foreign trade agreements, which, he said, had \"closed European markets to our grain, meat, fruits and fiber.\"' --- Label: {}\n"
     ]
    },
    {
     "name": "stderr",
     "output_type": "stream",
     "text": [
      "100%|█████████████████████████████████████████████████████████████████████████████████████████████████| 1/1 [00:00<00:00,  1.85it/s]\n",
      "100%|█████████████████████████████████████████████████████████████████████████████████████████████████| 1/1 [00:00<00:00,  1.14it/s]\n"
     ]
    },
    {
     "name": "stdout",
     "output_type": "stream",
     "text": [
      "Similarity:  On December 29, 1923, McNary married for the second time, to Cornelia Woodburn Morton. 0.7642152309417725\n",
      "Similarity:  On December 29, 1923, McNary married for the second time, to Cornelia Woodburn Morton. 0.6259402632713318\n",
      "Similarity:  On December 29, 1923, McNary married for the second time, to Cornelia Woodburn Morton. 0.6913378238677979\n",
      "Title: Charles L. McNary --- Sentence: 'On December 29, 1923, McNary married for the second time, to Cornelia Woodburn Morton.' --- Label: {}\n"
     ]
    },
    {
     "name": "stderr",
     "output_type": "stream",
     "text": [
      "100%|█████████████████████████████████████████████████████████████████████████████████████████████████| 1/1 [00:01<00:00,  1.32s/it]\n"
     ]
    },
    {
     "name": "stdout",
     "output_type": "stream",
     "text": [
      "Similarity:  He met Morton at a dinner party during World War I, in her hometown of Washington, D.C.Neal, McNary of Oregon, pp. 85–88. 0.6173420548439026\n",
      "Similarity:  He met Morton at a dinner party during World War I, in her hometown of Washington, D.C.Neal, McNary of Oregon, pp. 85–88. 0.5892988443374634\n",
      "Similarity:  He met Morton at a dinner party during World War I, in her hometown of Washington, D.C.Neal, McNary of Oregon, pp. 85–88. 0.6358468532562256\n",
      "Title: Charles L. McNary --- Sentence: 'He met Morton at a dinner party during World War I, in her hometown of Washington, D.C.Neal, McNary of Oregon, pp. 85–88.' --- Label: {}\n"
     ]
    },
    {
     "name": "stderr",
     "output_type": "stream",
     "text": [
      "100%|█████████████████████████████████████████████████████████████████████████████████████████████████| 1/1 [00:00<00:00,  1.17it/s]\n",
      "100%|█████████████████████████████████████████████████████████████████████████████████████████████████| 1/1 [00:00<00:00,  1.31it/s]\n"
     ]
    },
    {
     "name": "stdout",
     "output_type": "stream",
     "text": [
      "Similarity:  His hair is dark, full, and wavy.|McNary in 1912. 0.3628644645214081\n",
      "Similarity:  His hair is dark, full, and wavy.|McNary in 1912. 0.2735835909843445\n",
      "Similarity:  His hair is dark, full, and wavy.|McNary in 1912. 0.3052108585834503\n",
      "Title: Charles L. McNary --- Sentence: 'His hair is dark, full, and wavy.|McNary in 1912.' --- Label: {}\n"
     ]
    },
    {
     "name": "stderr",
     "output_type": "stream",
     "text": [
      "100%|█████████████████████████████████████████████████████████████████████████████████████████████████| 1/1 [00:00<00:00,  1.09it/s]\n"
     ]
    },
    {
     "name": "stdout",
     "output_type": "stream",
     "text": [
      "Similarity:  In 1926, McNary built a new $6,000 ranch-style house, which he designed himself, along two creeks on his farm north of Salem. 0.6719225645065308\n",
      "Similarity:  In 1926, McNary built a new $6,000 ranch-style house, which he designed himself, along two creeks on his farm north of Salem. 0.6760416030883789\n",
      "Similarity:  In 1926, McNary built a new $6,000 ranch-style house, which he designed himself, along two creeks on his farm north of Salem. 0.7273985147476196\n",
      "Title: Charles L. McNary --- Sentence: 'In 1926, McNary built a new $6,000 ranch-style house, which he designed himself, along two creeks on his farm north of Salem.' --- Label: {}\n"
     ]
    },
    {
     "name": "stderr",
     "output_type": "stream",
     "text": [
      "100%|█████████████████████████████████████████████████████████████████████████████████████████████████| 1/1 [00:01<00:00,  1.22s/it]\n",
      "100%|█████████████████████████████████████████████████████████████████████████████████████████████████| 1/1 [00:01<00:00,  1.28s/it]\n",
      "100%|█████████████████████████████████████████████████████████████████████████████████████████████████| 1/1 [00:00<00:00,  1.52it/s]\n"
     ]
    },
    {
     "name": "stdout",
     "output_type": "stream",
     "text": [
      "Similarity:  The farm included  of nut and fruit orchards, through which McNary helped establish the filbert industry in Oregon and on which he developed the Imperial prune. 0.5294427275657654\n",
      "Similarity:  The farm included  of nut and fruit orchards, through which McNary helped establish the filbert industry in Oregon and on which he developed the Imperial prune. 0.4963601231575012\n",
      "Similarity:  The farm included  of nut and fruit orchards, through which McNary helped establish the filbert industry in Oregon and on which he developed the Imperial prune. 0.4819789528846741\n",
      "Title: Charles L. McNary --- Sentence: 'The farm included  of nut and fruit orchards, through which McNary helped establish the filbert industry in Oregon and on which he developed the Imperial prune.' --- Label: {}\n"
     ]
    },
    {
     "name": "stderr",
     "output_type": "stream",
     "text": [
      "100%|█████████████████████████████████████████████████████████████████████████████████████████████████| 1/1 [00:01<00:00,  1.07s/it]\n"
     ]
    },
    {
     "name": "stdout",
     "output_type": "stream",
     "text": [
      "Similarity:  After complaining of headaches and suffering slurred speech beginning in early 1943, McNary went to the Bethesda, Maryland, Naval Hospital on November 8, 1943, where doctors diagnosed a malignant brain tumor.Neal, McNary of Oregon, pp. 233–235. 0.7830364108085632\n",
      "Similarity:  After complaining of headaches and suffering slurred speech beginning in early 1943, McNary went to the Bethesda, Maryland, Naval Hospital on November 8, 1943, where doctors diagnosed a malignant brain tumor.Neal, McNary of Oregon, pp. 233–235. 0.6349620819091797\n",
      "Similarity:  After complaining of headaches and suffering slurred speech beginning in early 1943, McNary went to the Bethesda, Maryland, Naval Hospital on November 8, 1943, where doctors diagnosed a malignant brain tumor.Neal, McNary of Oregon, pp. 233–235. 0.651659369468689\n",
      "Title: Charles L. McNary --- Sentence: 'After complaining of headaches and suffering slurred speech beginning in early 1943, McNary went to the Bethesda, Maryland, Naval Hospital on November 8, 1943, where doctors diagnosed a malignant brain tumor.Neal, McNary of Oregon, pp. 233–235.' --- Label: {'Reason for change': (0, tensor([0.5980, 0.3987, 0.0033], grad_fn=<SoftmaxBackward0>))}\n"
     ]
    },
    {
     "name": "stderr",
     "output_type": "stream",
     "text": [
      "100%|█████████████████████████████████████████████████████████████████████████████████████████████████| 1/1 [00:00<00:00,  1.70it/s]\n"
     ]
    },
    {
     "name": "stdout",
     "output_type": "stream",
     "text": [
      "Similarity:  They removed it that week, and McNary was released from the hospital on December 2, but the cancer had already spread to other parts of his body. 0.67545485496521\n",
      "Similarity:  They removed it that week, and McNary was released from the hospital on December 2, but the cancer had already spread to other parts of his body. 0.653923511505127\n",
      "Similarity:  They removed it that week, and McNary was released from the hospital on December 2, but the cancer had already spread to other parts of his body. 0.6314975023269653\n",
      "Title: Charles L. McNary --- Sentence: 'They removed it that week, and McNary was released from the hospital on December 2, but the cancer had already spread to other parts of his body.' --- Label: {}\n"
     ]
    },
    {
     "name": "stderr",
     "output_type": "stream",
     "text": [
      "100%|█████████████████████████████████████████████████████████████████████████████████████████████████| 1/1 [00:00<00:00,  1.52it/s]\n",
      "100%|█████████████████████████████████████████████████████████████████████████████████████████████████| 1/1 [00:00<00:00,  1.96it/s]\n",
      "100%|█████████████████████████████████████████████████████████████████████████████████████████████████| 1/1 [00:00<00:00,  1.71it/s]\n"
     ]
    },
    {
     "name": "stdout",
     "output_type": "stream",
     "text": [
      "Similarity:  Charles L. McNary died in Fort Lauderdale. 0.7324174046516418\n",
      "Similarity:  Charles L. McNary died in Fort Lauderdale. 0.7983505725860596\n",
      "Similarity:  Charles L. McNary died in Fort Lauderdale. 0.7219008207321167\n",
      "Title: Charles L. McNary --- Sentence: 'Charles L. McNary died in Fort Lauderdale.' --- Label: {}\n"
     ]
    },
    {
     "name": "stderr",
     "output_type": "stream",
     "text": [
      "100%|█████████████████████████████████████████████████████████████████████████████████████████████████| 1/1 [00:01<00:00,  1.21s/it]\n",
      "100%|█████████████████████████████████████████████████████████████████████████████████████████████████| 1/1 [00:00<00:00,  1.03it/s]\n"
     ]
    },
    {
     "name": "stdout",
     "output_type": "stream",
     "text": [
      "Similarity:  At the time of his death, McNary held the record for longest-serving senator from Oregon — 9,726 days in office. 0.7396321892738342\n",
      "Similarity:  At the time of his death, McNary held the record for longest-serving senator from Oregon — 9,726 days in office. 0.7147052884101868\n",
      "Similarity:  At the time of his death, McNary held the record for longest-serving senator from Oregon — 9,726 days in office. 0.7271819114685059\n",
      "Title: Charles L. McNary --- Sentence: 'At the time of his death, McNary held the record for longest-serving senator from Oregon — 9,726 days in office.' --- Label: {}\n"
     ]
    },
    {
     "name": "stderr",
     "output_type": "stream",
     "text": [
      "100%|█████████████████████████████████████████████████████████████████████████████████████████████████| 1/1 [00:00<00:00,  1.04it/s]\n",
      "100%|█████████████████████████████████████████████████████████████████████████████████████████████████| 1/1 [00:00<00:00,  1.19it/s]\n"
     ]
    },
    {
     "name": "stdout",
     "output_type": "stream",
     "text": [
      "Similarity:  McNary's running mate, Willkie, died eight months later on October 8. 0.6382739543914795\n",
      "Similarity:  McNary's running mate, Willkie, died eight months later on October 8. 0.581272304058075\n",
      "Similarity:  McNary's running mate, Willkie, died eight months later on October 8. 0.6160767674446106\n",
      "Title: Charles L. McNary --- Sentence: 'McNary's running mate, Willkie, died eight months later on October 8.' --- Label: {}\n"
     ]
    },
    {
     "name": "stderr",
     "output_type": "stream",
     "text": [
      "100%|█████████████████████████████████████████████████████████████████████████████████████████████████| 1/1 [00:00<00:00,  1.01it/s]\n",
      "100%|█████████████████████████████████████████████████████████████████████████████████████████████████| 1/1 [00:01<00:00,  1.28s/it]\n"
     ]
    },
    {
     "name": "stdout",
     "output_type": "stream",
     "text": [
      "Similarity:  McNary Dam on the Columbia River between Oregon and Washington 0.5998704433441162\n",
      "Similarity:  McNary Dam on the Columbia River between Oregon and Washington 0.4767165780067444\n",
      "Similarity:  McNary Dam on the Columbia River between Oregon and Washington 0.5823918581008911\n",
      "Title: Charles L. McNary --- Sentence: 'McNary Dam on the Columbia River between Oregon and Washington' --- Label: {}\n"
     ]
    },
    {
     "name": "stderr",
     "output_type": "stream",
     "text": [
      "100%|█████████████████████████████████████████████████████████████████████████████████████████████████| 1/1 [00:01<00:00,  1.05s/it]\n"
     ]
    },
    {
     "name": "stdout",
     "output_type": "stream",
     "text": [
      "Similarity:  McNary Field, in Marion County, Oregon 0.608383297920227\n",
      "Similarity:  McNary Field, in Marion County, Oregon 0.5189939141273499\n",
      "Similarity:  McNary Field, in Marion County, Oregon 0.6329452991485596\n",
      "Title: Charles L. McNary --- Sentence: 'McNary Field, in Marion County, Oregon' --- Label: {}\n"
     ]
    },
    {
     "name": "stderr",
     "output_type": "stream",
     "text": [
      "100%|█████████████████████████████████████████████████████████████████████████████████████████████████| 1/1 [00:01<00:00,  1.08s/it]\n"
     ]
    },
    {
     "name": "stdout",
     "output_type": "stream",
     "text": [
      "Similarity:  McNary High School in Keizer, Oregon 0.6123589277267456\n",
      "Similarity:  McNary High School in Keizer, Oregon 0.5683779716491699\n",
      "Similarity:  McNary High School in Keizer, Oregon 0.6248983144760132\n",
      "Title: Charles L. McNary --- Sentence: 'McNary High School in Keizer, Oregon' --- Label: {}\n"
     ]
    },
    {
     "name": "stderr",
     "output_type": "stream",
     "text": [
      "100%|█████████████████████████████████████████████████████████████████████████████████████████████████| 1/1 [00:00<00:00,  1.10it/s]\n"
     ]
    },
    {
     "name": "stdout",
     "output_type": "stream",
     "text": [
      "Similarity:  McNary Residence Hall at Oregon State University 0.5536286234855652\n",
      "Similarity:  McNary Residence Hall at Oregon State University 0.5371577739715576\n",
      "Similarity:  McNary Residence Hall at Oregon State University 0.6120948791503906\n",
      "Title: Charles L. McNary --- Sentence: 'McNary Residence Hall at Oregon State University' --- Label: {}\n"
     ]
    },
    {
     "name": "stderr",
     "output_type": "stream",
     "text": [
      "100%|█████████████████████████████████████████████████████████████████████████████████████████████████| 1/1 [00:00<00:00,  1.86it/s]\n",
      "100%|█████████████████████████████████████████████████████████████████████████████████████████████████| 1/1 [00:00<00:00,  2.10it/s]\n",
      "100%|█████████████████████████████████████████████████████████████████████████████████████████████████| 1/1 [00:00<00:00,  1.45it/s]\n"
     ]
    },
    {
     "name": "stdout",
     "output_type": "stream",
     "text": [
      "Similarity:  Salem Online History: Charles McNary 0.7253785729408264\n",
      "Similarity:  Salem Online History: Charles McNary 0.8036401271820068\n",
      "Similarity:  Salem Online History: Charles McNary 0.7317240238189697\n",
      "Title: Charles L. McNary --- Sentence: 'Salem Online History: Charles McNary' --- Label: {}\n"
     ]
    },
    {
     "name": "stderr",
     "output_type": "stream",
     "text": [
      "100%|█████████████████████████████████████████████████████████████████████████████████████████████████| 1/1 [00:00<00:00,  1.61it/s]\n"
     ]
    },
    {
     "name": "stdout",
     "output_type": "stream",
     "text": [
      "Similarity:  Letter to McNary from President Hoover 0.7526333332061768\n",
      "Similarity:  Letter to McNary from President Hoover 0.7139519453048706\n",
      "Similarity:  Letter to McNary from President Hoover 0.7268616557121277\n",
      "Title: Charles L. McNary --- Sentence: 'Letter to McNary from President Hoover' --- Label: {'Successor': (0, tensor([0.5493, 0.4401, 0.0106], grad_fn=<SoftmaxBackward0>))}\n"
     ]
    },
    {
     "name": "stderr",
     "output_type": "stream",
     "text": [
      "100%|█████████████████████████████████████████████████████████████████████████████████████████████████| 1/1 [00:01<00:00,  1.00s/it]\n"
     ]
    },
    {
     "name": "stdout",
     "output_type": "stream",
     "text": [
      "Similarity:  Memorial services held in the House of representatives and Senate of the United States, together with remarks presented in eulogy of Charles Linza McNary, late a senator from Oregon. 0.672711968421936\n",
      "Similarity:  Memorial services held in the House of representatives and Senate of the United States, together with remarks presented in eulogy of Charles Linza McNary, late a senator from Oregon. 0.7396621704101562\n",
      "Similarity:  Memorial services held in the House of representatives and Senate of the United States, together with remarks presented in eulogy of Charles Linza McNary, late a senator from Oregon. 0.65125572681427\n",
      "Title: Charles L. McNary --- Sentence: 'Memorial services held in the House of representatives and Senate of the United States, together with remarks presented in eulogy of Charles Linza McNary, late a senator from Oregon.' --- Label: {}\n"
     ]
    },
    {
     "name": "stderr",
     "output_type": "stream",
     "text": [
      "100%|█████████████████████████████████████████████████████████████████████████████████████████████████| 1/1 [00:00<00:00,  1.67it/s]\n",
      "100%|█████████████████████████████████████████████████████████████████████████████████████████████████| 1/1 [00:00<00:00,  1.84it/s]\n"
     ]
    },
    {
     "name": "stdout",
     "output_type": "stream",
     "text": [
      "Similarity:  Historic images of Charles McNary from Salem Public Library 0.6663258075714111\n",
      "Similarity:  Historic images of Charles McNary from Salem Public Library 0.69697505235672\n",
      "Similarity:  Historic images of Charles McNary from Salem Public Library 0.7166104316711426\n",
      "Title: Charles L. McNary --- Sentence: 'Historic images of Charles McNary from Salem Public Library' --- Label: {}\n"
     ]
    },
    {
     "name": "stderr",
     "output_type": "stream",
     "text": [
      "100%|█████████████████████████████████████████████████████████████████████████████████████████████████| 1/1 [00:00<00:00,  1.60it/s]\n",
      "100%|█████████████████████████████████████████████████████████████████████████████████████████████████| 1/1 [00:00<00:00,  2.06it/s]\n",
      "100%|█████████████████████████████████████████████████████████████████████████████████████████████████| 1/1 [00:00<00:00,  1.20it/s]\n",
      "100%|█████████████████████████████████████████████████████████████████████████████████████████████████| 1/1 [00:00<00:00,  1.28it/s]\n",
      "100%|█████████████████████████████████████████████████████████████████████████████████████████████████| 1/1 [00:00<00:00,  1.07it/s]\n",
      "100%|█████████████████████████████████████████████████████████████████████████████████████████████████| 1/1 [00:00<00:00,  1.24it/s]\n",
      "100%|█████████████████████████████████████████████████████████████████████████████████████████████████| 1/1 [00:00<00:00,  1.22it/s]\n",
      "100%|█████████████████████████████████████████████████████████████████████████████████████████████████| 1/1 [00:00<00:00,  1.19it/s]\n",
      "100%|█████████████████████████████████████████████████████████████████████████████████████████████████| 1/1 [00:01<00:00,  1.02s/it]\n",
      "100%|█████████████████████████████████████████████████████████████████████████████████████████████████| 1/1 [00:00<00:00,  1.25it/s]\n",
      "100%|█████████████████████████████████████████████████████████████████████████████████████████████████| 1/1 [00:00<00:00,  1.01it/s]\n",
      "100%|█████████████████████████████████████████████████████████████████████████████████████████████████| 1/1 [00:00<00:00,  1.36it/s]\n",
      "100%|█████████████████████████████████████████████████████████████████████████████████████████████████| 1/1 [00:00<00:00,  2.17it/s]\n",
      "100%|█████████████████████████████████████████████████████████████████████████████████████████████████| 1/1 [00:00<00:00,  1.98it/s]\n",
      "100%|█████████████████████████████████████████████████████████████████████████████████████████████████| 1/1 [00:00<00:00,  2.06it/s]\n",
      "100%|█████████████████████████████████████████████████████████████████████████████████████████████████| 1/1 [00:00<00:00,  1.86it/s]\n",
      "100%|█████████████████████████████████████████████████████████████████████████████████████████████████| 1/1 [00:00<00:00,  1.91it/s]\n",
      "100%|█████████████████████████████████████████████████████████████████████████████████████████████████| 1/1 [00:00<00:00,  2.23it/s]\n",
      "100%|█████████████████████████████████████████████████████████████████████████████████████████████████| 1/1 [00:00<00:00,  1.86it/s]\n",
      "100%|█████████████████████████████████████████████████████████████████████████████████████████████████| 1/1 [00:00<00:00,  1.96it/s]\n",
      "100%|█████████████████████████████████████████████████████████████████████████████████████████████████| 1/1 [00:00<00:00,  1.73it/s]\n",
      "100%|█████████████████████████████████████████████████████████████████████████████████████████████████| 1/1 [00:00<00:00,  1.68it/s]\n"
     ]
    },
    {
     "name": "stdout",
     "output_type": "stream",
     "text": [
      "Similarity:  #redirect Alexander S. Smith 0.6218156814575195\n",
      "Similarity:  #redirect Alexander S. Smith 0.6032163500785828\n",
      "Similarity:  #redirect Alexander S. Smith 0.5230951309204102\n",
      "Title: Alexander Smith Smith --- Sentence: '#redirect Alexander S. Smith' --- Label: {}\n",
      "                    ambassador\n",
      "0  Nawagzada Agha Mohamed Raza\n",
      "True\n",
      "\n",
      "Nawagzada Agha Mohamed Raza\n"
     ]
    },
    {
     "name": "stderr",
     "output_type": "stream",
     "text": [
      "100%|█████████████████████████████████████████████████████████████████████████████████████████████████| 1/1 [00:00<00:00,  1.80it/s]\n",
      "100%|█████████████████████████████████████████████████████████████████████████████████████████████████| 1/1 [00:01<00:00,  1.09s/it]\n"
     ]
    },
    {
     "name": "stdout",
     "output_type": "stream",
     "text": [
      "Title: Mohamed Raza --- Sentence: 'Mohamed Raza Hassanali Dharamsi (born 18 July 1962), popularly known as Mohamed Raza, is a Zanzibari businessman and CCM politician currently representing the Uzini constituency in the Zanzibar House of Representatives.' --- Label: {}\n"
     ]
    },
    {
     "name": "stderr",
     "output_type": "stream",
     "text": [
      "100%|█████████████████████████████████████████████████████████████████████████████████████████████████| 1/1 [00:01<00:00,  1.17s/it]\n"
     ]
    },
    {
     "name": "stdout",
     "output_type": "stream",
     "text": [
      "Title: Mohamed Raza --- Sentence: 'Raza was born in the Sultanate of Zanzibar to parents of Indian ancestry.' --- Label: {}\n"
     ]
    },
    {
     "name": "stderr",
     "output_type": "stream",
     "text": [
      "100%|█████████████████████████████████████████████████████████████████████████████████████████████████| 1/1 [00:00<00:00,  1.38it/s]\n",
      "100%|█████████████████████████████████████████████████████████████████████████████████████████████████| 1/1 [00:00<00:00,  1.18it/s]\n",
      "100%|█████████████████████████████████████████████████████████████████████████████████████████████████| 1/1 [00:00<00:00,  1.24it/s]\n",
      "100%|█████████████████████████████████████████████████████████████████████████████████████████████████| 1/1 [00:00<00:00,  1.37it/s]\n",
      "100%|█████████████████████████████████████████████████████████████████████████████████████████████████| 1/1 [00:00<00:00,  1.16it/s]\n",
      "100%|█████████████████████████████████████████████████████████████████████████████████████████████████| 1/1 [00:00<00:00,  1.17it/s]\n",
      "100%|█████████████████████████████████████████████████████████████████████████████████████████████████| 1/1 [00:00<00:00,  1.08it/s]\n"
     ]
    },
    {
     "name": "stdout",
     "output_type": "stream",
     "text": [
      "                    ambassador\n",
      "0  Nawagzada Agha Mohamed Raza\n",
      "False\n",
      "[3, 1, 'Ali Muhammad Rashidi', 'Nawagzada Agha Mohamed Raza']\n",
      "Nawagzada Agha Mohamed Raza\n"
     ]
    },
    {
     "name": "stderr",
     "output_type": "stream",
     "text": [
      "100%|█████████████████████████████████████████████████████████████████████████████████████████████████| 1/1 [00:00<00:00,  1.21it/s]\n",
      "100%|█████████████████████████████████████████████████████████████████████████████████████████████████| 1/1 [00:01<00:00,  1.33s/it]\n"
     ]
    },
    {
     "name": "stdout",
     "output_type": "stream",
     "text": [
      "Title: Mohamed Raza --- Sentence: 'Mohamed Raza Hassanali Dharamsi (born 18 July 1962), popularly known as Mohamed Raza, is a Zanzibari businessman and CCM politician currently representing the Uzini constituency in the Zanzibar House of Representatives.' --- Label: {}\n"
     ]
    },
    {
     "name": "stderr",
     "output_type": "stream",
     "text": [
      "100%|█████████████████████████████████████████████████████████████████████████████████████████████████| 1/1 [00:00<00:00,  1.02it/s]\n"
     ]
    },
    {
     "name": "stdout",
     "output_type": "stream",
     "text": [
      "Title: Mohamed Raza --- Sentence: 'Raza was born in the Sultanate of Zanzibar to parents of Indian ancestry.' --- Label: {}\n"
     ]
    },
    {
     "name": "stderr",
     "output_type": "stream",
     "text": [
      "100%|█████████████████████████████████████████████████████████████████████████████████████████████████| 1/1 [00:00<00:00,  2.06it/s]\n",
      "100%|█████████████████████████████████████████████████████████████████████████████████████████████████| 1/1 [00:00<00:00,  1.66it/s]\n",
      "100%|█████████████████████████████████████████████████████████████████████████████████████████████████| 1/1 [00:00<00:00,  1.86it/s]\n",
      "100%|█████████████████████████████████████████████████████████████████████████████████████████████████| 1/1 [00:00<00:00,  1.95it/s]\n",
      "100%|█████████████████████████████████████████████████████████████████████████████████████████████████| 1/1 [00:00<00:00,  2.00it/s]\n",
      "100%|█████████████████████████████████████████████████████████████████████████████████████████████████| 1/1 [00:00<00:00,  2.21it/s]\n",
      "100%|█████████████████████████████████████████████████████████████████████████████████████████████████| 1/1 [00:00<00:00,  1.86it/s]\n"
     ]
    },
    {
     "name": "stdout",
     "output_type": "stream",
     "text": [
      "  Representing Jamaica of Year Representing Jamaica of Competition  \\\n",
      "0    World Youth Championships                    Donetsk, Ukraine   \n",
      "\n",
      "  Representing Jamaica of Venue Representing Jamaica of Position  \n",
      "0                       3:09.13             110m hurdles (91 cm)  \n",
      "True\n",
      "\n",
      "World Youth Championships\n",
      "Donetsk\n",
      "Ukraine\n"
     ]
    },
    {
     "name": "stderr",
     "output_type": "stream",
     "text": [
      "100%|█████████████████████████████████████████████████████████████████████████████████████████████████| 1/1 [00:00<00:00,  1.59it/s]\n",
      "100%|█████████████████████████████████████████████████████████████████████████████████████████████████| 1/1 [00:00<00:00,  1.77it/s]\n"
     ]
    },
    {
     "name": "stdout",
     "output_type": "stream",
     "text": [
      "Similarity:  Ukraine (, ) is a country in Eastern Europe. 0.6490752696990967\n",
      "Similarity:  Ukraine (, ) is a country in Eastern Europe. 0.4142248332500458\n",
      "Similarity:  Ukraine (, ) is a country in Eastern Europe. 0.4470093548297882\n",
      "Title: Ukraine --- Sentence: 'Ukraine (, ) is a country in Eastern Europe.' --- Label: {}\n"
     ]
    },
    {
     "name": "stderr",
     "output_type": "stream",
     "text": [
      "100%|█████████████████████████████████████████████████████████████████████████████████████████████████| 1/1 [00:00<00:00,  1.80it/s]\n"
     ]
    },
    {
     "name": "stdout",
     "output_type": "stream",
     "text": [
      "Similarity:  It is the second largest country in Europe after Russia, which borders it to the east and north-east. 0.6976652145385742\n",
      "Similarity:  It is the second largest country in Europe after Russia, which borders it to the east and north-east. 0.549197256565094\n",
      "Similarity:  It is the second largest country in Europe after Russia, which borders it to the east and north-east. 0.6258424520492554\n",
      "Title: Ukraine --- Sentence: 'It is the second largest country in Europe after Russia, which borders it to the east and north-east.' --- Label: {}\n"
     ]
    },
    {
     "name": "stderr",
     "output_type": "stream",
     "text": [
      "100%|█████████████████████████████████████████████████████████████████████████████████████████████████| 2/2 [00:02<00:00,  1.10s/it]\n"
     ]
    },
    {
     "name": "stdout",
     "output_type": "stream",
     "text": [
      "Similarity:  Ukraine also shares borders with Belarus to the north; Poland, Slovakia, and Hungary to the west; Romania and Moldova to the south; and has a coastline along the Sea of Azov and the Black Sea. 0.676727831363678\n",
      "Similarity:  Ukraine also shares borders with Belarus to the north; Poland, Slovakia, and Hungary to the west; Romania and Moldova to the south; and has a coastline along the Sea of Azov and the Black Sea. 0.4286196529865265\n",
      "Similarity:  Ukraine also shares borders with Belarus to the north; Poland, Slovakia, and Hungary to the west; Romania and Moldova to the south; and has a coastline along the Sea of Azov and the Black Sea. 0.5045167803764343\n",
      "Title: Ukraine --- Sentence: 'Ukraine also shares borders with Belarus to the north; Poland, Slovakia, and Hungary to the west; Romania and Moldova to the south; and has a coastline along the Sea of Azov and the Black Sea.' --- Label: {}\n"
     ]
    },
    {
     "name": "stderr",
     "output_type": "stream",
     "text": [
      "100%|█████████████████████████████████████████████████████████████████████████████████████████████████| 1/1 [00:00<00:00,  1.34it/s]\n"
     ]
    },
    {
     "name": "stdout",
     "output_type": "stream",
     "text": [
      "Similarity:  The nation's capital and largest city is Kyiv. 0.615467369556427\n",
      "Similarity:  The nation's capital and largest city is Kyiv. 0.40569180250167847\n",
      "Similarity:  The nation's capital and largest city is Kyiv. 0.41814738512039185\n",
      "Title: Ukraine --- Sentence: 'The nation's capital and largest city is Kyiv.' --- Label: {}\n"
     ]
    },
    {
     "name": "stderr",
     "output_type": "stream",
     "text": [
      "100%|█████████████████████████████████████████████████████████████████████████████████████████████████| 1/1 [00:00<00:00,  1.17it/s]\n"
     ]
    },
    {
     "name": "stdout",
     "output_type": "stream",
     "text": [
      "Similarity:  The official and national language is Ukrainian, and most people are also fluent in Russian. 0.6485962867736816\n",
      "Similarity:  The official and national language is Ukrainian, and most people are also fluent in Russian. 0.29352083802223206\n",
      "Similarity:  The official and national language is Ukrainian, and most people are also fluent in Russian. 0.39507371187210083\n",
      "Title: Ukraine --- Sentence: 'The official and national language is Ukrainian, and most people are also fluent in Russian.' --- Label: {}\n"
     ]
    },
    {
     "name": "stderr",
     "output_type": "stream",
     "text": [
      "100%|█████████████████████████████████████████████████████████████████████████████████████████████████| 1/1 [00:00<00:00,  1.05it/s]\n",
      "100%|█████████████████████████████████████████████████████████████████████████████████████████████████| 1/1 [00:01<00:00,  1.19s/it]\n",
      "100%|█████████████████████████████████████████████████████████████████████████████████████████████████| 1/1 [00:01<00:00,  1.35s/it]\n"
     ]
    },
    {
     "name": "stdout",
     "output_type": "stream",
     "text": [
      "Similarity:  The Cossack Hetmanate emerged in Central Ukraine in the 17th century but was partitioned between Russia and Poland, and ultimately completely absorbed by the Russian Empire. 0.6147025227546692\n",
      "Similarity:  The Cossack Hetmanate emerged in Central Ukraine in the 17th century but was partitioned between Russia and Poland, and ultimately completely absorbed by the Russian Empire. 0.3469901978969574\n",
      "Similarity:  The Cossack Hetmanate emerged in Central Ukraine in the 17th century but was partitioned between Russia and Poland, and ultimately completely absorbed by the Russian Empire. 0.43768879771232605\n",
      "Title: Ukraine --- Sentence: 'The Cossack Hetmanate emerged in Central Ukraine in the 17th century but was partitioned between Russia and Poland, and ultimately completely absorbed by the Russian Empire.' --- Label: {}\n"
     ]
    },
    {
     "name": "stderr",
     "output_type": "stream",
     "text": [
      "100%|█████████████████████████████████████████████████████████████████████████████████████████████████| 1/1 [00:01<00:00,  1.01s/it]\n"
     ]
    },
    {
     "name": "stdout",
     "output_type": "stream",
     "text": [
      "Similarity:  The 19th century saw the growth of Ukrainian nationalism, particularly in Galicia, then part of Austria-Hungary. 0.5424754619598389\n",
      "Similarity:  The 19th century saw the growth of Ukrainian nationalism, particularly in Galicia, then part of Austria-Hungary. 0.3161519765853882\n",
      "Similarity:  The 19th century saw the growth of Ukrainian nationalism, particularly in Galicia, then part of Austria-Hungary. 0.3892866373062134\n",
      "Title: Ukraine --- Sentence: 'The 19th century saw the growth of Ukrainian nationalism, particularly in Galicia, then part of Austria-Hungary.' --- Label: {}\n"
     ]
    },
    {
     "name": "stderr",
     "output_type": "stream",
     "text": [
      "100%|█████████████████████████████████████████████████████████████████████████████████████████████████| 1/1 [00:01<00:00,  1.44s/it]\n"
     ]
    },
    {
     "name": "stdout",
     "output_type": "stream",
     "text": [
      "Similarity:  In the aftermath of the Russian Revolution a Ukrainian national movement re-emerged, and the Ukrainian People's Republic was formed in 1917. 0.7365959286689758\n",
      "Similarity:  In the aftermath of the Russian Revolution a Ukrainian national movement re-emerged, and the Ukrainian People's Republic was formed in 1917. 0.37712937593460083\n",
      "Similarity:  In the aftermath of the Russian Revolution a Ukrainian national movement re-emerged, and the Ukrainian People's Republic was formed in 1917. 0.5039806365966797\n",
      "Title: Ukraine --- Sentence: 'In the aftermath of the Russian Revolution a Ukrainian national movement re-emerged, and the Ukrainian People's Republic was formed in 1917.' --- Label: {}\n"
     ]
    },
    {
     "name": "stderr",
     "output_type": "stream",
     "text": [
      "100%|█████████████████████████████████████████████████████████████████████████████████████████████████| 1/1 [00:01<00:00,  1.02s/it]\n"
     ]
    },
    {
     "name": "stdout",
     "output_type": "stream",
     "text": [
      "Similarity:  This short-lived state was forcibly reconstituted into the Ukrainian Soviet Socialist Republic, which became a founding member of the Soviet Union (USSR) in 1922. 0.7367926836013794\n",
      "Similarity:  This short-lived state was forcibly reconstituted into the Ukrainian Soviet Socialist Republic, which became a founding member of the Soviet Union (USSR) in 1922. 0.35738468170166016\n",
      "Similarity:  This short-lived state was forcibly reconstituted into the Ukrainian Soviet Socialist Republic, which became a founding member of the Soviet Union (USSR) in 1922. 0.5301284790039062\n",
      "Title: Ukraine --- Sentence: 'This short-lived state was forcibly reconstituted into the Ukrainian Soviet Socialist Republic, which became a founding member of the Soviet Union (USSR) in 1922.' --- Label: {'Representing Jamaica of Competition': (0, tensor([9.6040e-01, 3.9343e-02, 2.5712e-04], grad_fn=<SoftmaxBackward0>))}\n"
     ]
    },
    {
     "name": "stderr",
     "output_type": "stream",
     "text": [
      "100%|█████████████████████████████████████████████████████████████████████████████████████████████████| 1/1 [00:00<00:00,  1.57it/s]\n"
     ]
    },
    {
     "name": "stdout",
     "output_type": "stream",
     "text": [
      "Similarity:  From 1932 to 1937 the Holodomor killed millions of Ukrainians. 0.4726563096046448\n",
      "Similarity:  From 1932 to 1937 the Holodomor killed millions of Ukrainians. 0.39232751727104187\n",
      "Similarity:  From 1932 to 1937 the Holodomor killed millions of Ukrainians. 0.4231334924697876\n",
      "Title: Ukraine --- Sentence: 'From 1932 to 1937 the Holodomor killed millions of Ukrainians.' --- Label: {}\n"
     ]
    },
    {
     "name": "stderr",
     "output_type": "stream",
     "text": [
      "100%|█████████████████████████████████████████████████████████████████████████████████████████████████| 2/2 [00:02<00:00,  1.24s/it]\n"
     ]
    },
    {
     "name": "stdout",
     "output_type": "stream",
     "text": [
      "Similarity:  In 1939, Western Ukraine was annexed from Poland by the USSR, four weeks after the signing of the Molotov–Ribbentrop Pact between Germany and the Soviet Union, and one day after the Supreme Soviet of the Soviet Union had approved the pact.Collier, Martin, and Pedley, Philip Germany 1919–45 (2000) p. 146 Between 1922 and 1991, Ukraine was the most populous and industrialised republic after the Russian SFSR. 0.655707597732544\n",
      "Similarity:  In 1939, Western Ukraine was annexed from Poland by the USSR, four weeks after the signing of the Molotov–Ribbentrop Pact between Germany and the Soviet Union, and one day after the Supreme Soviet of the Soviet Union had approved the pact.Collier, Martin, and Pedley, Philip Germany 1919–45 (2000) p. 146 Between 1922 and 1991, Ukraine was the most populous and industrialised republic after the Russian SFSR. 0.4946027994155884\n",
      "Similarity:  In 1939, Western Ukraine was annexed from Poland by the USSR, four weeks after the signing of the Molotov–Ribbentrop Pact between Germany and the Soviet Union, and one day after the Supreme Soviet of the Soviet Union had approved the pact.Collier, Martin, and Pedley, Philip Germany 1919–45 (2000) p. 146 Between 1922 and 1991, Ukraine was the most populous and industrialised republic after the Russian SFSR. 0.5655943155288696\n",
      "Title: Ukraine --- Sentence: 'In 1939, Western Ukraine was annexed from Poland by the USSR, four weeks after the signing of the Molotov–Ribbentrop Pact between Germany and the Soviet Union, and one day after the Supreme Soviet of the Soviet Union had approved the pact.Collier, Martin, and Pedley, Philip Germany 1919–45 (2000) p. 146 Between 1922 and 1991, Ukraine was the most populous and industrialised republic after the Russian SFSR.' --- Label: {}\n"
     ]
    },
    {
     "name": "stderr",
     "output_type": "stream",
     "text": [
      "100%|█████████████████████████████████████████████████████████████████████████████████████████████████| 1/1 [00:00<00:00,  2.11it/s]\n"
     ]
    },
    {
     "name": "stdout",
     "output_type": "stream",
     "text": [
      "Similarity:  Ukraine regained its independence in 1991 with the dissolution of the Soviet Union. 0.6925930976867676\n",
      "Similarity:  Ukraine regained its independence in 1991 with the dissolution of the Soviet Union. 0.35427093505859375\n",
      "Similarity:  Ukraine regained its independence in 1991 with the dissolution of the Soviet Union. 0.5486607551574707\n",
      "Title: Ukraine --- Sentence: 'Ukraine regained its independence in 1991 with the dissolution of the Soviet Union.' --- Label: {}\n"
     ]
    },
    {
     "name": "stderr",
     "output_type": "stream",
     "text": [
      "100%|█████████████████████████████████████████████████████████████████████████████████████████████████| 1/1 [00:00<00:00,  1.84it/s]\n"
     ]
    },
    {
     "name": "stdout",
     "output_type": "stream",
     "text": [
      "Similarity:  Since its independence, Ukraine has been governed as a unitary republic under a semi-presidential system. 0.6966836452484131\n",
      "Similarity:  Since its independence, Ukraine has been governed as a unitary republic under a semi-presidential system. 0.29110243916511536\n",
      "Similarity:  Since its independence, Ukraine has been governed as a unitary republic under a semi-presidential system. 0.40133851766586304\n",
      "Title: Ukraine --- Sentence: 'Since its independence, Ukraine has been governed as a unitary republic under a semi-presidential system.' --- Label: {}\n"
     ]
    },
    {
     "name": "stderr",
     "output_type": "stream",
     "text": [
      "100%|█████████████████████████████████████████████████████████████████████████████████████████████████| 1/1 [00:00<00:00,  1.46it/s]\n",
      "100%|█████████████████████████████████████████████████████████████████████████████████████████████████| 1/1 [00:00<00:00,  1.68it/s]\n",
      "100%|█████████████████████████████████████████████████████████████████████████████████████████████████| 1/1 [00:01<00:00,  1.14s/it]\n"
     ]
    },
    {
     "name": "stdout",
     "output_type": "stream",
     "text": [
      "Similarity:  These events led to Russia annexing Crimea and a war in Donbas against Russian-backed separatists, culminating in a Russian invasion in February 2022. 0.7252895832061768\n",
      "Similarity:  These events led to Russia annexing Crimea and a war in Donbas against Russian-backed separatists, culminating in a Russian invasion in February 2022. 0.3103299140930176\n",
      "Similarity:  These events led to Russia annexing Crimea and a war in Donbas against Russian-backed separatists, culminating in a Russian invasion in February 2022. 0.4884321689605713\n",
      "Title: Ukraine --- Sentence: 'These events led to Russia annexing Crimea and a war in Donbas against Russian-backed separatists, culminating in a Russian invasion in February 2022.' --- Label: {'Representing Jamaica of Competition': (0, tensor([7.8537e-01, 2.1444e-01, 1.9402e-04], grad_fn=<SoftmaxBackward0>))}\n"
     ]
    },
    {
     "name": "stderr",
     "output_type": "stream",
     "text": [
      "100%|█████████████████████████████████████████████████████████████████████████████████████████████████| 1/1 [00:01<00:00,  1.28s/it]\n"
     ]
    },
    {
     "name": "stdout",
     "output_type": "stream",
     "text": [
      "Similarity:  Ukraine has continued seeking closer economic, political, and military ties with the West (particularly NATO) amid ongoing war with Russia. 0.702967643737793\n",
      "Similarity:  Ukraine has continued seeking closer economic, political, and military ties with the West (particularly NATO) amid ongoing war with Russia. 0.41439276933670044\n",
      "Similarity:  Ukraine has continued seeking closer economic, political, and military ties with the West (particularly NATO) amid ongoing war with Russia. 0.44963744282722473\n",
      "Title: Ukraine --- Sentence: 'Ukraine has continued seeking closer economic, political, and military ties with the West (particularly NATO) amid ongoing war with Russia.' --- Label: {}\n"
     ]
    },
    {
     "name": "stderr",
     "output_type": "stream",
     "text": [
      "100%|█████████████████████████████████████████████████████████████████████████████████████████████████| 1/1 [00:00<00:00,  1.02it/s]\n"
     ]
    },
    {
     "name": "stdout",
     "output_type": "stream",
     "text": [
      "Similarity:  Ukraine is among the poorest countries in Europe and suffers from widespread corruption according to various international monitors. 0.7710832357406616\n",
      "Similarity:  Ukraine is among the poorest countries in Europe and suffers from widespread corruption according to various international monitors. 0.4895502030849457\n",
      "Similarity:  Ukraine is among the poorest countries in Europe and suffers from widespread corruption according to various international monitors. 0.5214651226997375\n",
      "Title: Ukraine --- Sentence: 'Ukraine is among the poorest countries in Europe and suffers from widespread corruption according to various international monitors.' --- Label: {}\n"
     ]
    },
    {
     "name": "stderr",
     "output_type": "stream",
     "text": [
      "100%|█████████████████████████████████████████████████████████████████████████████████████████████████| 1/1 [00:00<00:00,  1.31it/s]\n"
     ]
    },
    {
     "name": "stdout",
     "output_type": "stream",
     "text": [
      "Similarity:  However, due to its extensive fertile land, pre-war Ukraine was one of the largest grain exporters in the world. 0.6899043321609497\n",
      "Similarity:  However, due to its extensive fertile land, pre-war Ukraine was one of the largest grain exporters in the world. 0.42898833751678467\n",
      "Similarity:  However, due to its extensive fertile land, pre-war Ukraine was one of the largest grain exporters in the world. 0.494189590215683\n",
      "Title: Ukraine --- Sentence: 'However, due to its extensive fertile land, pre-war Ukraine was one of the largest grain exporters in the world.' --- Label: {}\n"
     ]
    },
    {
     "name": "stderr",
     "output_type": "stream",
     "text": [
      "100%|█████████████████████████████████████████████████████████████████████████████████████████████████| 1/1 [00:01<00:00,  1.13s/it]\n",
      "100%|█████████████████████████████████████████████████████████████████████████████████████████████████| 1/1 [00:00<00:00,  1.28it/s]\n"
     ]
    },
    {
     "name": "stdout",
     "output_type": "stream",
     "text": [
      "Similarity:  There are different hypotheses as to the etymological origins of the name of Ukraine. 0.7270522713661194\n",
      "Similarity:  There are different hypotheses as to the etymological origins of the name of Ukraine. 0.3613640069961548\n",
      "Similarity:  There are different hypotheses as to the etymological origins of the name of Ukraine. 0.4843941330909729\n",
      "Title: Ukraine --- Sentence: 'There are different hypotheses as to the etymological origins of the name of Ukraine.' --- Label: {}\n"
     ]
    },
    {
     "name": "stderr",
     "output_type": "stream",
     "text": [
      "100%|█████████████████████████████████████████████████████████████████████████████████████████████████| 1/1 [00:01<00:00,  1.31s/it]\n",
      "100%|█████████████████████████████████████████████████████████████████████████████████████████████████| 1/1 [00:00<00:00,  1.07it/s]\n"
     ]
    },
    {
     "name": "stdout",
     "output_type": "stream",
     "text": [
      "Similarity:  During most of the 20th century, Ukraine (whether independent or not) was referred to in the English-speaking world prefaced with the definite article, i.e., \"the Ukraine\". 0.6589845418930054\n",
      "Similarity:  During most of the 20th century, Ukraine (whether independent or not) was referred to in the English-speaking world prefaced with the definite article, i.e., \"the Ukraine\". 0.2674327492713928\n",
      "Similarity:  During most of the 20th century, Ukraine (whether independent or not) was referred to in the English-speaking world prefaced with the definite article, i.e., \"the Ukraine\". 0.41832172870635986\n",
      "Title: Ukraine --- Sentence: 'During most of the 20th century, Ukraine (whether independent or not) was referred to in the English-speaking world prefaced with the definite article, i.e., \"the Ukraine\".' --- Label: {}\n"
     ]
    },
    {
     "name": "stderr",
     "output_type": "stream",
     "text": [
      "100%|█████████████████████████████████████████████████████████████████████████████████████████████████| 1/1 [00:00<00:00,  1.10it/s]\n",
      "100%|█████████████████████████████████████████████████████████████████████████████████████████████████| 1/1 [00:00<00:00,  1.78it/s]\n"
     ]
    },
    {
     "name": "stdout",
     "output_type": "stream",
     "text": [
      "Similarity:  However, since Ukraine's declaration of independence in 1991, the use of the definite article in the name has become politicised and is now rarer, and style guides advise against its use. 0.6766204833984375\n",
      "Similarity:  However, since Ukraine's declaration of independence in 1991, the use of the definite article in the name has become politicised and is now rarer, and style guides advise against its use. 0.3653348684310913\n",
      "Similarity:  However, since Ukraine's declaration of independence in 1991, the use of the definite article in the name has become politicised and is now rarer, and style guides advise against its use. 0.5265272259712219\n",
      "Title: Ukraine --- Sentence: 'However, since Ukraine's declaration of independence in 1991, the use of the definite article in the name has become politicised and is now rarer, and style guides advise against its use.' --- Label: {}\n"
     ]
    },
    {
     "name": "stderr",
     "output_type": "stream",
     "text": [
      "100%|█████████████████████████████████████████████████████████████████████████████████████████████████| 1/1 [00:00<00:00,  1.17it/s]\n"
     ]
    },
    {
     "name": "stdout",
     "output_type": "stream",
     "text": [
      "Similarity:  According to US ambassador William Taylor, as of the 2010s using \"the Ukraine\" implies disregard for Ukrainian sovereignty. 0.6628631949424744\n",
      "Similarity:  According to US ambassador William Taylor, as of the 2010s using \"the Ukraine\" implies disregard for Ukrainian sovereignty. 0.34103506803512573\n",
      "Similarity:  According to US ambassador William Taylor, as of the 2010s using \"the Ukraine\" implies disregard for Ukrainian sovereignty. 0.5070011615753174\n",
      "Title: Ukraine --- Sentence: 'According to US ambassador William Taylor, as of the 2010s using \"the Ukraine\" implies disregard for Ukrainian sovereignty.' --- Label: {}\n"
     ]
    },
    {
     "name": "stderr",
     "output_type": "stream",
     "text": [
      "100%|█████████████████████████████████████████████████████████████████████████████████████████████████| 1/1 [00:00<00:00,  1.88it/s]\n"
     ]
    },
    {
     "name": "stdout",
     "output_type": "stream",
     "text": [
      "Similarity:  The official Ukrainian position is that \"the Ukraine\" is incorrect, both grammatically and politically. 0.6674576997756958\n",
      "Similarity:  The official Ukrainian position is that \"the Ukraine\" is incorrect, both grammatically and politically. 0.33862942457199097\n",
      "Similarity:  The official Ukrainian position is that \"the Ukraine\" is incorrect, both grammatically and politically. 0.41450411081314087\n",
      "Title: Ukraine --- Sentence: 'The official Ukrainian position is that \"the Ukraine\" is incorrect, both grammatically and politically.' --- Label: {}\n"
     ]
    },
    {
     "name": "stderr",
     "output_type": "stream",
     "text": [
      "100%|█████████████████████████████████████████████████████████████████████████████████████████████████| 1/1 [00:00<00:00,  1.13it/s]\n"
     ]
    },
    {
     "name": "stdout",
     "output_type": "stream",
     "text": [
      "Similarity:  Settlement by modern humans in Ukraine and its vicinity dates back to 32,000 BC, with evidence of the Gravettian culture in the Crimean Mountains. 0.6829419136047363\n",
      "Similarity:  Settlement by modern humans in Ukraine and its vicinity dates back to 32,000 BC, with evidence of the Gravettian culture in the Crimean Mountains. 0.41589778661727905\n",
      "Similarity:  Settlement by modern humans in Ukraine and its vicinity dates back to 32,000 BC, with evidence of the Gravettian culture in the Crimean Mountains. 0.5106237530708313\n",
      "Title: Ukraine --- Sentence: 'Settlement by modern humans in Ukraine and its vicinity dates back to 32,000 BC, with evidence of the Gravettian culture in the Crimean Mountains.' --- Label: {}\n"
     ]
    },
    {
     "name": "stderr",
     "output_type": "stream",
     "text": [
      "100%|█████████████████████████████████████████████████████████████████████████████████████████████████| 1/1 [00:00<00:00,  1.03it/s]\n"
     ]
    },
    {
     "name": "stdout",
     "output_type": "stream",
     "text": [
      "Similarity:  By 4,500 BC, the Neolithic Cucuteni–Trypillia culture was flourishing in wide areas of modern Ukraine, including Trypillia and the entire Dnieper-Dniester region. 0.552193284034729\n",
      "Similarity:  By 4,500 BC, the Neolithic Cucuteni–Trypillia culture was flourishing in wide areas of modern Ukraine, including Trypillia and the entire Dnieper-Dniester region. 0.4124097228050232\n",
      "Similarity:  By 4,500 BC, the Neolithic Cucuteni–Trypillia culture was flourishing in wide areas of modern Ukraine, including Trypillia and the entire Dnieper-Dniester region. 0.4771985411643982\n",
      "Title: Ukraine --- Sentence: 'By 4,500 BC, the Neolithic Cucuteni–Trypillia culture was flourishing in wide areas of modern Ukraine, including Trypillia and the entire Dnieper-Dniester region.' --- Label: {}\n"
     ]
    },
    {
     "name": "stderr",
     "output_type": "stream",
     "text": [
      "100%|█████████████████████████████████████████████████████████████████████████████████████████████████| 1/1 [00:00<00:00,  1.02it/s]\n"
     ]
    },
    {
     "name": "stdout",
     "output_type": "stream",
     "text": [
      "Similarity:  Ukraine is also considered to be the likely location of the first domestication of the horse.Matossian Shaping World History p. 43 During the Iron Age, the land was inhabited by Cimmerians, Scythians, and Sarmatians. 0.5973228216171265\n",
      "Similarity:  Ukraine is also considered to be the likely location of the first domestication of the horse.Matossian Shaping World History p. 43 During the Iron Age, the land was inhabited by Cimmerians, Scythians, and Sarmatians. 0.3833669424057007\n",
      "Similarity:  Ukraine is also considered to be the likely location of the first domestication of the horse.Matossian Shaping World History p. 43 During the Iron Age, the land was inhabited by Cimmerians, Scythians, and Sarmatians. 0.4141610264778137\n",
      "Title: Ukraine --- Sentence: 'Ukraine is also considered to be the likely location of the first domestication of the horse.Matossian Shaping World History p. 43 During the Iron Age, the land was inhabited by Cimmerians, Scythians, and Sarmatians.' --- Label: {}\n"
     ]
    },
    {
     "name": "stderr",
     "output_type": "stream",
     "text": [
      "100%|█████████████████████████████████████████████████████████████████████████████████████████████████| 1/1 [00:00<00:00,  1.49it/s]\n",
      "100%|█████████████████████████████████████████████████████████████████████████████████████████████████| 1/1 [00:01<00:00,  1.37s/it]\n",
      "100%|█████████████████████████████████████████████████████████████████████████████████████████████████| 1/1 [00:00<00:00,  1.44it/s]\n",
      "100%|█████████████████████████████████████████████████████████████████████████████████████████████████| 1/1 [00:00<00:00,  1.14it/s]\n"
     ]
    },
    {
     "name": "stdout",
     "output_type": "stream",
     "text": [
      "Similarity:  In the 7th century, the territory that is now eastern Ukraine was the centre of Old Great Bulgaria. 0.5059778094291687\n",
      "Similarity:  In the 7th century, the territory that is now eastern Ukraine was the centre of Old Great Bulgaria. 0.350979208946228\n",
      "Similarity:  In the 7th century, the territory that is now eastern Ukraine was the centre of Old Great Bulgaria. 0.36795225739479065\n",
      "Title: Ukraine --- Sentence: 'In the 7th century, the territory that is now eastern Ukraine was the centre of Old Great Bulgaria.' --- Label: {}\n"
     ]
    },
    {
     "name": "stderr",
     "output_type": "stream",
     "text": [
      "100%|█████████████████████████████████████████████████████████████████████████████████████████████████| 1/1 [00:00<00:00,  1.12it/s]\n",
      "100%|█████████████████████████████████████████████████████████████████████████████████████████████████| 1/1 [00:01<00:00,  1.01s/it]\n"
     ]
    },
    {
     "name": "stdout",
     "output_type": "stream",
     "text": [
      "Similarity:  In the 5th and 6th centuries, the Early Slavic, Antes people lived in Ukraine. 0.5961167812347412\n",
      "Similarity:  In the 5th and 6th centuries, the Early Slavic, Antes people lived in Ukraine. 0.24510322511196136\n",
      "Similarity:  In the 5th and 6th centuries, the Early Slavic, Antes people lived in Ukraine. 0.3749997317790985\n",
      "Title: Ukraine --- Sentence: 'In the 5th and 6th centuries, the Early Slavic, Antes people lived in Ukraine.' --- Label: {}\n"
     ]
    },
    {
     "name": "stderr",
     "output_type": "stream",
     "text": [
      "100%|█████████████████████████████████████████████████████████████████████████████████████████████████| 2/2 [00:02<00:00,  1.13s/it]\n"
     ]
    },
    {
     "name": "stdout",
     "output_type": "stream",
     "text": [
      "Similarity:  The Antes were the ancestors of Ukrainians: White Croats, Severians, Eastern Polans, Drevlyans, Dulebes, Ulichians, and Tiverians. 0.4848918616771698\n",
      "Similarity:  The Antes were the ancestors of Ukrainians: White Croats, Severians, Eastern Polans, Drevlyans, Dulebes, Ulichians, and Tiverians. 0.28621038794517517\n",
      "Similarity:  The Antes were the ancestors of Ukrainians: White Croats, Severians, Eastern Polans, Drevlyans, Dulebes, Ulichians, and Tiverians. 0.41938915848731995\n",
      "Title: Ukraine --- Sentence: 'The Antes were the ancestors of Ukrainians: White Croats, Severians, Eastern Polans, Drevlyans, Dulebes, Ulichians, and Tiverians.' --- Label: {}\n"
     ]
    },
    {
     "name": "stderr",
     "output_type": "stream",
     "text": [
      "100%|█████████████████████████████████████████████████████████████████████████████████████████████████| 1/1 [00:00<00:00,  1.18it/s]\n"
     ]
    },
    {
     "name": "stdout",
     "output_type": "stream",
     "text": [
      "Similarity:  Migrations from the territories of present-day Ukraine throughout the Balkans established many South Slavic nations. 0.6150140762329102\n",
      "Similarity:  Migrations from the territories of present-day Ukraine throughout the Balkans established many South Slavic nations. 0.31340253353118896\n",
      "Similarity:  Migrations from the territories of present-day Ukraine throughout the Balkans established many South Slavic nations. 0.4016619026660919\n",
      "Title: Ukraine --- Sentence: 'Migrations from the territories of present-day Ukraine throughout the Balkans established many South Slavic nations.' --- Label: {}\n"
     ]
    },
    {
     "name": "stderr",
     "output_type": "stream",
     "text": [
      "100%|█████████████████████████████████████████████████████████████████████████████████████████████████| 1/1 [00:02<00:00,  2.10s/it]\n",
      "100%|█████████████████████████████████████████████████████████████████████████████████████████████████| 1/1 [00:01<00:00,  1.06s/it]\n",
      "100%|█████████████████████████████████████████████████████████████████████████████████████████████████| 1/1 [00:00<00:00,  1.30it/s]\n"
     ]
    },
    {
     "name": "stdout",
     "output_type": "stream",
     "text": [
      "Title: Ukraine --- Sentence: 'Golden Age of Kyiv ' --- Label: (0, 0)\n"
     ]
    },
    {
     "name": "stderr",
     "output_type": "stream",
     "text": [
      "100%|█████████████████████████████████████████████████████████████████████████████████████████████████| 1/1 [00:00<00:00,  1.80it/s]\n",
      "100%|█████████████████████████████████████████████████████████████████████████████████████████████████| 1/1 [00:00<00:00,  1.91it/s]\n",
      "100%|█████████████████████████████████████████████████████████████████████████████████████████████████| 1/1 [00:00<00:00,  1.05it/s]\n"
     ]
    },
    {
     "name": "stdout",
     "output_type": "stream",
     "text": [
      "Similarity:  Lev Gumilev Center. 13 September 2012 In general, the state included much of present-day Ukraine, Belarus and Russia. 0.5707314610481262\n",
      "Similarity:  Lev Gumilev Center. 13 September 2012 In general, the state included much of present-day Ukraine, Belarus and Russia. 0.6046567559242249\n",
      "Similarity:  Lev Gumilev Center. 13 September 2012 In general, the state included much of present-day Ukraine, Belarus and Russia. 0.4661722779273987\n",
      "Title: Ukraine --- Sentence: 'Lev Gumilev Center. 13 September 2012 In general, the state included much of present-day Ukraine, Belarus and Russia.' --- Label: {}\n"
     ]
    },
    {
     "name": "stderr",
     "output_type": "stream",
     "text": [
      "100%|█████████████████████████████████████████████████████████████████████████████████████████████████| 2/2 [00:02<00:00,  1.05s/it]\n",
      "100%|█████████████████████████████████████████████████████████████████████████████████████████████████| 1/1 [00:00<00:00,  1.68it/s]\n",
      "100%|█████████████████████████████████████████████████████████████████████████████████████████████████| 1/1 [00:00<00:00,  1.76it/s]\n",
      "100%|█████████████████████████████████████████████████████████████████████████████████████████████████| 1/1 [00:00<00:00,  1.06it/s]\n",
      "100%|█████████████████████████████████████████████████████████████████████████████████████████████████| 1/1 [00:00<00:00,  1.56it/s]\n",
      "100%|█████████████████████████████████████████████████████████████████████████████████████████████████| 1/1 [00:01<00:00,  1.02s/it]\n",
      "100%|█████████████████████████████████████████████████████████████████████████████████████████████████| 1/1 [00:00<00:00,  1.23it/s]\n",
      "100%|█████████████████████████████████████████████████████████████████████████████████████████████████| 1/1 [00:01<00:00,  1.57s/it]\n",
      "100%|█████████████████████████████████████████████████████████████████████████████████████████████████| 1/1 [00:01<00:00,  1.02s/it]\n",
      "100%|█████████████████████████████████████████████████████████████████████████████████████████████████| 1/1 [00:01<00:00,  1.23s/it]\n"
     ]
    },
    {
     "name": "stdout",
     "output_type": "stream",
     "text": [
      "Similarity:  On today's Ukrainian territory, the principalities of Halych and Volodymyr-Volynskyi arose, and were merged into the state of Galicia–Volhynia. 0.5801491737365723\n",
      "Similarity:  On today's Ukrainian territory, the principalities of Halych and Volodymyr-Volynskyi arose, and were merged into the state of Galicia–Volhynia. 0.3524072766304016\n",
      "Similarity:  On today's Ukrainian territory, the principalities of Halych and Volodymyr-Volynskyi arose, and were merged into the state of Galicia–Volhynia. 0.476087361574173\n",
      "Title: Ukraine --- Sentence: 'On today's Ukrainian territory, the principalities of Halych and Volodymyr-Volynskyi arose, and were merged into the state of Galicia–Volhynia.' --- Label: {}\n"
     ]
    },
    {
     "name": "stderr",
     "output_type": "stream",
     "text": [
      "100%|█████████████████████████████████████████████████████████████████████████████████████████████████| 1/1 [00:01<00:00,  1.75s/it]\n"
     ]
    },
    {
     "name": "stdout",
     "output_type": "stream",
     "text": [
      "Similarity:  Daniel of Galicia, son of Roman the Great, re-united much of south-western Rus', including Volhynia, Galicia and the ancient capital of Kyiv. 0.552068829536438\n",
      "Similarity:  Daniel of Galicia, son of Roman the Great, re-united much of south-western Rus', including Volhynia, Galicia and the ancient capital of Kyiv. 0.35635828971862793\n",
      "Similarity:  Daniel of Galicia, son of Roman the Great, re-united much of south-western Rus', including Volhynia, Galicia and the ancient capital of Kyiv. 0.42040252685546875\n",
      "Title: Ukraine --- Sentence: 'Daniel of Galicia, son of Roman the Great, re-united much of south-western Rus', including Volhynia, Galicia and the ancient capital of Kyiv.' --- Label: {}\n"
     ]
    },
    {
     "name": "stderr",
     "output_type": "stream",
     "text": [
      "100%|█████████████████████████████████████████████████████████████████████████████████████████████████| 1/1 [00:00<00:00,  1.13it/s]\n",
      "100%|█████████████████████████████████████████████████████████████████████████████████████████████████| 1/1 [00:00<00:00,  1.00it/s]\n",
      "100%|█████████████████████████████████████████████████████████████████████████████████████████████████| 1/1 [00:01<00:00,  1.05s/it]\n"
     ]
    },
    {
     "name": "stdout",
     "output_type": "stream",
     "text": [
      "Similarity:  From the mid-13th century to the late 1400s the Republic of Genoa founded numerous colonies in the Black Sea region of modern Ukraine and transformed these into large commercial centers headed by the consul, a representative of the Republic. 0.6133369207382202\n",
      "Similarity:  From the mid-13th century to the late 1400s the Republic of Genoa founded numerous colonies in the Black Sea region of modern Ukraine and transformed these into large commercial centers headed by the consul, a representative of the Republic. 0.4538189172744751\n",
      "Similarity:  From the mid-13th century to the late 1400s the Republic of Genoa founded numerous colonies in the Black Sea region of modern Ukraine and transformed these into large commercial centers headed by the consul, a representative of the Republic. 0.4617967903614044\n",
      "Title: Ukraine --- Sentence: 'From the mid-13th century to the late 1400s the Republic of Genoa founded numerous colonies in the Black Sea region of modern Ukraine and transformed these into large commercial centers headed by the consul, a representative of the Republic.' --- Label: {}\n"
     ]
    },
    {
     "name": "stderr",
     "output_type": "stream",
     "text": [
      "100%|█████████████████████████████████████████████████████████████████████████████████████████████████| 1/1 [00:00<00:00,  1.00it/s]\n"
     ]
    },
    {
     "name": "stdout",
     "output_type": "stream",
     "text": [
      "Similarity:  In 1430, the region of Podolia was incorporated into Poland and Ukraine became increasingly settled by Polish colonisers. 0.526880145072937\n",
      "Similarity:  In 1430, the region of Podolia was incorporated into Poland and Ukraine became increasingly settled by Polish colonisers. 0.2711154818534851\n",
      "Similarity:  In 1430, the region of Podolia was incorporated into Poland and Ukraine became increasingly settled by Polish colonisers. 0.40872496366500854\n",
      "Title: Ukraine --- Sentence: 'In 1430, the region of Podolia was incorporated into Poland and Ukraine became increasingly settled by Polish colonisers.' --- Label: {}\n"
     ]
    },
    {
     "name": "stderr",
     "output_type": "stream",
     "text": [
      "100%|█████████████████████████████████████████████████████████████████████████████████████████████████| 1/1 [00:01<00:00,  1.44s/it]\n",
      "100%|█████████████████████████████████████████████████████████████████████████████████████████████████| 1/1 [00:01<00:00,  1.33s/it]\n",
      "100%|█████████████████████████████████████████████████████████████████████████████████████████████████| 1/1 [00:01<00:00,  1.22s/it]\n",
      "100%|█████████████████████████████████████████████████████████████████████████████████████████████████| 1/1 [00:00<00:00,  1.07it/s]\n",
      "100%|█████████████████████████████████████████████████████████████████████████████████████████████████| 1/1 [00:01<00:00,  1.10s/it]\n",
      "100%|█████████████████████████████████████████████████████████████████████████████████████████████████| 1/1 [00:01<00:00,  1.30s/it]\n"
     ]
    },
    {
     "name": "stdout",
     "output_type": "stream",
     "text": [
      "Similarity:  Poland exercised little real control over this population, but found the Cossacks to be useful against the Turks and Tatars, and at times the two were allies in military campaigns. 0.4934205710887909\n",
      "Similarity:  Poland exercised little real control over this population, but found the Cossacks to be useful against the Turks and Tatars, and at times the two were allies in military campaigns. 0.33239006996154785\n",
      "Similarity:  Poland exercised little real control over this population, but found the Cossacks to be useful against the Turks and Tatars, and at times the two were allies in military campaigns. 0.34582850337028503\n",
      "Title: Ukraine --- Sentence: 'Poland exercised little real control over this population, but found the Cossacks to be useful against the Turks and Tatars, and at times the two were allies in military campaigns.' --- Label: {}\n"
     ]
    },
    {
     "name": "stderr",
     "output_type": "stream",
     "text": [
      "100%|█████████████████████████████████████████████████████████████████████████████████████████████████| 1/1 [00:02<00:00,  2.65s/it]\n",
      "100%|█████████████████████████████████████████████████████████████████████████████████████████████████| 1/1 [00:00<00:00,  1.70it/s]\n",
      "100%|█████████████████████████████████████████████████████████████████████████████████████████████████| 1/1 [00:00<00:00,  1.82it/s]\n",
      "100%|█████████████████████████████████████████████████████████████████████████████████████████████████| 1/1 [00:01<00:00,  1.49s/it]\n"
     ]
    },
    {
     "name": "stdout",
     "output_type": "stream",
     "text": [
      "Similarity:  In 1648, Bohdan Khmelnytsky led the largest of the Cossack uprisings against the Commonwealth and the Polish king.Subtelny, pp. 123–124 After Khmelnytsky made an entry into Kyiv in 1648, where he was hailed liberator of the people from Polish captivity, he founded the Cossack Hetmanate, which existed until 1764 (some sources claim until 1782). 0.49388977885246277\n",
      "Similarity:  In 1648, Bohdan Khmelnytsky led the largest of the Cossack uprisings against the Commonwealth and the Polish king.Subtelny, pp. 123–124 After Khmelnytsky made an entry into Kyiv in 1648, where he was hailed liberator of the people from Polish captivity, he founded the Cossack Hetmanate, which existed until 1764 (some sources claim until 1782). 0.4886758029460907\n",
      "Similarity:  In 1648, Bohdan Khmelnytsky led the largest of the Cossack uprisings against the Commonwealth and the Polish king.Subtelny, pp. 123–124 After Khmelnytsky made an entry into Kyiv in 1648, where he was hailed liberator of the people from Polish captivity, he founded the Cossack Hetmanate, which existed until 1764 (some sources claim until 1782). 0.4724876880645752\n",
      "Title: Ukraine --- Sentence: 'In 1648, Bohdan Khmelnytsky led the largest of the Cossack uprisings against the Commonwealth and the Polish king.Subtelny, pp. 123–124 After Khmelnytsky made an entry into Kyiv in 1648, where he was hailed liberator of the people from Polish captivity, he founded the Cossack Hetmanate, which existed until 1764 (some sources claim until 1782).' --- Label: {}\n"
     ]
    },
    {
     "name": "stderr",
     "output_type": "stream",
     "text": [
      "100%|█████████████████████████████████████████████████████████████████████████████████████████████████| 1/1 [00:00<00:00,  1.70it/s]\n",
      "100%|█████████████████████████████████████████████████████████████████████████████████████████████████| 1/1 [00:01<00:00,  1.11s/it]\n"
     ]
    },
    {
     "name": "stdout",
     "output_type": "stream",
     "text": [
      "Similarity:  In 1654, Khmelnytsky was subject to the Pereyaslav Council, forming a military and political alliance with Russia that acknowledged loyalty to the Russian monarch. 0.4362671673297882\n",
      "Similarity:  In 1654, Khmelnytsky was subject to the Pereyaslav Council, forming a military and political alliance with Russia that acknowledged loyalty to the Russian monarch. 0.3250039219856262\n",
      "Similarity:  In 1654, Khmelnytsky was subject to the Pereyaslav Council, forming a military and political alliance with Russia that acknowledged loyalty to the Russian monarch. 0.3171965479850769\n",
      "Title: Ukraine --- Sentence: 'In 1654, Khmelnytsky was subject to the Pereyaslav Council, forming a military and political alliance with Russia that acknowledged loyalty to the Russian monarch.' --- Label: {}\n"
     ]
    },
    {
     "name": "stderr",
     "output_type": "stream",
     "text": [
      "100%|█████████████████████████████████████████████████████████████████████████████████████████████████| 1/1 [00:01<00:00,  1.80s/it]\n",
      "100%|█████████████████████████████████████████████████████████████████████████████████████████████████| 1/1 [00:01<00:00,  1.30s/it]\n"
     ]
    },
    {
     "name": "stdout",
     "output_type": "stream",
     "text": [
      "Similarity:  The \"Treaty of Perpetual Peace\" between Russia and Poland in 1686 divided the lands of the Cossack Hetmanate between them, reducing the portion over which Poland had claimed sovereignty. 0.5591458082199097\n",
      "Similarity:  The \"Treaty of Perpetual Peace\" between Russia and Poland in 1686 divided the lands of the Cossack Hetmanate between them, reducing the portion over which Poland had claimed sovereignty. 0.3406030535697937\n",
      "Similarity:  The \"Treaty of Perpetual Peace\" between Russia and Poland in 1686 divided the lands of the Cossack Hetmanate between them, reducing the portion over which Poland had claimed sovereignty. 0.462518572807312\n",
      "Title: Ukraine --- Sentence: 'The \"Treaty of Perpetual Peace\" between Russia and Poland in 1686 divided the lands of the Cossack Hetmanate between them, reducing the portion over which Poland had claimed sovereignty.' --- Label: {}\n"
     ]
    },
    {
     "name": "stderr",
     "output_type": "stream",
     "text": [
      "100%|█████████████████████████████████████████████████████████████████████████████████████████████████| 1/1 [00:01<00:00,  1.34s/it]\n",
      "100%|█████████████████████████████████████████████████████████████████████████████████████████████████| 1/1 [00:01<00:00,  1.21s/it]\n"
     ]
    },
    {
     "name": "stdout",
     "output_type": "stream",
     "text": [
      "Similarity:  In 1709, Cossack Hetman Ivan Mazepa (1639–1709) defected to Sweden against Russia in the Great Northern War (1700–1721). 0.5971519947052002\n",
      "Similarity:  In 1709, Cossack Hetman Ivan Mazepa (1639–1709) defected to Sweden against Russia in the Great Northern War (1700–1721). 0.5124692916870117\n",
      "Similarity:  In 1709, Cossack Hetman Ivan Mazepa (1639–1709) defected to Sweden against Russia in the Great Northern War (1700–1721). 0.5754088163375854\n",
      "Title: Ukraine --- Sentence: 'In 1709, Cossack Hetman Ivan Mazepa (1639–1709) defected to Sweden against Russia in the Great Northern War (1700–1721).' --- Label: {}\n"
     ]
    },
    {
     "name": "stderr",
     "output_type": "stream",
     "text": [
      "100%|█████████████████████████████████████████████████████████████████████████████████████████████████| 1/1 [00:01<00:00,  1.29s/it]\n"
     ]
    },
    {
     "name": "stdout",
     "output_type": "stream",
     "text": [
      "Similarity:  Eventually Tsar Peter recognized that to consolidate and modernize Russia's political and economic power it was necessary to do away with the Cossack Hetmanate as well as the Ukrainian and Cossack aspirations to autonomy. 0.6275734901428223\n",
      "Similarity:  Eventually Tsar Peter recognized that to consolidate and modernize Russia's political and economic power it was necessary to do away with the Cossack Hetmanate as well as the Ukrainian and Cossack aspirations to autonomy. 0.39943093061447144\n",
      "Similarity:  Eventually Tsar Peter recognized that to consolidate and modernize Russia's political and economic power it was necessary to do away with the Cossack Hetmanate as well as the Ukrainian and Cossack aspirations to autonomy. 0.438312292098999\n",
      "Title: Ukraine --- Sentence: 'Eventually Tsar Peter recognized that to consolidate and modernize Russia's political and economic power it was necessary to do away with the Cossack Hetmanate as well as the Ukrainian and Cossack aspirations to autonomy.' --- Label: {}\n"
     ]
    },
    {
     "name": "stderr",
     "output_type": "stream",
     "text": [
      "100%|█████████████████████████████████████████████████████████████████████████████████████████████████| 1/1 [00:01<00:00,  1.12s/it]\n",
      "100%|█████████████████████████████████████████████████████████████████████████████████████████████████| 1/1 [00:01<00:00,  1.11s/it]\n"
     ]
    },
    {
     "name": "stdout",
     "output_type": "stream",
     "text": [
      "Similarity:  In 1768, the Cossacks led yet another anti-Polish uprising, called Koliivshchyna, killing tens of thousands of Poles and Jews who settled Ukraine in the previous centuries. 0.47935542464256287\n",
      "Similarity:  In 1768, the Cossacks led yet another anti-Polish uprising, called Koliivshchyna, killing tens of thousands of Poles and Jews who settled Ukraine in the previous centuries. 0.3251569867134094\n",
      "Similarity:  In 1768, the Cossacks led yet another anti-Polish uprising, called Koliivshchyna, killing tens of thousands of Poles and Jews who settled Ukraine in the previous centuries. 0.384601354598999\n",
      "Title: Ukraine --- Sentence: 'In 1768, the Cossacks led yet another anti-Polish uprising, called Koliivshchyna, killing tens of thousands of Poles and Jews who settled Ukraine in the previous centuries.' --- Label: {}\n"
     ]
    },
    {
     "name": "stderr",
     "output_type": "stream",
     "text": [
      "100%|█████████████████████████████████████████████████████████████████████████████████████████████████| 1/1 [00:00<00:00,  1.74it/s]\n"
     ]
    },
    {
     "name": "stdout",
     "output_type": "stream",
     "text": [
      "Similarity:  Religious warfare also broke out between two Ukrainian groups. 0.6220859289169312\n",
      "Similarity:  Religious warfare also broke out between two Ukrainian groups. 0.2585631012916565\n",
      "Similarity:  Religious warfare also broke out between two Ukrainian groups. 0.37961286306381226\n",
      "Title: Ukraine --- Sentence: 'Religious warfare also broke out between two Ukrainian groups.' --- Label: {}\n"
     ]
    },
    {
     "name": "stderr",
     "output_type": "stream",
     "text": [
      "100%|█████████████████████████████████████████████████████████████████████████████████████████████████| 1/1 [00:00<00:00,  1.13it/s]\n",
      "100%|█████████████████████████████████████████████████████████████████████████████████████████████████| 1/1 [00:00<00:00,  1.05it/s]\n",
      "100%|█████████████████████████████████████████████████████████████████████████████████████████████████| 1/1 [00:01<00:00,  1.12s/it]\n",
      "100%|█████████████████████████████████████████████████████████████████████████████████████████████████| 1/1 [00:01<00:00,  1.25s/it]\n"
     ]
    },
    {
     "name": "stdout",
     "output_type": "stream",
     "text": [
      "Similarity:  After the annexation of Crimea by Russia in 1783, the newly acquired lands, now called Novorossiya were opened up to settlement by Russians.Ukraine under direct imperial Russian rule. 0.6208126544952393\n",
      "Similarity:  After the annexation of Crimea by Russia in 1783, the newly acquired lands, now called Novorossiya were opened up to settlement by Russians.Ukraine under direct imperial Russian rule. 0.2916818857192993\n",
      "Similarity:  After the annexation of Crimea by Russia in 1783, the newly acquired lands, now called Novorossiya were opened up to settlement by Russians.Ukraine under direct imperial Russian rule. 0.4158109426498413\n",
      "Title: Ukraine --- Sentence: 'After the annexation of Crimea by Russia in 1783, the newly acquired lands, now called Novorossiya were opened up to settlement by Russians.Ukraine under direct imperial Russian rule.' --- Label: {}\n"
     ]
    },
    {
     "name": "stderr",
     "output_type": "stream",
     "text": [
      "100%|█████████████████████████████████████████████████████████████████████████████████████████████████| 1/1 [00:00<00:00,  1.06it/s]\n",
      "100%|█████████████████████████████████████████████████████████████████████████████████████████████████| 1/1 [00:00<00:00,  1.05it/s]\n"
     ]
    },
    {
     "name": "stdout",
     "output_type": "stream",
     "text": [
      "Similarity:  The tsarist autocracy established a policy of Russification, suppressing the use of the Ukrainian language and curtailing the Ukrainian national identity. 0.6484845280647278\n",
      "Similarity:  The tsarist autocracy established a policy of Russification, suppressing the use of the Ukrainian language and curtailing the Ukrainian national identity. 0.29589974880218506\n",
      "Similarity:  The tsarist autocracy established a policy of Russification, suppressing the use of the Ukrainian language and curtailing the Ukrainian national identity. 0.3961065411567688\n",
      "Title: Ukraine --- Sentence: 'The tsarist autocracy established a policy of Russification, suppressing the use of the Ukrainian language and curtailing the Ukrainian national identity.' --- Label: {}\n"
     ]
    },
    {
     "name": "stderr",
     "output_type": "stream",
     "text": [
      "100%|█████████████████████████████████████████████████████████████████████████████████████████████████| 1/1 [00:01<00:00,  1.28s/it]\n"
     ]
    },
    {
     "name": "stdout",
     "output_type": "stream",
     "text": [
      "Similarity:  The western part of present-day Ukraine was subsequently split between Russia and Habsburg-ruled Austria after the fall of the Polish–Lithuanian Commonwealth in 1795. 0.6375632286071777\n",
      "Similarity:  The western part of present-day Ukraine was subsequently split between Russia and Habsburg-ruled Austria after the fall of the Polish–Lithuanian Commonwealth in 1795. 0.36646443605422974\n",
      "Similarity:  The western part of present-day Ukraine was subsequently split between Russia and Habsburg-ruled Austria after the fall of the Polish–Lithuanian Commonwealth in 1795. 0.529495120048523\n",
      "Title: Ukraine --- Sentence: 'The western part of present-day Ukraine was subsequently split between Russia and Habsburg-ruled Austria after the fall of the Polish–Lithuanian Commonwealth in 1795.' --- Label: {}\n"
     ]
    },
    {
     "name": "stderr",
     "output_type": "stream",
     "text": [
      "100%|█████████████████████████████████████████████████████████████████████████████████████████████████| 1/1 [00:01<00:00,  1.00s/it]\n"
     ]
    },
    {
     "name": "stdout",
     "output_type": "stream",
     "text": [
      "Similarity:  Beginning in the 19th century, there was migration from Ukraine to distant areas of the Russian Empire. 0.6283220052719116\n",
      "Similarity:  Beginning in the 19th century, there was migration from Ukraine to distant areas of the Russian Empire. 0.31405383348464966\n",
      "Similarity:  Beginning in the 19th century, there was migration from Ukraine to distant areas of the Russian Empire. 0.4449932873249054\n",
      "Title: Ukraine --- Sentence: 'Beginning in the 19th century, there was migration from Ukraine to distant areas of the Russian Empire.' --- Label: {}\n"
     ]
    },
    {
     "name": "stderr",
     "output_type": "stream",
     "text": [
      "100%|█████████████████████████████████████████████████████████████████████████████████████████████████| 1/1 [00:01<00:00,  1.59s/it]\n"
     ]
    },
    {
     "name": "stdout",
     "output_type": "stream",
     "text": [
      "Similarity:  According to the 1897 census, there were 223,000 ethnic Ukrainians in Siberia and 102,000 in Central Asia.Rainer Münz, Rainer Ohliger (2003). 0.640067994594574\n",
      "Similarity:  According to the 1897 census, there were 223,000 ethnic Ukrainians in Siberia and 102,000 in Central Asia.Rainer Münz, Rainer Ohliger (2003). 0.49904897809028625\n",
      "Similarity:  According to the 1897 census, there were 223,000 ethnic Ukrainians in Siberia and 102,000 in Central Asia.Rainer Münz, Rainer Ohliger (2003). 0.5717116594314575\n",
      "Title: Ukraine --- Sentence: 'According to the 1897 census, there were 223,000 ethnic Ukrainians in Siberia and 102,000 in Central Asia.Rainer Münz, Rainer Ohliger (2003).' --- Label: {}\n"
     ]
    },
    {
     "name": "stderr",
     "output_type": "stream",
     "text": [
      "100%|█████████████████████████████████████████████████████████████████████████████████████████████████| 1/1 [00:01<00:00,  1.60s/it]\n",
      "100%|█████████████████████████████████████████████████████████████████████████████████████████████████| 1/1 [00:00<00:00,  1.76it/s]\n",
      "100%|█████████████████████████████████████████████████████████████████████████████████████████████████| 1/1 [00:00<00:00,  1.97it/s]\n"
     ]
    },
    {
     "name": "stdout",
     "output_type": "stream",
     "text": [
      "Similarity:  \"Ukraine: a history.\". 0.40839749574661255\n",
      "Similarity:  \"Ukraine: a history.\". 0.2614818215370178\n",
      "Similarity:  \"Ukraine: a history.\". 0.2722223401069641\n",
      "Title: Ukraine --- Sentence: '\"Ukraine: a history.\".' --- Label: {}\n"
     ]
    },
    {
     "name": "stderr",
     "output_type": "stream",
     "text": [
      "100%|█████████████████████████████████████████████████████████████████████████████████████████████████| 1/1 [00:00<00:00,  1.75it/s]\n",
      "100%|█████████████████████████████████████████████████████████████████████████████████████████████████| 1/1 [00:00<00:00,  1.78it/s]\n"
     ]
    },
    {
     "name": "stdout",
     "output_type": "stream",
     "text": [
      "Similarity:  Far Eastern areas with an ethnic Ukrainian population became known as Green Ukraine.Jonathan D. Smele (2015). 0.5356489419937134\n",
      "Similarity:  Far Eastern areas with an ethnic Ukrainian population became known as Green Ukraine.Jonathan D. Smele (2015). 0.4169114828109741\n",
      "Similarity:  Far Eastern areas with an ethnic Ukrainian population became known as Green Ukraine.Jonathan D. Smele (2015). 0.41721588373184204\n",
      "Title: Ukraine --- Sentence: 'Far Eastern areas with an ethnic Ukrainian population became known as Green Ukraine.Jonathan D. Smele (2015).' --- Label: {}\n"
     ]
    },
    {
     "name": "stderr",
     "output_type": "stream",
     "text": [
      "100%|█████████████████████████████████████████████████████████████████████████████████████████████████| 1/1 [00:00<00:00,  2.09it/s]\n",
      "100%|█████████████████████████████████████████████████████████████████████████████████████████████████| 1/1 [00:00<00:00,  2.02it/s]\n",
      "100%|█████████████████████████████████████████████████████████████████████████████████████████████████| 1/1 [00:00<00:00,  1.51it/s]\n"
     ]
    },
    {
     "name": "stdout",
     "output_type": "stream",
     "text": [
      "Similarity:  The 19th century saw the rise of Ukrainian nationalism, particularly in Austrian Galicia under the relatively lenient rule of the Habsburgs. 0.5786460638046265\n",
      "Similarity:  The 19th century saw the rise of Ukrainian nationalism, particularly in Austrian Galicia under the relatively lenient rule of the Habsburgs. 0.3362468481063843\n",
      "Similarity:  The 19th century saw the rise of Ukrainian nationalism, particularly in Austrian Galicia under the relatively lenient rule of the Habsburgs. 0.41315963864326477\n",
      "Title: Ukraine --- Sentence: 'The 19th century saw the rise of Ukrainian nationalism, particularly in Austrian Galicia under the relatively lenient rule of the Habsburgs.' --- Label: {}\n"
     ]
    },
    {
     "name": "stderr",
     "output_type": "stream",
     "text": [
      "100%|█████████████████████████████████████████████████████████████████████████████████████████████████| 1/1 [00:00<00:00,  2.00it/s]\n"
     ]
    },
    {
     "name": "stdout",
     "output_type": "stream",
     "text": [
      "Similarity:  With growing urbanization and modernization, and a cultural trend toward romantic nationalism, a Ukrainian intelligentsia committed to national rebirth and social justice emerged. 0.6695467233657837\n",
      "Similarity:  With growing urbanization and modernization, and a cultural trend toward romantic nationalism, a Ukrainian intelligentsia committed to national rebirth and social justice emerged. 0.3150617778301239\n",
      "Similarity:  With growing urbanization and modernization, and a cultural trend toward romantic nationalism, a Ukrainian intelligentsia committed to national rebirth and social justice emerged. 0.39782142639160156\n",
      "Title: Ukraine --- Sentence: 'With growing urbanization and modernization, and a cultural trend toward romantic nationalism, a Ukrainian intelligentsia committed to national rebirth and social justice emerged.' --- Label: {}\n"
     ]
    },
    {
     "name": "stderr",
     "output_type": "stream",
     "text": [
      "100%|█████████████████████████████████████████████████████████████████████████████████████████████████| 1/1 [00:00<00:00,  1.75it/s]\n",
      "100%|█████████████████████████████████████████████████████████████████████████████████████████████████| 1/1 [00:01<00:00,  1.04s/it]\n"
     ]
    },
    {
     "name": "stdout",
     "output_type": "stream",
     "text": [
      "Similarity:  Ukrainians entered World War I on the side of both the Central Powers, under Austria, and the Triple Entente, under Russia. 0.6907528042793274\n",
      "Similarity:  Ukrainians entered World War I on the side of both the Central Powers, under Austria, and the Triple Entente, under Russia. 0.4298626184463501\n",
      "Similarity:  Ukrainians entered World War I on the side of both the Central Powers, under Austria, and the Triple Entente, under Russia. 0.5526193380355835\n",
      "Title: Ukraine --- Sentence: 'Ukrainians entered World War I on the side of both the Central Powers, under Austria, and the Triple Entente, under Russia.' --- Label: {}\n"
     ]
    },
    {
     "name": "stderr",
     "output_type": "stream",
     "text": [
      "100%|█████████████████████████████████████████████████████████████████████████████████████████████████| 1/1 [00:00<00:00,  1.23it/s]\n"
     ]
    },
    {
     "name": "stdout",
     "output_type": "stream",
     "text": [
      "Similarity:  Around 3.5 million Ukrainians fought with the Imperial Russian Army, while 250,000 fought for the Austro-Hungarian Army. 0.581677258014679\n",
      "Similarity:  Around 3.5 million Ukrainians fought with the Imperial Russian Army, while 250,000 fought for the Austro-Hungarian Army. 0.44037726521492004\n",
      "Similarity:  Around 3.5 million Ukrainians fought with the Imperial Russian Army, while 250,000 fought for the Austro-Hungarian Army. 0.4025646448135376\n",
      "Title: Ukraine --- Sentence: 'Around 3.5 million Ukrainians fought with the Imperial Russian Army, while 250,000 fought for the Austro-Hungarian Army.' --- Label: {}\n"
     ]
    },
    {
     "name": "stderr",
     "output_type": "stream",
     "text": [
      "100%|█████████████████████████████████████████████████████████████████████████████████████████████████| 1/1 [00:00<00:00,  1.28it/s]\n"
     ]
    },
    {
     "name": "stdout",
     "output_type": "stream",
     "text": [
      "Similarity:  During the Russian Revolution and War of Independence, the short-lived Ukrainian People's Republic was proclaimed on 23 June 1917. 0.7691428661346436\n",
      "Similarity:  During the Russian Revolution and War of Independence, the short-lived Ukrainian People's Republic was proclaimed on 23 June 1917. 0.4229974150657654\n",
      "Similarity:  During the Russian Revolution and War of Independence, the short-lived Ukrainian People's Republic was proclaimed on 23 June 1917. 0.5577895045280457\n",
      "Title: Ukraine --- Sentence: 'During the Russian Revolution and War of Independence, the short-lived Ukrainian People's Republic was proclaimed on 23 June 1917.' --- Label: {'Representing Jamaica of Competition': (0, tensor([0.9211, 0.0779, 0.0011], grad_fn=<SoftmaxBackward0>))}\n"
     ]
    },
    {
     "name": "stderr",
     "output_type": "stream",
     "text": [
      "100%|█████████████████████████████████████████████████████████████████████████████████████████████████| 1/1 [00:01<00:00,  1.49s/it]\n"
     ]
    },
    {
     "name": "stdout",
     "output_type": "stream",
     "text": [
      "Similarity:  The Bolshevik Ukrainian Soviet Socialist Republic (or Soviet Ukraine) successively established territories in the former Russian Empire; while the West Ukrainian People's Republic and the Hutsul Republic emerged briefly in the Ukrainian lands of former Austro-Hungarian territory. 0.6679500341415405\n",
      "Similarity:  The Bolshevik Ukrainian Soviet Socialist Republic (or Soviet Ukraine) successively established territories in the former Russian Empire; while the West Ukrainian People's Republic and the Hutsul Republic emerged briefly in the Ukrainian lands of former Austro-Hungarian territory. 0.34784454107284546\n",
      "Similarity:  The Bolshevik Ukrainian Soviet Socialist Republic (or Soviet Ukraine) successively established territories in the former Russian Empire; while the West Ukrainian People's Republic and the Hutsul Republic emerged briefly in the Ukrainian lands of former Austro-Hungarian territory. 0.46179717779159546\n",
      "Title: Ukraine --- Sentence: 'The Bolshevik Ukrainian Soviet Socialist Republic (or Soviet Ukraine) successively established territories in the former Russian Empire; while the West Ukrainian People's Republic and the Hutsul Republic emerged briefly in the Ukrainian lands of former Austro-Hungarian territory.' --- Label: {}\n"
     ]
    },
    {
     "name": "stderr",
     "output_type": "stream",
     "text": [
      "100%|█████████████████████████████████████████████████████████████████████████████████████████████████| 2/2 [00:02<00:00,  1.08s/it]\n"
     ]
    },
    {
     "name": "stdout",
     "output_type": "stream",
     "text": [
      "Similarity:  Following the Polish–Ukrainian War and the Polish–Soviet War, western Ukraine was incorporated into Poland and the Ukrainian Soviet Socialist Republic was formed in lands annexed by the Bolsheviks (1921 Peace of Riga). 0.6953400373458862\n",
      "Similarity:  Following the Polish–Ukrainian War and the Polish–Soviet War, western Ukraine was incorporated into Poland and the Ukrainian Soviet Socialist Republic was formed in lands annexed by the Bolsheviks (1921 Peace of Riga). 0.3339696526527405\n",
      "Similarity:  Following the Polish–Ukrainian War and the Polish–Soviet War, western Ukraine was incorporated into Poland and the Ukrainian Soviet Socialist Republic was formed in lands annexed by the Bolsheviks (1921 Peace of Riga). 0.46445441246032715\n",
      "Title: Ukraine --- Sentence: 'Following the Polish–Ukrainian War and the Polish–Soviet War, western Ukraine was incorporated into Poland and the Ukrainian Soviet Socialist Republic was formed in lands annexed by the Bolsheviks (1921 Peace of Riga).' --- Label: {}\n"
     ]
    },
    {
     "name": "stderr",
     "output_type": "stream",
     "text": [
      "100%|█████████████████████████████████████████████████████████████████████████████████████████████████| 1/1 [00:01<00:00,  1.24s/it]\n"
     ]
    },
    {
     "name": "stdout",
     "output_type": "stream",
     "text": [
      "Similarity:  Modern-day Bukovina was occupied by Romania and Carpathian Ruthenia was admitted to Czechoslovakia as an autonomy. 0.5749902129173279\n",
      "Similarity:  Modern-day Bukovina was occupied by Romania and Carpathian Ruthenia was admitted to Czechoslovakia as an autonomy. 0.3978257179260254\n",
      "Similarity:  Modern-day Bukovina was occupied by Romania and Carpathian Ruthenia was admitted to Czechoslovakia as an autonomy. 0.4107988476753235\n",
      "Title: Ukraine --- Sentence: 'Modern-day Bukovina was occupied by Romania and Carpathian Ruthenia was admitted to Czechoslovakia as an autonomy.' --- Label: {}\n"
     ]
    },
    {
     "name": "stderr",
     "output_type": "stream",
     "text": [
      "100%|█████████████████████████████████████████████████████████████████████████████████████████████████| 1/1 [00:01<00:00,  1.26s/it]\n"
     ]
    },
    {
     "name": "stdout",
     "output_type": "stream",
     "text": [
      "Similarity:  In Poland, the Polish government openly propagated anti-Ukrainian sentiment and restricted rights of people who declared Ukrainian nationality and belonged to the Eastern Orthodox Church. 0.571810781955719\n",
      "Similarity:  In Poland, the Polish government openly propagated anti-Ukrainian sentiment and restricted rights of people who declared Ukrainian nationality and belonged to the Eastern Orthodox Church. 0.2349487543106079\n",
      "Similarity:  In Poland, the Polish government openly propagated anti-Ukrainian sentiment and restricted rights of people who declared Ukrainian nationality and belonged to the Eastern Orthodox Church. 0.3818518817424774\n",
      "Title: Ukraine --- Sentence: 'In Poland, the Polish government openly propagated anti-Ukrainian sentiment and restricted rights of people who declared Ukrainian nationality and belonged to the Eastern Orthodox Church.' --- Label: {}\n"
     ]
    },
    {
     "name": "stderr",
     "output_type": "stream",
     "text": [
      "100%|█████████████████████████████████████████████████████████████████████████████████████████████████| 1/1 [00:01<00:00,  1.28s/it]\n"
     ]
    },
    {
     "name": "stdout",
     "output_type": "stream",
     "text": [
      "Similarity:  In consequence, an underground Ukrainian nationalist and militant movement arose in the 1920s and 1930s, which gradually transformed into the Ukrainian Military Organization and later the Organisation of Ukrainian Nationalists (OUN). 0.7053730487823486\n",
      "Similarity:  In consequence, an underground Ukrainian nationalist and militant movement arose in the 1920s and 1930s, which gradually transformed into the Ukrainian Military Organization and later the Organisation of Ukrainian Nationalists (OUN). 0.3823460042476654\n",
      "Similarity:  In consequence, an underground Ukrainian nationalist and militant movement arose in the 1920s and 1930s, which gradually transformed into the Ukrainian Military Organization and later the Organisation of Ukrainian Nationalists (OUN). 0.49915894865989685\n",
      "Title: Ukraine --- Sentence: 'In consequence, an underground Ukrainian nationalist and militant movement arose in the 1920s and 1930s, which gradually transformed into the Ukrainian Military Organization and later the Organisation of Ukrainian Nationalists (OUN).' --- Label: {}\n"
     ]
    },
    {
     "name": "stderr",
     "output_type": "stream",
     "text": [
      "100%|█████████████████████████████████████████████████████████████████████████████████████████████████| 1/1 [00:00<00:00,  2.04it/s]\n"
     ]
    },
    {
     "name": "stdout",
     "output_type": "stream",
     "text": [
      "Similarity:  Inter-war Soviet Ukraine  0.7291353344917297\n",
      "Similarity:  Inter-war Soviet Ukraine  0.3819293975830078\n",
      "Similarity:  Inter-war Soviet Ukraine  0.5594315528869629\n",
      "Title: Ukraine --- Sentence: 'Inter-war Soviet Ukraine ' --- Label: {'Representing Jamaica of Competition': (0, tensor([0.9577, 0.0390, 0.0034], grad_fn=<SoftmaxBackward0>))}\n"
     ]
    },
    {
     "name": "stderr",
     "output_type": "stream",
     "text": [
      "100%|█████████████████████████████████████████████████████████████████████████████████████████████████| 1/1 [00:00<00:00,  1.84it/s]\n"
     ]
    },
    {
     "name": "stdout",
     "output_type": "stream",
     "text": [
      "Similarity:  The Russian Civil War devastated the whole Russian Empire including eastern and central Ukraine. 0.6801421642303467\n",
      "Similarity:  The Russian Civil War devastated the whole Russian Empire including eastern and central Ukraine. 0.3612292408943176\n",
      "Similarity:  The Russian Civil War devastated the whole Russian Empire including eastern and central Ukraine. 0.4620397686958313\n",
      "Title: Ukraine --- Sentence: 'The Russian Civil War devastated the whole Russian Empire including eastern and central Ukraine.' --- Label: {}\n"
     ]
    },
    {
     "name": "stderr",
     "output_type": "stream",
     "text": [
      "100%|█████████████████████████████████████████████████████████████████████████████████████████████████| 1/1 [00:00<00:00,  1.93it/s]\n",
      "100%|█████████████████████████████████████████████████████████████████████████████████████████████████| 1/1 [00:00<00:00,  1.06it/s]\n"
     ]
    },
    {
     "name": "stdout",
     "output_type": "stream",
     "text": [
      "Similarity:  Soviet Ukraine also faced the Russian famine of 1921 (primarily affecting the Russian Volga-Ural region). 0.7596288919448853\n",
      "Similarity:  Soviet Ukraine also faced the Russian famine of 1921 (primarily affecting the Russian Volga-Ural region). 0.42488542199134827\n",
      "Similarity:  Soviet Ukraine also faced the Russian famine of 1921 (primarily affecting the Russian Volga-Ural region). 0.5220960378646851\n",
      "Title: Ukraine --- Sentence: 'Soviet Ukraine also faced the Russian famine of 1921 (primarily affecting the Russian Volga-Ural region).' --- Label: {}\n"
     ]
    },
    {
     "name": "stderr",
     "output_type": "stream",
     "text": [
      "100%|█████████████████████████████████████████████████████████████████████████████████████████████████| 1/1 [00:01<00:00,  1.00s/it]\n"
     ]
    },
    {
     "name": "stdout",
     "output_type": "stream",
     "text": [
      "Similarity:  During the 1920s,Subtelny, p. 380 under the Ukrainisation policy pursued by the national Communist leadership of Mykola Skrypnyk, Soviet leadership encouraged a national renaissance in Ukrainian culture and language. 0.5185748338699341\n",
      "Similarity:  During the 1920s,Subtelny, p. 380 under the Ukrainisation policy pursued by the national Communist leadership of Mykola Skrypnyk, Soviet leadership encouraged a national renaissance in Ukrainian culture and language. 0.29048076272010803\n",
      "Similarity:  During the 1920s,Subtelny, p. 380 under the Ukrainisation policy pursued by the national Communist leadership of Mykola Skrypnyk, Soviet leadership encouraged a national renaissance in Ukrainian culture and language. 0.44123727083206177\n",
      "Title: Ukraine --- Sentence: 'During the 1920s,Subtelny, p. 380 under the Ukrainisation policy pursued by the national Communist leadership of Mykola Skrypnyk, Soviet leadership encouraged a national renaissance in Ukrainian culture and language.' --- Label: {}\n"
     ]
    },
    {
     "name": "stderr",
     "output_type": "stream",
     "text": [
      "100%|█████████████████████████████████████████████████████████████████████████████████████████████████| 1/1 [00:00<00:00,  1.84it/s]\n",
      "100%|█████████████████████████████████████████████████████████████████████████████████████████████████| 1/1 [00:00<00:00,  1.87it/s]\n"
     ]
    },
    {
     "name": "stdout",
     "output_type": "stream",
     "text": [
      "Similarity:  Starting from the late 1920s with a centrally planned economy, Soviet Ukraine took part in an industrialisation scheme which quadrupled its industrial output during the 1930s. 0.6055158376693726\n",
      "Similarity:  Starting from the late 1920s with a centrally planned economy, Soviet Ukraine took part in an industrialisation scheme which quadrupled its industrial output during the 1930s. 0.33628368377685547\n",
      "Similarity:  Starting from the late 1920s with a centrally planned economy, Soviet Ukraine took part in an industrialisation scheme which quadrupled its industrial output during the 1930s. 0.45333918929100037\n",
      "Title: Ukraine --- Sentence: 'Starting from the late 1920s with a centrally planned economy, Soviet Ukraine took part in an industrialisation scheme which quadrupled its industrial output during the 1930s.' --- Label: {}\n"
     ]
    },
    {
     "name": "stderr",
     "output_type": "stream",
     "text": [
      "100%|█████████████████████████████████████████████████████████████████████████████████████████████████| 1/1 [00:00<00:00,  1.73it/s]\n"
     ]
    },
    {
     "name": "stdout",
     "output_type": "stream",
     "text": [
      "Similarity:  During the early Soviet period, the Ukrainian peasantry suffered from the programme of collectivization of agricultural crops. 0.6721677780151367\n",
      "Similarity:  During the early Soviet period, the Ukrainian peasantry suffered from the programme of collectivization of agricultural crops. 0.33794736862182617\n",
      "Similarity:  During the early Soviet period, the Ukrainian peasantry suffered from the programme of collectivization of agricultural crops. 0.4229387044906616\n",
      "Title: Ukraine --- Sentence: 'During the early Soviet period, the Ukrainian peasantry suffered from the programme of collectivization of agricultural crops.' --- Label: {}\n"
     ]
    },
    {
     "name": "stderr",
     "output_type": "stream",
     "text": [
      "100%|█████████████████████████████████████████████████████████████████████████████████████████████████| 1/1 [00:00<00:00,  1.74it/s]\n",
      "100%|█████████████████████████████████████████████████████████████████████████████████████████████████| 1/1 [00:00<00:00,  1.05it/s]\n"
     ]
    },
    {
     "name": "stdout",
     "output_type": "stream",
     "text": [
      "Similarity:  As members of the collective farms were sometimes not allowed to receive any grain until unrealistic quotas were met, millions starved to death in a famine known as the Holodomor or the \"Great Famine\", which was recognized by some countries as an act of genocide perpetrated by Joseph Stalin and other Soviet notables.\"Ukraine remembers famine horror\". 0.5718647241592407\n",
      "Similarity:  As members of the collective farms were sometimes not allowed to receive any grain until unrealistic quotas were met, millions starved to death in a famine known as the Holodomor or the \"Great Famine\", which was recognized by some countries as an act of genocide perpetrated by Joseph Stalin and other Soviet notables.\"Ukraine remembers famine horror\". 0.3912222385406494\n",
      "Similarity:  As members of the collective farms were sometimes not allowed to receive any grain until unrealistic quotas were met, millions starved to death in a famine known as the Holodomor or the \"Great Famine\", which was recognized by some countries as an act of genocide perpetrated by Joseph Stalin and other Soviet notables.\"Ukraine remembers famine horror\". 0.41963621973991394\n",
      "Title: Ukraine --- Sentence: 'As members of the collective farms were sometimes not allowed to receive any grain until unrealistic quotas were met, millions starved to death in a famine known as the Holodomor or the \"Great Famine\", which was recognized by some countries as an act of genocide perpetrated by Joseph Stalin and other Soviet notables.\"Ukraine remembers famine horror\".' --- Label: {}\n"
     ]
    },
    {
     "name": "stderr",
     "output_type": "stream",
     "text": [
      "100%|█████████████████████████████████████████████████████████████████████████████████████████████████| 1/1 [00:00<00:00,  1.92it/s]\n",
      "100%|█████████████████████████████████████████████████████████████████████████████████████████████████| 1/1 [00:00<00:00,  1.17it/s]\n",
      "100%|█████████████████████████████████████████████████████████████████████████████████████████████████| 1/1 [00:00<00:00,  1.37it/s]\n",
      "100%|█████████████████████████████████████████████████████████████████████████████████████████████████| 1/1 [00:01<00:00,  1.15s/it]\n",
      "100%|█████████████████████████████████████████████████████████████████████████████████████████████████| 2/2 [00:02<00:00,  1.08s/it]\n",
      "100%|█████████████████████████████████████████████████████████████████████████████████████████████████| 1/1 [00:00<00:00,  1.22it/s]\n",
      "100%|█████████████████████████████████████████████████████████████████████████████████████████████████| 1/1 [00:00<00:00,  1.23it/s]\n",
      "100%|█████████████████████████████████████████████████████████████████████████████████████████████████| 1/1 [00:01<00:00,  1.15s/it]\n",
      "100%|█████████████████████████████████████████████████████████████████████████████████████████████████| 1/1 [00:01<00:00,  1.12s/it]\n"
     ]
    },
    {
     "name": "stdout",
     "output_type": "stream",
     "text": [
      "Similarity:  Thus, Eastern Galicia and Volhynia with their Ukrainian population became part of Ukraine. 0.6174138784408569\n",
      "Similarity:  Thus, Eastern Galicia and Volhynia with their Ukrainian population became part of Ukraine. 0.31517264246940613\n",
      "Similarity:  Thus, Eastern Galicia and Volhynia with their Ukrainian population became part of Ukraine. 0.4489974081516266\n",
      "Title: Ukraine --- Sentence: 'Thus, Eastern Galicia and Volhynia with their Ukrainian population became part of Ukraine.' --- Label: {}\n"
     ]
    },
    {
     "name": "stderr",
     "output_type": "stream",
     "text": [
      "100%|█████████████████████████████████████████████████████████████████████████████████████████████████| 1/1 [00:01<00:00,  1.27s/it]\n"
     ]
    },
    {
     "name": "stdout",
     "output_type": "stream",
     "text": [
      "Similarity:  In 1940, the Soviets annexed Bessarabia and northern Bukovina. 0.5546975135803223\n",
      "Similarity:  In 1940, the Soviets annexed Bessarabia and northern Bukovina. 0.32845592498779297\n",
      "Similarity:  In 1940, the Soviets annexed Bessarabia and northern Bukovina. 0.4850352108478546\n",
      "Title: Ukraine --- Sentence: 'In 1940, the Soviets annexed Bessarabia and northern Bukovina.' --- Label: {}\n"
     ]
    },
    {
     "name": "stderr",
     "output_type": "stream",
     "text": [
      "100%|█████████████████████████████████████████████████████████████████████████████████████████████████| 1/1 [00:01<00:00,  1.10s/it]\n"
     ]
    },
    {
     "name": "stdout",
     "output_type": "stream",
     "text": [
      "Similarity:  The Ukrainian SSR incorporated the northern and southern districts of Bessarabia, Northern Bukovina, and the Hertsa region. 0.5854201316833496\n",
      "Similarity:  The Ukrainian SSR incorporated the northern and southern districts of Bessarabia, Northern Bukovina, and the Hertsa region. 0.35746312141418457\n",
      "Similarity:  The Ukrainian SSR incorporated the northern and southern districts of Bessarabia, Northern Bukovina, and the Hertsa region. 0.45409485697746277\n",
      "Title: Ukraine --- Sentence: 'The Ukrainian SSR incorporated the northern and southern districts of Bessarabia, Northern Bukovina, and the Hertsa region.' --- Label: {}\n"
     ]
    },
    {
     "name": "stderr",
     "output_type": "stream",
     "text": [
      "100%|█████████████████████████████████████████████████████████████████████████████████████████████████| 1/1 [00:00<00:00,  2.01it/s]\n"
     ]
    },
    {
     "name": "stdout",
     "output_type": "stream",
     "text": [
      "Similarity:  But it ceded the western part of the Moldavian Autonomous Soviet Socialist Republic to the newly created Moldavian Soviet Socialist Republic. 0.609707236289978\n",
      "Similarity:  But it ceded the western part of the Moldavian Autonomous Soviet Socialist Republic to the newly created Moldavian Soviet Socialist Republic. 0.35329073667526245\n",
      "Similarity:  But it ceded the western part of the Moldavian Autonomous Soviet Socialist Republic to the newly created Moldavian Soviet Socialist Republic. 0.45529043674468994\n",
      "Title: Ukraine --- Sentence: 'But it ceded the western part of the Moldavian Autonomous Soviet Socialist Republic to the newly created Moldavian Soviet Socialist Republic.' --- Label: {}\n"
     ]
    },
    {
     "name": "stderr",
     "output_type": "stream",
     "text": [
      "100%|█████████████████████████████████████████████████████████████████████████████████████████████████| 1/1 [00:00<00:00,  1.70it/s]\n",
      "100%|█████████████████████████████████████████████████████████████████████████████████████████████████| 1/1 [00:00<00:00,  1.53it/s]\n",
      "100%|█████████████████████████████████████████████████████████████████████████████████████████████████| 1/1 [00:00<00:00,  1.82it/s]\n",
      "100%|█████████████████████████████████████████████████████████████████████████████████████████████████| 1/1 [00:00<00:00,  1.72it/s]\n"
     ]
    },
    {
     "name": "stdout",
     "output_type": "stream",
     "text": [
      "Similarity:  In the encirclement battle of Kyiv, the city was acclaimed as a \"Hero City\", because of its fierce resistance. 0.6792740225791931\n",
      "Similarity:  In the encirclement battle of Kyiv, the city was acclaimed as a \"Hero City\", because of its fierce resistance. 0.4317108392715454\n",
      "Similarity:  In the encirclement battle of Kyiv, the city was acclaimed as a \"Hero City\", because of its fierce resistance. 0.4794619381427765\n",
      "Title: Ukraine --- Sentence: 'In the encirclement battle of Kyiv, the city was acclaimed as a \"Hero City\", because of its fierce resistance.' --- Label: {}\n"
     ]
    },
    {
     "name": "stderr",
     "output_type": "stream",
     "text": [
      "100%|█████████████████████████████████████████████████████████████████████████████████████████████████| 1/1 [00:00<00:00,  1.99it/s]\n",
      "100%|█████████████████████████████████████████████████████████████████████████████████████████████████| 1/1 [00:01<00:00,  1.15s/it]\n"
     ]
    },
    {
     "name": "stdout",
     "output_type": "stream",
     "text": [
      "Similarity:  Although the majority of Ukrainians fought in or alongside the Red Army and Soviet resistance, in Western Ukraine an independent Ukrainian Insurgent Army movement arose (UPA, 1942). 0.6657185554504395\n",
      "Similarity:  Although the majority of Ukrainians fought in or alongside the Red Army and Soviet resistance, in Western Ukraine an independent Ukrainian Insurgent Army movement arose (UPA, 1942). 0.3193671703338623\n",
      "Similarity:  Although the majority of Ukrainians fought in or alongside the Red Army and Soviet resistance, in Western Ukraine an independent Ukrainian Insurgent Army movement arose (UPA, 1942). 0.4528770446777344\n",
      "Title: Ukraine --- Sentence: 'Although the majority of Ukrainians fought in or alongside the Red Army and Soviet resistance, in Western Ukraine an independent Ukrainian Insurgent Army movement arose (UPA, 1942).' --- Label: {}\n"
     ]
    },
    {
     "name": "stderr",
     "output_type": "stream",
     "text": [
      "100%|█████████████████████████████████████████████████████████████████████████████████████████████████| 1/1 [00:01<00:00,  1.01s/it]\n",
      "100%|█████████████████████████████████████████████████████████████████████████████████████████████████| 1/1 [00:00<00:00,  1.05it/s]\n"
     ]
    },
    {
     "name": "stdout",
     "output_type": "stream",
     "text": [
      "Similarity:  \"Ukraine: A History.\". 0.427108496427536\n",
      "Similarity:  \"Ukraine: A History.\". 0.2774749994277954\n",
      "Similarity:  \"Ukraine: A History.\". 0.2951468825340271\n",
      "Title: Ukraine --- Sentence: '\"Ukraine: A History.\".' --- Label: {}\n"
     ]
    }
   ],
   "source": [
    "import json\n",
    "\n",
    "for idx, obj in df.iterrows():\n",
    "    table = pd.DataFrame([obj[\"table\"]])\n",
    "    print(table)\n",
    "    print(obj[\"label\"])\n",
    "    print(obj[\"counter_fact\"])\n",
    "\n",
    "    label = obj[\"label\"]\n",
    "\n",
    "    result = pipeline.run(table)"
   ]
  },
  {
   "cell_type": "code",
   "execution_count": null,
   "id": "6836ca08-d361-4a3c-86c4-c8a4c6c394b7",
   "metadata": {},
   "outputs": [],
   "source": []
  }
 ],
 "metadata": {
  "kernelspec": {
   "display_name": "Python 3 (ipykernel)",
   "language": "python",
   "name": "python3"
  },
  "language_info": {
   "codemirror_mode": {
    "name": "ipython",
    "version": 3
   },
   "file_extension": ".py",
   "mimetype": "text/x-python",
   "name": "python",
   "nbconvert_exporter": "python",
   "pygments_lexer": "ipython3",
   "version": "3.8.13"
  }
 },
 "nbformat": 4,
 "nbformat_minor": 5
}
