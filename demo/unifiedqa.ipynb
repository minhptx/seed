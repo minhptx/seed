{
 "cells": [
  {
   "cell_type": "code",
   "execution_count": 4,
   "id": "61718dcc-4d27-46f5-8b60-447051435b3d",
   "metadata": {},
   "outputs": [],
   "source": [
    "from transformers import T5Tokenizer, T5ForConditionalGeneration\n",
    "\n",
    "model = T5ForConditionalGeneration.from_pretrained(\"allenai/unifiedqa-v2-t5-large-1251000\")\n",
    "tokenizer = T5Tokenizer.from_pretrained(\"allenai/unifiedqa-v2-t5-large-1251000\")"
   ]
  },
  {
   "cell_type": "code",
   "execution_count": 5,
   "id": "4380401b-0a2e-4ffa-8da0-fad8c8e1c25e",
   "metadata": {},
   "outputs": [
    {
     "name": "stderr",
     "output_type": "stream",
     "text": [
      "/opt/conda/envs/ml/lib/python3.8/site-packages/huggingface_hub/file_download.py:562: FutureWarning: `cached_download` is the legacy way to download files from the HF hub, please consider upgrading to `hf_hub_download`\n",
      "  warnings.warn(\n"
     ]
    },
    {
     "name": "stdout",
     "output_type": "stream",
     "text": [
      "2022-06-30 04:37:21,918 loading file /root/.flair/models/ner-english/4f4cdab26f24cb98b732b389e6cebc646c36f54cfd6e0b7d3b90b25656e4262f.8baa8ae8795f4df80b28e7f7b61d788ecbb057d1dc85aacb316f1bd02837a4a4\n",
      "2022-06-30 04:37:24,833 SequenceTagger predicts: Dictionary with 20 tags: <unk>, O, S-ORG, S-MISC, B-PER, E-PER, S-LOC, B-ORG, E-ORG, I-PER, S-PER, B-MISC, I-MISC, E-MISC, I-ORG, B-LOC, E-LOC, I-LOC, <START>, <STOP>\n"
     ]
    }
   ],
   "source": [
    "from flair.data import Sentence\n",
    "from flair.models import SequenceTagger\n",
    "\n",
    "# make a sentence\n"
   ]
  },
  {
   "cell_type": "code",
   "execution_count": 10,
   "id": "9b3aa1e4-ebbf-41dc-b5ba-c3c102ba9ad4",
   "metadata": {},
   "outputs": [
    {
     "name": "stderr",
     "output_type": "stream",
     "text": [
      "/opt/conda/envs/ml/lib/python3.8/site-packages/huggingface_hub/file_download.py:562: FutureWarning: `cached_download` is the legacy way to download files from the HF hub, please consider upgrading to `hf_hub_download`\n",
      "  warnings.warn(\n"
     ]
    },
    {
     "name": "stdout",
     "output_type": "stream",
     "text": [
      "2022-06-30 05:56:56,258 loading file /root/.flair/models/ner-english/4f4cdab26f24cb98b732b389e6cebc646c36f54cfd6e0b7d3b90b25656e4262f.8baa8ae8795f4df80b28e7f7b61d788ecbb057d1dc85aacb316f1bd02837a4a4\n",
      "2022-06-30 05:56:59,452 SequenceTagger predicts: Dictionary with 20 tags: <unk>, O, S-ORG, S-MISC, B-PER, E-PER, S-LOC, B-ORG, E-ORG, I-PER, S-PER, B-MISC, I-MISC, E-MISC, I-ORG, B-LOC, E-LOC, I-LOC, <START>, <STOP>\n"
     ]
    }
   ],
   "source": [
    "sentence = Sentence('Berlin')\n",
    "\n",
    "# load the NER tagger\n",
    "tagger = SequenceTagger.load('ner')\n",
    "\n",
    "# run NER over sentence\n",
    "tagger.predict(sentence)"
   ]
  },
  {
   "cell_type": "code",
   "execution_count": 11,
   "id": "80900311-4962-4384-be0f-00be9b950d5d",
   "metadata": {},
   "outputs": [
    {
     "name": "stdout",
     "output_type": "stream",
     "text": [
      "Sentence: \"Berlin\" → [\"Berlin\"/LOC]\n",
      "The following NER tags are found:\n",
      "Span[0:1]: \"Berlin\" → LOC (0.9988)\n",
      "LOC\n"
     ]
    }
   ],
   "source": [
    "print(sentence)\n",
    "\n",
    "print('The following NER tags are found:')\n",
    "\n",
    "# iterate over entities and print each\n",
    "for entity in sentence.get_spans('ner'):\n",
    "    print(entity)\n",
    "    print(entity.get_label(\"ner\").value)"
   ]
  },
  {
   "cell_type": "code",
   "execution_count": 1,
   "id": "11ec0229-48f0-4be3-a9a3-3c2e60210e0e",
   "metadata": {},
   "outputs": [],
   "source": [
    "import dateparser"
   ]
  },
  {
   "cell_type": "code",
   "execution_count": 4,
   "id": "78eddda5-0c2c-47f6-bfdf-94d5fe22a963",
   "metadata": {},
   "outputs": [
    {
     "data": {
      "text/plain": [
       "True"
      ]
     },
     "execution_count": 4,
     "metadata": {},
     "output_type": "execute_result"
    }
   ],
   "source": [
    "dateparser.parse(\"Minh\") == None"
   ]
  },
  {
   "cell_type": "code",
   "execution_count": null,
   "id": "553a1c38-d3b4-4451-aa84-66a9884e1929",
   "metadata": {},
   "outputs": [],
   "source": []
  }
 ],
 "metadata": {
  "kernelspec": {
   "display_name": "Python 3 (ipykernel)",
   "language": "python",
   "name": "python3"
  },
  "language_info": {
   "codemirror_mode": {
    "name": "ipython",
    "version": 3
   },
   "file_extension": ".py",
   "mimetype": "text/x-python",
   "name": "python",
   "nbconvert_exporter": "python",
   "pygments_lexer": "ipython3",
   "version": "3.8.13"
  }
 },
 "nbformat": 4,
 "nbformat_minor": 5
}
