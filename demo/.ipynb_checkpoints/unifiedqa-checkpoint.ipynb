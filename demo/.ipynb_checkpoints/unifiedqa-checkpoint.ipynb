{
 "cells": [
  {
   "cell_type": "code",
   "execution_count": 4,
   "id": "61718dcc-4d27-46f5-8b60-447051435b3d",
   "metadata": {},
   "outputs": [],
   "source": [
    "from transformers import T5Tokenizer, T5ForConditionalGeneration\n",
    "\n",
    "model = T5ForConditionalGeneration.from_pretrained(\"allenai/unifiedqa-v2-t5-large-1251000\")\n",
    "tokenizer = T5Tokenizer.from_pretrained(\"allenai/unifiedqa-v2-t5-large-1251000\")"
   ]
  },
  {
   "cell_type": "code",
   "execution_count": 6,
   "id": "4380401b-0a2e-4ffa-8da0-fad8c8e1c25e",
   "metadata": {},
   "outputs": [
    {
     "name": "stderr",
     "output_type": "stream",
     "text": [
      "/opt/conda/envs/ml/lib/python3.8/site-packages/huggingface_hub/file_download.py:562: FutureWarning: `cached_download` is the legacy way to download files from the HF hub, please consider upgrading to `hf_hub_download`\n",
      "  warnings.warn(\n"
     ]
    },
    {
     "name": "stdout",
     "output_type": "stream",
     "text": [
      "2022-06-30 04:15:33,432 loading file /root/.flair/models/ner-english/4f4cdab26f24cb98b732b389e6cebc646c36f54cfd6e0b7d3b90b25656e4262f.8baa8ae8795f4df80b28e7f7b61d788ecbb057d1dc85aacb316f1bd02837a4a4\n",
      "2022-06-30 04:15:36,147 SequenceTagger predicts: Dictionary with 20 tags: <unk>, O, S-ORG, S-MISC, B-PER, E-PER, S-LOC, B-ORG, E-ORG, I-PER, S-PER, B-MISC, I-MISC, E-MISC, I-ORG, B-LOC, E-LOC, I-LOC, <START>, <STOP>\n"
     ]
    }
   ],
   "source": [
    "from flair.data import Sentence\n",
    "from flair.models import SequenceTagger\n",
    "\n",
    "# make a sentence\n",
    "sentence = Sentence('Berlin')\n",
    "\n",
    "# load the NER tagger\n",
    "tagger = SequenceTagger.load('ner')\n",
    "\n",
    "# run NER over sentence\n",
    "tagger.predict(sentence)"
   ]
  },
  {
   "cell_type": "code",
   "execution_count": 7,
   "id": "80900311-4962-4384-be0f-00be9b950d5d",
   "metadata": {},
   "outputs": [
    {
     "name": "stdout",
     "output_type": "stream",
     "text": [
      "Sentence: \"Berlin\" → [\"Berlin\"/LOC]\n",
      "The following NER tags are found:\n",
      "Span[0:1]: \"Berlin\" → LOC (0.9988)\n"
     ]
    }
   ],
   "source": [
    "print(sentence)\n",
    "\n",
    "print('The following NER tags are found:')\n",
    "\n",
    "# iterate over entities and print each\n",
    "for entity in sentence.get_spans('ner'):\n",
    "    print(entity)"
   ]
  },
  {
   "cell_type": "code",
   "execution_count": 11,
   "id": "11ec0229-48f0-4be3-a9a3-3c2e60210e0e",
   "metadata": {},
   "outputs": [],
   "source": [
    "import dateparser"
   ]
  },
  {
   "cell_type": "code",
   "execution_count": 12,
   "id": "78eddda5-0c2c-47f6-bfdf-94d5fe22a963",
   "metadata": {},
   "outputs": [
    {
     "name": "stdout",
     "output_type": "stream",
     "text": [
      "Unexpected exception formatting exception. Falling back to standard exception\n"
     ]
    },
    {
     "name": "stderr",
     "output_type": "stream",
     "text": [
      "Traceback (most recent call last):\n",
      "  File \"/opt/conda/envs/ml/lib/python3.8/site-packages/IPython/core/interactiveshell.py\", line 3397, in run_code\n",
      "    exec(code_obj, self.user_global_ns, self.user_ns)\n",
      "  File \"/tmp/ipykernel_2710/1448708919.py\", line 1, in <cell line: 1>\n",
      "    dateparser.parse(\"12/05/1991\")\n",
      "  File \"/opt/conda/envs/ml/lib/python3.8/site-packages/dateparser/conf.py\", line 92, in wrapper\n",
      "    return f(*args, **kwargs)\n",
      "  File \"/opt/conda/envs/ml/lib/python3.8/site-packages/dateparser/__init__.py\", line 61, in parse\n",
      "    data = parser.get_date_data(date_string, date_formats)\n",
      "  File \"/opt/conda/envs/ml/lib/python3.8/site-packages/dateparser/date.py\", line 428, in get_date_data\n",
      "    parsed_date = _DateLocaleParser.parse(\n",
      "  File \"/opt/conda/envs/ml/lib/python3.8/site-packages/dateparser/date.py\", line 178, in parse\n",
      "    return instance._parse()\n",
      "  File \"/opt/conda/envs/ml/lib/python3.8/site-packages/dateparser/date.py\", line 182, in _parse\n",
      "    date_data = self._parsers[parser_name]()\n",
      "  File \"/opt/conda/envs/ml/lib/python3.8/site-packages/dateparser/date.py\", line 196, in _try_freshness_parser\n",
      "    return freshness_date_parser.get_date_data(self._get_translated_date(), self._settings)\n",
      "  File \"/opt/conda/envs/ml/lib/python3.8/site-packages/dateparser/date.py\", line 234, in _get_translated_date\n",
      "    self._translated_date = self.locale.translate(\n",
      "  File \"/opt/conda/envs/ml/lib/python3.8/site-packages/dateparser/languages/locale.py\", line 131, in translate\n",
      "    relative_translations = self._get_relative_translations(settings=settings)\n",
      "  File \"/opt/conda/envs/ml/lib/python3.8/site-packages/dateparser/languages/locale.py\", line 158, in _get_relative_translations\n",
      "    self._generate_relative_translations(normalize=True))\n",
      "  File \"/opt/conda/envs/ml/lib/python3.8/site-packages/dateparser/languages/locale.py\", line 172, in _generate_relative_translations\n",
      "    pattern = DIGIT_GROUP_PATTERN.sub(r'?P<n>\\d+', pattern)\n",
      "  File \"/opt/conda/envs/ml/lib/python3.8/site-packages/regex/regex.py\", line 702, in _compile_replacement_helper\n",
      "    # It's a group, so first flush the literal.\n",
      "  File \"/opt/conda/envs/ml/lib/python3.8/site-packages/regex/_regex_core.py\", line 1737, in _compile_replacement\n",
      "regex._regex_core.error: bad escape \\d at position 7\n",
      "\n",
      "During handling of the above exception, another exception occurred:\n",
      "\n",
      "Traceback (most recent call last):\n",
      "  File \"/opt/conda/envs/ml/lib/python3.8/site-packages/IPython/core/interactiveshell.py\", line 1992, in showtraceback\n",
      "    stb = self.InteractiveTB.structured_traceback(\n",
      "  File \"/opt/conda/envs/ml/lib/python3.8/site-packages/IPython/core/ultratb.py\", line 1118, in structured_traceback\n",
      "    return FormattedTB.structured_traceback(\n",
      "  File \"/opt/conda/envs/ml/lib/python3.8/site-packages/IPython/core/ultratb.py\", line 1012, in structured_traceback\n",
      "    return VerboseTB.structured_traceback(\n",
      "  File \"/opt/conda/envs/ml/lib/python3.8/site-packages/IPython/core/ultratb.py\", line 865, in structured_traceback\n",
      "    formatted_exception = self.format_exception_as_a_whole(etype, evalue, etb, number_of_lines_of_context,\n",
      "  File \"/opt/conda/envs/ml/lib/python3.8/site-packages/IPython/core/ultratb.py\", line 818, in format_exception_as_a_whole\n",
      "    frames.append(self.format_record(r))\n",
      "  File \"/opt/conda/envs/ml/lib/python3.8/site-packages/IPython/core/ultratb.py\", line 736, in format_record\n",
      "    result += ''.join(_format_traceback_lines(frame_info.lines, Colors, self.has_colors, lvals))\n",
      "  File \"/opt/conda/envs/ml/lib/python3.8/site-packages/stack_data/utils.py\", line 145, in cached_property_wrapper\n",
      "    value = obj.__dict__[self.func.__name__] = self.func(obj)\n",
      "  File \"/opt/conda/envs/ml/lib/python3.8/site-packages/stack_data/core.py\", line 698, in lines\n",
      "    pieces = self.included_pieces\n",
      "  File \"/opt/conda/envs/ml/lib/python3.8/site-packages/stack_data/utils.py\", line 145, in cached_property_wrapper\n",
      "    value = obj.__dict__[self.func.__name__] = self.func(obj)\n",
      "  File \"/opt/conda/envs/ml/lib/python3.8/site-packages/stack_data/core.py\", line 649, in included_pieces\n",
      "    pos = scope_pieces.index(self.executing_piece)\n",
      "  File \"/opt/conda/envs/ml/lib/python3.8/site-packages/stack_data/utils.py\", line 145, in cached_property_wrapper\n",
      "    value = obj.__dict__[self.func.__name__] = self.func(obj)\n",
      "  File \"/opt/conda/envs/ml/lib/python3.8/site-packages/stack_data/core.py\", line 628, in executing_piece\n",
      "    return only(\n",
      "  File \"/opt/conda/envs/ml/lib/python3.8/site-packages/executing/executing.py\", line 164, in only\n",
      "    raise NotOneValueFound('Expected one value, found 0')\n",
      "executing.executing.NotOneValueFound: Expected one value, found 0\n"
     ]
    }
   ],
   "source": [
    "dateparser.parse(\"12/05/1991\")"
   ]
  },
  {
   "cell_type": "code",
   "execution_count": null,
   "id": "553a1c38-d3b4-4451-aa84-66a9884e1929",
   "metadata": {},
   "outputs": [],
   "source": []
  }
 ],
 "metadata": {
  "kernelspec": {
   "display_name": "Python 3 (ipykernel)",
   "language": "python",
   "name": "python3"
  },
  "language_info": {
   "codemirror_mode": {
    "name": "ipython",
    "version": 3
   },
   "file_extension": ".py",
   "mimetype": "text/x-python",
   "name": "python",
   "nbconvert_exporter": "python",
   "pygments_lexer": "ipython3",
   "version": "3.8.13"
  }
 },
 "nbformat": 4,
 "nbformat_minor": 5
}
