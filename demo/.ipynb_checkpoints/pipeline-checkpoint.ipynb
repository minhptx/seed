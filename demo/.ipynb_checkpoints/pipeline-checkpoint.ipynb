{
 "cells": [
  {
   "cell_type": "code",
   "execution_count": 1,
   "id": "ceeb8dc8-0d1e-4030-a0b4-a1345b12f4c6",
   "metadata": {},
   "outputs": [],
   "source": [
    "%load_ext autoreload\n",
    "%autoreload 2"
   ]
  },
  {
   "cell_type": "code",
   "execution_count": 6,
   "id": "f10def28-414f-43bb-99d8-3effd25e6591",
   "metadata": {},
   "outputs": [],
   "source": [
    "import sys\n",
    "\n",
    "sys.path.append(\"/root/workspace/seed\")"
   ]
  },
  {
   "cell_type": "code",
   "execution_count": 10,
   "id": "723b6ed0-34c2-4e30-a705-75e1d4cb7ee5",
   "metadata": {},
   "outputs": [],
   "source": [
    "from seed.pipeline.pipeline import Pipeline"
   ]
  },
  {
   "cell_type": "code",
   "execution_count": 12,
   "id": "c635115e-ee3b-4e8a-83d6-90fe5d04d9c8",
   "metadata": {},
   "outputs": [
    {
     "name": "stdout",
     "output_type": "stream",
     "text": [
      "Attempting to initialize pre-built index enwiki-paragraphs.\n",
      "/root/.cache/pyserini/indexes/lucene-index.enwiki-20180701-paragraphs.77d1cd530579905dad2ee3c2bda1b73d already exists, skipping download.\n",
      "Initializing enwiki-paragraphs...\n"
     ]
    },
    {
     "name": "stderr",
     "output_type": "stream",
     "text": [
      "Some weights of the model checkpoint at facebook/dpr-question_encoder-multiset-base were not used when initializing DPRQuestionEncoder: ['question_encoder.bert_model.pooler.dense.weight', 'question_encoder.bert_model.pooler.dense.bias']\n",
      "- This IS expected if you are initializing DPRQuestionEncoder from the checkpoint of a model trained on another task or with another architecture (e.g. initializing a BertForSequenceClassification model from a BertForPreTraining model).\n",
      "- This IS NOT expected if you are initializing DPRQuestionEncoder from the checkpoint of a model that you expect to be exactly identical (initializing a BertForSequenceClassification model from a BertForSequenceClassification model).\n"
     ]
    },
    {
     "name": "stdout",
     "output_type": "stream",
     "text": [
      "Attempting to initialize pre-built index wikipedia-dpr-multi-bf.\n",
      "/root/.cache/pyserini/indexes/dindex-wikipedia-dpr_multi-bf-20200127-f403c3.29eb39fe0b00a03c36c0eeae4c24f775 already exists, skipping download.\n",
      "Initializing wikipedia-dpr-multi-bf...\n",
      "Attempting to initialize pre-built index wikipedia-dpr.\n",
      "/root/.cache/pyserini/indexes/index-wikipedia-dpr-20210120-d1b9e6.c28f3a56b2dfcef25bf3bf755c264d04 already exists, skipping download.\n",
      "Initializing wikipedia-dpr...\n"
     ]
    }
   ],
   "source": [
    "from seed.retriever import Retriever\n",
    "\n",
    "retriever = Retriever.get(\"dpr\")"
   ]
  },
  {
   "cell_type": "code",
   "execution_count": 16,
   "id": "7ea9f588-b00e-45f6-8ad0-60a26d128b94",
   "metadata": {},
   "outputs": [
    {
     "name": "stderr",
     "output_type": "stream",
     "text": [
      "You passed along `num_labels=3` with an incompatible id to label map: {'0': 'LABEL_0', '1': 'LABEL_1'}. The number of labels wil be overwritten to 2.\n",
      "Some weights of the model checkpoint at ../saved_models/tapex/ were not used when initializing BartModel: ['classification_head.out_proj.bias', 'classification_head.dense.bias', 'classification_head.dense.weight', 'classification_head.out_proj.weight']\n",
      "- This IS expected if you are initializing BartModel from the checkpoint of a model trained on another task or with another architecture (e.g. initializing a BertForSequenceClassification model from a BertForPreTraining model).\n",
      "- This IS NOT expected if you are initializing BartModel from the checkpoint of a model that you expect to be exactly identical (initializing a BertForSequenceClassification model from a BertForSequenceClassification model).\n"
     ]
    }
   ],
   "source": [
    "from seed.verifier import Verifier\n",
    "\n",
    "verifier = Verifier.get(\"tapex\")"
   ]
  },
  {
   "cell_type": "code",
   "execution_count": 20,
   "id": "7a08ea0b-ce72-4dcc-bd9d-09bc5350a494",
   "metadata": {},
   "outputs": [
    {
     "name": "stdout",
     "output_type": "stream",
     "text": [
      "2022-06-30 20:59:14,366 loading file /root/.flair/models/ner-english/4f4cdab26f24cb98b732b389e6cebc646c36f54cfd6e0b7d3b90b25656e4262f.8baa8ae8795f4df80b28e7f7b61d788ecbb057d1dc85aacb316f1bd02837a4a4\n"
     ]
    },
    {
     "name": "stderr",
     "output_type": "stream",
     "text": [
      "/opt/conda/envs/ml/lib/python3.8/site-packages/huggingface_hub/file_download.py:562: FutureWarning: `cached_download` is the legacy way to download files from the HF hub, please consider upgrading to `hf_hub_download`\n",
      "  warnings.warn(\n"
     ]
    },
    {
     "name": "stdout",
     "output_type": "stream",
     "text": [
      "2022-06-30 20:59:20,020 SequenceTagger predicts: Dictionary with 20 tags: <unk>, O, S-ORG, S-MISC, B-PER, E-PER, S-LOC, B-ORG, E-ORG, I-PER, S-PER, B-MISC, I-MISC, E-MISC, I-ORG, B-LOC, E-LOC, I-LOC, <START>, <STOP>\n"
     ]
    }
   ],
   "source": [
    "from seed.extractor import Extractor\n",
    "\n",
    "extractor = Extractor.get(\"unifiedqa\")"
   ]
  },
  {
   "cell_type": "code",
   "execution_count": 21,
   "id": "5a71f246-f306-4283-80b1-6ae94fcefb4f",
   "metadata": {},
   "outputs": [],
   "source": [
    "pipeline = Pipeline(retriever, verifier, extractor)"
   ]
  },
  {
   "cell_type": "code",
   "execution_count": 24,
   "id": "b5e161c8-7218-4d4a-96f8-c793f008f3cc",
   "metadata": {},
   "outputs": [],
   "source": [
    "import pandas as pd\n",
    "import jsonlines\n",
    "\n",
    "df = pd.DataFrame(list(jsonlines.open(\"../data/totto/totto_dev_data_augmented.jsonl\")))"
   ]
  },
  {
   "cell_type": "code",
   "execution_count": 34,
   "id": "b6d3089e-3ba3-4ec5-806d-052dda75af5f",
   "metadata": {},
   "outputs": [
    {
     "name": "stdout",
     "output_type": "stream",
     "text": [
      "table                   [{\"Place\":\"1\",\"Player\":\"Willie Park, Jr.\",\"Cou...\n",
      "table_webpage_url       http://en.wikipedia.org/wiki/1898_Open_Champio...\n",
      "table_page_title                                   1898 Open Championship\n",
      "table_section_title                                 First day leaderboard\n",
      "table_section_text                                                       \n",
      "highlighted_cells                                        [[0, 1], [0, 3]]\n",
      "example_id                                            5444102153248079053\n",
      "overlap_subset                                                       True\n",
      "sentence_annotations    [{'original_sentence': 'Park was even better i...\n",
      "label                                                               False\n",
      "note                    Replaced 'Park 151.' with All entries played 3...\n",
      "sentence                All entries played 36 holes on the first day w...\n",
      "Name: 8, dtype: object\n",
      "index is 0 and Place is 1 and Player is Willie Park, Jr. and Country is Scotland and Score is 76-75=151\n",
      "DenseSearchResult(docid='6762528', score=77.6801383972168)\n",
      "Unexpected exception formatting exception. Falling back to standard exception\n"
     ]
    },
    {
     "name": "stderr",
     "output_type": "stream",
     "text": [
      "Traceback (most recent call last):\n",
      "  File \"/opt/conda/envs/ml/lib/python3.8/site-packages/IPython/core/interactiveshell.py\", line 3397, in run_code\n",
      "    exec(code_obj, self.user_global_ns, self.user_ns)\n",
      "  File \"/tmp/ipykernel_1115/3014425361.py\", line 13, in <cell line: 3>\n",
      "    result = pipeline.run(table)\n",
      "  File \"/root/workspace/seed/seed/pipeline/pipeline.py\", line 17, in run\n",
      "    for document in documents:\n",
      "  File \"/root/workspace/seed/seed/retriever/dpr.py\", line 34, in search\n",
      "    yield self.process_content(self.ssearcher.doc(doc.docid).raw())\n",
      "AttributeError: 'NoneType' object has no attribute 'raw'\n",
      "\n",
      "During handling of the above exception, another exception occurred:\n",
      "\n",
      "Traceback (most recent call last):\n",
      "  File \"/opt/conda/envs/ml/lib/python3.8/site-packages/IPython/core/interactiveshell.py\", line 1992, in showtraceback\n",
      "    stb = self.InteractiveTB.structured_traceback(\n",
      "  File \"/opt/conda/envs/ml/lib/python3.8/site-packages/IPython/core/ultratb.py\", line 1118, in structured_traceback\n",
      "    return FormattedTB.structured_traceback(\n",
      "  File \"/opt/conda/envs/ml/lib/python3.8/site-packages/IPython/core/ultratb.py\", line 1012, in structured_traceback\n",
      "    return VerboseTB.structured_traceback(\n",
      "  File \"/opt/conda/envs/ml/lib/python3.8/site-packages/IPython/core/ultratb.py\", line 865, in structured_traceback\n",
      "    formatted_exception = self.format_exception_as_a_whole(etype, evalue, etb, number_of_lines_of_context,\n",
      "  File \"/opt/conda/envs/ml/lib/python3.8/site-packages/IPython/core/ultratb.py\", line 818, in format_exception_as_a_whole\n",
      "    frames.append(self.format_record(r))\n",
      "  File \"/opt/conda/envs/ml/lib/python3.8/site-packages/IPython/core/ultratb.py\", line 736, in format_record\n",
      "    result += ''.join(_format_traceback_lines(frame_info.lines, Colors, self.has_colors, lvals))\n",
      "  File \"/opt/conda/envs/ml/lib/python3.8/site-packages/stack_data/utils.py\", line 145, in cached_property_wrapper\n",
      "    value = obj.__dict__[self.func.__name__] = self.func(obj)\n",
      "  File \"/opt/conda/envs/ml/lib/python3.8/site-packages/stack_data/core.py\", line 698, in lines\n",
      "    pieces = self.included_pieces\n",
      "  File \"/opt/conda/envs/ml/lib/python3.8/site-packages/stack_data/utils.py\", line 145, in cached_property_wrapper\n",
      "    value = obj.__dict__[self.func.__name__] = self.func(obj)\n",
      "  File \"/opt/conda/envs/ml/lib/python3.8/site-packages/stack_data/core.py\", line 649, in included_pieces\n",
      "    pos = scope_pieces.index(self.executing_piece)\n",
      "  File \"/opt/conda/envs/ml/lib/python3.8/site-packages/stack_data/utils.py\", line 145, in cached_property_wrapper\n",
      "    value = obj.__dict__[self.func.__name__] = self.func(obj)\n",
      "  File \"/opt/conda/envs/ml/lib/python3.8/site-packages/stack_data/core.py\", line 628, in executing_piece\n",
      "    return only(\n",
      "  File \"/opt/conda/envs/ml/lib/python3.8/site-packages/executing/executing.py\", line 164, in only\n",
      "    raise NotOneValueFound('Expected one value, found 0')\n",
      "executing.executing.NotOneValueFound: Expected one value, found 0\n"
     ]
    }
   ],
   "source": [
    "import json\n",
    "\n",
    "for idx, obj in df.iterrows():\n",
    "    if not obj[\"highlighted_cells\"]:\n",
    "        continue\n",
    "    table = pd.DataFrame(json.loads(obj[\"table\"]))\n",
    "    rows = [x[0] for x in obj[\"highlighted_cells\"]]\n",
    "    most_dominant_row = max(set(rows), key=rows.count)\n",
    "    cols = [x[1] for x in obj[\"highlighted_cells\"] if x[0] == most_dominant_row]\n",
    "\n",
    "    table = table.iloc[[most_dominant_row], ].drop(\"index\", axis=0).reset_index()\n",
    "    result = pipeline.run(table)\n",
    "    break"
   ]
  },
  {
   "cell_type": "code",
   "execution_count": null,
   "id": "9aae966b-1c63-412f-b62b-3e06bdddaf1e",
   "metadata": {},
   "outputs": [],
   "source": []
  }
 ],
 "metadata": {
  "kernelspec": {
   "display_name": "Python 3 (ipykernel)",
   "language": "python",
   "name": "python3"
  },
  "language_info": {
   "codemirror_mode": {
    "name": "ipython",
    "version": 3
   },
   "file_extension": ".py",
   "mimetype": "text/x-python",
   "name": "python",
   "nbconvert_exporter": "python",
   "pygments_lexer": "ipython3",
   "version": "3.8.13"
  }
 },
 "nbformat": 4,
 "nbformat_minor": 5
}
