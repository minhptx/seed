{
 "cells": [
  {
   "cell_type": "code",
   "execution_count": 1,
   "id": "ceeb8dc8-0d1e-4030-a0b4-a1345b12f4c6",
   "metadata": {},
   "outputs": [],
   "source": [
    "%load_ext autoreload\n",
    "%autoreload 2"
   ]
  },
  {
   "cell_type": "code",
   "execution_count": 2,
   "id": "f10def28-414f-43bb-99d8-3effd25e6591",
   "metadata": {},
   "outputs": [],
   "source": [
    "import sys\n",
    "\n",
    "sys.path.append(\"/nas/ckgfs/users/minhpham/workspace/seed\")\n",
    "sys.path.append(\"/nas/ckgfs/users/minhpham/workspace/BLINK\")"
   ]
  },
  {
   "cell_type": "code",
   "execution_count": 3,
   "id": "723b6ed0-34c2-4e30-a705-75e1d4cb7ee5",
   "metadata": {},
   "outputs": [],
   "source": [
    "from seed.pipeline.pipeline import Pipeline"
   ]
  },
  {
   "cell_type": "code",
   "execution_count": 4,
   "id": "c635115e-ee3b-4e8a-83d6-90fe5d04d9c8",
   "metadata": {},
   "outputs": [
    {
     "name": "stderr",
     "output_type": "stream",
     "text": [
      "/nas/home/minhpham/miniconda3/envs/ml11/lib/python3.8/site-packages/huggingface_hub/file_download.py:562: FutureWarning: `cached_download` is the legacy way to download files from the HF hub, please consider upgrading to `hf_hub_download`\n",
      "  warnings.warn(\n"
     ]
    },
    {
     "name": "stdout",
     "output_type": "stream",
     "text": [
      "2022-07-14 10:43:10,688 loading file /nas/home/minhpham/.flair/models/ner-english/4f4cdab26f24cb98b732b389e6cebc646c36f54cfd6e0b7d3b90b25656e4262f.8baa8ae8795f4df80b28e7f7b61d788ecbb057d1dc85aacb316f1bd02837a4a4\n",
      "2022-07-14 10:43:13,629 SequenceTagger predicts: Dictionary with 20 tags: <unk>, O, S-ORG, S-MISC, B-PER, E-PER, S-LOC, B-ORG, E-ORG, I-PER, S-PER, B-MISC, I-MISC, E-MISC, I-ORG, B-LOC, E-LOC, I-LOC, <START>, <STOP>\n"
     ]
    }
   ],
   "source": [
    "from seed.retriever import Retriever\n",
    "\n",
    "retriever = Retriever.get(\"wiki\")"
   ]
  },
  {
   "cell_type": "code",
   "execution_count": 44,
   "id": "7ea9f588-b00e-45f6-8ad0-60a26d128b94",
   "metadata": {},
   "outputs": [],
   "source": [
    "from seed.verifier import Verifier\n",
    "\n",
    "verifier = Verifier.get(\"bart\")"
   ]
  },
  {
   "cell_type": "code",
   "execution_count": 45,
   "id": "7a08ea0b-ce72-4dcc-bd9d-09bc5350a494",
   "metadata": {},
   "outputs": [
    {
     "name": "stderr",
     "output_type": "stream",
     "text": [
      "/nas/home/minhpham/miniconda3/envs/ml11/lib/python3.8/site-packages/huggingface_hub/file_download.py:562: FutureWarning: `cached_download` is the legacy way to download files from the HF hub, please consider upgrading to `hf_hub_download`\n",
      "  warnings.warn(\n"
     ]
    },
    {
     "name": "stdout",
     "output_type": "stream",
     "text": [
      "2022-07-14 14:17:28,410 loading file /nas/home/minhpham/.flair/models/ner-english/4f4cdab26f24cb98b732b389e6cebc646c36f54cfd6e0b7d3b90b25656e4262f.8baa8ae8795f4df80b28e7f7b61d788ecbb057d1dc85aacb316f1bd02837a4a4\n",
      "2022-07-14 14:17:37,253 SequenceTagger predicts: Dictionary with 20 tags: <unk>, O, S-ORG, S-MISC, B-PER, E-PER, S-LOC, B-ORG, E-ORG, I-PER, S-PER, B-MISC, I-MISC, E-MISC, I-ORG, B-LOC, E-LOC, I-LOC, <START>, <STOP>\n"
     ]
    }
   ],
   "source": [
    "from seed.extractor import Extractor\n",
    "\n",
    "extractor = Extractor.get(\"unifiedqa\")"
   ]
  },
  {
   "cell_type": "code",
   "execution_count": 46,
   "id": "5a71f246-f306-4283-80b1-6ae94fcefb4f",
   "metadata": {},
   "outputs": [
    {
     "name": "stderr",
     "output_type": "stream",
     "text": [
      "/nas/home/minhpham/miniconda3/envs/ml11/lib/python3.8/site-packages/huggingface_hub/file_download.py:562: FutureWarning: `cached_download` is the legacy way to download files from the HF hub, please consider upgrading to `hf_hub_download`\n",
      "  warnings.warn(\n"
     ]
    },
    {
     "name": "stdout",
     "output_type": "stream",
     "text": [
      "2022-07-14 14:18:58,191 loading file /nas/home/minhpham/.flair/models/ner-english/4f4cdab26f24cb98b732b389e6cebc646c36f54cfd6e0b7d3b90b25656e4262f.8baa8ae8795f4df80b28e7f7b61d788ecbb057d1dc85aacb316f1bd02837a4a4\n",
      "2022-07-14 14:19:00,723 SequenceTagger predicts: Dictionary with 20 tags: <unk>, O, S-ORG, S-MISC, B-PER, E-PER, S-LOC, B-ORG, E-ORG, I-PER, S-PER, B-MISC, I-MISC, E-MISC, I-ORG, B-LOC, E-LOC, I-LOC, <START>, <STOP>\n"
     ]
    }
   ],
   "source": [
    "pipeline = Pipeline(retriever, verifier, extractor)"
   ]
  },
  {
   "cell_type": "code",
   "execution_count": 51,
   "id": "b5e161c8-7218-4d4a-96f8-c793f008f3cc",
   "metadata": {},
   "outputs": [],
   "source": [
    "import pandas as pd\n",
    "import jsonlines\n",
    "\n",
    "df = pd.DataFrame(list(jsonlines.open(\"../data/tabpert/processed/output.jsonl\")))"
   ]
  },
  {
   "cell_type": "code",
   "execution_count": null,
   "id": "b6d3089e-3ba3-4ec5-806d-052dda75af5f",
   "metadata": {},
   "outputs": [
    {
     "name": "stdout",
     "output_type": "stream",
     "text": [
      "                                                   0\n",
      "0  [{\"Body\": [\"Alcald\\u00eda de Maracaibo\"], \"Con...\n",
      "Alcald \\ u00eda de Maracaibo\n",
      "Congress of Deputies\n",
      "Legislature\n",
      "Stan Lee\n",
      "Senate\n",
      "CataloniaCatalunya\n",
      "Catalan\n",
      "Catalonha\n",
      "Occitan\n",
      "Cataluna\n",
      "Spanish\n"
     ]
    },
    {
     "name": "stderr",
     "output_type": "stream",
     "text": [
      "100%|█████████████████████████████████████████████████████████████████████████████████████████████████| 2/2 [00:02<00:00,  1.50s/it]\n"
     ]
    },
    {
     "name": "stdout",
     "output_type": "stream",
     "text": [
      "Table entities: ['Alcalde', '2002 Colombian parliamentary election', 'Maracaibo (disambiguation)', 'Liberalism in Colombia', '1982 Colombian parliamentary election', 'May 1990 Colombian Constitutional Assembly referendum', 'Alcalde (disambiguation)', '1832 Colombian presidential election', '2002 Colombian presidential election', 'Carlos Alvarado', 'Congress of Deputies', 'Congress of Colombia', 'Venezuelan Chamber of Deputies', 'Congress of the Republic of Guatemala', 'Congress of the Dominican Republic', 'Chamber of Deputies of Paraguay', 'Congress of the Union', 'Congress of Paraguay', 'Chamber of Deputies of Chile', 'Congress of Jalisco', 'Legislature', 'Legislature of Iran', 'Wisconsin Legislature', 'Legislature of Guam', 'Manitoba Legislature', 'Legislative Branch of Colombia', 'Legislative chamber', 'Legislature of the Marshall Islands', 'State legislature', 'Florida Legislature', 'Stan Lee (politician)', 'Stan Lee', 'Art Lee', 'Stanley R. Lee', 'Allen Lee', 'Willis Augustus Lee', 'Emil Stang', 'Laurel M. Lee', 'Richard Henry Lee', 'Arthur Lee, 1st Viscount Lee of Fareham', 'United States Senate', 'North Carolina Senate', 'Washington State Senate', 'Senate of Liberia', 'Senate of Virginia', 'Maryland Senate', 'Oklahoma Senate', 'History of the United States Senate', 'Connecticut Senate', 'Utah State Senate', 'Catalonia', 'Generalitat de Catalunya', 'Principality of Catalonia', 'Old Catalonia', 'Outline of Catalonia', 'Catalan language', 'Languages of Catalonia', 'Catalan Republic', 'Civil Code of Catalonia', 'Copa Catalunya', 'Catalan language', 'Catalonia', 'Spanish language', 'Languages of Catalonia', 'Breton language', 'Basque language', 'Catalan nouns', 'Catalan phonology', 'The IEC Dictionary of the Catalan Language', 'Catalan dialects', 'Civil Code of Catalonia', 'Outline of Catalonia', 'Catalunya Lliure', 'Conselh de la Lenga Occitana', 'Old Catalonia', 'Organic Law (Spain)', 'Languages of Catalonia', 'Catalunya (disambiguation)', 'Statute of Autonomy of Catalonia', 'Catalunya (DO)', 'Occitan language', 'Occitania', 'Occitans', 'Occitanie', 'Basque language', 'Occitano-Romance languages', 'Occitan phonology', 'Gascon language', 'Irish language', 'Occitan conjugation', 'Andalusia', 'Pyrenees', 'Catalunya (disambiguation)', 'Cataluña (Albéniz)', 'Catalunya (DO)', 'Catalunya Lliure', 'La Llacuna', '2017–18 Copa Catalunya', '2018–19 Copa Catalunya', 'Outline of Catalonia', 'Spanish language', 'Spain', 'French language', 'Languages of Spain', 'Catalan language', 'Spanish Wikipedia', 'Basque language', 'Standard Spanish', 'ISO 3166-2:ES', 'Spaniards']\n"
     ]
    },
    {
     "name": "stderr",
     "output_type": "stream",
     "text": [
      "100%|█████████████████████████████████████████████████████████████████████████████████████████████████| 1/1 [00:01<00:00,  1.14s/it]\n"
     ]
    },
    {
     "name": "stdout",
     "output_type": "stream",
     "text": [
      "Title: Maracaibo --- Sentence: 'Maracaibo ( , ; ) is a city and municipality in northwestern Venezuela, on the western shore of the strait that connects Lake Maracaibo to the Gulf of Venezuela.' --- Label: {}\n"
     ]
    },
    {
     "name": "stderr",
     "output_type": "stream",
     "text": [
      "100%|█████████████████████████████████████████████████████████████████████████████████████████████████| 1/1 [00:01<00:00,  1.06s/it]\n",
      "100%|█████████████████████████████████████████████████████████████████████████████████████████████████| 1/1 [00:00<00:00,  1.22it/s]\n"
     ]
    },
    {
     "name": "stdout",
     "output_type": "stream",
     "text": [
      "Title: Maracaibo --- Sentence: 'Maracaibo is nicknamed \"The Beloved Land of the Sun\" ().' --- Label: {}\n"
     ]
    },
    {
     "name": "stderr",
     "output_type": "stream",
     "text": [
      "100%|█████████████████████████████████████████████████████████████████████████████████████████████████| 1/1 [00:00<00:00,  1.12it/s]\n",
      "100%|█████████████████████████████████████████████████████████████████████████████████████████████████| 1/1 [00:01<00:00,  1.33s/it]\n",
      "100%|█████████████████████████████████████████████████████████████████████████████████████████████████| 1/1 [00:00<00:00,  1.54it/s]\n",
      "100%|█████████████████████████████████████████████████████████████████████████████████████████████████| 1/1 [00:00<00:00,  2.22it/s]\n"
     ]
    },
    {
     "name": "stdout",
     "output_type": "stream",
     "text": [
      "Title: Maracaibo --- Sentence: 'Maracaibo’s founding date is disputed.' --- Label: {}\n"
     ]
    },
    {
     "name": "stderr",
     "output_type": "stream",
     "text": [
      "100%|█████████████████████████████████████████████████████████████████████████████████████████████████| 1/1 [00:00<00:00,  2.06it/s]\n"
     ]
    }
   ],
   "source": [
    "import json\n",
    "\n",
    "for idx, obj in df.iterrows():\n",
    "    table = pd.DataFrame(json.loads([obj[\"table\"]]))\n",
    "    print(table)\n",
    "\n",
    "    result = pipeline.run(table)\n",
    "    break"
   ]
  },
  {
   "cell_type": "code",
   "execution_count": null,
   "id": "aa2c3e38-0c73-4b23-9e4b-5519215de2af",
   "metadata": {},
   "outputs": [],
   "source": []
  },
  {
   "cell_type": "code",
   "execution_count": null,
   "id": "ed0c44bd-96b4-46d5-949c-d8b086ec16f4",
   "metadata": {},
   "outputs": [],
   "source": []
  }
 ],
 "metadata": {
  "kernelspec": {
   "display_name": "Python 3 (ipykernel)",
   "language": "python",
   "name": "python3"
  },
  "language_info": {
   "codemirror_mode": {
    "name": "ipython",
    "version": 3
   },
   "file_extension": ".py",
   "mimetype": "text/x-python",
   "name": "python",
   "nbconvert_exporter": "python",
   "pygments_lexer": "ipython3",
   "version": "3.8.13"
  }
 },
 "nbformat": 4,
 "nbformat_minor": 5
}
